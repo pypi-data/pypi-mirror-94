{
 "cells": [
  {
   "cell_type": "markdown",
   "metadata": {},
   "source": [
    "# Mixing in a homogeneous magnetic field\n",
    "\n",
    "This tutorial demonstrates the most simple use case of the gammaALPs code, namely the mixing between photons and ALPs in a homogeneous magnetic field. The magnetic-field parameters are probably not very realisitic, but the results nicely illustrate some of the main features of photon-ALP mixing. "
   ]
  },
  {
   "cell_type": "markdown",
   "metadata": {},
   "source": [
    "We first import the relevant modules:"
   ]
  },
  {
   "cell_type": "code",
   "execution_count": 1,
   "metadata": {},
   "outputs": [],
   "source": [
    "from gammaALPs.core import Source, ALP, ModuleList\n",
    "from gammaALPs.base.transfer import EminGeV, EmaxGeV\n",
    "import numpy as np\n",
    "import matplotlib.pyplot as plt\n",
    "from astropy import constants as c"
   ]
  },
  {
   "cell_type": "markdown",
   "metadata": {},
   "source": [
    "And set the ALP parameters:"
   ]
  },
  {
   "cell_type": "code",
   "execution_count": 2,
   "metadata": {},
   "outputs": [],
   "source": [
    "m, g = 10., 3.\n",
    "alp = ALP(m, g)"
   ]
  },
  {
   "cell_type": "markdown",
   "metadata": {},
   "source": [
    "Let's define an energy range for this example, in GeV."
   ]
  },
  {
   "cell_type": "code",
   "execution_count": 3,
   "metadata": {},
   "outputs": [],
   "source": [
    "EGeV = np.logspace(0.,8.,1000)"
   ]
  },
  {
   "cell_type": "markdown",
   "metadata": {},
   "source": [
    "For the initial polarization, we use a fully polarized photon beam,"
   ]
  },
  {
   "cell_type": "code",
   "execution_count": 4,
   "metadata": {},
   "outputs": [],
   "source": [
    "pin = np.diag((1., 0., 0.))"
   ]
  },
  {
   "cell_type": "markdown",
   "metadata": {},
   "source": [
    "And we define some dummy source:"
   ]
  },
  {
   "cell_type": "code",
   "execution_count": 5,
   "metadata": {},
   "outputs": [],
   "source": [
    "src = Source(z=0., l=0., b=0.)"
   ]
  },
  {
   "cell_type": "markdown",
   "metadata": {},
   "source": [
    "With the defined `alp`, `src`, initial polarization `pin` and energy range `EGeV`, we can now initialize our module list"
   ]
  },
  {
   "cell_type": "code",
   "execution_count": 6,
   "metadata": {},
   "outputs": [],
   "source": [
    "ml = ModuleList(alp, src, pin=pin, EGeV=EGeV, seed=0)"
   ]
  },
  {
   "cell_type": "markdown",
   "metadata": {},
   "source": [
    "We add a single propagation enivironment, mixing in a cell-like field in a galaxy cluster. \n",
    "By setting `eta` and `beta` to zero, we force the electron density to be constant, so \n",
    "that neither the magnetic field nor the electron density change with propagation distance. \n",
    "We choose arbitrary values for B-field strength and electron density that give nice results for illustration. "
   ]
  },
  {
   "cell_type": "code",
   "execution_count": 7,
   "metadata": {},
   "outputs": [],
   "source": [
    "ml.add_propagation(environ='ICMCell',\n",
    "                   order=0,   # order of the module\n",
    "                   B0=1.,  # B field strength\n",
    "                   L0=10.,  # cell size\n",
    "                   nsim=1,  # one single realization\n",
    "                   n0=1e-3,  # electron density\n",
    "                   r_abell=10.1,  # full path, chosen that we only have a single cell\n",
    "                   beta=0., \n",
    "                   eta=0.\n",
    "                  )"
   ]
  },
  {
   "cell_type": "markdown",
   "metadata": {},
   "source": [
    "Now we explicitly set the angle $\\psi$ between the transversal magnetic field and the $x$ direction to $\\pi / 2$ so that the $x$ polarization will fully mix. "
   ]
  },
  {
   "cell_type": "code",
   "execution_count": 8,
   "metadata": {},
   "outputs": [],
   "source": [
    "ml.modules[0].psin = np.ones_like(ml.modules[0].psin) * np.pi / 2."
   ]
  },
  {
   "cell_type": "markdown",
   "metadata": {},
   "source": [
    "We run the photon-ALP calculation to get the final oscillation probabilities into the two photon polarization states and into the ALP state"
   ]
  },
  {
   "cell_type": "code",
   "execution_count": 9,
   "metadata": {},
   "outputs": [
    {
     "name": "stdout",
     "output_type": "stream",
     "text": [
      "(1, 1000)\n"
     ]
    }
   ],
   "source": [
    "px, py, pa = ml.run()\n",
    "print (pa.shape)"
   ]
  },
  {
   "cell_type": "markdown",
   "metadata": {},
   "source": [
    "And plot the results:"
   ]
  },
  {
   "cell_type": "code",
   "execution_count": 10,
   "metadata": {},
   "outputs": [
    {
     "data": {
      "text/plain": [
       "Text(0, 0.5, '$P_{a\\\\gamma}$')"
      ]
     },
     "execution_count": 10,
     "metadata": {},
     "output_type": "execute_result"
    },
    {
     "data": {
      "image/png": "[encoded data removed]",
      "text/plain": [
       "<Figure size 432x288 with 1 Axes>"
      ]
     },
     "metadata": {
      "needs_background": "light"
     },
     "output_type": "display_data"
    }
   ],
   "source": [
    "plt.semilogx(EGeV, pa[0], lw=2)\n",
    "\n",
    "# the critical energy, onset of strong mixing regime\n",
    "plt.axvline(EminGeV(m_neV=ml.alp.m, g11=ml.alp.g, BmuG=ml.modules[0].B, n_cm3=ml.modules[0].nel),\n",
    "            lw=1., ls='--', color='k')\n",
    "\n",
    "# maximum energy, end of strong mixing regime\n",
    "plt.axvline(EmaxGeV(g11=ml.alp.g, BmuG=ml.modules[0].B),\n",
    "            lw=1., ls='-.', color='k')\n",
    "\n",
    "plt.xlabel(\"Energy (GeV)\")\n",
    "plt.ylabel(\"$P_{a\\gamma}$\")"
   ]
  }
 ],
 "metadata": {
  "kernelspec": {
   "display_name": "Python [conda env:gammaALPs]",
   "language": "python",
   "name": "conda-env-gammaALPs-py"
  },
  "language_info": {
   "codemirror_mode": {
    "name": "ipython",
    "version": 3
   },
   "file_extension": ".py",
   "mimetype": "text/x-python",
   "name": "python",
   "nbconvert_exporter": "python",
   "pygments_lexer": "ipython3",
   "version": "3.8.5"
  }
 },
 "nbformat": 4,
 "nbformat_minor": 2
}
