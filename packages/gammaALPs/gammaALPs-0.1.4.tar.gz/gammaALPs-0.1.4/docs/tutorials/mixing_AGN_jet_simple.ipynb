{
 "cells": [
  {
   "cell_type": "markdown",
   "metadata": {},
   "source": [
    "# Mixing in AGN jet with simple toroidal magnetic field\n",
    "\n",
    "In this example, we will consider the conversion in the AGN jet and the Galactic mangetic field.\n",
    "The environments that are used are `MixJet` and `MixGMF` and we also include absorption in the EBL through the `EBL`\n",
    "enviroment. \n",
    "For defineteness, we will use the source 3C454.3, a flat spectrum radio quasar from which giant flares at $\\gamma$-ray energies were detected with the Fermi LAT. \n",
    "The magnetic fields assumed for the blazar are taken from Kutkin et al. (2014), http://adsabs.harvard.edu/abs/2014MNRAS.437.3396K "
   ]
  },
  {
   "cell_type": "markdown",
   "metadata": {},
   "source": [
    "## Imports"
   ]
  },
  {
   "cell_type": "markdown",
   "metadata": {},
   "source": [
    "We start with the usual imports"
   ]
  },
  {
   "cell_type": "code",
   "execution_count": 1,
   "metadata": {},
   "outputs": [],
   "source": [
    "from gammaALPs.core import Source, ALP, ModuleList\n",
    "from gammaALPs.base import environs, transfer\n",
    "import numpy as np\n",
    "import matplotlib.pyplot as plt\n",
    "from ebltable.tau_from_model import OptDepth\n",
    "from astropy import constants as c\n",
    "from matplotlib.patheffects import withStroke\n",
    "from astropy import units as u\n",
    "\n",
    "effect  = dict(path_effects=[withStroke(foreground=\"w\", linewidth=2)])  # for plotting\n",
    "\n",
    "%matplotlib inline"
   ]
  },
  {
   "cell_type": "markdown",
   "metadata": {},
   "source": [
    "## Defining the source"
   ]
  },
  {
   "cell_type": "markdown",
   "metadata": {},
   "source": [
    "Next we set up the source parameters, taken e.g. from NED, http://ned.ipac.caltech.edu/cgi-bin/objsearch?objname=3C454.3&extend=no&hconst=73&omegam=0.27&omegav=0.73&corr_z=1&out_csys=Equatorial&out_equinox=J2000.0&obj_sort=RA+or+Longitude&of=pre_text&zv_breaker=30000.0&list_limit=5&img_stamp=YES.\n",
    "\n",
    "Note that we also provide the bulk Lorentz factor $\\Gamma = 15.6$ and the observation angle in degrees, $\\theta = 1.3^\\circ$, according to Kutkin et al., who used average values from Jorstad et al. (2005). These values yield the Doppler factor, $\\delta \\sim 27.7$."
   ]
  },
  {
   "cell_type": "code",
   "execution_count": 2,
   "metadata": {},
   "outputs": [
    {
     "name": "stdout",
     "output_type": "stream",
     "text": [
      "0.859\n",
      "343.49041666666665 16.148333333333333\n",
      "86.11095204202921 -38.1836097158645\n",
      "27.707499216562937\n"
     ]
    }
   ],
   "source": [
    "src = Source(z=0.859000, ra='22h53m57.7s', dec='+16d08m54s',\n",
    "            bLorentz=15.6, theta_obs=1.3)  # 3C454.3\n",
    "print (src.z)\n",
    "print (src.ra, src.dec)\n",
    "print (src.l, src.b)\n",
    "print (src._doppler)"
   ]
  },
  {
   "cell_type": "markdown",
   "metadata": {},
   "source": [
    "## Init the module list"
   ]
  },
  {
   "cell_type": "markdown",
   "metadata": {},
   "source": [
    "Now we set up the module list with some arbitrary ALP parameters. The energy range is motivated from the Fermi-LAT energy range."
   ]
  },
  {
   "cell_type": "code",
   "execution_count": 3,
   "metadata": {},
   "outputs": [],
   "source": [
    "EGeV = np.logspace(-2,4.,2000)"
   ]
  },
  {
   "cell_type": "markdown",
   "metadata": {},
   "source": [
    "Here's the initial polarization matrix, for which we assume an unpolarized beam."
   ]
  },
  {
   "cell_type": "code",
   "execution_count": 4,
   "metadata": {},
   "outputs": [],
   "source": [
    "pin = np.diag((1.,1.,0.)) * 0.5"
   ]
  },
  {
   "cell_type": "markdown",
   "metadata": {},
   "source": [
    "With these choices, we initialize the module list."
   ]
  },
  {
   "cell_type": "code",
   "execution_count": 5,
   "metadata": {},
   "outputs": [],
   "source": [
    "ml = ModuleList(ALP(m= 1., g = 2.), src, pin=pin, EGeV=EGeV)"
   ]
  },
  {
   "cell_type": "markdown",
   "metadata": {},
   "source": [
    "Now we add the modules:"
   ]
  },
  {
   "cell_type": "code",
   "execution_count": 6,
   "metadata": {},
   "outputs": [],
   "source": [
    "gamma_min = 1.\n",
    "ml.add_propagation(\"Jet\", \n",
    "                  0,  # position of module counted from the source. \n",
    "                  B0=0.32,  # Jet field at r = R0 in G \n",
    "                  r0=1.,  # distance from BH where B = B0 in pc\n",
    "                  rgam=3.19e17 * u.cm.to('pc'),  # distance of gamma-ray emitting region to BH\n",
    "                  alpha=-1.,  # exponent of toroidal mangetic field (default: -1.)\n",
    "                  psi=np.pi/4.,  # Angle between one photon polarization state and B field. \n",
    "                                 # Assumed constant over entire jet. \n",
    "                  helical=True,  # if True, use helical magnetic-field model from Clausen-Brown et al. (2011). \n",
    "                                 # In this case, the psi kwarg is treated is as the phi angle \n",
    "                                 # of the photon trajectory in the cylindrical jet coordinate system\n",
    "                  equipartition=True,  # if true, assume equipartition between electrons and the B field. \n",
    "                                       # This will overwrite the exponent of electron density beta = 2 * alpha \n",
    "                                       # and set n0 given the minimum electron lorentz factor set with gamma_min\n",
    "                  gamma_min=gamma_min,  # minimum lorentz factor of emitting electrons, only used if equipartition=True\n",
    "                  gamma_max=np.exp(10.) * gamma_min,  # maximum lorentz factor of emitting electrons,\n",
    "                                                      # only used if equipartition=True\n",
    "                  Rjet= 40.,  # maximum jet length in pc (default: 1000.)\n",
    "                  n0=1e4,  # normalization of electron density, overwritten if equipartition=True\n",
    "                  beta=-2.    # power-law index of electron density, overwritten if equipartition=True\n",
    "                 )\n",
    "ml.add_propagation(\"EBL\", 1, eblmodel='dominguez')  # EBL attenuation comes second, after beam has left cluster\n",
    "ml.add_propagation(\"GMF\", 2, model='jansson12' )  # finally, the beam enters the Milky Way Field"
   ]
  },
  {
   "cell_type": "markdown",
   "metadata": {},
   "source": [
    "### Peek at the electron density and the magnetic field\n",
    "\n",
    "We can peek easily at the radial dependence of the magnetic field and electron density by accessing \n",
    "the particular entries in the modules list. Note that you can either use the indeces of the \n",
    "modules (provided when you called `add_propagation` or the module name."
   ]
  },
  {
   "cell_type": "code",
   "execution_count": 7,
   "metadata": {},
   "outputs": [
    {
     "name": "stdout",
     "output_type": "stream",
     "text": [
      "3124.111527961497 39.79921458359436\n"
     ]
    },
    {
     "data": {
      "image/png": "[encoded data removed]",
      "text/plain": [
       "<Figure size 432x288 with 1 Axes>"
      ]
     },
     "metadata": {
      "needs_background": "light"
     },
     "output_type": "display_data"
    }
   ],
   "source": [
    "plt.loglog(ml.modules[0].r, ml.modules[0].B)\n",
    "plt.loglog(ml.modules[\"Jet\"].r, ml.modules[\"Jet\"].nel, ls='--')  # list can also be accessed by module name\n",
    "plt.grid(True)\n",
    "plt.xlabel('Distance from BH [pc]')\n",
    "plt.ylabel('B field [$\\mu$G] / Electron dentity [cm$^{-3}$]')\n",
    "print (ml.modules[0].B[-1],ml.modules[0]._r[-1])"
   ]
  },
  {
   "cell_type": "markdown",
   "metadata": {},
   "source": [
    "## Compute the photon-ALP mixing probability\n",
    "\n",
    "Now we can compute the mixing probability. First we change the ALP mass and coupling to photons"
   ]
  },
  {
   "cell_type": "code",
   "execution_count": 8,
   "metadata": {},
   "outputs": [],
   "source": [
    "ml.alp.m = 100.\n",
    "ml.alp.g = 0.3"
   ]
  },
  {
   "cell_type": "markdown",
   "metadata": {},
   "source": [
    "And then compute the oscillation probability"
   ]
  },
  {
   "cell_type": "code",
   "execution_count": 9,
   "metadata": {},
   "outputs": [
    {
     "name": "stderr",
     "output_type": "stream",
     "text": [
      "WARNING:root:Not all values of linear polarization are real values!\n",
      "WARNING:root:Not all values of circular polarization are real values!\n"
     ]
    },
    {
     "name": "stdout",
     "output_type": "stream",
     "text": [
      "(1, 2000)\n"
     ]
    }
   ],
   "source": [
    "px, py, pa = ml.run()\n",
    "pgg = px + py  # the total photon survival probability\n",
    "print (pgg.shape)"
   ]
  },
  {
   "cell_type": "markdown",
   "metadata": {},
   "source": [
    "### Plot the output\n",
    "\n",
    "We plot the total oscillation probability `pgg` for the single B-field realization as a function of energy.\n",
    "Note that the drop at the highest energies is due to the EBL absorption."
   ]
  },
  {
   "cell_type": "code",
   "execution_count": 10,
   "metadata": {},
   "outputs": [
    {
     "data": {
      "text/plain": [
       "<matplotlib.lines.Line2D at 0x1455c61c0>"
      ]
     },
     "execution_count": 10,
     "metadata": {},
     "output_type": "execute_result"
    },
    {
     "data": {
      "image/png": "[encoded data removed]",
      "text/plain": [
       "<Figure size 432x288 with 1 Axes>"
      ]
     },
     "metadata": {
      "needs_background": "light"
     },
     "output_type": "display_data"
    }
   ],
   "source": [
    "pgg = px + py  # the total photon survival probability\n",
    "\n",
    "for p in pgg: # plot all realizations\n",
    "    plt.plot(ml.EGeV, p)\n",
    "\n",
    "plt.grid(True, lw = 0.2)\n",
    "plt.grid(True, which = 'minor', axis = 'y', lw = 0.2)\n",
    "\n",
    "plt.xlabel('Energy (GeV)')\n",
    "plt.ylabel(r'Photon survival probability')\n",
    "\n",
    "plt.gca().set_xscale('log')\n",
    "plt.annotate(r'$m_a = {0:.1f}\\,\\mathrm{{neV}}, g_{{a\\gamma}}'\n",
    "             r' = {1:.2f} \\times 10^{{-11}}\\,\\mathrm{{GeV}}^{{-1}}$'.format(ml.alp.m,ml.alp.g),\n",
    "             xy=(0.05,0.1),\n",
    "             size='large',\n",
    "             xycoords='axes fraction',\n",
    "             ha='left',\n",
    "             **effect)\n",
    "\n",
    "# Also plot the minimum and maximum energies for \n",
    "# different values of the electron density and magnetic fields\n",
    "plt.axvline(transfer.EminGeV(ml.alp.m, ml.alp.g, ml.modules[0].nel[0], ml.modules[0].B[0]), ls='--')\n",
    "plt.axvline(transfer.EminGeV(ml.alp.m, ml.alp.g, ml.modules[-1].nel[-1], ml.modules[-1].B[-1]), ls=':')\n",
    "plt.axvline(transfer.EmaxGeV(ml.alp.g, ml.modules[0].B[0]), ls = '-.')"
   ]
  }
 ],
 "metadata": {
  "kernelspec": {
   "display_name": "Python [conda env:gammaALPs]",
   "language": "python",
   "name": "conda-env-gammaALPs-py"
  },
  "language_info": {
   "codemirror_mode": {
    "name": "ipython",
    "version": 3
   },
   "file_extension": ".py",
   "mimetype": "text/x-python",
   "name": "python",
   "nbconvert_exporter": "python",
   "pygments_lexer": "ipython3",
   "version": "3.8.5"
  }
 },
 "nbformat": 4,
 "nbformat_minor": 2
}
