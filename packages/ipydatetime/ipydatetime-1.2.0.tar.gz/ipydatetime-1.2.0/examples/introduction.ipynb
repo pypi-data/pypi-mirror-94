{
 "cells": [
  {
   "cell_type": "markdown",
   "metadata": {},
   "source": [
    "# Introduction"
   ]
  },
  {
   "cell_type": "markdown",
   "metadata": {},
   "source": [
    "This package is meant to supply widgets for picking a time and a datetime, using the default HTML5 input controls. For a date-onpy input, use the one in ipywidgets core (`ipywidgets.DatePicker`)."
   ]
  },
  {
   "cell_type": "markdown",
   "metadata": {},
   "source": [
    "## The time picker\n",
    "\n",
    "To create a time picker, use the `TimerPicker` widget from `ipydatetime`:"
   ]
  },
  {
   "cell_type": "code",
   "execution_count": null,
   "metadata": {},
   "outputs": [],
   "source": [
    "import ipydatetime\n",
    "import ipywidgets\n",
    "import datetime"
   ]
  },
  {
   "cell_type": "code",
   "execution_count": null,
   "metadata": {},
   "outputs": [],
   "source": [
    "time_picker = ipydatetime.TimePicker()"
   ]
  },
  {
   "cell_type": "code",
   "execution_count": null,
   "metadata": {},
   "outputs": [],
   "source": [
    "time_picker"
   ]
  },
  {
   "cell_type": "markdown",
   "metadata": {},
   "source": [
    "Here is a label showing how the kernel will format this value. Note that if the locale setting of the browser and kernel are different, the formatting of the time might also differ:"
   ]
  },
  {
   "cell_type": "code",
   "execution_count": null,
   "metadata": {},
   "outputs": [],
   "source": [
    "time_lbl = ipywidgets.Label()\n",
    "\n",
    "def update_time(change=None):\n",
    "    time_lbl.value = str(time_picker.value)\n",
    "\n",
    "update_time()\n",
    "time_picker.observe(update_time, names='value')\n",
    "\n",
    "time_lbl"
   ]
  },
  {
   "cell_type": "markdown",
   "metadata": {},
   "source": [
    "By default, the browser only shows hours/minutes. To input seconds and optionally milliseconds, either give an initial value with non-zero seconds (milliseconds), or specify a smaller `step` attribute. "
   ]
  },
  {
   "cell_type": "code",
   "execution_count": null,
   "metadata": {},
   "outputs": [],
   "source": [
    "ipydatetime.TimePicker(value=datetime.time(23, 15, 32), step=1)"
   ]
  },
  {
   "cell_type": "code",
   "execution_count": null,
   "metadata": {},
   "outputs": [],
   "source": [
    "ipydatetime.TimePicker(value=datetime.time(23, 15, 32, 7000), step=0.001)"
   ]
  },
  {
   "cell_type": "code",
   "execution_count": null,
   "metadata": {},
   "outputs": [],
   "source": [
    "ipydatetime.TimePicker(value=datetime.time(23, 15), step=5)"
   ]
  },
  {
   "cell_type": "code",
   "execution_count": null,
   "metadata": {},
   "outputs": [],
   "source": [
    "ipydatetime.TimePicker(value=datetime.time(23, 15), step=0.1)"
   ]
  },
  {
   "cell_type": "markdown",
   "metadata": {},
   "source": [
    "## The datetime picker\n",
    "\n",
    "To create a datetime picker, use the `DatetimePicker` widget from `ipydatetime`:"
   ]
  },
  {
   "cell_type": "code",
   "execution_count": null,
   "metadata": {},
   "outputs": [],
   "source": [
    "datetime_picker = ipydatetime.DatetimePicker()"
   ]
  },
  {
   "cell_type": "code",
   "execution_count": null,
   "metadata": {},
   "outputs": [],
   "source": [
    "datetime_picker"
   ]
  },
  {
   "cell_type": "markdown",
   "metadata": {},
   "source": [
    "Here is a label showing how the kernel will format this value. As for the `TimePicker`, if the locale setting of the browser and kernel are different, the formatting of the datetime might also differ."
   ]
  },
  {
   "cell_type": "code",
   "execution_count": null,
   "metadata": {},
   "outputs": [],
   "source": [
    "datetime_lbl = ipywidgets.Label()\n",
    "\n",
    "def update_datetime(change=None):\n",
    "    if datetime_picker.value is None:\n",
    "        datetime_lbl.value = 'None'\n",
    "    else:\n",
    "        # Present it using kernel system timezone:\n",
    "        datetime_lbl.value = str(datetime_picker.value)\n",
    "\n",
    "update_datetime()\n",
    "datetime_picker.observe(update_datetime, names='value')\n",
    "\n",
    "datetime_lbl"
   ]
  },
  {
   "cell_type": "markdown",
   "metadata": {},
   "source": [
    "### Time zones\n",
    "\n",
    "There are two points worth to note with regards to timezones:\n",
    "- The browser always picks datetimes using *its* timezone.\n",
    "- The kernel always gets the datetimes in the default system timezone of the kernel (see https://docs.python.org/3/library/datetime.html#datetime.datetime.astimezone with `None` as the argument).\n",
    "\n",
    "This means that if the kernel and browser have different timezones, the default formatting of the timezones might differ (though they will represent the same point in time)."
   ]
  },
  {
   "cell_type": "code",
   "execution_count": null,
   "metadata": {},
   "outputs": [],
   "source": [
    "import pytz\n",
    "ipydatetime.DatetimePicker(value=datetime.datetime(\n",
    "    2000, 1, 1, 0, 0, tzinfo=pytz.timezone('Australia/Sydney')))"
   ]
  },
  {
   "cell_type": "markdown",
   "metadata": {},
   "source": [
    "## Naive picker\n",
    "\n",
    "In some cases you might want to be able to pick naive datetime objects, i.e. timezone-unaware datetimes. To quote the Python 3 docs:\n",
    "\n",
    "> Naive objects are easy to understand and to work with, at the cost of ignoring some aspects of reality."
   ]
  },
  {
   "cell_type": "code",
   "execution_count": null,
   "metadata": {},
   "outputs": [],
   "source": [
    "naive_picker = ipydatetime.NaiveDatetimePicker()"
   ]
  },
  {
   "cell_type": "code",
   "execution_count": null,
   "metadata": {},
   "outputs": [],
   "source": [
    "naive_picker"
   ]
  },
  {
   "cell_type": "code",
   "execution_count": null,
   "metadata": {},
   "outputs": [],
   "source": [
    "naive_lbl = ipywidgets.Label()\n",
    "\n",
    "def update_naive(change=None):\n",
    "    naive_lbl.value = str(naive_picker.value)\n",
    "\n",
    "update_naive()\n",
    "naive_picker.observe(update_naive, names='value')\n",
    "\n",
    "naive_lbl"
   ]
  },
  {
   "cell_type": "code",
   "execution_count": null,
   "metadata": {},
   "outputs": [],
   "source": []
  }
 ],
 "metadata": {
  "kernelspec": {
   "display_name": "Python 3",
   "language": "python",
   "name": "python3"
  },
  "language_info": {
   "codemirror_mode": {
    "name": "ipython",
    "version": 3
   },
   "file_extension": ".py",
   "mimetype": "text/x-python",
   "name": "python",
   "nbconvert_exporter": "python",
   "pygments_lexer": "ipython3",
   "version": "3.8.1"
  }
 },
 "nbformat": 4,
 "nbformat_minor": 2
}
