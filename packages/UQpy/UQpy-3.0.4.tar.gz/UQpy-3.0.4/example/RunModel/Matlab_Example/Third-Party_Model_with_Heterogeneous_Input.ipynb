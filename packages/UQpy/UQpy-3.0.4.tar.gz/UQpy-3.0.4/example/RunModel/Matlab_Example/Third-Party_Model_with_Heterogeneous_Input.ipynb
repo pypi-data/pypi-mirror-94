{
 "cells": [
  {
   "cell_type": "markdown",
   "metadata": {},
   "source": [
    "# RunModel with Heterogeneous Input: Third-party model execution\n",
    "\n",
    "The RunModel class is capable of passing input in different formats into a single computational model. This means that the samples passed into a model can be passed as:\n",
    "- floating point values\n",
    "- numpy arrays\n",
    "- lists \n",
    "- tuples\n",
    "- lists of other iterables\n",
    "- numpy arrays of other iterables\n",
    "- or any combination of the above\n",
    "\n",
    "In the examples below, we demonstrate the use of a third-party computational model (in this case, Matlab) with inputs that are combinations of the above.\n",
    "\n",
    "Some notes on their use:\n",
    "1. UQpy converts all sample input to a numpy array with at least two dimensions. The first dimension, i.e. len(samples) must correspond to the number of samples being passed for model execution. The second dimension, i.e. len(samples[0]) must correspond to the number of variables that each sample possesses.\n",
    "2. Each individual sample, i.e. sample[j], may be composed of multiple data types -- with each variable having a different data type. For example, sample[j][k] may be a floating point value and sample[j][l] may be an array of arbitrary dimension.\n",
    "3. If a specific variable has multiple dimensions, the user may specify the index to be return in the input file. For example, the place holder for a variable x1 corresponding to sample[j][l] that is an array of shape (1,4) can be read as <x1[0, 3]>, which will return the final (0,3) component of samples[j][l].\n",
    "4. If the user does not specify the index for a multidimensional variable, then the entire multidimensional variable is flattened and written with comma delimiters.\n",
    "\n",
    "All examples are run using Matlab execution through the command line. The user will need to modify the model_script  in order to provide the correct path to the Matlab application on his/her computer.\n",
    "\n",
    "Michael D. Shields  \n",
    "29 April 2020"
   ]
  },
  {
   "cell_type": "markdown",
   "metadata": {},
   "source": [
    "### Matlab Model Summary\n",
    "Examples 1-2:\n",
    "The provided Matlab models take the sum of three random variables:  \n",
    "$s = \\sum_{i=1}^3 x_i$  \n",
    "$x_i \\sim N(0,1)$\n",
    "\n",
    "Example 3:\n",
    "The provided Matlab model takes the product of a random variable and the determinant of a random matrix:  \n",
    "$z = x \\det(Y)$  \n",
    "$x \\sim N(0,1)$  \n",
    "$y$ is a 3x3 matrix of standard normal random variables.\n"
   ]
  },
  {
   "cell_type": "code",
   "execution_count": 1,
   "metadata": {},
   "outputs": [],
   "source": [
    "from UQpy.SampleMethods import MCS\n",
    "from UQpy.RunModel import RunModel\n",
    "from UQpy.Distributions import Normal\n",
    "import matplotlib.pyplot as plt\n",
    "import time\n",
    "import numpy as np"
   ]
  },
  {
   "cell_type": "markdown",
   "metadata": {},
   "source": [
    "### Pick which model to run\n",
    "Options:\n",
    "- 'all'\n",
    "- 'scalar'\n",
    "- 'vector'\n",
    "- 'mixed'"
   ]
  },
  {
   "cell_type": "code",
   "execution_count": 2,
   "metadata": {},
   "outputs": [],
   "source": [
    "pick_model = 'all'"
   ]
  },
  {
   "cell_type": "markdown",
   "metadata": {},
   "source": [
    "## Example 1: Three scalar random variables\n",
    "In this example, we pass three scalar random variables. Note that this is different from assigning a single variable with three components, which will be handled in the following example. \n",
    "\n",
    "Here we will pass the samples both as an ndarray and as a list. Recall that UQpy converts all samples into an ndarray of at least two dimensions internally."
   ]
  },
  {
   "cell_type": "code",
   "execution_count": 3,
   "metadata": {},
   "outputs": [
    {
     "name": "stdout",
     "output_type": "stream",
     "text": [
      "Monte Carlo samples of three random variables from a standard normal distribution.\n",
      "Samples stored as an array:\n",
      "Data type: <class 'numpy.ndarray'>\n",
      "Number of samples: 5\n",
      "Dimensions of samples: (5, 3)\n",
      "Samples\n",
      "[[ 2.23176466  0.28399288  1.19313441]\n",
      " [ 2.39233592  0.26002075  0.04675263]\n",
      " [-0.27088124 -1.04085371 -0.61996005]\n",
      " [ 0.1157384  -0.1834751   0.45198118]\n",
      " [ 0.03322176  0.06441434  1.06381234]]\n",
      "\n",
      "Samples stored as a list:\n",
      "Data type: <class 'list'>\n",
      "Number of samples: 5\n",
      "Dimensions of samples: (5, 3)\n",
      "Samples:\n",
      "[array([2.23176466, 0.28399288, 1.19313441]), array([2.39233592, 0.26002075, 0.04675263]), array([-0.27088124, -1.04085371, -0.61996005]), array([ 0.1157384 , -0.1834751 ,  0.45198118]), array([0.03322176, 0.06441434, 1.06381234])]\n"
     ]
    }
   ],
   "source": [
    "if pick_model == 'scalar' or pick_model =='vector' or pick_model == 'all':\n",
    "    \n",
    "    # Call MCS to generate samples\n",
    "    d = Normal(loc=0, scale=1)\n",
    "    x_mcs = MCS(dist_object=[d, d, d], nsamples=5, random_state=987979)\n",
    "    names = ['var1', 'var11', 'var111']\n",
    "\n",
    "    # UQpy returns samples as an ndarray. Convert them to a list for part 1.2\n",
    "    x_mcs_list = list(x_mcs.samples)\n",
    "    print(\"Monte Carlo samples of three random variables from a standard normal distribution.\")\n",
    "    print('Samples stored as an array:')\n",
    "    print('Data type:', type(x_mcs.samples))\n",
    "    print('Number of samples:', len(x_mcs.samples))\n",
    "    print('Dimensions of samples:', np.shape(x_mcs.samples))\n",
    "    print('Samples')\n",
    "    print(x_mcs.samples)\n",
    "    print()\n",
    "    print('Samples stored as a list:')\n",
    "    print('Data type:', type(x_mcs_list))   \n",
    "    print('Number of samples:', len(x_mcs_list))\n",
    "    print('Dimensions of samples:', np.shape(x_mcs_list))\n",
    "    print('Samples:')\n",
    "    print(x_mcs_list)"
   ]
  },
  {
   "cell_type": "markdown",
   "metadata": {},
   "source": [
    "### 1.1 Pass sampled as ndarray, specify format in generated input file, serial execution  \n",
    "This examples uses the following files:\n",
    "- model_script = matlab_model_sum_scalar.py\n",
    "- input_template = sum_scalar.m\n",
    "- output_script = process_matlab_output.py"
   ]
  },
  {
   "cell_type": "code",
   "execution_count": 4,
   "metadata": {},
   "outputs": [
    {
     "name": "stdout",
     "output_type": "stream",
     "text": [
      "\n",
      "UQpy: The following directory has been created for model evaluations: \n",
      "/Users/MichaelShields/Documents/GitHub/UQpy/example/RunModel/Matlab_Example/Matlab_Model_2020_05_14_11_24_924349_AM\n",
      "\n",
      "UQpy: The model files have been copied to the following directory for evaluation: \n",
      "/Users/MichaelShields/Documents/GitHub/UQpy/example/RunModel/Matlab_Example/Matlab_Model_2020_05_14_11_24_924349_AM\n",
      "\n",
      "UQpy: No samples are provided. Creating the object and building the model directory.\n",
      "\n",
      "\n",
      "UQpy: All model evaluations will be executed from the following directory: \n",
      "/Users/MichaelShields/Documents/GitHub/UQpy/example/RunModel/Matlab_Example/Matlab_Model_2020_05_14_11_24_924349_AM\n",
      "\n",
      "UQpy: The output function that will be run: read_output\n",
      "\n",
      "UQpy: Performing serial execution of the third-party model.\n",
      "\n",
      "\n",
      "UQpy: Running model number 0 in the following directory: \n",
      "/Users/MichaelShields/Documents/GitHub/UQpy/example/RunModel/Matlab_Example/Matlab_Model_2020_05_14_11_24_924349_AM/run_0_2020_05_14_11_24_952041_AM\n",
      "\n",
      "UQpy: Found 1 instance of variable: 'var1' in the input file.\n",
      "\n",
      "\n",
      "UQpy: Found 1 instance of variable: 'var11' in the input file.\n",
      "\n",
      "\n",
      "UQpy: Found 1 instance of variable: 'var111' in the input file.\n",
      "\n",
      "\n",
      "UQpy: Model evaluation 0 complete.\n",
      "\n",
      "\n",
      "UQpy: Returning to the model directory:\n",
      "/Users/MichaelShields/Documents/GitHub/UQpy/example/RunModel/Matlab_Example/Matlab_Model_2020_05_14_11_24_924349_AM\n",
      "\n",
      "UQpy: Running model number 1 in the following directory: \n",
      "/Users/MichaelShields/Documents/GitHub/UQpy/example/RunModel/Matlab_Example/Matlab_Model_2020_05_14_11_24_924349_AM/run_1_2020_05_14_11_24_952041_AM\n",
      "\n",
      "UQpy: Model evaluation 1 complete.\n",
      "\n",
      "\n",
      "UQpy: Returning to the model directory:\n",
      "/Users/MichaelShields/Documents/GitHub/UQpy/example/RunModel/Matlab_Example/Matlab_Model_2020_05_14_11_24_924349_AM\n",
      "\n",
      "UQpy: Running model number 2 in the following directory: \n",
      "/Users/MichaelShields/Documents/GitHub/UQpy/example/RunModel/Matlab_Example/Matlab_Model_2020_05_14_11_24_924349_AM/run_2_2020_05_14_11_24_952041_AM\n",
      "\n",
      "UQpy: Model evaluation 2 complete.\n",
      "\n",
      "\n",
      "UQpy: Returning to the model directory:\n",
      "/Users/MichaelShields/Documents/GitHub/UQpy/example/RunModel/Matlab_Example/Matlab_Model_2020_05_14_11_24_924349_AM\n",
      "\n",
      "UQpy: Running model number 3 in the following directory: \n",
      "/Users/MichaelShields/Documents/GitHub/UQpy/example/RunModel/Matlab_Example/Matlab_Model_2020_05_14_11_24_924349_AM/run_3_2020_05_14_11_24_952041_AM\n",
      "\n",
      "UQpy: Model evaluation 3 complete.\n",
      "\n",
      "\n",
      "UQpy: Returning to the model directory:\n",
      "/Users/MichaelShields/Documents/GitHub/UQpy/example/RunModel/Matlab_Example/Matlab_Model_2020_05_14_11_24_924349_AM\n",
      "\n",
      "UQpy: Running model number 4 in the following directory: \n",
      "/Users/MichaelShields/Documents/GitHub/UQpy/example/RunModel/Matlab_Example/Matlab_Model_2020_05_14_11_24_924349_AM/run_4_2020_05_14_11_24_952041_AM\n",
      "\n",
      "UQpy: Model evaluation 4 complete.\n",
      "\n",
      "\n",
      "UQpy: Returning to the model directory:\n",
      "/Users/MichaelShields/Documents/GitHub/UQpy/example/RunModel/Matlab_Example/Matlab_Model_2020_05_14_11_24_924349_AM\n",
      "\n",
      "UQpy: Serial execution of the third-party model complete.\n",
      "\n",
      "\n",
      "UQpy: Returning to the parent directory:\n",
      "/Users/MichaelShields/Documents/GitHub/UQpy/example/RunModel/Matlab_Example\n",
      "\n",
      "Time for serial execution:\n",
      "25.725218057632446\n",
      "\n",
      "The values returned from the Matlab simulation:\n",
      "[array(3.7089), array(2.6991), array(-1.9318), array(0.3842), array(1.1614)]\n"
     ]
    }
   ],
   "source": [
    "if pick_model == 'scalar' or pick_model == 'all':\n",
    "    # Call to RunModel - Here we run the model while instantiating the RunModel object. \n",
    "    t = time.time()\n",
    "    m = RunModel(ntasks=1, model_script='matlab_model_sum_scalar.py', \n",
    "                 input_template='sum_scalar.m', var_names=names, model_object_name=\"matlab\", \n",
    "                 output_script='process_matlab_output.py', output_object_name='read_output', \n",
    "                 resume=False, model_dir='Matlab_Model', fmt=\"{:>10.4f}\", verbose=True)\n",
    "    m.run(x_mcs.samples)\n",
    "    t_ser_matlab = time.time() - t\n",
    "    print(\"\\nTime for serial execution:\")\n",
    "    print(t_ser_matlab)\n",
    "    print()\n",
    "    print(\"The values returned from the Matlab simulation:\")\n",
    "    print(m.qoi_list)"
   ]
  },
  {
   "cell_type": "markdown",
   "metadata": {},
   "source": [
    "### 1.2 Samples passed as list, no format specification, parallel execution\n",
    "This examples uses the following files:\n",
    "- model_script = matlab_model_sum_scalar.py\n",
    "- input_template = sum_scalar.m\n",
    "- output_script = process_matlab_output.py"
   ]
  },
  {
   "cell_type": "code",
   "execution_count": 5,
   "metadata": {},
   "outputs": [
    {
     "name": "stdout",
     "output_type": "stream",
     "text": [
      "\n",
      "UQpy: The following directory has been created for model evaluations: \n",
      "/Users/MichaelShields/Documents/GitHub/UQpy/example/RunModel/Matlab_Example/Matlab_Model_2020_05_14_11_24_670361_AM\n",
      "\n",
      "UQpy: The model files have been copied to the following directory for evaluation: \n",
      "/Users/MichaelShields/Documents/GitHub/UQpy/example/RunModel/Matlab_Example/Matlab_Model_2020_05_14_11_24_670361_AM\n",
      "\n",
      "UQpy: All model evaluations will be executed from the following directory: \n",
      "/Users/MichaelShields/Documents/GitHub/UQpy/example/RunModel/Matlab_Example/Matlab_Model_2020_05_14_11_24_670361_AM\n",
      "\n",
      "UQpy: The output function that will be run: read_output\n",
      "\n",
      "UQpy: Performing parallel execution of the third-party model.\n",
      "\n",
      "\n",
      "UQpy: Creating inputs for parallel execution of the third-party model.\n",
      "\n",
      "\n",
      "UQpy: Found 1 instance of variable: 'var1' in the input file.\n",
      "\n",
      "\n",
      "UQpy: Found 1 instance of variable: 'var11' in the input file.\n",
      "\n",
      "\n",
      "UQpy: Found 1 instance of variable: 'var111' in the input file.\n",
      "\n",
      "\n",
      "UQpy: Created input files for run 0 in the directory: \n",
      "/Users/MichaelShields/Documents/GitHub/UQpy/example/RunModel/Matlab_Example/Matlab_Model_2020_05_14_11_24_670361_AM/run_0_2020_05_14_11_24_723920_AM/InputFiles\n",
      "\n",
      "UQpy: Created input files for run 1 in the directory: \n",
      "/Users/MichaelShields/Documents/GitHub/UQpy/example/RunModel/Matlab_Example/Matlab_Model_2020_05_14_11_24_670361_AM/run_1_2020_05_14_11_24_723920_AM/InputFiles\n",
      "\n",
      "UQpy: Created input files for run 2 in the directory: \n",
      "/Users/MichaelShields/Documents/GitHub/UQpy/example/RunModel/Matlab_Example/Matlab_Model_2020_05_14_11_24_670361_AM/run_2_2020_05_14_11_24_723920_AM/InputFiles\n",
      "\n",
      "UQpy: Created input files for run 3 in the directory: \n",
      "/Users/MichaelShields/Documents/GitHub/UQpy/example/RunModel/Matlab_Example/Matlab_Model_2020_05_14_11_24_670361_AM/run_3_2020_05_14_11_24_723920_AM/InputFiles\n",
      "\n",
      "UQpy: Created input files for run 4 in the directory: \n",
      "/Users/MichaelShields/Documents/GitHub/UQpy/example/RunModel/Matlab_Example/Matlab_Model_2020_05_14_11_24_670361_AM/run_4_2020_05_14_11_24_723920_AM/InputFiles\n",
      "\n",
      "UQpy: Executing the third-party model in parallel.\n",
      "\n",
      "\n",
      "UQpy: Collecting outputs from parallel execution of the third-party model.\n",
      "\n",
      "\n",
      "UQpy: Changing to the following directory for output processing:\n",
      "/Users/MichaelShields/Documents/GitHub/UQpy/example/RunModel/Matlab_Example/Matlab_Model_2020_05_14_11_24_670361_AM/run_0_2020_05_14_11_24_723920_AM\n",
      "\n",
      "UQpy: Processing output from parallel execution of the third-party model run 0.\n",
      "\n",
      "\n",
      "UQpy: Changing back to the following model directory:\n",
      "/Users/MichaelShields/Documents/GitHub/UQpy/example/RunModel/Matlab_Example/Matlab_Model_2020_05_14_11_24_670361_AM\n",
      "\n",
      "UQpy: Changing to the following directory for output processing:\n",
      "/Users/MichaelShields/Documents/GitHub/UQpy/example/RunModel/Matlab_Example/Matlab_Model_2020_05_14_11_24_670361_AM/run_1_2020_05_14_11_24_723920_AM\n",
      "\n",
      "UQpy: Processing output from parallel execution of the third-party model run 1.\n",
      "\n",
      "\n",
      "UQpy: Changing back to the following model directory:\n",
      "/Users/MichaelShields/Documents/GitHub/UQpy/example/RunModel/Matlab_Example/Matlab_Model_2020_05_14_11_24_670361_AM\n",
      "\n",
      "UQpy: Changing to the following directory for output processing:\n",
      "/Users/MichaelShields/Documents/GitHub/UQpy/example/RunModel/Matlab_Example/Matlab_Model_2020_05_14_11_24_670361_AM/run_2_2020_05_14_11_24_723920_AM\n",
      "\n",
      "UQpy: Processing output from parallel execution of the third-party model run 2.\n",
      "\n",
      "\n",
      "UQpy: Changing back to the following model directory:\n",
      "/Users/MichaelShields/Documents/GitHub/UQpy/example/RunModel/Matlab_Example/Matlab_Model_2020_05_14_11_24_670361_AM\n",
      "\n",
      "UQpy: Changing to the following directory for output processing:\n",
      "/Users/MichaelShields/Documents/GitHub/UQpy/example/RunModel/Matlab_Example/Matlab_Model_2020_05_14_11_24_670361_AM/run_3_2020_05_14_11_24_723920_AM\n",
      "\n",
      "UQpy: Processing output from parallel execution of the third-party model run 3.\n",
      "\n",
      "\n",
      "UQpy: Changing back to the following model directory:\n",
      "/Users/MichaelShields/Documents/GitHub/UQpy/example/RunModel/Matlab_Example/Matlab_Model_2020_05_14_11_24_670361_AM\n",
      "\n",
      "UQpy: Changing to the following directory for output processing:\n",
      "/Users/MichaelShields/Documents/GitHub/UQpy/example/RunModel/Matlab_Example/Matlab_Model_2020_05_14_11_24_670361_AM/run_4_2020_05_14_11_24_723920_AM\n",
      "\n",
      "UQpy: Processing output from parallel execution of the third-party model run 4.\n",
      "\n",
      "\n",
      "UQpy: Changing back to the following model directory:\n",
      "/Users/MichaelShields/Documents/GitHub/UQpy/example/RunModel/Matlab_Example/Matlab_Model_2020_05_14_11_24_670361_AM\n",
      "\n",
      "UQpy: Parallel execution of the third-party model complete.\n",
      "\n",
      "\n",
      "UQpy: Returning to the parent directory:\n",
      "/Users/MichaelShields/Documents/GitHub/UQpy/example/RunModel/Matlab_Example\n",
      "\n",
      "Time for parallel execution:\n",
      "15.480554819107056\n",
      "\n",
      "The values retured from the Matlab simulation:\n",
      "[array(3.7089), array(2.6991), array(-1.9317), array(0.38424), array(1.1614)]\n"
     ]
    }
   ],
   "source": [
    "if pick_model == 'scalar' or pick_model == 'all':\n",
    "    # Call to RunModel with samples as a list - Again we run the model while instantiating the RunModel object.\n",
    "    t = time.time()\n",
    "    m = RunModel(samples=x_mcs_list, ntasks=2, model_script='matlab_model_sum_scalar.py', \n",
    "                 input_template='sum_scalar.m', var_names=names, model_object_name=\"matlab\", \n",
    "                 output_script='process_matlab_output.py', output_object_name='read_output', resume=False, \n",
    "                 model_dir='Matlab_Model', verbose=True)\n",
    "    t_par_matlab = time.time() - t\n",
    "    print(\"\\nTime for parallel execution:\")\n",
    "    print(t_par_matlab)\n",
    "    print()\n",
    "    print(\"The values retured from the Matlab simulation:\")\n",
    "    print(m.qoi_list)"
   ]
  },
  {
   "cell_type": "markdown",
   "metadata": {},
   "source": [
    "## Example 2: Single tri-variate random variable\n",
    "In this example, we pass three random variables in as a trivariate random variable. Note that this is different from assigning three scalar random variables, which was be handled in Example 1.\n",
    "\n",
    "Again, we will pass the samples both as an ndarray and as a list. Recall that UQpy converts all samples into an ndarray of at least two dimensions internally."
   ]
  },
  {
   "cell_type": "markdown",
   "metadata": {},
   "source": [
    "### Restructure the samples\n",
    "To pass the samples in as a single tri-variate variable, we need reshape the samples from shape (5, 3) to shape (5, 1, 3)"
   ]
  },
  {
   "cell_type": "code",
   "execution_count": 6,
   "metadata": {},
   "outputs": [
    {
     "name": "stdout",
     "output_type": "stream",
     "text": [
      "Monte Carlo samples of three random variables from a standard normal distribution.\n",
      "Samples stored as an array:\n",
      "Data type: <class 'numpy.ndarray'>\n",
      "Number of samples: 5\n",
      "Dimensions of samples: (5, 1, 3)\n",
      "Samples\n",
      "[[[ 2.23176466  0.28399288  1.19313441]]\n",
      "\n",
      " [[ 2.39233592  0.26002075  0.04675263]]\n",
      "\n",
      " [[-0.27088124 -1.04085371 -0.61996005]]\n",
      "\n",
      " [[ 0.1157384  -0.1834751   0.45198118]]\n",
      "\n",
      " [[ 0.03322176  0.06441434  1.06381234]]]\n",
      "\n",
      "Samples stored as a list:\n",
      "Data type: <class 'list'>\n",
      "Number of samples: 5\n",
      "Dimensions of samples: (5, 1, 3)\n",
      "Samples:\n",
      "[array([[2.23176466, 0.28399288, 1.19313441]]), array([[2.39233592, 0.26002075, 0.04675263]]), array([[-0.27088124, -1.04085371, -0.61996005]]), array([[ 0.1157384 , -0.1834751 ,  0.45198118]]), array([[0.03322176, 0.06441434, 1.06381234]])]\n"
     ]
    }
   ],
   "source": [
    "if pick_model == 'vector' or pick_model == 'all':\n",
    "    x_mcs_tri = x_mcs.samples.reshape(5, 1, 3)\n",
    "    x_mcs_tri_list = list(x_mcs_tri)\n",
    "\n",
    "    print(\"Monte Carlo samples of three random variables from a standard normal distribution.\")\n",
    "    print('Samples stored as an array:')\n",
    "    print('Data type:', type(x_mcs_tri))\n",
    "    print('Number of samples:', len(x_mcs_tri))\n",
    "    print('Dimensions of samples:', np.shape(x_mcs_tri))\n",
    "    print('Samples')\n",
    "    print(x_mcs_tri)\n",
    "    print()\n",
    "    print('Samples stored as a list:')\n",
    "    print('Data type:', type(x_mcs_tri_list))   \n",
    "    print('Number of samples:', len(x_mcs_tri_list))\n",
    "    print('Dimensions of samples:', np.shape(x_mcs_tri_list))\n",
    "    print('Samples:')\n",
    "    print(x_mcs_tri_list)"
   ]
  },
  {
   "cell_type": "markdown",
   "metadata": {},
   "source": [
    "### 2.1 Pass samples as ndarray, specify format in generated input file, serial execution, index samples in input_template  \n",
    "This examples uses the following files:\n",
    "- model_script = matlab_model_sum_vector_indexed.py\n",
    "- input_template = sum_vector_indexed.m\n",
    "- output_script = process_matlab_output.py"
   ]
  },
  {
   "cell_type": "code",
   "execution_count": 7,
   "metadata": {},
   "outputs": [
    {
     "name": "stdout",
     "output_type": "stream",
     "text": [
      "\n",
      "Time for serial execution:\n",
      "22.262825965881348\n",
      "\n",
      "The values returned from the Matlab simulation:\n",
      "[array(3.7089), array(2.6991), array(-1.9318), array(0.3842), array(1.1614)]\n"
     ]
    }
   ],
   "source": [
    "if pick_model == 'vector' or pick_model == 'all':\n",
    "    # Call to RunModel - Here we run the model while instantiating the RunModel object. \n",
    "    # Notice that we do not specify var_names. This will default to a single variable with name x0. In this case,\n",
    "    # we will read them in by indexing in the input_template.\n",
    "    t = time.time()\n",
    "    m = RunModel(samples=x_mcs_tri, ntasks=1, model_script='matlab_model_sum_vector_indexed.py', \n",
    "                 input_template='sum_vector_indexed.m', model_object_name=\"matlab\", \n",
    "                 output_script='process_matlab_output.py', output_object_name='read_output', \n",
    "                 resume=False, model_dir='Matlab_Model', fmt=\"{:>10.4f}\")\n",
    "    t_ser_matlab = time.time() - t\n",
    "    print(\"\\nTime for serial execution:\")\n",
    "    print(t_ser_matlab)\n",
    "    print()\n",
    "    print(\"The values returned from the Matlab simulation:\")\n",
    "    print(m.qoi_list)"
   ]
  },
  {
   "cell_type": "markdown",
   "metadata": {},
   "source": [
    "### 2.2 Samples passed as list, no format specification, parallel execution, index samples\n",
    "This examples uses the following files:\n",
    "- model_script = matlab_model_sum_vector_indexed.py\n",
    "- input_template = sum_vector_indexed.m\n",
    "- output_script = process_matlab_output.py"
   ]
  },
  {
   "cell_type": "code",
   "execution_count": 8,
   "metadata": {},
   "outputs": [
    {
     "name": "stdout",
     "output_type": "stream",
     "text": [
      "\n",
      "Time for parallel execution:\n",
      "13.8387770652771\n",
      "\n",
      "The values returned from the Matlab simulation:\n",
      "[array(3.7089), array(2.6991), array(-1.9317), array(0.38424), array(1.1614)]\n"
     ]
    }
   ],
   "source": [
    "if pick_model == 'vector' or pick_model == 'all':\n",
    "    # Call to RunModel - Here we run the model while instantiating the RunModel object. \n",
    "    # Notice that we do not specify var_names. This will default to a single variable with name x0. In this case,\n",
    "    # we will read them in by indexing in the input_template.\n",
    "    t = time.time()\n",
    "    m = RunModel(samples=x_mcs_tri_list, ntasks=2, model_script='matlab_model_sum_vector_indexed.py', \n",
    "                 input_template='sum_vector_indexed.m', model_object_name=\"matlab\", \n",
    "                 output_script='process_matlab_output.py', output_object_name='read_output', \n",
    "                 resume=False, model_dir='Matlab_Model')\n",
    "    t_ser_matlab = time.time() - t\n",
    "    print(\"\\nTime for parallel execution:\")\n",
    "    print(t_ser_matlab)\n",
    "    print()\n",
    "    print(\"The values returned from the Matlab simulation:\")\n",
    "    print(m.qoi_list)"
   ]
  },
  {
   "cell_type": "markdown",
   "metadata": {},
   "source": [
    "### 2.3 Samples passed as a ndarray, specify format in generated input file, serial execution, do not index samples\n",
    "This examples uses the following files:\n",
    "- model_script = matlab_model_sum_vector.py\n",
    "- input_template = sum_vector.m\n",
    "- output_script = process_matlab_output.py"
   ]
  },
  {
   "cell_type": "code",
   "execution_count": 9,
   "metadata": {},
   "outputs": [
    {
     "name": "stdout",
     "output_type": "stream",
     "text": [
      "\n",
      "Time for serial execution:\n",
      "20.278720140457153\n",
      "\n",
      "The values returned from the Matlab simulation:\n",
      "[array(3.7089), array(2.6991), array(-1.9318), array(0.3842), array(1.1614)]\n"
     ]
    }
   ],
   "source": [
    "if pick_model == 'vector' or pick_model == 'all':\n",
    "    # Call to RunModel - Here we run the model while instantiating the RunModel object. \n",
    "    # Notice that we do not specify var_names. This will default to a single variable with name x0. In this case,\n",
    "    # we will read them in by indexing in the input_template.\n",
    "    t = time.time()\n",
    "    m = RunModel(samples=x_mcs_tri, ntasks=1, model_script='matlab_model_sum_vector.py', \n",
    "                 input_template='sum_vector.m', model_object_name=\"matlab\", \n",
    "                 output_script='process_matlab_output.py', output_object_name='read_output', \n",
    "                 resume=False, model_dir='Matlab_Model', fmt=\"{:>10.4f}\")\n",
    "    t_ser_matlab = time.time() - t\n",
    "    print(\"\\nTime for serial execution:\")\n",
    "    print(t_ser_matlab)\n",
    "    print()\n",
    "    print(\"The values returned from the Matlab simulation:\")\n",
    "    print(m.qoi_list)"
   ]
  },
  {
   "cell_type": "markdown",
   "metadata": {},
   "source": [
    "## Example 3: Passing a scalar and an array to RunModel\n",
    "In this example, we pass a single scalar random variable as well as an array into a Matlab model.\n",
    "\n",
    "Again, we will pass the samples both as an ndarray and as a list. Recall that UQpy converts all samples into an ndarray of at least two dimensions internally."
   ]
  },
  {
   "cell_type": "markdown",
   "metadata": {},
   "source": [
    "### Create the input samples to be passed"
   ]
  },
  {
   "cell_type": "code",
   "execution_count": 10,
   "metadata": {},
   "outputs": [
    {
     "name": "stdout",
     "output_type": "stream",
     "text": [
      "Monte Carlo samples of a single random variable from a standard normal distribution.\n",
      "Samples stored as an array:\n",
      "Data type: <class 'numpy.ndarray'>\n",
      "Number of samples: 5\n",
      "Dimensions of samples: (5, 1)\n",
      "Samples\n",
      "[[-0.53867907]\n",
      " [-1.53427558]\n",
      " [ 0.03676724]\n",
      " [-0.5999408 ]\n",
      " [-0.84281667]]\n",
      "\n",
      "Monte Carlo samples of a 3x3 matrix of standard normal random variables.\n",
      "Samples stored as an array:\n",
      "Data type: <class 'numpy.ndarray'>\n",
      "Number of samples: 5\n",
      "Dimensions of samples: (5, 3, 3)\n",
      "Samples\n",
      "[[[-0.29013746 -0.00243089 -0.22399746]\n",
      "  [ 1.24990543  0.47312817  1.24164681]\n",
      "  [ 1.89275774 -0.06909359  0.76832154]]\n",
      "\n",
      " [[-0.28544571 -0.50552532  0.46059081]\n",
      "  [-0.10763957 -0.57264598  1.42809706]\n",
      "  [-0.01351423  0.26206728 -0.05315319]]\n",
      "\n",
      " [[-0.15517882 -0.11101098  0.66365075]\n",
      "  [ 0.99184924 -0.538799   -0.59800649]\n",
      "  [-2.3887455   0.72339895  0.10124149]]\n",
      "\n",
      " [[-0.4434373  -0.65200917 -0.43066047]\n",
      "  [-1.15795987 -0.08628815 -1.83503501]\n",
      "  [ 0.4266524   0.30474121 -0.34966522]]\n",
      "\n",
      " [[-1.38435557  0.75301795 -0.87363678]\n",
      "  [-1.31029863 -0.76530974 -1.16519667]\n",
      "  [ 0.89315578 -0.36181702  1.28809596]]]\n",
      "\n",
      "Combined samples with a scalar and a 3x3 matrix of standard normal random variables.\n",
      "Samples stored as a list:\n",
      "Data type: <class 'list'>\n",
      "Number of samples: 5\n",
      "Dimensions of samples: (5, 2)\n",
      "Samples\n",
      "[[array([-0.53867907]), array([[-0.29013746, -0.00243089, -0.22399746],\n",
      "       [ 1.24990543,  0.47312817,  1.24164681],\n",
      "       [ 1.89275774, -0.06909359,  0.76832154]])], [array([-1.53427558]), array([[-0.28544571, -0.50552532,  0.46059081],\n",
      "       [-0.10763957, -0.57264598,  1.42809706],\n",
      "       [-0.01351423,  0.26206728, -0.05315319]])], [array([0.03676724]), array([[-0.15517882, -0.11101098,  0.66365075],\n",
      "       [ 0.99184924, -0.538799  , -0.59800649],\n",
      "       [-2.3887455 ,  0.72339895,  0.10124149]])], [array([-0.5999408]), array([[-0.4434373 , -0.65200917, -0.43066047],\n",
      "       [-1.15795987, -0.08628815, -1.83503501],\n",
      "       [ 0.4266524 ,  0.30474121, -0.34966522]])], [array([-0.84281667]), array([[-1.38435557,  0.75301795, -0.87363678],\n",
      "       [-1.31029863, -0.76530974, -1.16519667],\n",
      "       [ 0.89315578, -0.36181702,  1.28809596]])]]\n",
      "\n",
      "Combined samples with a scalar and a 3x3 matrix of standard normal random variables.\n",
      "Samples stored as ndarray:\n",
      "Data type: <class 'numpy.ndarray'>\n",
      "Number of samples: 5\n",
      "Dimensions of samples: (5, 2)\n",
      "Samples\n",
      "[[array([-0.53867907])\n",
      "  array([[-0.29013746, -0.00243089, -0.22399746],\n",
      "       [ 1.24990543,  0.47312817,  1.24164681],\n",
      "       [ 1.89275774, -0.06909359,  0.76832154]])]\n",
      " [array([-1.53427558])\n",
      "  array([[-0.28544571, -0.50552532,  0.46059081],\n",
      "       [-0.10763957, -0.57264598,  1.42809706],\n",
      "       [-0.01351423,  0.26206728, -0.05315319]])]\n",
      " [array([0.03676724])\n",
      "  array([[-0.15517882, -0.11101098,  0.66365075],\n",
      "       [ 0.99184924, -0.538799  , -0.59800649],\n",
      "       [-2.3887455 ,  0.72339895,  0.10124149]])]\n",
      " [array([-0.5999408])\n",
      "  array([[-0.4434373 , -0.65200917, -0.43066047],\n",
      "       [-1.15795987, -0.08628815, -1.83503501],\n",
      "       [ 0.4266524 ,  0.30474121, -0.34966522]])]\n",
      " [array([-0.84281667])\n",
      "  array([[-1.38435557,  0.75301795, -0.87363678],\n",
      "       [-1.31029863, -0.76530974, -1.16519667],\n",
      "       [ 0.89315578, -0.36181702,  1.28809596]])]]\n",
      "\n"
     ]
    }
   ],
   "source": [
    "if pick_model == 'mixed' or pick_model =='vector' or pick_model == 'all':\n",
    "    \n",
    "    # Call MCS to generate samples\n",
    "    # First generate the scalar random variable\n",
    "    x_mcs1 = MCS(dist_object=d, nsamples=5, random_state=843765) \n",
    "    # Next generate a 3x3 random matrix\n",
    "    x_mcs2 = MCS(dist_object=[d, d, d], nsamples=15, random_state=438975)\n",
    "    x_mcs_array = x_mcs2.samples.reshape((5,3,3))\n",
    "    # -------------------------------------------------------------------------------------------------------------\n",
    "    \n",
    "    print(\"Monte Carlo samples of a single random variable from a standard normal distribution.\")\n",
    "    print('Samples stored as an array:')\n",
    "    print('Data type:', type(x_mcs1.samples))\n",
    "    print('Number of samples:', len(x_mcs1.samples))\n",
    "    print('Dimensions of samples:', np.shape(x_mcs1.samples))\n",
    "    print('Samples')\n",
    "    print(x_mcs1.samples)\n",
    "    print()\n",
    "    print(\"Monte Carlo samples of a 3x3 matrix of standard normal random variables.\")\n",
    "    print('Samples stored as an array:')\n",
    "    print('Data type:', type(x_mcs_array))\n",
    "    print('Number of samples:', len(x_mcs_array))\n",
    "    print('Dimensions of samples:', np.shape(x_mcs_array))\n",
    "    print('Samples')\n",
    "    print(x_mcs_array)\n",
    "    print()\n",
    "    \n",
    "    # Create a set of samples to be passed into RunModel\n",
    "    # Here we need to create the mixed samples such that each sample has a single scalar and a single 3x3 matrix.\n",
    "    # This data structure is essential to passing the input to UQpy correctly.\n",
    "    x_mixed = []\n",
    "    for i in range(5):\n",
    "        x_mixed.append([x_mcs1.samples[i], x_mcs_array[i]])\n",
    "        \n",
    "    print(\"Combined samples with a scalar and a 3x3 matrix of standard normal random variables.\")\n",
    "    print('Samples stored as a list:')\n",
    "    print('Data type:', type(x_mixed))\n",
    "    print('Number of samples:', len(x_mixed))\n",
    "    print('Dimensions of samples:', np.shape(x_mixed))\n",
    "    print('Samples')\n",
    "    print(x_mixed)\n",
    "    print()\n",
    "    \n",
    "    x_mixed_array = np.atleast_2d(np.asarray(x_mixed))\n",
    "    print(\"Combined samples with a scalar and a 3x3 matrix of standard normal random variables.\")\n",
    "    print('Samples stored as ndarray:')\n",
    "    print('Data type:', type(x_mixed_array))\n",
    "    print('Number of samples:', len(x_mixed_array))\n",
    "    print('Dimensions of samples:', np.shape(x_mixed_array))\n",
    "    print('Samples')\n",
    "    print(x_mixed_array)\n",
    "    print()\n",
    "    \n",
    "    # Notice that, in both the ndarray case and the list case, the samples have dimension (5,2). That is, there\n",
    "    # are five samples of two variables. The first variable is a scalar. The second variable is a 3x3 matrix."
   ]
  },
  {
   "cell_type": "markdown",
   "metadata": {},
   "source": [
    "### 3.1 Pass samples as ndarray, specify format in generated input file, serial execution, do not index samples in input_template \n",
    "This examples uses the following files:\n",
    "- model_script = matlab_model_det.py\n",
    "- input_template = prod_determinant.m\n",
    "- output_script = process_matlab_output.py"
   ]
  },
  {
   "cell_type": "code",
   "execution_count": 11,
   "metadata": {},
   "outputs": [
    {
     "name": "stdout",
     "output_type": "stream",
     "text": [
      "\n",
      "Time for serial execution:\n",
      "20.71112298965454\n",
      "\n",
      "The values returned from the Matlab simulation:\n",
      "[array(-0.04647), array(-0.14456), array(-0.021495), array(-0.38955), array(-1.2004)]\n"
     ]
    }
   ],
   "source": [
    "if pick_model == 'mixed' or pick_model == 'all':\n",
    "    # Call to RunModel - Here we run the model while instantiating the RunModel object. \n",
    "    # Notice that we do not specify var_names. This will default to two variables with names x0 and x1. In this \n",
    "    # case, x0 is a scalar and x1 is a 3x3 matrix. We will read the matrix in without indexing in the \n",
    "    # input_template.\n",
    "    t = time.time()\n",
    "    m = RunModel(samples=x_mixed_array, ntasks=1, model_script='matlab_model_det.py', \n",
    "                 input_template='prod_determinant.m', model_object_name=\"matlab\", \n",
    "                 output_script='process_matlab_output.py', output_object_name='read_output', \n",
    "                 resume=False, model_dir='Matlab_Model', fmt=\"{:>10.4f}\")\n",
    "    t_ser_matlab = time.time() - t\n",
    "    print(\"\\nTime for serial execution:\")\n",
    "    print(t_ser_matlab)\n",
    "    print()\n",
    "    print(\"The values returned from the Matlab simulation:\")\n",
    "    print(m.qoi_list)"
   ]
  },
  {
   "cell_type": "markdown",
   "metadata": {},
   "source": [
    "### 3.2 Pass samples as ndarray, specify format in generated input file, serial execution, index samples in input_template \n",
    "This examples uses the following files:\n",
    "- model_script = matlab_model_det_index.py\n",
    "- input_template = prod_determinant_index.m\n",
    "- output_script = process_matlab_output.py"
   ]
  },
  {
   "cell_type": "code",
   "execution_count": 12,
   "metadata": {},
   "outputs": [
    {
     "name": "stdout",
     "output_type": "stream",
     "text": [
      "\n",
      "Time for serial execution:\n",
      "21.252666234970093\n",
      "\n",
      "The values returned from the Matlab simulation:\n",
      "[array(-0.04647), array(-0.14456), array(-0.021495), array(-0.38955), array(-1.2004)]\n"
     ]
    }
   ],
   "source": [
    "if pick_model == 'mixed' or pick_model == 'all':\n",
    "    # Call to RunModel - Here we run the model while instantiating the RunModel object. \n",
    "    # Notice that we do not specify var_names. This will default to two variables with names x0 and x1. In this \n",
    "    # case, x0 is a scalar and x1 is a 3x3 matrix. We will read the matrix in with indexing in the \n",
    "    # input_template.\n",
    "    t = time.time()\n",
    "    m = RunModel(samples=x_mixed_array, ntasks=1, model_script='matlab_model_det_index.py', \n",
    "                 input_template='prod_determinant_index.m', model_object_name=\"matlab\", \n",
    "                 output_script='process_matlab_output.py', output_object_name='read_output', \n",
    "                 resume=False, model_dir='Matlab_Model', fmt=\"{:>10.4f}\")\n",
    "    t_ser_matlab = time.time() - t\n",
    "    print(\"\\nTime for serial execution:\")\n",
    "    print(t_ser_matlab)\n",
    "    print()\n",
    "    print(\"The values returned from the Matlab simulation:\")\n",
    "    print(m.qoi_list)"
   ]
  },
  {
   "cell_type": "markdown",
   "metadata": {},
   "source": [
    "### 3.3 Pass samples as list, do not specify format in generated input file, parallel execution, do not index samples in input_template \n",
    "This examples uses the following files:\n",
    "- model_script = matlab_model_det.py\n",
    "- input_template = prod_determinant.m\n",
    "- output_script = process_matlab_output.py"
   ]
  },
  {
   "cell_type": "code",
   "execution_count": 13,
   "metadata": {},
   "outputs": [
    {
     "name": "stdout",
     "output_type": "stream",
     "text": [
      "\n",
      "Time for serial execution:\n",
      "14.885188102722168\n",
      "\n",
      "The values returned from the Matlab simulation:\n",
      "[array(-0.046434), array(-0.14458), array(-0.021475), array(-0.3895), array(-1.2004)]\n"
     ]
    }
   ],
   "source": [
    "if pick_model == 'mixed' or pick_model == 'all':\n",
    "    # Call to RunModel - Here we run the model while instantiating the RunModel object. \n",
    "    # Notice that we do not specify var_names. This will default to two variables with names x0 and x1. In this \n",
    "    # case, x0 is a scalar and x1 is a 3x3 matrix. We will read the matrix in without indexing in the \n",
    "    # input_template.\n",
    "    t = time.time()\n",
    "    m = RunModel(samples=x_mixed, ntasks=2, model_script='matlab_model_det.py', \n",
    "                 input_template='prod_determinant.m', model_object_name=\"matlab\", \n",
    "                 output_script='process_matlab_output.py', output_object_name='read_output', \n",
    "                 resume=False, model_dir='Matlab_Model')\n",
    "    t_ser_matlab = time.time() - t\n",
    "    print(\"\\nTime for serial execution:\")\n",
    "    print(t_ser_matlab)\n",
    "    print()\n",
    "    print(\"The values returned from the Matlab simulation:\")\n",
    "    print(m.qoi_list)\n",
    "    \n",
    "    # Notice that the solution changes slightly due to the increased precision by not specifying a fmt."
   ]
  },
  {
   "cell_type": "markdown",
   "metadata": {},
   "source": [
    "### 3.4 Pass samples as list, do not specify format in generated input file, parallel execution, index samples in input_template \n",
    "This examples uses the following files:\n",
    "- model_script = matlab_model_det_index.py\n",
    "- input_template = prod_determinant_index.m\n",
    "- output_script = process_matlab_output.py"
   ]
  },
  {
   "cell_type": "code",
   "execution_count": 14,
   "metadata": {},
   "outputs": [
    {
     "name": "stdout",
     "output_type": "stream",
     "text": [
      "\n",
      "Time for serial execution:\n",
      "15.64188814163208\n",
      "\n",
      "The values returned from the Matlab simulation:\n",
      "[array(-0.046434), array(-0.14458), array(-0.021475), array(-0.3895), array(-1.2004)]\n"
     ]
    }
   ],
   "source": [
    "if pick_model == 'mixed' or pick_model == 'all':\n",
    "    # Call to RunModel - Here we run the model while instantiating the RunModel object. \n",
    "    # Notice that we do not specify var_names. This will default to two variables with names x0 and x1. In this \n",
    "    # case, x0 is a scalar and x1 is a 3x3 matrix. We will read the matrix in with indexing in the \n",
    "    # input_template.\n",
    "    t = time.time()\n",
    "    m = RunModel(samples=x_mixed, ntasks=2, model_script='matlab_model_det_index.py', \n",
    "                 input_template='prod_determinant_index.m', model_object_name=\"matlab\", \n",
    "                 output_script='process_matlab_output.py', output_object_name='read_output', \n",
    "                 resume=False, model_dir='Matlab_Model')\n",
    "    t_ser_matlab = time.time() - t\n",
    "    print(\"\\nTime for serial execution:\")\n",
    "    print(t_ser_matlab)\n",
    "    print()\n",
    "    print(\"The values returned from the Matlab simulation:\")\n",
    "    print(m.qoi_list)\n",
    "    \n",
    "    # Notice that the solution changes slightly due to the increased precision by not specifying a fmt."
   ]
  },
  {
   "cell_type": "markdown",
   "metadata": {},
   "source": [
    "### 3.5 Pass samples as ndarray, specify format in generated input file, serial execution, partially index samples in input_template \n",
    "This examples uses the following files:\n",
    "- model_script = matlab_model_det_partial.py\n",
    "- input_template = prod_determinant_partial.m\n",
    "- output_script = process_matlab_output.py"
   ]
  },
  {
   "cell_type": "code",
   "execution_count": 15,
   "metadata": {},
   "outputs": [
    {
     "name": "stdout",
     "output_type": "stream",
     "text": [
      "\n",
      "Time for serial execution:\n",
      "25.522992849349976\n",
      "\n",
      "The values returned from the Python simulation:\n",
      "[array(-0.04647), array(-0.14456), array(-0.021495), array(-0.38955), array(-1.2004)]\n"
     ]
    }
   ],
   "source": [
    "if pick_model == 'mixed' or pick_model == 'all':\n",
    "    # Call to RunModel - Here we run the model while instantiating the RunModel object. \n",
    "    # Notice that we do not specify var_names. This will default to two variables with names x0 and x1. In this \n",
    "    # case, x0 is a scalar and x1 is a 3x3 matrix. We will read the matrix in with indexing in the \n",
    "    # input_template.\n",
    "    t = time.time()\n",
    "    m = RunModel(samples=x_mixed_array, ntasks=1, model_script='matlab_model_det_partial.py', \n",
    "                 input_template='prod_determinant_partial.m', model_object_name=\"matlab\", \n",
    "                 output_script='process_matlab_output.py', output_object_name='read_output', \n",
    "                 resume=False, model_dir='Matlab_Model', fmt=\"{:>10.4f}\")\n",
    "    t_ser_matlab = time.time() - t\n",
    "    print(\"\\nTime for serial execution:\")\n",
    "    print(t_ser_matlab)\n",
    "    print()\n",
    "    print(\"The values returned from the Python simulation:\")\n",
    "    print(m.qoi_list)"
   ]
  },
  {
   "cell_type": "code",
   "execution_count": null,
   "metadata": {},
   "outputs": [],
   "source": []
  }
 ],
 "metadata": {
  "kernelspec": {
   "display_name": "Python 3",
   "language": "python",
   "name": "python3"
  },
  "language_info": {
   "codemirror_mode": {
    "name": "ipython",
    "version": 3
   },
   "file_extension": ".py",
   "mimetype": "text/x-python",
   "name": "python",
   "nbconvert_exporter": "python",
   "pygments_lexer": "ipython3",
   "version": "3.6.2"
  },
  "pycharm": {
   "stem_cell": {
    "cell_type": "raw",
    "source": [],
    "metadata": {
     "collapsed": false
    }
   }
  }
 },
 "nbformat": 4,
 "nbformat_minor": 2
}