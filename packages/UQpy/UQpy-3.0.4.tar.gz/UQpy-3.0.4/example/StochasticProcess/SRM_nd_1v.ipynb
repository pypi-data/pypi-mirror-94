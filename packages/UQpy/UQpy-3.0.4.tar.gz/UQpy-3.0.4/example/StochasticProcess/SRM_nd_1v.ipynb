{
 "cells": [
  {
   "cell_type": "markdown",
   "metadata": {},
   "source": [
    "# Spectral Representation Method\n",
    "Author: Lohit Vandanapu\n",
    "Date: August 19, 2018\n",
    "Last Modified: May 09, 2019"
   ]
  },
  {
   "cell_type": "markdown",
   "metadata": {},
   "source": [
    "In this example, the Spectral Representation Method is used to generate stochastic processes from a prescribed Power Spectrum. This example illustrates how to use the SRM class for 'n' dimensional and one variable case and compare the statistics of the generated stochastic processes with the expected values."
   ]
  },
  {
   "cell_type": "markdown",
   "metadata": {},
   "source": [
    "Import the necessary libraries. Here we import standard libraries such as numpy and matplotlib, but also need to import the SRM class from the StochasticProcesses module of UQpy."
   ]
  },
  {
   "cell_type": "code",
   "execution_count": 1,
   "metadata": {},
   "outputs": [],
   "source": [
    "from UQpy.StochasticProcess import SRM\n",
    "import numpy as np\n",
    "import matplotlib.pyplot as plt\n",
    "from pylab import *\n",
    "plt.style.use('seaborn')"
   ]
  },
  {
   "cell_type": "markdown",
   "metadata": {},
   "source": [
    "The input parameters necessary for the generatino of the stochastic processes are given below:"
   ]
  },
  {
   "cell_type": "code",
   "execution_count": 2,
   "metadata": {},
   "outputs": [],
   "source": [
    "n_sim = 10 # Num of samples\n",
    "\n",
    "n = 2 # Num of dimensions\n",
    "\n",
    "m = 1 # Num of variables\n",
    "\n",
    "T = 10\n",
    "nt = 200\n",
    "dt = T/nt\n",
    "t = np.linspace(0, T-dt, nt)\n",
    "\n",
    "# Frequency\n",
    "W = np.array([1.0, 1.5])\n",
    "nw = 100\n",
    "dw = W / nw\n",
    "x_list = [np.linspace(0, W[i] - dw[i], nw) for i in range(n)]\n",
    "xy_list = np.array(np.meshgrid(*x_list, indexing='ij'))"
   ]
  },
  {
   "cell_type": "markdown",
   "metadata": {},
   "source": [
    "Defining the Power Spectral Density(S)"
   ]
  },
  {
   "cell_type": "code",
   "execution_count": 3,
   "metadata": {},
   "outputs": [],
   "source": [
    "S = 125 / 4 * np.linalg.norm(xy_list, axis=0) ** 2 * np.exp(-5 * np.linalg.norm(xy_list, axis=0))"
   ]
  },
  {
   "cell_type": "markdown",
   "metadata": {},
   "source": [
    "Make sure that the input parameters are in order to prevent aliasing"
   ]
  },
  {
   "cell_type": "code",
   "execution_count": 4,
   "metadata": {},
   "outputs": [],
   "source": [
    "t_u = 2*np.pi/2/W\n",
    "\n",
    "if dt>t_u.all():\n",
    "    print('Error')"
   ]
  },
  {
   "cell_type": "code",
   "execution_count": 5,
   "metadata": {},
   "outputs": [
    {
     "ename": "TypeError",
     "evalue": "len() of unsized object",
     "output_type": "error",
     "traceback": [
      "\u001B[0;31m---------------------------------------------------------------------------\u001B[0m",
      "\u001B[0;31mTypeError\u001B[0m                                 Traceback (most recent call last)",
      "\u001B[0;32m<ipython-input-5-94d3f6a2e3ef>\u001B[0m in \u001B[0;36m<module>\u001B[0;34m\u001B[0m\n\u001B[0;32m----> 1\u001B[0;31m \u001B[0mSRM_object\u001B[0m \u001B[0;34m=\u001B[0m \u001B[0mSRM\u001B[0m\u001B[0;34m(\u001B[0m\u001B[0mn_sim\u001B[0m\u001B[0;34m,\u001B[0m \u001B[0mS\u001B[0m\u001B[0;34m,\u001B[0m \u001B[0;34m[\u001B[0m\u001B[0mdt\u001B[0m\u001B[0;34m,\u001B[0m \u001B[0mdt\u001B[0m\u001B[0;34m]\u001B[0m\u001B[0;34m,\u001B[0m \u001B[0mdw\u001B[0m\u001B[0;34m,\u001B[0m \u001B[0;34m[\u001B[0m\u001B[0mnt\u001B[0m\u001B[0;34m,\u001B[0m \u001B[0mnt\u001B[0m\u001B[0;34m]\u001B[0m\u001B[0;34m,\u001B[0m \u001B[0mnw\u001B[0m\u001B[0;34m,\u001B[0m \u001B[0mverbose\u001B[0m\u001B[0;34m=\u001B[0m\u001B[0;32mTrue\u001B[0m\u001B[0;34m)\u001B[0m\u001B[0;34m\u001B[0m\u001B[0;34m\u001B[0m\u001B[0m\n\u001B[0m\u001B[1;32m      2\u001B[0m \u001B[0msamples\u001B[0m \u001B[0;34m=\u001B[0m \u001B[0mSRM_object\u001B[0m\u001B[0;34m.\u001B[0m\u001B[0msamples\u001B[0m\u001B[0;34m\u001B[0m\u001B[0;34m\u001B[0m\u001B[0m\n\u001B[1;32m      3\u001B[0m \u001B[0;34m\u001B[0m\u001B[0m\n",
      "\u001B[0;32m~/Documents/GitHub/UQpy/src/UQpy/StochasticProcess.py\u001B[0m in \u001B[0;36m__init__\u001B[0;34m(self, nsamples, power_spectrum, time_interval, frequency_interval, number_time_intervals, number_frequency_intervals, random_state, verbose)\u001B[0m\n\u001B[1;32m    130\u001B[0m         \u001B[0mself\u001B[0m\u001B[0;34m.\u001B[0m\u001B[0msamples\u001B[0m \u001B[0;34m=\u001B[0m \u001B[0;32mNone\u001B[0m\u001B[0;34m\u001B[0m\u001B[0;34m\u001B[0m\u001B[0m\n\u001B[1;32m    131\u001B[0m         \u001B[0mself\u001B[0m\u001B[0;34m.\u001B[0m\u001B[0mnumber_of_variables\u001B[0m \u001B[0;34m=\u001B[0m \u001B[0;32mNone\u001B[0m\u001B[0;34m\u001B[0m\u001B[0;34m\u001B[0m\u001B[0m\n\u001B[0;32m--> 132\u001B[0;31m         \u001B[0mself\u001B[0m\u001B[0;34m.\u001B[0m\u001B[0mnumber_of_dimensions\u001B[0m \u001B[0;34m=\u001B[0m \u001B[0mlen\u001B[0m\u001B[0;34m(\u001B[0m\u001B[0mself\u001B[0m\u001B[0;34m.\u001B[0m\u001B[0mnumber_frequency_intervals\u001B[0m\u001B[0;34m)\u001B[0m\u001B[0;34m\u001B[0m\u001B[0;34m\u001B[0m\u001B[0m\n\u001B[0m\u001B[1;32m    133\u001B[0m         \u001B[0mself\u001B[0m\u001B[0;34m.\u001B[0m\u001B[0mphi\u001B[0m \u001B[0;34m=\u001B[0m \u001B[0;32mNone\u001B[0m\u001B[0;34m\u001B[0m\u001B[0;34m\u001B[0m\u001B[0m\n\u001B[1;32m    134\u001B[0m \u001B[0;34m\u001B[0m\u001B[0m\n",
      "\u001B[0;31mTypeError\u001B[0m: len() of unsized object"
     ]
    }
   ],
   "source": [
    "SRM_object = SRM(n_sim, S, [dt, dt], dw, [nt, nt], nw, verbose=True)\n",
    "samples = SRM_object.samples"
   ]
  },
  {
   "cell_type": "code",
   "execution_count": null,
   "metadata": {},
   "outputs": [],
   "source": [
    "t_list = [t for _ in range(n)]\n",
    "tt_list = np.array(np.meshgrid(*t_list, indexing='ij'))\n",
    "\n",
    "fig1 = plt.figure()\n",
    "plt.title('2d random field with a prescribed Power Spectrum')\n",
    "pcm = pcolor(tt_list[0], tt_list[1], samples[0, 0], cmap='RdBu_r', vmin=-6, vmax=6)\n",
    "plt.colorbar(pcm, extend='both', orientation='vertical')\n",
    "plt.xlabel('$X_{1}$')\n",
    "plt.ylabel('$X_{2}$')\n",
    "plt.show()"
   ]
  },
  {
   "cell_type": "code",
   "execution_count": null,
   "metadata": {},
   "outputs": [],
   "source": [
    "print('The mean of the samples is ', np.mean(samples), 'whereas the expected mean is 0.000')\n",
    "print('The variance of the samples is ', np.var(samples), 'whereas the expected variance is ', np.sum(S)*np.prod(dw)*(2**n))"
   ]
  },
  {
   "cell_type": "code",
   "execution_count": null,
   "metadata": {},
   "outputs": [],
   "source": []
  }
 ],
 "metadata": {
  "kernelspec": {
   "display_name": "Python 3",
   "language": "python",
   "name": "python3"
  },
  "language_info": {
   "codemirror_mode": {
    "name": "ipython",
    "version": 3
   },
   "file_extension": ".py",
   "mimetype": "text/x-python",
   "name": "python",
   "nbconvert_exporter": "python",
   "pygments_lexer": "ipython3",
   "version": "3.6.5"
  }
 },
 "nbformat": 4,
 "nbformat_minor": 2
}