{
 "cells": [
  {
   "cell_type": "markdown",
   "metadata": {},
   "source": [
    "# Grassmann Manifold\n",
    "\n",
    "Author: Ketson R. M. dos Santos,  \n",
    "Date: June 3rd, 2020   \n",
    "\n",
    "This example shows how to use the UQpy Grassmann class to\n",
    "* perform interpolation on the Grassmann manifold;"
   ]
  },
  {
   "cell_type": "markdown",
   "metadata": {},
   "source": [
    "Import the necessary libraries. Here we import standard libraries such as numpy and matplotlib, but also need to import the Grassmann class from UQpy implemented in the DimensionReduction module."
   ]
  },
  {
   "cell_type": "code",
   "execution_count": 1,
   "metadata": {},
   "outputs": [],
   "source": [
    "import numpy as np\n",
    "import matplotlib\n",
    "import matplotlib.pyplot as plt\n",
    "from mpl_toolkits.axes_grid1 import make_axes_locatable\n",
    "\n",
    "from UQpy.DimensionReduction import Grassmann"
   ]
  },
  {
   "cell_type": "markdown",
   "metadata": {},
   "source": [
    "Generate the initial samples located at the vertices of a triangle. The coordinates of each vertix are stored in `nodes` and `point` contain the point to be interpolated on the tangent space."
   ]
  },
  {
   "cell_type": "code",
   "execution_count": 2,
   "metadata": {},
   "outputs": [
    {
     "data": {
      "image/png": "[encoded data removed]",
      "text/plain": [
       "<Figure size 432x288 with 1 Axes>"
      ]
     },
     "metadata": {
      "needs_background": "light"
     },
     "output_type": "display_data"
    }
   ],
   "source": [
    "nodes = np.array([[0, 0], [1, 0], [1, 1], [0, 1]]) # node_0, node_1, node_2.\n",
    "point = np.array([0.1, 0.1]) # Point to interpolate.\n",
    "\n",
    "plot_ = nodes[0:]\n",
    "Xplot = plot_.T[0].tolist()\n",
    "Xplot.append(plot_[0][0])\n",
    "Yplot = plot_.T[1].tolist()\n",
    "Yplot.append(plot_[0][1])\n",
    "plt.plot(Xplot,Yplot)\n",
    "plt.plot(nodes[0][0],nodes[0][1],'ro')\n",
    "plt.plot(nodes[1][0],nodes[1][1],'ro')\n",
    "plt.plot(nodes[2][0],nodes[2][1],'ro')\n",
    "plt.plot(nodes[3][0],nodes[3][1],'ro')\n",
    "plt.plot(point[0],point[1],'bo')\n",
    "\n",
    "dt = 0.015\n",
    "plt.text(nodes[0][0]+dt,nodes[0][1]+dt,'0')\n",
    "plt.text(nodes[1][0]+dt,nodes[1][1]+dt,'1')\n",
    "plt.text(nodes[2][0]+dt,nodes[2][1]+dt,'2')\n",
    "plt.text(nodes[3][0]+dt,nodes[3][1]+dt,'2')\n",
    "plt.text(point[0]+dt,point[1]+dt,'point')\n",
    "plt.show()\n",
    "plt.close()\n"
   ]
  },
  {
   "cell_type": "markdown",
   "metadata": {},
   "source": [
    "Generate three random matrices with reduced rank corresponding to the different samples. The samples are stored in `Solutions`."
   ]
  },
  {
   "cell_type": "code",
   "execution_count": 3,
   "metadata": {},
   "outputs": [
    {
     "data": {
      "image/png": "[encoded data removed]",
      "text/plain": [
       "<Figure size 432x288 with 4 Axes>"
      ]
     },
     "metadata": {
      "needs_background": "light"
     },
     "output_type": "display_data"
    }
   ],
   "source": [
    "D1 = 6 \n",
    "r0 = 2  # rank sample 0\n",
    "r1 = 3  # rank sample 1\n",
    "r2 = 4  # rank sample 2\n",
    "r3 = 3  # rank sample 2\n",
    "\n",
    "np.random.seed(1111) # For reproducibility.\n",
    "# Solutions: original space.\n",
    "Sol0 = np.dot(np.random.rand(D1, r0),np.random.rand(r0, D1))\n",
    "Sol1 = np.dot(np.random.rand(D1, r1),np.random.rand(r1, D1))\n",
    "Sol2 = np.dot(np.random.rand(D1, r2),np.random.rand(r2, D1))\n",
    "Sol3 = np.dot(np.random.rand(D1, r3),np.random.rand(r3, D1))\n",
    "\n",
    "# Creating a list of solutions.\n",
    "Solutions = [Sol0, Sol1, Sol2, Sol3]\n",
    "\n",
    "# Plot the solutions\n",
    "fig, (ax1, ax2, ax3, ax4) = plt.subplots(1, 4)\n",
    "ax1.title.set_text('Solution 0')\n",
    "ax1.imshow(Sol0)\n",
    "ax2.title.set_text('Solution 1')\n",
    "ax2.imshow(Sol1)\n",
    "ax3.title.set_text('Solution 2')\n",
    "ax3.imshow(Sol2)\n",
    "ax4.title.set_text('Solution 3')\n",
    "ax4.imshow(Sol3)\n",
    "plt.show()"
   ]
  },
  {
   "cell_type": "markdown",
   "metadata": {},
   "source": [
    "Firs, let's perform the interpolation step-by-step using an object of the ``UQpy.Kriging`` class to interpolate. Further, instatiate the ``UQpy`` class ``Grassmann`` considering the `grassmann_distance` for the distance, `gradient_descent` to estimate the Karcher mean."
   ]
  },
  {
   "cell_type": "code",
   "execution_count": 4,
   "metadata": {},
   "outputs": [],
   "source": [
    "from user_interp import my_interp\n",
    "\n",
    "Gr = Grassmann(distance_method=Grassmann.grassmann_distance, interp_object=my_interp, \n",
    "               karcher_method=Grassmann.gradient_descent)\n",
    "\n",
    "Gr.manifold(p=\"max\", samples=Solutions)"
   ]
  },
  {
   "cell_type": "markdown",
   "metadata": {},
   "source": [
    "The interpolation implemented in the method `interpolate` is employed herein. In this case, the interpolation is performed considering the full matrices (not elementwise), thus, one can consider that `element_wise = False`."
   ]
  },
  {
   "cell_type": "code",
   "execution_count": 5,
   "metadata": {},
   "outputs": [
    {
     "data": {
      "image/png": "[encoded data removed]",
      "text/plain": [
       "<Figure size 432x288 with 5 Axes>"
      ]
     },
     "metadata": {
      "needs_background": "light"
     },
     "output_type": "display_data"
    }
   ],
   "source": [
    "\n",
    "X = Gr.interpolate(coordinates=nodes, point=point, element_wise=False)\n",
    "\n",
    "# Plot the solutions\n",
    "fig, (ax1, ax2, ax3, ax4, ax5) = plt.subplots(1, 5)\n",
    "ax1.title.set_text('Solution 0')\n",
    "ax1.imshow(Sol0)\n",
    "ax2.title.set_text('Solution 1')\n",
    "ax2.imshow(Sol1)\n",
    "ax3.title.set_text('Solution 2')\n",
    "ax3.imshow(Sol2)\n",
    "ax4.title.set_text('Solution 3')\n",
    "ax4.imshow(Sol3)\n",
    "ax5.title.set_text('Interpolated')\n",
    "ax5.imshow(X)\n",
    "plt.show()"
   ]
  },
  {
   "cell_type": "markdown",
   "metadata": {},
   "source": [
    "Now, let's use an object of sklearn.gaussiann_process. (To run this example, you have to install the scikit learn toolbox in advance.)"
   ]
  },
  {
   "cell_type": "code",
   "execution_count": 6,
   "metadata": {},
   "outputs": [],
   "source": [
    "from sklearn.gaussian_process import GaussianProcessRegressor\n",
    "gp = GaussianProcessRegressor()\n",
    "\n",
    "# Instantiate the method again with: interp_object=gp.\n",
    "Gr = Grassmann(distance_method=Grassmann.grassmann_distance, interp_object=gp, karcher_method=Grassmann.gradient_descent)\n",
    "\n",
    "Gr.manifold(p='max', samples=Solutions)\n",
    "X = Gr.interpolate(coordinates=nodes, point=[point], element_wise=True)"
   ]
  },
  {
   "cell_type": "markdown",
   "metadata": {},
   "source": [
    "Plot the solution."
   ]
  },
  {
   "cell_type": "code",
   "execution_count": 7,
   "metadata": {},
   "outputs": [
    {
     "data": {
      "image/png": "[encoded data removed]",
      "text/plain": [
       "<Figure size 432x288 with 5 Axes>"
      ]
     },
     "metadata": {
      "needs_background": "light"
     },
     "output_type": "display_data"
    }
   ],
   "source": [
    "\n",
    "# Plot the solutions\n",
    "fig, (ax1, ax2, ax3, ax4, ax5) = plt.subplots(1, 5)\n",
    "ax1.title.set_text('Solution 0')\n",
    "ax1.imshow(Sol0)\n",
    "ax2.title.set_text('Solution 1')\n",
    "ax2.imshow(Sol1)\n",
    "ax3.title.set_text('Solution 2')\n",
    "ax3.imshow(Sol2)\n",
    "ax4.title.set_text('Solution 3')\n",
    "ax4.imshow(Sol3)\n",
    "ax5.title.set_text('Interpolated')\n",
    "ax5.imshow(X)\n",
    "plt.show()"
   ]
  },
  {
   "cell_type": "code",
   "execution_count": null,
   "metadata": {},
   "outputs": [],
   "source": []
  }
 ],
 "metadata": {
  "kernelspec": {
   "display_name": "Python 3",
   "language": "python",
   "name": "python3"
  },
  "language_info": {
   "codemirror_mode": {
    "name": "ipython",
    "version": 3
   },
   "file_extension": ".py",
   "mimetype": "text/x-python",
   "name": "python",
   "nbconvert_exporter": "python",
   "pygments_lexer": "ipython3",
   "version": "3.7.4"
  }
 },
 "nbformat": 4,
 "nbformat_minor": 2
}
