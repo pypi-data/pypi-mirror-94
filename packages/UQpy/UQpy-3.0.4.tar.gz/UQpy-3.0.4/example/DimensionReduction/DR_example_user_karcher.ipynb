{
 "cells": [
  {
   "cell_type": "markdown",
   "metadata": {},
   "source": [
    "# Grassmann Manifold\n",
    "\n",
    "Author: Ketson R. M. dos Santos,  \n",
    "Date: June 3rd, 2020   \n",
    "\n",
    "This example shows how to use the UQpy Grassmann class to\n",
    "* use the logarithimic map;\n",
    "* use the exponential map;\n",
    "* compute the Karcher mean."
   ]
  },
  {
   "cell_type": "markdown",
   "metadata": {},
   "source": [
    "Import the necessary libraries. Here we import standard libraries such as numpy and matplotlib, but also need to import the Grassmann class from UQpy implemented in the DimensionReduction module."
   ]
  },
  {
   "cell_type": "code",
   "execution_count": 1,
   "metadata": {},
   "outputs": [],
   "source": [
    "import numpy as np\n",
    "import matplotlib\n",
    "import matplotlib.pyplot as plt\n",
    "from mpl_toolkits.axes_grid1 import make_axes_locatable\n",
    "\n",
    "from UQpy.DimensionReduction import Grassmann"
   ]
  },
  {
   "cell_type": "markdown",
   "metadata": {},
   "source": [
    "Generate four random matrices with reduced rank corresponding to the different samples. The samples are stored in `matrices`."
   ]
  },
  {
   "cell_type": "code",
   "execution_count": 2,
   "metadata": {},
   "outputs": [
    {
     "data": {
      "image/png": "[encoded data removed]",
      "text/plain": [
       "<Figure size 432x288 with 4 Axes>"
      ]
     },
     "metadata": {
      "needs_background": "light"
     },
     "output_type": "display_data"
    }
   ],
   "source": [
    "D1 = 6 \n",
    "r0 = 2  # rank sample 0\n",
    "r1 = 3  # rank sample 1\n",
    "r2 = 4  # rank sample 2\n",
    "r3 = 3  # rank sample 2\n",
    "\n",
    "np.random.seed(1111) # For reproducibility.\n",
    "# Solutions: original space.\n",
    "Sol0 = np.dot(np.random.rand(D1, r0),np.random.rand(r0, D1))\n",
    "Sol1 = np.dot(np.random.rand(D1, r1),np.random.rand(r1, D1))\n",
    "Sol2 = np.dot(np.random.rand(D1, r2),np.random.rand(r2, D1))\n",
    "Sol3 = np.dot(np.random.rand(D1, r3),np.random.rand(r3, D1))\n",
    "\n",
    "# Creating a list of matrices.\n",
    "matrices = [Sol0, Sol1, Sol2, Sol3]\n",
    "\n",
    "# Plot the matrices\n",
    "fig, (ax1, ax2, ax3, ax4) = plt.subplots(1, 4)\n",
    "ax1.title.set_text('Matrix 0')\n",
    "ax1.imshow(Sol0)\n",
    "ax2.title.set_text('Matrix 1')\n",
    "ax2.imshow(Sol1)\n",
    "ax3.title.set_text('Matrix 2')\n",
    "ax3.imshow(Sol2)\n",
    "ax4.title.set_text('Matrix 3')\n",
    "ax4.imshow(Sol3)\n",
    "plt.show()"
   ]
  },
  {
   "cell_type": "markdown",
   "metadata": {},
   "source": [
    "Instatiate the UQpy class Grassmann using an user defined optimizer to compute the Karcher mean. Further, distance is also given by an user defined function."
   ]
  },
  {
   "cell_type": "code",
   "execution_count": 3,
   "metadata": {},
   "outputs": [
    {
     "data": {
      "image/png": "[encoded data removed]",
      "text/plain": [
       "<Figure size 432x288 with 4 Axes>"
      ]
     },
     "metadata": {
      "needs_background": "light"
     },
     "output_type": "display_data"
    }
   ],
   "source": [
    "from user_karcher import my_karcher\n",
    "from user_distance import my_distance\n",
    "\n",
    "Gr = Grassmann(distance_method=my_distance, karcher_method=my_karcher)\n",
    "Gr.manifold(p=\"max\", samples=matrices)\n",
    "\n",
    "# Plot the points on the Grassmann manifold defined by the left singular eigenvectors.\n",
    "fig, (ax1, ax2, ax3, ax4) = plt.subplots(1, 4)\n",
    "ax1.title.set_text('Matrix 0')\n",
    "ax1.imshow(Gr.psi[0])\n",
    "ax2.title.set_text('Matrix 1')\n",
    "ax2.imshow(Gr.psi[0])\n",
    "ax3.title.set_text('Matrix 2')\n",
    "ax3.imshow(Gr.psi[0])\n",
    "ax4.title.set_text('Matrix 3')\n",
    "ax4.imshow(Gr.psi[0])\n",
    "plt.show()"
   ]
  },
  {
   "cell_type": "markdown",
   "metadata": {},
   "source": [
    "Compute the Karcher mean."
   ]
  },
  {
   "cell_type": "code",
   "execution_count": 4,
   "metadata": {},
   "outputs": [],
   "source": [
    "karcher_psi, karcher_phi = Gr.karcher_mean(acc=True,tol=1e-4,maxiter=1000)"
   ]
  },
  {
   "cell_type": "markdown",
   "metadata": {},
   "source": [
    "Project $\\Psi$, the left singular eigenvectors, on the tangent space centered at the Karcher mean."
   ]
  },
  {
   "cell_type": "code",
   "execution_count": 5,
   "metadata": {},
   "outputs": [
    {
     "name": "stdout",
     "output_type": "stream",
     "text": [
      "[[-0.01659553 -0.02387997 -0.19211797 -0.01904841]\n",
      " [-0.04531518 -0.07435146 -0.29605845 -0.02841521]\n",
      " [ 0.10001912  0.16859745  0.54126434  0.05113299]\n",
      " [ 0.01903378  0.02872829  0.18686488  0.01839002]\n",
      " [-0.04042422 -0.05503526 -0.5462533  -0.05448235]\n",
      " [ 0.02254679  0.01826114  0.61540446  0.06247296]]\n",
      "[[-0.02223007  0.00934057  0.05648855  0.07049281]\n",
      " [-0.06499865  0.1491261   0.11937278  0.17119352]\n",
      " [ 0.14557422 -0.38983799 -0.24635816 -0.36740361]\n",
      " [ 0.02612581 -0.02882315 -0.05967917 -0.07773058]\n",
      " [-0.05267689 -0.01959356  0.1495432   0.17900332]\n",
      " [ 0.02353695  0.17901252 -0.13082417 -0.12878973]]\n",
      "[[ 0.01392731 -0.06660491  0.07111112 -0.04767334]\n",
      " [ 0.03511683 -0.07385165  0.25910896 -0.01659404]\n",
      " [-0.07607957  0.10997599 -0.60378053 -0.01913369]\n",
      " [-0.01554685  0.06056632 -0.09107183  0.03803821]\n",
      " [ 0.03492254 -0.19924044  0.15097276 -0.15503181]\n",
      " [-0.0234384   0.25799561  0.00408504  0.24090289]]\n",
      "[[ 0.02429558  0.07945772  0.06476012 -0.00360024]\n",
      " [ 0.07503444 -0.00282434 -0.07753527 -0.1257226 ]\n",
      " [-0.16988309  0.11413374  0.29601007  0.33438764]\n",
      " [-0.02913876 -0.05893321 -0.03701058  0.02110713]\n",
      " [ 0.05620239  0.26883476  0.24487818  0.03092857]\n",
      " [-0.01952647 -0.44878473 -0.48243781 -0.17482558]]\n"
     ]
    },
    {
     "data": {
      "image/png": "[encoded data removed]",
      "text/plain": [
       "<Figure size 432x288 with 4 Axes>"
      ]
     },
     "metadata": {
      "needs_background": "light"
     },
     "output_type": "display_data"
    }
   ],
   "source": [
    "points_tangent = Gr.log_map(points_grassmann=Gr.psi, ref=karcher_psi)\n",
    "\n",
    "print(points_tangent[0])\n",
    "print(points_tangent[1])\n",
    "print(points_tangent[2])\n",
    "print(points_tangent[3])\n",
    "\n",
    "# Plot the matrices\n",
    "fig, (ax1, ax2, ax3, ax4) = plt.subplots(1, 4)\n",
    "ax1.title.set_text('Matrix 0')\n",
    "ax1.imshow(points_tangent[0])\n",
    "ax2.title.set_text('Matrix 1')\n",
    "ax2.imshow(points_tangent[1])\n",
    "ax3.title.set_text('Matrix 2')\n",
    "ax3.imshow(points_tangent[2])\n",
    "ax4.title.set_text('Matrix 3')\n",
    "ax4.imshow(points_tangent[3])\n",
    "plt.show()"
   ]
  },
  {
   "cell_type": "markdown",
   "metadata": {},
   "source": [
    "Map the points back to the Grassmann manifold."
   ]
  },
  {
   "cell_type": "code",
   "execution_count": 6,
   "metadata": {},
   "outputs": [
    {
     "name": "stdout",
     "output_type": "stream",
     "text": [
      "[[-0.53672398  0.52339742  0.15593364  0.12064061]\n",
      " [-0.32950586 -0.56709791 -0.66554739  0.13354298]\n",
      " [-0.01816218  0.34764176 -0.32917361  0.28409   ]\n",
      " [-0.41929892  0.14740882 -0.21412096 -0.82665572]\n",
      " [-0.57716664 -0.42914348  0.54873865  0.18433266]\n",
      " [-0.30674172  0.27875943 -0.27823409  0.41178486]]\n",
      "[[-0.45993224  0.55136242  0.48289376  0.17163822]\n",
      " [-0.34324329 -0.38976345  0.44028731 -0.3001143 ]\n",
      " [ 0.01517623 -0.18965959 -0.42085423 -0.29239921]\n",
      " [-0.44892607  0.12678166 -0.17050182 -0.73033615]\n",
      " [-0.6044977  -0.53715014 -0.19654462  0.47787642]\n",
      " [-0.32165817  0.45112006 -0.5728366   0.18225713]]\n",
      "[[-0.4987886   0.44130203  0.61700447  0.21665902]\n",
      " [-0.27322543 -0.47477622  0.35554299 -0.25523852]\n",
      " [-0.18041733  0.23649208 -0.58443323 -0.0383741 ]\n",
      " [-0.472464    0.13552194 -0.15649095 -0.7801643 ]\n",
      " [-0.54276987 -0.60625146 -0.2485662   0.38728257]\n",
      " [-0.35522672  0.3714896  -0.25506449  0.35748492]]\n",
      "[[-0.461242    0.53659552 -0.36310465  0.00480467]\n",
      " [-0.20515806 -0.68784947 -0.46895    -0.19377998]\n",
      " [-0.29172516  0.33548255 -0.02053601  0.24277911]\n",
      " [-0.51286481  0.03583876  0.05889613 -0.71263836]\n",
      " [-0.50213998 -0.29125359 -0.12424912  0.62737199]\n",
      " [-0.38064097 -0.20066573  0.79304009  0.04511657]]\n"
     ]
    },
    {
     "data": {
      "image/png": "[encoded data removed]",
      "text/plain": [
       "<Figure size 432x288 with 4 Axes>"
      ]
     },
     "metadata": {
      "needs_background": "light"
     },
     "output_type": "display_data"
    }
   ],
   "source": [
    "points_grassmann = Gr.exp_map(points_tangent=points_tangent, ref=Gr.psi[0])\n",
    "\n",
    "print(points_grassmann[0])\n",
    "print(points_grassmann[1])\n",
    "print(points_grassmann[2])\n",
    "print(points_grassmann[3])\n",
    "\n",
    "# Plot the matrices\n",
    "fig, (ax1, ax2, ax3, ax4) = plt.subplots(1, 4)\n",
    "ax1.title.set_text('Matrix 0')\n",
    "ax1.imshow(points_grassmann[0])\n",
    "ax2.title.set_text('Matrix 1')\n",
    "ax2.imshow(points_grassmann[1])\n",
    "ax3.title.set_text('Matrix 2')\n",
    "ax3.imshow(points_grassmann[2])\n",
    "ax4.title.set_text('Matrix 3')\n",
    "ax4.imshow(points_grassmann[3])\n",
    "plt.show()"
   ]
  },
  {
   "cell_type": "code",
   "execution_count": null,
   "metadata": {},
   "outputs": [],
   "source": []
  }
 ],
 "metadata": {
  "kernelspec": {
   "display_name": "Python 3",
   "language": "python",
   "name": "python3"
  },
  "language_info": {
   "codemirror_mode": {
    "name": "ipython",
    "version": 3
   },
   "file_extension": ".py",
   "mimetype": "text/x-python",
   "name": "python",
   "nbconvert_exporter": "python",
   "pygments_lexer": "ipython3",
   "version": "3.7.4"
  }
 },
 "nbformat": 4,
 "nbformat_minor": 2
}
