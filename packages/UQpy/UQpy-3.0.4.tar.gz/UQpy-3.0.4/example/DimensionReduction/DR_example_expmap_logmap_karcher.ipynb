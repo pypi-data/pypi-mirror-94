{
 "cells": [
  {
   "cell_type": "markdown",
   "metadata": {},
   "source": [
    "# Grassmann Manifold\n",
    "\n",
    "Author: Ketson R. M. dos Santos,  \n",
    "Date: June 3rd, 2020   \n",
    "\n",
    "This example shows how to use the UQpy Grassmann class to\n",
    "* use the logarithimic map;\n",
    "* use the exponential map;\n",
    "* compute the Karcher mean."
   ]
  },
  {
   "cell_type": "markdown",
   "metadata": {},
   "source": [
    "Import the necessary libraries. Here we import standard libraries such as numpy and matplotlib, but also need to import the Grassmann class from UQpy implemented in the DimensionReduction module."
   ]
  },
  {
   "cell_type": "code",
   "execution_count": 1,
   "metadata": {},
   "outputs": [],
   "source": [
    "import numpy as np\n",
    "import matplotlib\n",
    "import matplotlib.pyplot as plt\n",
    "from mpl_toolkits.axes_grid1 import make_axes_locatable\n",
    "\n",
    "from UQpy.DimensionReduction import Grassmann"
   ]
  },
  {
   "cell_type": "markdown",
   "metadata": {},
   "source": [
    "Generate four random matrices with reduced rank corresponding to the different samples. The samples are stored in `matrices`."
   ]
  },
  {
   "cell_type": "code",
   "execution_count": 2,
   "metadata": {},
   "outputs": [
    {
     "data": {
      "image/png": "[encoded data removed]",
      "text/plain": [
       "<Figure size 432x288 with 4 Axes>"
      ]
     },
     "metadata": {
      "needs_background": "light"
     },
     "output_type": "display_data"
    }
   ],
   "source": [
    "D1 = 6 \n",
    "r0 = 2  # rank sample 0\n",
    "r1 = 3  # rank sample 1\n",
    "r2 = 4  # rank sample 2\n",
    "r3 = 3  # rank sample 2\n",
    "\n",
    "np.random.seed(1111) # For reproducibility.\n",
    "# Solutions: original space.\n",
    "Sol0 = np.dot(np.random.rand(D1, r0),np.random.rand(r0, D1))\n",
    "Sol1 = np.dot(np.random.rand(D1, r1),np.random.rand(r1, D1))\n",
    "Sol2 = np.dot(np.random.rand(D1, r2),np.random.rand(r2, D1))\n",
    "Sol3 = np.dot(np.random.rand(D1, r3),np.random.rand(r3, D1))\n",
    "\n",
    "# Creating a list of matrices.\n",
    "matrices = [Sol0, Sol1, Sol2, Sol3]\n",
    "\n",
    "# Plot the matrices\n",
    "fig, (ax1, ax2, ax3, ax4) = plt.subplots(1, 4)\n",
    "ax1.title.set_text('Matrix 0')\n",
    "ax1.imshow(Sol0)\n",
    "ax2.title.set_text('Matrix 1')\n",
    "ax2.imshow(Sol1)\n",
    "ax3.title.set_text('Matrix 2')\n",
    "ax3.imshow(Sol2)\n",
    "ax4.title.set_text('Matrix 3')\n",
    "ax4.imshow(Sol3)\n",
    "plt.show()"
   ]
  },
  {
   "cell_type": "markdown",
   "metadata": {},
   "source": [
    "Instatiate the UQpy class Grassmann."
   ]
  },
  {
   "cell_type": "code",
   "execution_count": 3,
   "metadata": {},
   "outputs": [
    {
     "data": {
      "image/png": "[encoded data removed]",
      "text/plain": [
       "<Figure size 432x288 with 4 Axes>"
      ]
     },
     "metadata": {
      "needs_background": "light"
     },
     "output_type": "display_data"
    }
   ],
   "source": [
    "Gr = Grassmann(distance_method=Grassmann.grassmann_distance, karcher_method=Grassmann.gradient_descent)\n",
    "Gr.manifold(p=\"max\", samples=matrices)\n",
    "\n",
    "# Plot the points on the Grassmann manifold defined by the left singular eigenvectors.\n",
    "fig, (ax1, ax2, ax3, ax4) = plt.subplots(1, 4)\n",
    "ax1.title.set_text('Matrix 0')\n",
    "ax1.imshow(Gr.psi[0])\n",
    "ax2.title.set_text('Matrix 1')\n",
    "ax2.imshow(Gr.psi[0])\n",
    "ax3.title.set_text('Matrix 2')\n",
    "ax3.imshow(Gr.psi[0])\n",
    "ax4.title.set_text('Matrix 3')\n",
    "ax4.imshow(Gr.psi[0])\n",
    "plt.show()"
   ]
  },
  {
   "cell_type": "markdown",
   "metadata": {},
   "source": [
    "Compute the Karcher mean."
   ]
  },
  {
   "cell_type": "code",
   "execution_count": 4,
   "metadata": {},
   "outputs": [],
   "source": [
    "karcher_psi, karcher_phi = Gr.karcher_mean(acc=True,tol=1e-4,maxiter=1000)"
   ]
  },
  {
   "cell_type": "markdown",
   "metadata": {},
   "source": [
    "Project $\\Psi$, the left singular eigenvectors, on the tangent space centered at the Karcher mean."
   ]
  },
  {
   "cell_type": "code",
   "execution_count": 5,
   "metadata": {},
   "outputs": [
    {
     "name": "stdout",
     "output_type": "stream",
     "text": [
      "[[-0.04612898 -0.06562554 -0.17814229  0.02471926]\n",
      " [-0.0924164  -0.13369071 -0.25943941  0.04619105]\n",
      " [ 0.18800665  0.27336748  0.46640048 -0.09186937]\n",
      " [ 0.04855945  0.06942134  0.17264726 -0.02551285]\n",
      " [-0.12239682 -0.17336692 -0.50618311  0.06673485]\n",
      " [ 0.11211339  0.15607763  0.58352627 -0.06522677]]\n",
      "[[-0.0083838   0.03924129  0.06440023  0.05596156]\n",
      " [-0.02632807  0.21197132  0.10606106  0.1161151 ]\n",
      " [ 0.05956432 -0.51522206 -0.20130167 -0.23873739]\n",
      " [ 0.01028096 -0.06167115 -0.06428744 -0.05952083]\n",
      " [-0.0189681   0.05827189  0.17877127  0.14711099]\n",
      " [ 0.0056506   0.11064808 -0.19199273 -0.12983146]]\n",
      "[[ 0.01640406 -0.06009973  0.07640708 -0.04880443]\n",
      " [ 0.06485314 -0.02192524  0.2570602  -0.05443597]\n",
      " [-0.1520832  -0.01742956 -0.58844791  0.08344123]\n",
      " [-0.02215284  0.04822892 -0.09631048  0.04475803]\n",
      " [ 0.03252764 -0.1933256   0.16698416 -0.14439694]\n",
      " [ 0.00955101  0.29821321 -0.02505574  0.18557354]]\n",
      "[[ 0.03811062  0.08646043  0.03732342 -0.03188738]\n",
      " [ 0.0538883  -0.0564068  -0.1036747  -0.10787768]\n",
      " [-0.0954773   0.25939143  0.32331546  0.24717165]\n",
      " [-0.03668852 -0.05595367 -0.01204179  0.04028499]\n",
      " [ 0.10884466  0.30835959  0.16038658 -0.06948303]\n",
      " [-0.12733014 -0.56488824 -0.36640288  0.00953379]]\n"
     ]
    },
    {
     "data": {
      "image/png": "[encoded data removed]",
      "text/plain": [
       "<Figure size 432x288 with 4 Axes>"
      ]
     },
     "metadata": {
      "needs_background": "light"
     },
     "output_type": "display_data"
    }
   ],
   "source": [
    "points_tangent = Gr.log_map(points_grassmann=Gr.psi, ref=karcher_psi)\n",
    "\n",
    "print(points_tangent[0])\n",
    "print(points_tangent[1])\n",
    "print(points_tangent[2])\n",
    "print(points_tangent[3])\n",
    "\n",
    "# Plot the matrices\n",
    "fig, (ax1, ax2, ax3, ax4) = plt.subplots(1, 4)\n",
    "ax1.title.set_text('Matrix 0')\n",
    "ax1.imshow(points_tangent[0])\n",
    "ax2.title.set_text('Matrix 1')\n",
    "ax2.imshow(points_tangent[1])\n",
    "ax3.title.set_text('Matrix 2')\n",
    "ax3.imshow(points_tangent[2])\n",
    "ax4.title.set_text('Matrix 3')\n",
    "ax4.imshow(points_tangent[3])\n",
    "plt.show()"
   ]
  },
  {
   "cell_type": "markdown",
   "metadata": {},
   "source": [
    "Map the points back to the Grassmann manifold."
   ]
  },
  {
   "cell_type": "code",
   "execution_count": 6,
   "metadata": {},
   "outputs": [
    {
     "name": "stdout",
     "output_type": "stream",
     "text": [
      "[[-0.58951499  0.46223043 -0.1008221   0.38893933]\n",
      " [-0.36792122 -0.54053601 -0.75036651  0.01330794]\n",
      " [ 0.06244788  0.39529402 -0.23704029  0.05529826]\n",
      " [-0.38583542  0.19842181  0.02404191 -0.8980617 ]\n",
      " [-0.57196042 -0.35845583  0.59185799  0.16681082]\n",
      " [-0.19286942  0.41236476 -0.14043867  0.10559607]]\n",
      "[[-0.48209687  0.56329821  0.45226359  0.1557116 ]\n",
      " [-0.30967891 -0.35757931  0.4707731  -0.29306512]\n",
      " [-0.06207253 -0.3630965  -0.36906753 -0.19814566]\n",
      " [-0.4496361   0.06990615 -0.17446649 -0.7424338 ]\n",
      " [-0.59072752 -0.51410372 -0.0780774   0.5266588 ]\n",
      " [-0.34160936  0.39217801 -0.6333126   0.14841692]]\n",
      "[[-0.51640056  0.42706313  0.61707572  0.23748222]\n",
      " [-0.25200439 -0.46519533  0.36725663 -0.27088087]\n",
      " [-0.2491483   0.13886854 -0.59606007  0.06515347]\n",
      " [-0.4782559   0.12155479 -0.17622589 -0.78669286]\n",
      " [-0.53228699 -0.61822289 -0.19110039  0.41654247]\n",
      " [-0.30933998  0.43005908 -0.24794677  0.27127015]]\n",
      "[[-0.48687702  0.47311151 -0.39733094  0.12523335]\n",
      " [-0.21464205 -0.66003921 -0.5840829  -0.05110961]\n",
      " [-0.22382308  0.47310146  0.0220309   0.09837054]\n",
      " [-0.50808105  0.01645373  0.06168881 -0.78857969]\n",
      " [-0.43453712 -0.12404576 -0.10214571  0.56438461]\n",
      " [-0.46884319 -0.31785321  0.69731677  0.17787562]]\n"
     ]
    },
    {
     "data": {
      "image/png": "[encoded data removed]",
      "text/plain": [
       "<Figure size 432x288 with 4 Axes>"
      ]
     },
     "metadata": {
      "needs_background": "light"
     },
     "output_type": "display_data"
    }
   ],
   "source": [
    "points_grassmann = Gr.exp_map(points_tangent=points_tangent, ref=Gr.psi[0])\n",
    "\n",
    "print(points_grassmann[0])\n",
    "print(points_grassmann[1])\n",
    "print(points_grassmann[2])\n",
    "print(points_grassmann[3])\n",
    "\n",
    "# Plot the matrices\n",
    "fig, (ax1, ax2, ax3, ax4) = plt.subplots(1, 4)\n",
    "ax1.title.set_text('Matrix 0')\n",
    "ax1.imshow(points_grassmann[0])\n",
    "ax2.title.set_text('Matrix 1')\n",
    "ax2.imshow(points_grassmann[1])\n",
    "ax3.title.set_text('Matrix 2')\n",
    "ax3.imshow(points_grassmann[2])\n",
    "ax4.title.set_text('Matrix 3')\n",
    "ax4.imshow(points_grassmann[3])\n",
    "plt.show()"
   ]
  },
  {
   "cell_type": "code",
   "execution_count": null,
   "metadata": {},
   "outputs": [],
   "source": []
  }
 ],
 "metadata": {
  "kernelspec": {
   "display_name": "Python 3",
   "language": "python",
   "name": "python3"
  },
  "language_info": {
   "codemirror_mode": {
    "name": "ipython",
    "version": 3
   },
   "file_extension": ".py",
   "mimetype": "text/x-python",
   "name": "python",
   "nbconvert_exporter": "python",
   "pygments_lexer": "ipython3",
   "version": "3.7.4"
  }
 },
 "nbformat": 4,
 "nbformat_minor": 2
}
