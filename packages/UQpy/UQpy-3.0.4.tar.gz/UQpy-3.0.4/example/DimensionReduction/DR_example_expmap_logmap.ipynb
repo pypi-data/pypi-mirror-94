{
 "cells": [
  {
   "cell_type": "markdown",
   "metadata": {},
   "source": [
    "# Grassmann Manifold\n",
    "\n",
    "Author: Ketson R. M. dos Santos,  \n",
    "Date: June 3rd, 2020   \n",
    "\n",
    "This example shows how to use the UQpy Grassmann class to\n",
    "* use the logarithimic map;\n",
    "* use the exponential map;"
   ]
  },
  {
   "cell_type": "markdown",
   "metadata": {},
   "source": [
    "Import the necessary libraries. Here we import standard libraries such as numpy and matplotlib, but also need to import the Grassmann class from UQpy implemented in the DimensionReduction module."
   ]
  },
  {
   "cell_type": "code",
   "execution_count": 1,
   "metadata": {},
   "outputs": [],
   "source": [
    "import numpy as np\n",
    "import matplotlib\n",
    "import matplotlib.pyplot as plt\n",
    "from mpl_toolkits.axes_grid1 import make_axes_locatable\n",
    "\n",
    "from UQpy.DimensionReduction import Grassmann"
   ]
  },
  {
   "cell_type": "markdown",
   "metadata": {},
   "source": [
    "Generate four random matrices with reduced rank corresponding to the different samples. The samples are stored in `matrices`."
   ]
  },
  {
   "cell_type": "code",
   "execution_count": 2,
   "metadata": {},
   "outputs": [
    {
     "data": {
      "image/png": "[encoded data removed]",
      "text/plain": [
       "<Figure size 432x288 with 4 Axes>"
      ]
     },
     "metadata": {
      "needs_background": "light"
     },
     "output_type": "display_data"
    }
   ],
   "source": [
    "D1 = 6 \n",
    "r0 = 2  # rank sample 0\n",
    "r1 = 3  # rank sample 1\n",
    "r2 = 4  # rank sample 2\n",
    "r3 = 3  # rank sample 2\n",
    "\n",
    "np.random.seed(1111) # For reproducibility.\n",
    "# Solutions: original space.\n",
    "Sol0 = np.dot(np.random.rand(D1, r0),np.random.rand(r0, D1))\n",
    "Sol1 = np.dot(np.random.rand(D1, r1),np.random.rand(r1, D1))\n",
    "Sol2 = np.dot(np.random.rand(D1, r2),np.random.rand(r2, D1))\n",
    "Sol3 = np.dot(np.random.rand(D1, r3),np.random.rand(r3, D1))\n",
    "\n",
    "# Creating a list of matrices.\n",
    "matrices = [Sol0, Sol1, Sol2, Sol3]\n",
    "\n",
    "# Plot the matrices\n",
    "fig, (ax1, ax2, ax3, ax4) = plt.subplots(1, 4)\n",
    "ax1.title.set_text('Matrix 0')\n",
    "ax1.imshow(Sol0)\n",
    "ax2.title.set_text('Matrix 1')\n",
    "ax2.imshow(Sol1)\n",
    "ax3.title.set_text('Matrix 2')\n",
    "ax3.imshow(Sol2)\n",
    "ax4.title.set_text('Matrix 3')\n",
    "ax4.imshow(Sol3)\n",
    "plt.show()"
   ]
  },
  {
   "cell_type": "markdown",
   "metadata": {},
   "source": [
    "Instatiate the UQpy class Grassmann."
   ]
  },
  {
   "cell_type": "code",
   "execution_count": 3,
   "metadata": {},
   "outputs": [
    {
     "data": {
      "image/png": "[encoded data removed]",
      "text/plain": [
       "<Figure size 432x288 with 4 Axes>"
      ]
     },
     "metadata": {
      "needs_background": "light"
     },
     "output_type": "display_data"
    }
   ],
   "source": [
    "Gr = Grassmann()\n",
    "Gr.manifold(p=\"max\", samples=matrices)\n",
    "\n",
    "# Plot the points on the Grassmann manifold defined by the left singular eigenvectors.\n",
    "fig, (ax1, ax2, ax3, ax4) = plt.subplots(1, 4)\n",
    "ax1.title.set_text('Matrix 0')\n",
    "ax1.imshow(Gr.psi[0])\n",
    "ax2.title.set_text('Matrix 1')\n",
    "ax2.imshow(Gr.psi[0])\n",
    "ax3.title.set_text('Matrix 2')\n",
    "ax3.imshow(Gr.psi[0])\n",
    "ax4.title.set_text('Matrix 3')\n",
    "ax4.imshow(Gr.psi[0])\n",
    "plt.show()"
   ]
  },
  {
   "cell_type": "markdown",
   "metadata": {},
   "source": [
    "Project $\\Psi$, the left singular eigenvectors, on the tangent space centered at $\\Psi_0$."
   ]
  },
  {
   "cell_type": "code",
   "execution_count": 4,
   "metadata": {},
   "outputs": [
    {
     "name": "stdout",
     "output_type": "stream",
     "text": [
      "[[0. 0. 0. 0.]\n",
      " [0. 0. 0. 0.]\n",
      " [0. 0. 0. 0.]\n",
      " [0. 0. 0. 0.]\n",
      " [0. 0. 0. 0.]\n",
      " [0. 0. 0. 0.]]\n",
      "[[-0.00289972  0.02940501 -0.06692524 -0.00799253]\n",
      " [ 0.00455712 -0.26515178  0.67732875  0.22752485]\n",
      " [ 0.09689065 -0.51255794  1.00804947 -0.19438032]\n",
      " [-0.00312777  0.16973559 -0.43286845 -0.14413289]\n",
      " [ 0.00987154  0.11548807 -0.33556779 -0.18446793]\n",
      " [-0.04450886 -0.06531477  0.32292567  0.38460091]]\n",
      "[[ 0.01257495  0.03558027 -0.02763244 -0.05552352]\n",
      " [-0.09156837 -0.2842928   0.18309812  0.52030722]\n",
      " [-0.2660385  -0.69864148  0.62348617  0.92567249]\n",
      " [ 0.05882985  0.18234499 -0.11785367 -0.33288055]\n",
      " [ 0.0278989   0.1037574  -0.04346657 -0.23740691]\n",
      " [ 0.02356688  0.00720386 -0.09453735  0.16967396]]\n",
      "[[ 0.017117    0.04079387 -0.01498294 -0.01085114]\n",
      " [-0.19468092 -0.65420867  0.38068039  0.09551603]\n",
      " [-0.21178723 -0.09637538 -0.26598478  0.19415025]\n",
      " [ 0.12423069  0.4159958  -0.24129578 -0.06116684]\n",
      " [ 0.10694321  0.44219993 -0.30066607 -0.04032223]\n",
      " [-0.1332     -0.76637848  0.61280029  0.01860132]]\n"
     ]
    },
    {
     "data": {
      "image/png": "[encoded data removed]",
      "text/plain": [
       "<Figure size 432x288 with 4 Axes>"
      ]
     },
     "metadata": {
      "needs_background": "light"
     },
     "output_type": "display_data"
    }
   ],
   "source": [
    "points_tangent = Gr.log_map(points_grassmann=Gr.psi, ref=Gr.psi[0])\n",
    "\n",
    "print(points_tangent[0])\n",
    "print(points_tangent[1])\n",
    "print(points_tangent[2])\n",
    "print(points_tangent[3])\n",
    "\n",
    "# Plot the matrices\n",
    "fig, (ax1, ax2, ax3, ax4) = plt.subplots(1, 4)\n",
    "ax1.title.set_text('Matrix 0')\n",
    "ax1.imshow(points_tangent[0])\n",
    "ax2.title.set_text('Matrix 1')\n",
    "ax2.imshow(points_tangent[1])\n",
    "ax3.title.set_text('Matrix 2')\n",
    "ax3.imshow(points_tangent[2])\n",
    "ax4.title.set_text('Matrix 3')\n",
    "ax4.imshow(points_tangent[3])\n",
    "plt.show()"
   ]
  },
  {
   "cell_type": "markdown",
   "metadata": {},
   "source": [
    "Map the points back to the Grassmann manifold."
   ]
  },
  {
   "cell_type": "code",
   "execution_count": 5,
   "metadata": {},
   "outputs": [
    {
     "name": "stdout",
     "output_type": "stream",
     "text": [
      "[[-0.49845212  0.59107959  0.58119841  0.24899708]\n",
      " [-0.28055911 -0.55018022  0.47115229 -0.25725086]\n",
      " [-0.11883656  0.2041979  -0.24243923 -0.01576811]\n",
      " [-0.45537621  0.08148936 -0.16132051 -0.79115855]\n",
      " [-0.57337871 -0.494697   -0.21878947  0.4879397 ]\n",
      " [-0.35011328  0.23423113 -0.55457553  0.08692993]]\n",
      "[[-0.50136445  0.70841202  0.28453725  0.1547646 ]\n",
      " [-0.31591289 -0.47532559  0.3964615  -0.0761924 ]\n",
      " [-0.02674355 -0.27249325  0.68829029 -0.21081997]\n",
      " [-0.45755921  0.10336113 -0.21101076 -0.79691514]\n",
      " [-0.54998007 -0.43231454 -0.46184597  0.2582154 ]\n",
      " [-0.36915987 -0.01964771  0.17402895  0.47333776]]\n",
      "[[-0.44981508  0.72334264  0.47047454  0.05888228]\n",
      " [-0.2668961  -0.55288199  0.41139989 -0.12722611]\n",
      " [-0.33318319 -0.35124003  0.26526139  0.69572981]\n",
      " [-0.52845575 -0.10239982  0.01571595 -0.57381085]\n",
      " [-0.45092325 -0.13003426 -0.47480795 -0.13642154]\n",
      " [-0.36445106  0.14259292 -0.55977732  0.38527484]]\n",
      "[[-0.49807161  0.58752321  0.58579857  0.24810129]\n",
      " [-0.30873379 -0.47464828  0.3381103  -0.21846478]\n",
      " [-0.36438315 -0.08914378 -0.35009455  0.18269645]\n",
      " [-0.38539997  0.27966548 -0.2572859  -0.8309133 ]\n",
      " [-0.39030808  0.12528855 -0.58206395  0.39882284]\n",
      " [-0.47218587 -0.57242369  0.1223143   0.08868102]]\n"
     ]
    },
    {
     "data": {
      "image/png": "[encoded data removed]",
      "text/plain": [
       "<Figure size 432x288 with 4 Axes>"
      ]
     },
     "metadata": {
      "needs_background": "light"
     },
     "output_type": "display_data"
    }
   ],
   "source": [
    "points_grassmann = Gr.exp_map(points_tangent=points_tangent, ref=Gr.psi[0])\n",
    "\n",
    "print(points_grassmann[0])\n",
    "print(points_grassmann[1])\n",
    "print(points_grassmann[2])\n",
    "print(points_grassmann[3])\n",
    "\n",
    "# Plot the matrices\n",
    "fig, (ax1, ax2, ax3, ax4) = plt.subplots(1, 4)\n",
    "ax1.title.set_text('Matrix 0')\n",
    "ax1.imshow(points_grassmann[0])\n",
    "ax2.title.set_text('Matrix 1')\n",
    "ax2.imshow(points_grassmann[1])\n",
    "ax3.title.set_text('Matrix 2')\n",
    "ax3.imshow(points_grassmann[2])\n",
    "ax4.title.set_text('Matrix 3')\n",
    "ax4.imshow(points_grassmann[3])\n",
    "plt.show()"
   ]
  },
  {
   "cell_type": "code",
   "execution_count": null,
   "metadata": {},
   "outputs": [],
   "source": []
  }
 ],
 "metadata": {
  "kernelspec": {
   "display_name": "Python 3",
   "language": "python",
   "name": "python3"
  },
  "language_info": {
   "codemirror_mode": {
    "name": "ipython",
    "version": 3
   },
   "file_extension": ".py",
   "mimetype": "text/x-python",
   "name": "python",
   "nbconvert_exporter": "python",
   "pygments_lexer": "ipython3",
   "version": "3.7.4"
  }
 },
 "nbformat": 4,
 "nbformat_minor": 2
}
