{
 "cells": [
  {
   "cell_type": "markdown",
   "metadata": {},
   "source": [
    "# Grassmann Manifold\n",
    "\n",
    "Author: Ketson R. M. dos Santos,  \n",
    "Date: June 3rd, 2020   \n",
    "\n",
    "This example shows how to use the UQpy Grassmann class to\n",
    "* compute distances;"
   ]
  },
  {
   "cell_type": "markdown",
   "metadata": {},
   "source": [
    "Import the necessary libraries. Here we import standard libraries such as numpy and matplotlib, but also need to import the Grassmann class from UQpy implemented in the DimensionReduction module."
   ]
  },
  {
   "cell_type": "code",
   "execution_count": 1,
   "metadata": {},
   "outputs": [],
   "source": [
    "import numpy as np\n",
    "import matplotlib\n",
    "import matplotlib.pyplot as plt\n",
    "from mpl_toolkits.axes_grid1 import make_axes_locatable\n",
    "\n",
    "from UQpy.DimensionReduction import Grassmann"
   ]
  },
  {
   "cell_type": "markdown",
   "metadata": {},
   "source": [
    "Generate four random matrices with reduced rank corresponding to the different samples. The samples are stored in `matrices`."
   ]
  },
  {
   "cell_type": "code",
   "execution_count": 2,
   "metadata": {},
   "outputs": [
    {
     "data": {
      "image/png": "[encoded data removed]",
      "text/plain": [
       "<Figure size 432x288 with 4 Axes>"
      ]
     },
     "metadata": {
      "needs_background": "light"
     },
     "output_type": "display_data"
    }
   ],
   "source": [
    "D1 = 6 \n",
    "r0 = 2  # rank sample 0\n",
    "r1 = 3  # rank sample 1\n",
    "r2 = 4  # rank sample 2\n",
    "r3 = 3  # rank sample 2\n",
    "\n",
    "np.random.seed(1111) # For reproducibility.\n",
    "# Solutions: original space.\n",
    "Sol0 = np.dot(np.random.rand(D1, r0),np.random.rand(r0, D1))\n",
    "Sol1 = np.dot(np.random.rand(D1, r1),np.random.rand(r1, D1))\n",
    "Sol2 = np.dot(np.random.rand(D1, r2),np.random.rand(r2, D1))\n",
    "Sol3 = np.dot(np.random.rand(D1, r3),np.random.rand(r3, D1))\n",
    "\n",
    "# Creating a list of solutions.\n",
    "matrices = [Sol0, Sol1, Sol2, Sol3]\n",
    "\n",
    "# Plot the solutions\n",
    "fig, (ax1, ax2, ax3, ax4) = plt.subplots(1, 4)\n",
    "ax1.title.set_text('Matrix 0')\n",
    "ax1.imshow(Sol0)\n",
    "ax2.title.set_text('Matrix 1')\n",
    "ax2.imshow(Sol1)\n",
    "ax3.title.set_text('Matrix 2')\n",
    "ax3.imshow(Sol2)\n",
    "ax4.title.set_text('Matrix 3')\n",
    "ax4.imshow(Sol3)\n",
    "plt.show()"
   ]
  },
  {
   "cell_type": "markdown",
   "metadata": {},
   "source": [
    "Instatiate the UQpy class Grassmann considering the `\"grassmann_distance\"` as the a definition of distance on the manifold."
   ]
  },
  {
   "cell_type": "code",
   "execution_count": 3,
   "metadata": {},
   "outputs": [],
   "source": [
    "Gr = Grassmann(distance_method=Grassmann.grassmann_distance)\n",
    "Gr.manifold(p=\"max\", samples=matrices)"
   ]
  },
  {
   "cell_type": "markdown",
   "metadata": {},
   "source": [
    "Compute the pairwise distances for $\\Psi$ and $\\Phi$, the left and right -singular eigenvectors, respectively, of singular value decomposition of each solution."
   ]
  },
  {
   "cell_type": "code",
   "execution_count": 4,
   "metadata": {},
   "outputs": [
    {
     "name": "stdout",
     "output_type": "stream",
     "text": [
      "([5.672445010189098, 5.664058185941887, 5.6501354127663, 5.518716995592778, 5.600693463203731, 5.644263815077632], [5.579426884482711, 5.608037612409704, 5.543827315815942, 5.666504342493751, 5.690649399963229, 5.698855657825887])\n"
     ]
    }
   ],
   "source": [
    "pairwise_distance = Gr.distance()\n",
    "print(pairwise_distance)"
   ]
  },
  {
   "cell_type": "markdown",
   "metadata": {},
   "source": [
    "Compute the distance between 2 points."
   ]
  },
  {
   "cell_type": "code",
   "execution_count": 5,
   "metadata": {},
   "outputs": [
    {
     "name": "stdout",
     "output_type": "stream",
     "text": [
      "[5.672445010189098]\n"
     ]
    }
   ],
   "source": [
    "distance01 = Gr.distance(points_grassmann=[Gr.psi[0],Gr.psi[1]])\n",
    "print(distance01)"
   ]
  },
  {
   "cell_type": "markdown",
   "metadata": {},
   "source": [
    "Compute the pairwise distances for $\\Psi$ and $\\Phi$, the left and right -singular eigenvectors, respectively, of singular value decomposition of each solution. In this case, use an user defined function `my_distance`."
   ]
  },
  {
   "cell_type": "code",
   "execution_count": 6,
   "metadata": {},
   "outputs": [
    {
     "name": "stdout",
     "output_type": "stream",
     "text": [
      "([3.616639470956335, 3.607360707699451, 3.6027491210519558, 3.521550317346858, 3.576688198896668, 3.6052053705707627], [3.565390259343567, 3.576785525166376, 3.539743386911009, 3.611513338062871, 3.63547752933254, 3.6418893560769394])\n"
     ]
    }
   ],
   "source": [
    "from user_distance import my_distance\n",
    "\n",
    "Gr = Grassmann(distance_method=my_distance)\n",
    "Gr.manifold(p=\"max\", samples=matrices)\n",
    "\n",
    "pairwise_distance = Gr.distance()\n",
    "print(pairwise_distance)\n"
   ]
  },
  {
   "cell_type": "code",
   "execution_count": null,
   "metadata": {},
   "outputs": [],
   "source": []
  }
 ],
 "metadata": {
  "kernelspec": {
   "display_name": "Python 3",
   "language": "python",
   "name": "python3"
  },
  "language_info": {
   "codemirror_mode": {
    "name": "ipython",
    "version": 3
   },
   "file_extension": ".py",
   "mimetype": "text/x-python",
   "name": "python",
   "nbconvert_exporter": "python",
   "pygments_lexer": "ipython3",
   "version": "3.7.4"
  }
 },
 "nbformat": 4,
 "nbformat_minor": 2
}
