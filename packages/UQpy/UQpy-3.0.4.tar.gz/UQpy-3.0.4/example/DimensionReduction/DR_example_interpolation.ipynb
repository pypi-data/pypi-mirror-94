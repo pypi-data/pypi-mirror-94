{
 "cells": [
  {
   "cell_type": "markdown",
   "metadata": {},
   "source": [
    "# Grassmann Manifold\n",
    "\n",
    "Author: Ketson R. M. dos Santos,  \n",
    "Date: June 3rd, 2020   \n",
    "\n",
    "This example shows how to use the UQpy Grassmann class to\n",
    "* perform interpolation on the Grassmann manifold;"
   ]
  },
  {
   "cell_type": "markdown",
   "metadata": {},
   "source": [
    "Import the necessary libraries. Here we import standard libraries such as numpy and matplotlib, but also need to import the Grassmann class from UQpy implemented in the DimensionReduction module."
   ]
  },
  {
   "cell_type": "code",
   "execution_count": 1,
   "metadata": {},
   "outputs": [],
   "source": [
    "import numpy as np\n",
    "import matplotlib\n",
    "import matplotlib.pyplot as plt\n",
    "from mpl_toolkits.axes_grid1 import make_axes_locatable\n",
    "\n",
    "from UQpy.DimensionReduction import Grassmann"
   ]
  },
  {
   "cell_type": "markdown",
   "metadata": {},
   "source": [
    "Generate the initial samples located at the vertices of a triangle. The coordinates of each vertix are stored in `nodes` and `point` contain the point to be interpolated on the tangent space."
   ]
  },
  {
   "cell_type": "code",
   "execution_count": 2,
   "metadata": {},
   "outputs": [
    {
     "data": {
      "image/png": "[encoded data removed]",
      "text/plain": [
       "<Figure size 432x288 with 1 Axes>"
      ]
     },
     "metadata": {
      "needs_background": "light"
     },
     "output_type": "display_data"
    }
   ],
   "source": [
    "nodes = np.array([[0, 0], [1, 0], [1, 1], [0, 1]]) # node_0, node_1, node_2.\n",
    "point = np.array([0.1, 0.1]) # Point to interpolate.\n",
    "\n",
    "plot_ = nodes[0:]\n",
    "Xplot = plot_.T[0].tolist()\n",
    "Xplot.append(plot_[0][0])\n",
    "Yplot = plot_.T[1].tolist()\n",
    "Yplot.append(plot_[0][1])\n",
    "plt.plot(Xplot,Yplot)\n",
    "plt.plot(nodes[0][0],nodes[0][1],'ro')\n",
    "plt.plot(nodes[1][0],nodes[1][1],'ro')\n",
    "plt.plot(nodes[2][0],nodes[2][1],'ro')\n",
    "plt.plot(nodes[3][0],nodes[3][1],'ro')\n",
    "plt.plot(point[0],point[1],'bo')\n",
    "\n",
    "dt = 0.015\n",
    "plt.text(nodes[0][0]+dt,nodes[0][1]+dt,'0')\n",
    "plt.text(nodes[1][0]+dt,nodes[1][1]+dt,'1')\n",
    "plt.text(nodes[2][0]+dt,nodes[2][1]+dt,'2')\n",
    "plt.text(nodes[3][0]+dt,nodes[3][1]+dt,'2')\n",
    "plt.text(point[0]+dt,point[1]+dt,'point')\n",
    "plt.show()\n",
    "plt.close()\n"
   ]
  },
  {
   "cell_type": "markdown",
   "metadata": {},
   "source": [
    "Generate three random matrices with reduced rank corresponding to the different samples. The samples are stored in `Solutions`."
   ]
  },
  {
   "cell_type": "code",
   "execution_count": 3,
   "metadata": {},
   "outputs": [
    {
     "data": {
      "image/png": "[encoded data removed]",
      "text/plain": [
       "<Figure size 432x288 with 4 Axes>"
      ]
     },
     "metadata": {
      "needs_background": "light"
     },
     "output_type": "display_data"
    }
   ],
   "source": [
    "D1 = 6 \n",
    "r0 = 2  # rank sample 0\n",
    "r1 = 3  # rank sample 1\n",
    "r2 = 4  # rank sample 2\n",
    "r3 = 3  # rank sample 2\n",
    "\n",
    "np.random.seed(1111) # For reproducibility.\n",
    "# Solutions: original space.\n",
    "Sol0 = np.dot(np.random.rand(D1, r0),np.random.rand(r0, D1))\n",
    "Sol1 = np.dot(np.random.rand(D1, r1),np.random.rand(r1, D1))\n",
    "Sol2 = np.dot(np.random.rand(D1, r2),np.random.rand(r2, D1))\n",
    "Sol3 = np.dot(np.random.rand(D1, r3),np.random.rand(r3, D1))\n",
    "\n",
    "# Creating a list of solutions.\n",
    "Solutions = [Sol0, Sol1, Sol2, Sol3]\n",
    "\n",
    "# Plot the solutions\n",
    "fig, (ax1, ax2, ax3, ax4) = plt.subplots(1, 4)\n",
    "ax1.title.set_text('Solution 0')\n",
    "ax1.imshow(Sol0)\n",
    "ax2.title.set_text('Solution 1')\n",
    "ax2.imshow(Sol1)\n",
    "ax3.title.set_text('Solution 2')\n",
    "ax3.imshow(Sol2)\n",
    "ax4.title.set_text('Solution 3')\n",
    "ax4.imshow(Sol3)\n",
    "plt.show()"
   ]
  },
  {
   "cell_type": "markdown",
   "metadata": {},
   "source": [
    "Firs, let's perform the interpolation step-by-step using an object of the ``UQpy.Kriging`` class to interpolate. Further, instatiate the ``UQpy`` class ``Grassmann`` considering the `grassmann_distance` for the distance, `gradient_descent` to estimate the Karcher mean."
   ]
  },
  {
   "cell_type": "code",
   "execution_count": 4,
   "metadata": {},
   "outputs": [],
   "source": [
    "from Surrogates import Kriging\n",
    "\n",
    "Krig = Kriging(reg_model='Linear', corr_model='Exponential', corr_model_params=[1.0,1.0], n_opt=1)\n",
    "\n",
    "Gr = Grassmann(distance_method=Grassmann.grassmann_distance, interp_object=Krig, \n",
    "               karcher_method=Grassmann.gradient_descent)\n",
    "\n",
    "Gr.manifold(p=\"max\", samples=Solutions)"
   ]
  },
  {
   "cell_type": "markdown",
   "metadata": {},
   "source": [
    "Compute the Karcher mean for $\\Psi$ and $\\Phi$, the left and right -singular eigenvectors, respectively, of singular value decomposition of each solution."
   ]
  },
  {
   "cell_type": "code",
   "execution_count": 5,
   "metadata": {},
   "outputs": [],
   "source": [
    "karcher_psi, karcher_phi = Gr.karcher_mean()"
   ]
  },
  {
   "cell_type": "markdown",
   "metadata": {},
   "source": [
    "Rearrange the singular values $\\Sigma$ of each solution as a diagonal matrix."
   ]
  },
  {
   "cell_type": "code",
   "execution_count": 6,
   "metadata": {},
   "outputs": [],
   "source": [
    "sigma_m = []\n",
    "for i in range(len(Gr.sigma)):\n",
    "    sigma_m.append(np.diag(Gr.sigma[i]))"
   ]
  },
  {
   "cell_type": "markdown",
   "metadata": {},
   "source": [
    "Select the Karcher mean as a reference point for $\\Psi$ and $\\Phi$ and map those points on the manifold to the tangent space generated at the reference point."
   ]
  },
  {
   "cell_type": "code",
   "execution_count": 7,
   "metadata": {},
   "outputs": [],
   "source": [
    "gammaPsi = Gr.log_map(Gr.psi, ref=karcher_psi)\n",
    "gammaPhi = Gr.log_map(Gr.phi, ref=karcher_phi)"
   ]
  },
  {
   "cell_type": "markdown",
   "metadata": {},
   "source": [
    "Perform the standard linear interpolation of `point` on the tangent space for $\\Psi$, $\\Phi$, and $\\Sigma$. The interpolated points are given by $\\tilde{\\Psi}$, $\\tilde{\\Phi}$, and $\\tilde{\\Sigma}$. Thus, the interpolated solution is given by $\\tilde{\\mathrm{X}}=\\tilde{\\Psi}\\tilde{\\Phi}\\tilde{\\Sigma}$."
   ]
  },
  {
   "cell_type": "code",
   "execution_count": 8,
   "metadata": {},
   "outputs": [],
   "source": [
    "interpPsi = Gr.interpolate_sample(coordinates=nodes, samples=gammaPsi, point=point)\n",
    "interpPhi = Gr.interpolate_sample(coordinates=nodes, samples=gammaPhi, point=point)\n",
    "interpS = Gr.interpolate_sample(coordinates=nodes, samples=sigma_m, point=point)\n"
   ]
  },
  {
   "cell_type": "code",
   "execution_count": 9,
   "metadata": {},
   "outputs": [],
   "source": [
    "#PsiTilde = Gr.exp_mapping(interpPsi, ref=ref_psi,rank_ref=max_rank)\n",
    "#PhiTilde = Gr.exp_mapping(interpPhi, ref=ref_phi,rank_ref=max_rank)\n",
    "\n",
    "PsiTilde = Gr.exp_map([interpPsi], ref=karcher_psi)\n",
    "PhiTilde = Gr.exp_map([interpPhi], ref=karcher_phi)\n",
    "\n",
    "PsiTilde = np.array(PsiTilde[0])\n",
    "PhiTilde = np.array(PhiTilde[0])\n",
    "SolTilde = np.dot(np.dot(PsiTilde, interpS),PhiTilde.T)"
   ]
  },
  {
   "cell_type": "markdown",
   "metadata": {},
   "source": [
    "Print the interpolated solution and compare to the given solutions associated to the different vertices of the triangle."
   ]
  },
  {
   "cell_type": "code",
   "execution_count": 10,
   "metadata": {},
   "outputs": [
    {
     "name": "stdout",
     "output_type": "stream",
     "text": [
      "[[0.65058578 0.15997151 0.63279076 0.61285645 0.60173658 0.94037845]\n",
      " [0.36356653 0.12756156 0.34794897 0.28160916 0.32153957 0.57679911]\n",
      " [0.15529489 0.03544985 0.15145383 0.15065183 0.14469022 0.2207925 ]\n",
      " [0.59300055 0.16563232 0.57383432 0.52699713 0.54082604 0.88377849]\n",
      " [0.74489157 0.23393673 0.71696915 0.62070422 0.6693657  1.14492744]\n",
      " [0.45643461 0.12005378 0.44278736 0.41748883 0.41914465 0.67025722]]\n",
      " \n",
      "[[0.60966666 0.83740533 0.31712613 0.84306651 0.58301809 1.04881107]\n",
      " [0.60785235 0.88596601 0.36718095 1.13323508 1.01713178 0.92996841]\n",
      " [0.2464859  0.39818036 0.20049917 0.61497793 0.66483533 0.34348345]\n",
      " [0.62238022 0.85848369 0.2767713  1.15025462 0.94342018 0.84554589]\n",
      " [0.71519376 0.97392451 0.34238686 1.05344459 0.7450903  1.15847017]\n",
      " [0.51218462 0.71530438 0.29063148 0.70981172 0.51250408 0.90768646]]\n",
      " \n",
      "[[1.19651614 1.32294781 1.25181197 1.62903871 0.83929742 1.20041643]\n",
      " [0.89296687 1.0550084  1.04233584 1.02247984 0.43543934 1.35114872]\n",
      " [1.75345633 1.53238807 1.49501061 1.56894136 1.00073081 1.56125466]\n",
      " [0.67963878 0.96584415 1.06136    1.10236035 0.28640793 1.39086065]\n",
      " [0.66120095 0.63683846 0.78777413 0.7386087  0.24720626 0.96078871]\n",
      " [0.87133281 0.59934149 0.71238144 0.73698925 0.45059543 0.64940399]]\n",
      "-------------------------\n",
      "[[0.60292749 0.25605783 0.49660517 0.64032033 0.54997488 0.79654655]\n",
      " [0.66131464 0.4115328  0.515927   0.47715928 0.55468101 1.00518084]\n",
      " [0.18147056 0.08841633 0.16189492 0.18723815 0.18059268 0.27074494]\n",
      " [0.61377443 0.36486841 0.56195529 0.56073153 0.60331233 1.00427539]\n",
      " [0.76130128 0.33047455 0.6275995  0.77799873 0.72460775 1.0388027 ]\n",
      " [0.4326748  0.18355398 0.37317687 0.46902163 0.42626475 0.60096439]]\n"
     ]
    },
    {
     "data": {
      "image/png": "[encoded data removed]",
      "text/plain": [
       "<Figure size 432x288 with 1 Axes>"
      ]
     },
     "metadata": {
      "needs_background": "light"
     },
     "output_type": "display_data"
    },
    {
     "data": {
      "image/png": "[encoded data removed]",
      "text/plain": [
       "<Figure size 432x288 with 5 Axes>"
      ]
     },
     "metadata": {
      "needs_background": "light"
     },
     "output_type": "display_data"
    }
   ],
   "source": [
    "print(Sol0)\n",
    "print(\" \")\n",
    "print(Sol1)\n",
    "print(\" \")\n",
    "print(Sol2)\n",
    "print(\"-------------------------\")\n",
    "print(SolTilde)\n",
    "\n",
    "plot_ = nodes[0:]\n",
    "Xplot = plot_.T[0].tolist()\n",
    "Xplot.append(plot_[0][0])\n",
    "Yplot = plot_.T[1].tolist()\n",
    "Yplot.append(plot_[0][1])\n",
    "plt.plot(Xplot,Yplot)\n",
    "plt.plot(nodes[0][0],nodes[0][1],'ro')\n",
    "plt.plot(nodes[1][0],nodes[1][1],'ro')\n",
    "plt.plot(nodes[2][0],nodes[2][1],'ro')\n",
    "plt.plot(nodes[3][0],nodes[3][1],'ro')\n",
    "plt.plot(point[0],point[1],'bo')\n",
    "\n",
    "dt = 0.015\n",
    "plt.text(nodes[0][0]+dt,nodes[0][1]+dt,'0')\n",
    "plt.text(nodes[1][0]+dt,nodes[1][1]+dt,'1')\n",
    "plt.text(nodes[2][0]+dt,nodes[2][1]+dt,'2')\n",
    "plt.text(nodes[3][0]+dt,nodes[3][1]+dt,'3')\n",
    "plt.text(point[0]+dt,point[1]+dt,'p')\n",
    "plt.show()\n",
    "plt.close()\n",
    "\n",
    "\n",
    "# Plot the solutions\n",
    "fig, (ax1, ax2, ax3, ax4, ax5) = plt.subplots(1, 5)\n",
    "ax1.title.set_text('Solution 0')\n",
    "ax1.imshow(Sol0)\n",
    "ax2.title.set_text('Solution 1')\n",
    "ax2.imshow(Sol1)\n",
    "ax3.title.set_text('Solution 2')\n",
    "ax3.imshow(Sol2)\n",
    "ax4.title.set_text('Solution 3')\n",
    "ax4.imshow(Sol3)\n",
    "ax5.title.set_text('Interpolated')\n",
    "ax5.imshow(SolTilde)\n",
    "plt.show()"
   ]
  },
  {
   "cell_type": "markdown",
   "metadata": {},
   "source": [
    "All the operations above are implemented in the method `interpolate`, which is used below. in this case, the interpolation is performed on the entries of the input matrices."
   ]
  },
  {
   "cell_type": "code",
   "execution_count": 11,
   "metadata": {},
   "outputs": [
    {
     "data": {
      "image/png": "[encoded data removed]",
      "text/plain": [
       "<Figure size 432x288 with 5 Axes>"
      ]
     },
     "metadata": {
      "needs_background": "light"
     },
     "output_type": "display_data"
    }
   ],
   "source": [
    "\n",
    "X = Gr.interpolate(coordinates=nodes, point=point, element_wise=True)\n",
    "\n",
    "# Plot the solutions\n",
    "fig, (ax1, ax2, ax3, ax4, ax5) = plt.subplots(1, 5)\n",
    "ax1.title.set_text('Solution 0')\n",
    "ax1.imshow(Sol0)\n",
    "ax2.title.set_text('Solution 1')\n",
    "ax2.imshow(Sol1)\n",
    "ax3.title.set_text('Solution 2')\n",
    "ax3.imshow(Sol2)\n",
    "ax4.title.set_text('Solution 3')\n",
    "ax4.imshow(Sol3)\n",
    "ax5.title.set_text('Interpolated')\n",
    "ax5.imshow(X)\n",
    "plt.show()"
   ]
  },
  {
   "cell_type": "markdown",
   "metadata": {},
   "source": [
    "Now, let's use an object of sklearn.gaussiann_process. (To run this example, you have to install the scikit learn toolbox in advance.)"
   ]
  },
  {
   "cell_type": "code",
   "execution_count": 12,
   "metadata": {},
   "outputs": [],
   "source": [
    "from sklearn.gaussian_process import GaussianProcessRegressor\n",
    "gp = GaussianProcessRegressor()\n",
    "\n",
    "# Instantiate the method again with: interp_object=gp.\n",
    "Gr = Grassmann(distance_method=Grassmann.grassmann_distance, interp_object=gp, karcher_method=Grassmann.gradient_descent)\n",
    "\n",
    "Gr.manifold(p='max', samples=Solutions)\n",
    "X = Gr.interpolate(coordinates=nodes, point=[point], element_wise=True)"
   ]
  },
  {
   "cell_type": "markdown",
   "metadata": {},
   "source": [
    "Plot the solution."
   ]
  },
  {
   "cell_type": "code",
   "execution_count": 13,
   "metadata": {},
   "outputs": [
    {
     "data": {
      "image/png": "[encoded data removed]",
      "text/plain": [
       "<Figure size 432x288 with 5 Axes>"
      ]
     },
     "metadata": {
      "needs_background": "light"
     },
     "output_type": "display_data"
    }
   ],
   "source": [
    "\n",
    "# Plot the solutions\n",
    "fig, (ax1, ax2, ax3, ax4, ax5) = plt.subplots(1, 5)\n",
    "ax1.title.set_text('Solution 0')\n",
    "ax1.imshow(Sol0)\n",
    "ax2.title.set_text('Solution 1')\n",
    "ax2.imshow(Sol1)\n",
    "ax3.title.set_text('Solution 2')\n",
    "ax3.imshow(Sol2)\n",
    "ax4.title.set_text('Solution 3')\n",
    "ax4.imshow(Sol3)\n",
    "ax5.title.set_text('Interpolated')\n",
    "ax5.imshow(X)\n",
    "plt.show()"
   ]
  },
  {
   "cell_type": "code",
   "execution_count": null,
   "metadata": {},
   "outputs": [],
   "source": []
  }
 ],
 "metadata": {
  "kernelspec": {
   "display_name": "Python 3",
   "language": "python",
   "name": "python3"
  },
  "language_info": {
   "codemirror_mode": {
    "name": "ipython",
    "version": 3
   },
   "file_extension": ".py",
   "mimetype": "text/x-python",
   "name": "python",
   "nbconvert_exporter": "python",
   "pygments_lexer": "ipython3",
   "version": "3.7.4"
  }
 },
 "nbformat": 4,
 "nbformat_minor": 2
}
