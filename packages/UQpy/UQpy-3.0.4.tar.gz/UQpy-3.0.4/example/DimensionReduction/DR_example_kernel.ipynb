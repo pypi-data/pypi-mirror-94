{
 "cells": [
  {
   "cell_type": "markdown",
   "metadata": {},
   "source": [
    "# Grassmann Manifold\n",
    "\n",
    "Author: Ketson R. M. dos Santos,  \n",
    "Date: June 3rd, 2020   \n",
    "\n",
    "This example shows how to use the UQpy Grassmann class to\n",
    "* compute kernels;"
   ]
  },
  {
   "cell_type": "markdown",
   "metadata": {},
   "source": [
    "Import the necessary libraries. Here we import standard libraries such as numpy and matplotlib, but also need to import the Grassmann class from UQpy implemented in the DimensionReduction module."
   ]
  },
  {
   "cell_type": "code",
   "execution_count": 1,
   "metadata": {},
   "outputs": [],
   "source": [
    "import numpy as np\n",
    "import matplotlib\n",
    "import matplotlib.pyplot as plt\n",
    "from mpl_toolkits.axes_grid1 import make_axes_locatable\n",
    "\n",
    "from UQpy.DimensionReduction import Grassmann"
   ]
  },
  {
   "cell_type": "markdown",
   "metadata": {},
   "source": [
    "Generate four random matrices with reduced rank corresponding to the different samples. The samples are stored in `matrices`."
   ]
  },
  {
   "cell_type": "code",
   "execution_count": 2,
   "metadata": {},
   "outputs": [
    {
     "data": {
      "image/png": "[encoded data removed]",
      "text/plain": [
       "<Figure size 432x288 with 4 Axes>"
      ]
     },
     "metadata": {
      "needs_background": "light"
     },
     "output_type": "display_data"
    }
   ],
   "source": [
    "D1 = 6 \n",
    "r0 = 2  # rank sample 0\n",
    "r1 = 3  # rank sample 1\n",
    "r2 = 4  # rank sample 2\n",
    "r3 = 3  # rank sample 2\n",
    "\n",
    "np.random.seed(1111) # For reproducibility.\n",
    "# Solutions: original space.\n",
    "Sol0 = np.dot(np.random.rand(D1, r0),np.random.rand(r0, D1))\n",
    "Sol1 = np.dot(np.random.rand(D1, r1),np.random.rand(r1, D1))\n",
    "Sol2 = np.dot(np.random.rand(D1, r2),np.random.rand(r2, D1))\n",
    "Sol3 = np.dot(np.random.rand(D1, r3),np.random.rand(r3, D1))\n",
    "\n",
    "# Creating a list of solutions.\n",
    "matrices = [Sol0, Sol1, Sol2, Sol3]\n",
    "\n",
    "# Plot the solutions\n",
    "fig, (ax1, ax2, ax3, ax4) = plt.subplots(1, 4)\n",
    "ax1.title.set_text('Matrix 0')\n",
    "ax1.imshow(Sol0)\n",
    "ax2.title.set_text('Matrix 1')\n",
    "ax2.imshow(Sol1)\n",
    "ax3.title.set_text('Matrix 2')\n",
    "ax3.imshow(Sol2)\n",
    "ax4.title.set_text('Matrix 3')\n",
    "ax4.imshow(Sol3)\n",
    "plt.show()"
   ]
  },
  {
   "cell_type": "markdown",
   "metadata": {},
   "source": [
    "Instatiate the UQpy class Grassmann considering the `projection_kernel` as the a kernel definition on the Grassmann manifold."
   ]
  },
  {
   "cell_type": "code",
   "execution_count": 3,
   "metadata": {},
   "outputs": [],
   "source": [
    "Gr = Grassmann(kernel_method=Grassmann.projection_kernel)\n",
    "Gr.manifold(p=\"max\", samples=matrices)"
   ]
  },
  {
   "cell_type": "markdown",
   "metadata": {},
   "source": [
    "Compute the kernels for $\\Psi$ and $\\Phi$, the left and right -singular eigenvectors, respectively, of singular value decomposition of each solution."
   ]
  },
  {
   "cell_type": "code",
   "execution_count": 4,
   "metadata": {},
   "outputs": [
    {
     "data": {
      "image/png": "[encoded data removed]",
      "text/plain": [
       "<Figure size 432x288 with 2 Axes>"
      ]
     },
     "metadata": {
      "needs_background": "light"
     },
     "output_type": "display_data"
    }
   ],
   "source": [
    "kernel_psi, kernel_phi = Gr.kernel()\n",
    "\n",
    "fig, (ax1, ax2) = plt.subplots(1, 2)\n",
    "ax1.title.set_text('kernel_psi')\n",
    "ax1.imshow(kernel_psi)\n",
    "ax2.title.set_text('kernel_phi')\n",
    "ax2.imshow(kernel_phi)\n",
    "plt.show()"
   ]
  },
  {
   "cell_type": "markdown",
   "metadata": {},
   "source": [
    "Compute the kernel only for 2 points."
   ]
  },
  {
   "cell_type": "code",
   "execution_count": 5,
   "metadata": {},
   "outputs": [
    {
     "data": {
      "image/png": "[encoded data removed]",
      "text/plain": [
       "<Figure size 432x288 with 1 Axes>"
      ]
     },
     "metadata": {
      "needs_background": "light"
     },
     "output_type": "display_data"
    }
   ],
   "source": [
    "kernel_01 = Gr.kernel(points_grassmann=[Gr.psi[0],Gr.psi[1],Gr.psi[2]])\n",
    "\n",
    "fig = plt.figure()\n",
    "plt.imshow(kernel_01)\n",
    "plt.show()"
   ]
  },
  {
   "cell_type": "markdown",
   "metadata": {},
   "source": [
    "Compute the kernels for $\\Psi$ and $\\Phi$, the left and right -singular eigenvectors, respectively, of singular value decomposition of each solution. In this case, use an user defined function `my_kernel`."
   ]
  },
  {
   "cell_type": "code",
   "execution_count": 6,
   "metadata": {},
   "outputs": [
    {
     "data": {
      "image/png": "[encoded data removed]",
      "text/plain": [
       "<Figure size 432x288 with 2 Axes>"
      ]
     },
     "metadata": {
      "needs_background": "light"
     },
     "output_type": "display_data"
    }
   ],
   "source": [
    "from user_kernel import my_kernel\n",
    "\n",
    "Gr = Grassmann(kernel_method=my_kernel)\n",
    "Gr.manifold(p=\"max\", samples=matrices)\n",
    "\n",
    "kernel_user_psi, kernel_user_phi = Gr.kernel()\n",
    "\n",
    "fig, (ax1, ax2) = plt.subplots(1, 2)\n",
    "ax1.title.set_text('kernel_psi')\n",
    "ax1.imshow(kernel_user_psi)\n",
    "ax2.title.set_text('kernel_phi')\n",
    "ax2.imshow(kernel_user_phi)\n",
    "plt.show()"
   ]
  },
  {
   "cell_type": "code",
   "execution_count": null,
   "metadata": {},
   "outputs": [],
   "source": []
  }
 ],
 "metadata": {
  "kernelspec": {
   "display_name": "Python 3",
   "language": "python",
   "name": "python3"
  },
  "language_info": {
   "codemirror_mode": {
    "name": "ipython",
    "version": 3
   },
   "file_extension": ".py",
   "mimetype": "text/x-python",
   "name": "python",
   "nbconvert_exporter": "python",
   "pygments_lexer": "ipython3",
   "version": "3.7.4"
  }
 },
 "nbformat": 4,
 "nbformat_minor": 2
}
