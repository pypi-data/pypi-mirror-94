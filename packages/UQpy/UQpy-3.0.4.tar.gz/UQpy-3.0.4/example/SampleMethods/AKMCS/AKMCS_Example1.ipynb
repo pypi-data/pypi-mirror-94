{
 "cells": [
  {
   "cell_type": "markdown",
   "metadata": {},
   "source": [
    "# Active Kriging-Monte Carlo Simulation Example 1"
   ]
  },
  {
   "cell_type": "markdown",
   "metadata": {},
   "source": [
    "Author: Mohit S. Chauhan \n",
    "Date: May 20, 2020"
   ]
  },
  {
   "cell_type": "markdown",
   "metadata": {},
   "source": [
    "In this example, Monte Carlo Sampling is used to generate samples from Normal distribution and new samples are generated adaptively, using U-function as the learning criteria ."
   ]
  },
  {
   "cell_type": "markdown",
   "metadata": {},
   "source": [
    "Import the necessary libraries. Here we import standard libraries such as numpy, matplotlib and other necessary library for plots, but also need to import the MCS, AKMCS, Kriging and RunModel class from UQpy."
   ]
  },
  {
   "cell_type": "code",
   "execution_count": 1,
   "metadata": {},
   "outputs": [],
   "source": [
    "from UQpy.Surrogates import Kriging\n",
    "from UQpy.SampleMethods import MCS, AKMCS\n",
    "from UQpy.RunModel import RunModel\n",
    "from UQpy.Distributions import Normal\n",
    "from series import series\n",
    "import numpy as np\n",
    "from matplotlib import cm\n",
    "from matplotlib.ticker import LinearLocator, FormatStrFormatter\n",
    "import matplotlib.pyplot as plt\n",
    "import time"
   ]
  },
  {
   "cell_type": "markdown",
   "metadata": {},
   "source": [
    "Using UQpy MCS class to generate samples for two random variables, which are normally distributed with mean 0 and variance 1."
   ]
  },
  {
   "cell_type": "code",
   "execution_count": 2,
   "metadata": {},
   "outputs": [],
   "source": [
    "marginals = [Normal(loc=0., scale=4.), Normal(loc=0., scale=4.)]\n",
    "x = MCS(dist_object=marginals, nsamples=20, random_state=1)"
   ]
  },
  {
   "cell_type": "markdown",
   "metadata": {},
   "source": [
    "RunModel class is used to define an object to evaluate the model at sample points."
   ]
  },
  {
   "cell_type": "code",
   "execution_count": 3,
   "metadata": {},
   "outputs": [],
   "source": [
    "rmodel = RunModel(model_script='series.py', vec=False)"
   ]
  },
  {
   "cell_type": "markdown",
   "metadata": {},
   "source": [
    "Krig class defines an object to generate an surrogate model for a given set of data."
   ]
  },
  {
   "cell_type": "code",
   "execution_count": 4,
   "metadata": {},
   "outputs": [],
   "source": [
    "K = Kriging(reg_model='Linear', corr_model='Exponential', corr_model_params=np.array([1, 1]), nopt=10)"
   ]
  },
  {
   "cell_type": "markdown",
   "metadata": {},
   "source": [
    "This example works for all three learning function based on reliability analysis."
   ]
  },
  {
   "cell_type": "code",
   "execution_count": 5,
   "metadata": {},
   "outputs": [],
   "source": [
    "# OPTIONS: 'U', 'EFF', 'Weighted-U'\n",
    "lf_name = 'Weighted-U'\n",
    "# Default values for inbuilt functions\n",
    "kw = {\"u_stop\": 2, \"weighted_u_stop\": 2, \"eff_a\": 0, \"eff_epsilon\": 2, \"eff_stop\": 0.001, 'eif_stop': 0.01}"
   ]
  },
  {
   "cell_type": "markdown",
   "metadata": {},
   "source": [
    "AKMCS class is used to generate new sample using 'U-function' as active learning function."
   ]
  },
  {
   "cell_type": "code",
   "execution_count": 6,
   "metadata": {},
   "outputs": [],
   "source": [
    "start_time = time.time()\n",
    "a = AKMCS(runmodel_object=rmodel, krig_object=K, nlearn=10**3, n_add=1, \n",
    "          learning_function=lf_name, dist_object=marginals, **kw, random_state=2)\n",
    "a.run(nsamples=100, samples=x.samples)\n",
    "elapsed_time = time.time() - start_time"
   ]
  },
  {
   "cell_type": "code",
   "execution_count": 7,
   "metadata": {},
   "outputs": [
    {
     "name": "stdout",
     "output_type": "stream",
     "text": [
      "Time:  2.8374099731445312\n",
      "Function evaluation:  100\n",
      "Probability of failure:  [0.60181818]\n"
     ]
    }
   ],
   "source": [
    "time.strftime(\"%H:%M:%S\", time.gmtime(elapsed_time))\n",
    "g = a.krig_model(a.learning_set, False)\n",
    "n_ = a.learning_set.shape[0] + len(a.qoi)\n",
    "pf = (sum(g < 0) + sum(np.array(a.qoi) < 0)) / n_\n",
    "print('Time: ', elapsed_time)\n",
    "print('Function evaluation: ', a.samples.shape[0])\n",
    "print('Probability of failure: ', pf)"
   ]
  },
  {
   "cell_type": "markdown",
   "metadata": {},
   "source": [
    "This figure shows the location of new samples generated using active learning function."
   ]
  },
  {
   "cell_type": "code",
   "execution_count": 8,
   "metadata": {},
   "outputs": [
    {
     "data": {
      "image/png": "[encoded data removed]",
      "text/plain": [
       "<Figure size 432x288 with 1 Axes>"
      ]
     },
     "metadata": {
      "needs_background": "light"
     },
     "output_type": "display_data"
    }
   ],
   "source": [
    "num = 50\n",
    "x1 = np.linspace(-7, 7, num)\n",
    "x2 = np.linspace(-7, 7, num)\n",
    "x1v, x2v = np.meshgrid(x1, x2)\n",
    "y = np.zeros([num, num])\n",
    "y_act = np.zeros([num, num])\n",
    "mse = np.zeros([num, num])\n",
    "for i in range(num):\n",
    "    for j in range(num):\n",
    "        xa = marginals[0].cdf(np.atleast_2d(x1v[i, j]))\n",
    "        ya = marginals[1].cdf(np.atleast_2d(x2v[i, j]))\n",
    "        y[i, j] = a.krig_model(np.hstack([xa, ya]))\n",
    "        y_act[i, j] = series(np.array([[x1v[i, j], x2v[i, j]]]))\n",
    "\n",
    "fig, ax = plt.subplots()\n",
    "kr_a = ax.contour(x1v, x2v, y_act, levels=[0], colors='Black')\n",
    "\n",
    "# Plot for scattered data\n",
    "nd = x.nsamples\n",
    "ID1 = ax.scatter(a.samples[nd:, 0], a.samples[nd:, 1], color='Grey', label='New samples')\n",
    "ID = ax.scatter(x.samples[:nd, 0], x.samples[:nd, 1], color='Red', label='Initial samples')\n",
    "plt.legend(handles=[ID1, ID])\n",
    "plt.show()"
   ]
  },
  {
   "cell_type": "markdown",
   "metadata": {},
   "source": [
    "## User-define Learning function"
   ]
  },
  {
   "cell_type": "code",
   "execution_count": 9,
   "metadata": {},
   "outputs": [],
   "source": [
    "def u_function(surr, pop, **kwargs):\n",
    "    # AKMS class use these inputs to compute the learning function\n",
    "    n_add = kwargs['n_add']\n",
    "    parameters = kwargs['parameters']\n",
    "      \n",
    "    g, sig = surr(pop, True)\n",
    "\n",
    "    # Remove the inconsistency in the shape of 'g' and 'sig' array\n",
    "    g = g.reshape([pop.shape[0], 1])\n",
    "    sig = sig.reshape([pop.shape[0], 1])\n",
    "\n",
    "    u = abs(g) / sig\n",
    "    rows = u[:, 0].argsort()[:n_add]\n",
    "\n",
    "    indicator = False\n",
    "    if min(u[:, 0]) >= parameters['u_stop']:\n",
    "        indicator = True\n",
    "\n",
    "    return pop[rows, :], u[rows, 0], indicator"
   ]
  },
  {
   "cell_type": "markdown",
   "metadata": {},
   "source": [
    "Creating new instances of Kriging and RunModel class."
   ]
  },
  {
   "cell_type": "code",
   "execution_count": 10,
   "metadata": {},
   "outputs": [],
   "source": [
    "K1 = Kriging(reg_model='Linear', corr_model='Exponential', corr_model_params=np.array([1, 1]), nopt=10)\n",
    "rmodel1 = RunModel(model_script='series.py', vec=False)"
   ]
  },
  {
   "cell_type": "markdown",
   "metadata": {},
   "source": [
    "Executing AKMCS with the user-defined learning function."
   ]
  },
  {
   "cell_type": "code",
   "execution_count": 11,
   "metadata": {},
   "outputs": [],
   "source": [
    "start_time = time.time()\n",
    "ak = AKMCS(runmodel_object=rmodel1, samples=x.samples, krig_object=K1, nlearn=10**3, n_add=1, learning_function=u_function,\n",
    "           dist_object=marginals, random_state=3, **kw)\n",
    "ak.run(nsamples=100)\n",
    "elapsed_time = time.time() - start_time"
   ]
  },
  {
   "cell_type": "code",
   "execution_count": 12,
   "metadata": {},
   "outputs": [
    {
     "name": "stdout",
     "output_type": "stream",
     "text": [
      "Time:  2.5478951930999756\n",
      "Function evaluation:  100\n",
      "Probability of failure:  [0.61272727]\n"
     ]
    }
   ],
   "source": [
    "time.strftime(\"%H:%M:%S\", time.gmtime(elapsed_time))\n",
    "g = ak.krig_model(ak.learning_set, False)\n",
    "n_ = ak.learning_set.shape[0] + len(ak.qoi)\n",
    "pf = (sum(g < 0) + sum(np.array(ak.qoi) < 0)) / n_\n",
    "print('Time: ', elapsed_time)\n",
    "print('Function evaluation: ', ak.samples.shape[0])\n",
    "print('Probability of failure: ', pf)"
   ]
  },
  {
   "cell_type": "markdown",
   "metadata": {},
   "source": [
    "This figure shows the location of new samples generated using active learning function."
   ]
  },
  {
   "cell_type": "code",
   "execution_count": 13,
   "metadata": {},
   "outputs": [
    {
     "data": {
      "image/png": "[encoded data removed]",
      "text/plain": [
       "<Figure size 432x288 with 1 Axes>"
      ]
     },
     "metadata": {
      "needs_background": "light"
     },
     "output_type": "display_data"
    }
   ],
   "source": [
    "fig1, ax1 = plt.subplots()\n",
    "kr_a = ax1.contour(x1v, x2v, y_act, levels=[0], colors='Black')\n",
    "\n",
    "# Plot for scattered data\n",
    "ID1 = ax1.scatter(ak.samples[nd:, 0], ak.samples[nd:, 1], color='Grey', label='New samples')\n",
    "ID = ax1.scatter(x.samples[:nd, 0], x.samples[:nd, 1], color='Red', label='Initial samples')\n",
    "plt.legend(handles=[ID1, ID])\n",
    "plt.show()"
   ]
  },
  {
   "cell_type": "markdown",
   "metadata": {},
   "source": [
    "## Monte Carlo Simulation"
   ]
  },
  {
   "cell_type": "markdown",
   "metadata": {},
   "source": [
    "Probability of failure and covariance is estimated using Monte Carlo Simulation. 10,000 samples are generated randomly using MCS class and model is evaluated at all samples. "
   ]
  },
  {
   "cell_type": "code",
   "execution_count": 14,
   "metadata": {},
   "outputs": [
    {
     "data": {
      "text/plain": [
       "'00:00:00'"
      ]
     },
     "execution_count": 14,
     "metadata": {},
     "output_type": "execute_result"
    }
   ],
   "source": [
    "start_time = time.time()\n",
    "\n",
    "# Code\n",
    "b = MCS(dist_object=marginals, nsamples=10**4, random_state=4)\n",
    "r1model = RunModel(model_script='series.py', vec=False)\n",
    "r1model.run(samples=b.samples)\n",
    "gx = np.array(r1model.qoi_list)\n",
    "pf_mcs = np.sum(np.array(gx) < 0)/b.nsamples\n",
    "cov_pf_mcs = np.sqrt((1 - pf_mcs)/(pf_mcs * b.nsamples))\n",
    "\n",
    "elapsed_time = time.time() - start_time\n",
    "time.strftime(\"%H:%M:%S\", time.gmtime(elapsed_time))"
   ]
  },
  {
   "cell_type": "markdown",
   "metadata": {},
   "source": [
    "Results from Monte Carlo Simulation."
   ]
  },
  {
   "cell_type": "code",
   "execution_count": 15,
   "metadata": {},
   "outputs": [
    {
     "name": "stdout",
     "output_type": "stream",
     "text": [
      "Time:  0.3967301845550537\n",
      "Function evaluation:  10000\n",
      "Probability of failure:  0.5995\n"
     ]
    }
   ],
   "source": [
    "print('Time: ', elapsed_time)\n",
    "print('Function evaluation: ', b.nsamples)\n",
    "print('Probability of failure: ', pf_mcs)"
   ]
  }
 ],
 "metadata": {
  "kernelspec": {
   "display_name": "Python 3",
   "language": "python",
   "name": "python3"
  },
  "language_info": {
   "codemirror_mode": {
    "name": "ipython",
    "version": 3
   },
   "file_extension": ".py",
   "mimetype": "text/x-python",
   "name": "python",
   "nbconvert_exporter": "python",
   "pygments_lexer": "ipython3",
   "version": "3.7.7"
  }
 },
 "nbformat": 4,
 "nbformat_minor": 2
}
