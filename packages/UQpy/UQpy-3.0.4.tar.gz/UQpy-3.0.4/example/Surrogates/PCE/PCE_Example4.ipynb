{
 "cells": [
  {
   "cell_type": "markdown",
   "metadata": {},
   "source": [
    "## Polynomial Chaos Expansion Example 4"
   ]
  },
  {
   "cell_type": "markdown",
   "metadata": {},
   "source": [
    "Author: Katiana Kontolati \\\n",
    "Date: December 8, 2020"
   ]
  },
  {
   "cell_type": "markdown",
   "metadata": {},
   "source": [
    "In this example, PCE is used to generate a surrogate model for a given set of 3D data."
   ]
  },
  {
   "cell_type": "markdown",
   "metadata": {},
   "source": [
    "### Dette & Pepelyshev exponential function"
   ]
  },
  {
   "cell_type": "markdown",
   "metadata": {},
   "source": [
    "$$ f(x) = 100(\\exp{(-2/x_1^{1.75})} + \\exp{(-2/x_2^{1.5})} + \\exp{(-2/x_3^{1.25})})$$\n",
    "\n",
    "**Description:**  Dimensions: 3\n",
    "\n",
    "**Input Domain:**  This function is evaluated on the hypercube $x_i \\in [0,1]$ for all i = 1,2,3.\n",
    "\n",
    "**Reference:**  Dette, H., & Pepelyshev, A. (2010). Generalized Latin hypercube design for computer experiments. Technometrics, 52(4)."
   ]
  },
  {
   "cell_type": "markdown",
   "metadata": {},
   "source": [
    "Import necessary libraries."
   ]
  },
  {
   "cell_type": "code",
   "execution_count": 1,
   "metadata": {},
   "outputs": [],
   "source": [
    "import numpy as np\n",
    "import matplotlib.pyplot as plt\n",
    "from UQpy.Surrogates import *"
   ]
  },
  {
   "cell_type": "markdown",
   "metadata": {},
   "source": [
    "Define the function."
   ]
  },
  {
   "cell_type": "code",
   "execution_count": 2,
   "metadata": {},
   "outputs": [],
   "source": [
    "def function(x):\n",
    "    return 100*(np.exp(-2/(x[:,0]**1.75)) + np.exp(-2/(x[:,1]**1.5)) + np.exp(-2/(x[:,2]**1.25)))"
   ]
  },
  {
   "cell_type": "markdown",
   "metadata": {},
   "source": [
    "Create a distribution object, generate samples and evaluate the function at the samples."
   ]
  },
  {
   "cell_type": "code",
   "execution_count": 3,
   "metadata": {},
   "outputs": [],
   "source": [
    "np.random.seed(1)\n",
    "\n",
    "dist = Uniform(loc=0, scale=1)   \n",
    "\n",
    "marg = [dist]*3\n",
    "joint = JointInd(marginals=marg)\n",
    "\n",
    "n_samples = 165\n",
    "x = joint.rvs(n_samples)\n",
    "y = function(x)  "
   ]
  },
  {
   "cell_type": "markdown",
   "metadata": {},
   "source": [
    "Create an object from the PCE class."
   ]
  },
  {
   "cell_type": "code",
   "execution_count": 4,
   "metadata": {},
   "outputs": [],
   "source": [
    "max_degree = 5\n",
    "polys = Polynomials(dist_object=joint, degree=max_degree) "
   ]
  },
  {
   "cell_type": "markdown",
   "metadata": {},
   "source": [
    "Compute PCE coefficients using least squares regression, Lasso regression and Ridge regression."
   ]
  },
  {
   "cell_type": "code",
   "execution_count": 5,
   "metadata": {},
   "outputs": [],
   "source": [
    "lstsq = PolyChaosLstsq(poly_object=polys)\n",
    "pce = PCE(method=lstsq) \n",
    "pce.fit(x,y) \n",
    "\n",
    "lasso = PolyChaosLasso(poly_object=polys, learning_rate=0.01, iterations=1000, penalty=0.1)\n",
    "pce2 = PCE(method=lasso) \n",
    "pce2.fit(x,y) \n",
    "\n",
    "ridge = PolyChaosRidge(poly_object=polys, learning_rate=0.01, iterations=1000, penalty=0.1)\n",
    "pce3 = PCE(method=ridge) \n",
    "pce3.fit(x,y)"
   ]
  },
  {
   "cell_type": "code",
   "execution_count": 6,
   "metadata": {},
   "outputs": [],
   "source": [
    "n_samples = 500\n",
    "x_val = joint.rvs(n_samples)\n",
    "y_val = function(x_val)"
   ]
  },
  {
   "cell_type": "markdown",
   "metadata": {},
   "source": [
    "### Error Estimation"
   ]
  },
  {
   "cell_type": "markdown",
   "metadata": {},
   "source": [
    "Validation error."
   ]
  },
  {
   "cell_type": "code",
   "execution_count": 7,
   "metadata": {},
   "outputs": [
    {
     "name": "stdout",
     "output_type": "stream",
     "text": [
      "Error from least squares regression is:  9.25e-05\n",
      "Error from LASSO is:  0.002566\n",
      "Error from Ridge is:  0.0026148\n"
     ]
    }
   ],
   "source": [
    "n_samples = 500\n",
    "x_val = joint.rvs(n_samples)\n",
    "y_val = function(x_val)\n",
    "\n",
    "error = ErrorEstimation(surr_object=pce)\n",
    "error2 = ErrorEstimation(surr_object=pce2)\n",
    "error3 = ErrorEstimation(surr_object=pce3)\n",
    "print('Error from least squares regression is: ', error.validation(x_val, y_val))\n",
    "print('Error from LASSO is: ', error2.validation(x_val, y_val))\n",
    "print('Error from Ridge is: ', error3.validation(x_val, y_val))"
   ]
  },
  {
   "cell_type": "markdown",
   "metadata": {},
   "source": [
    "### Moment Estimation"
   ]
  },
  {
   "cell_type": "markdown",
   "metadata": {},
   "source": [
    "Returns mean and variance of the PCE surrogate."
   ]
  },
  {
   "cell_type": "code",
   "execution_count": 8,
   "metadata": {},
   "outputs": [
    {
     "name": "stdout",
     "output_type": "stream",
     "text": [
      "Moments from least squares regression : (8.247977, 45.397944)\n",
      "Moments from LASSO regression : (8.178689, 44.778469)\n",
      "Moments from Ridge regression : (8.176812, 44.721672)\n",
      "Moments from MC integration:  (8.25404, 45.383791)\n"
     ]
    }
   ],
   "source": [
    "n_mc = 1000000\n",
    "x_mc = joint.rvs(n_mc)\n",
    "y_mc = function(x_mc)    \n",
    "mu = np.mean(y_mc)\n",
    "\n",
    "print('Moments from least squares regression :', MomentEstimation(surr_object=pce).get())\n",
    "print('Moments from LASSO regression :', MomentEstimation(surr_object=pce2).get())\n",
    "print('Moments from Ridge regression :', MomentEstimation(surr_object=pce3).get())\n",
    "print('Moments from MC integration: ', (round((1/n_mc)*np.sum(y_mc),6), round((1/n_mc)*np.sum((y_mc-mu)**2),6)))"
   ]
  },
  {
   "cell_type": "code",
   "execution_count": null,
   "metadata": {},
   "outputs": [],
   "source": []
  }
 ],
 "metadata": {
  "kernelspec": {
   "display_name": "Python 3",
   "language": "python",
   "name": "python3"
  },
  "language_info": {
   "codemirror_mode": {
    "name": "ipython",
    "version": 3
   },
   "file_extension": ".py",
   "mimetype": "text/x-python",
   "name": "python",
   "nbconvert_exporter": "python",
   "pygments_lexer": "ipython3",
   "version": "3.7.7"
  }
 },
 "nbformat": 4,
 "nbformat_minor": 4
}
