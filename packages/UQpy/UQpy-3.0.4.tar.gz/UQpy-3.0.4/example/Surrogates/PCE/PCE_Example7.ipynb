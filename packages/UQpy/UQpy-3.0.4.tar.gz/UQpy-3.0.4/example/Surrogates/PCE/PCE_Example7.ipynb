{
 "cells": [
  {
   "cell_type": "markdown",
   "metadata": {},
   "source": [
    "## Polynomial Chaos Expansion Example 7"
   ]
  },
  {
   "cell_type": "markdown",
   "metadata": {},
   "source": [
    "Authors: Dimitris Loukrezis, Katiana Kontolati \\\n",
    "Date: January 20, 2021"
   ]
  },
  {
   "cell_type": "markdown",
   "metadata": {},
   "source": [
    "In this example, PCE is used to generate a surrogate model for a given set of 2D data for a numerical model with multi-dimensional outputs."
   ]
  },
  {
   "cell_type": "markdown",
   "metadata": {},
   "source": [
    "Import necessary libraries."
   ]
  },
  {
   "cell_type": "code",
   "execution_count": 1,
   "metadata": {},
   "outputs": [],
   "source": [
    "import numpy as np\n",
    "import matplotlib.pyplot as plt\n",
    "import math\n",
    "from UQpy.Surrogates import *"
   ]
  },
  {
   "cell_type": "markdown",
   "metadata": {},
   "source": [
    "The analytical function below describes the eigenvalues of the 2D Helmholtz equation on a square."
   ]
  },
  {
   "cell_type": "code",
   "execution_count": 2,
   "metadata": {},
   "outputs": [],
   "source": [
    "def analytical_eigenvalues_2d(Ne, lx, ly):\n",
    "    \"\"\"\n",
    "    Computes the first Ne eigenvalues of a rectangular waveguide with \n",
    "    dimensions lx, ly\n",
    "\n",
    "    Parameters\n",
    "    ----------\n",
    "    Ne : integer\n",
    "         number of eigenvalues.\n",
    "    lx : float\n",
    "         length in x direction.\n",
    "    ly : float\n",
    "         length in y direction.\n",
    "\n",
    "    Returns\n",
    "    -------\n",
    "    ev : numpy 1d array\n",
    "         the Ne eigenvalues\n",
    "    \"\"\"\n",
    "    ev = [(m*np.pi/lx)**2 + (n*np.pi/ly)**2 for m in range(1, Ne+1) \n",
    "                                            for n in range(1, Ne+1)]                                                 \n",
    "    ev = np.array(ev)\n",
    "    \n",
    "    ### Uncertainty changes the sorting order of the eigenvalues. \n",
    "    ### The resulting value \"jumps\" cannot be captured by a PCE.   \n",
    "    # sort eigenvalues and take the first Ne ones\n",
    "    #idx = np.argsort(ev)[:Ne]    \n",
    "    #ev  = ev[idx]\n",
    "    \n",
    "    return ev[:Ne]\n"
   ]
  },
  {
   "cell_type": "markdown",
   "metadata": {},
   "source": [
    "Create a distribution object."
   ]
  },
  {
   "cell_type": "code",
   "execution_count": 3,
   "metadata": {},
   "outputs": [],
   "source": [
    "pdf_lx = Normal(loc=2, scale=0.02)   \n",
    "pdf_ly = Normal(loc=1, scale=0.01)\n",
    "margs = [pdf_lx, pdf_ly]\n",
    "joint = JointInd(marginals=margs)"
   ]
  },
  {
   "cell_type": "markdown",
   "metadata": {},
   "source": [
    "Define the number of input dimensions and choose the number of output dimensions (number of eigenvalues)."
   ]
  },
  {
   "cell_type": "code",
   "execution_count": 4,
   "metadata": {},
   "outputs": [],
   "source": [
    "dim_in = 2\n",
    "dim_out = 10 "
   ]
  },
  {
   "cell_type": "markdown",
   "metadata": {},
   "source": [
    "Construct PCE models by varying the maximum degree of polynomials (and therefore the number of polynomial basis) and compute the validation error for all resulting models."
   ]
  },
  {
   "cell_type": "code",
   "execution_count": 5,
   "metadata": {
    "scrolled": true
   },
   "outputs": [
    {
     "name": "stdout",
     "output_type": "stream",
     "text": [
      "Total degree:  1\n",
      "Basis terms:  3\n",
      "Sampling coefficient:  4\n",
      "Training data:  12\n",
      "Condition number:  2.0882052418227084\n",
      "Validation error:  [0.0006748 0.0007259 0.0007376 0.0007419 0.0007438 0.0007449 0.0007456\n",
      " 0.000746  0.0007463 0.0007465]\n",
      "\n",
      "Total degree:  2\n",
      "Basis terms:  6\n",
      "Sampling coefficient:  4\n",
      "Training data:  24\n",
      "Condition number:  2.8416726057868082\n",
      "Validation error:  [3.e-07 3.e-07 3.e-07 3.e-07 3.e-07 3.e-07 3.e-07 3.e-07 3.e-07 3.e-07]\n",
      "\n",
      "Total degree:  3\n",
      "Basis terms:  10\n",
      "Sampling coefficient:  4\n",
      "Training data:  40\n",
      "Condition number:  7.181656103038829\n",
      "Validation error:  [0. 0. 0. 0. 0. 0. 0. 0. 0. 0.]\n",
      "\n",
      "Total degree:  4\n",
      "Basis terms:  15\n",
      "Sampling coefficient:  4\n",
      "Training data:  60\n",
      "Condition number:  18.272397260927004\n",
      "Validation error:  [0. 0. 0. 0. 0. 0. 0. 0. 0. 0.]\n",
      "\n",
      "Total degree:  5\n",
      "Basis terms:  21\n",
      "Sampling coefficient:  4\n",
      "Training data:  84\n",
      "Condition number:  74.16122503507886\n",
      "Validation error:  [1.4575179 1.2049653 1.150906  1.1316233 1.1226427 1.1177505 1.1147961\n",
      " 1.1128768 1.1115601 1.1106179]\n",
      "\n"
     ]
    }
   ],
   "source": [
    "errors = []\n",
    "basis = []\n",
    "pce_models = []\n",
    "\n",
    "for max_degree in range(1,6):\n",
    "    print('Total degree: ', max_degree)\n",
    "    \n",
    "    # Polynomial basis\n",
    "    polys = Polynomials(dist_object=joint, degree=max_degree)\n",
    "    n_basis = math.factorial(max_degree+dim_in) / \\\n",
    "             (math.factorial(max_degree)*math.factorial(dim_in))\n",
    "    basis.append(int(n_basis))\n",
    "    print('Basis terms: ', int(n_basis))\n",
    "    \n",
    "    # Regression method\n",
    "    #regression_method = PolyChaosLstsq(poly_object=polys)\n",
    "    regression_method = PolyChaosLasso(poly_object=polys, learning_rate=0.01, iterations=50000, penalty=0)\n",
    "    #regression_method = PolyChaosRidge(poly_object=polys, learning_rate=0.001, iterations=10000, penalty=0)\n",
    "\n",
    "    pce = PCE(method=regression_method) \n",
    "    pce_models.append(pce)\n",
    "    \n",
    "    # Training data\n",
    "    sampling_coeff = 4\n",
    "    print('Sampling coefficient: ', sampling_coeff)\n",
    "    \n",
    "    np.random.seed(42)\n",
    "    n_samples = math.ceil(sampling_coeff*n_basis)\n",
    "    print('Training data: ', n_samples)\n",
    "    xx = joint.rvs(n_samples)\n",
    "    yy = np.array([analytical_eigenvalues_2d(dim_out, x[0], x[1]) for x in xx])\n",
    "\n",
    "    # Design matrix / conditioning\n",
    "    D = polys.evaluate(xx)\n",
    "    cond_D = np.linalg.cond(D)\n",
    "    print('Condition number: ', cond_D)\n",
    "    \n",
    "    # Fit model\n",
    "    pce.fit(xx,yy)\n",
    "    \n",
    "    # Coefficients\n",
    "    #print('PCE coefficients: ', pce.C)\n",
    "    \n",
    "    # Validation errors\n",
    "    np.random.seed(999)\n",
    "    n_samples = 1000\n",
    "    x_val = joint.rvs(n_samples)\n",
    "    y_val = np.array([analytical_eigenvalues_2d(dim_out, x[0], x[1]) for x in x_val])\n",
    "    y_val_pce = pce.predict(x_val)\n",
    "\n",
    "    error_val = ErrorEstimation(surr_object=pce).validation(x_val, y_val)\n",
    "    errors.append(error_val)\n",
    "    print('Validation error: ', error_val)\n",
    "    print('')"
   ]
  },
  {
   "cell_type": "markdown",
   "metadata": {},
   "source": [
    "Plot errors."
   ]
  },
  {
   "cell_type": "code",
   "execution_count": 6,
   "metadata": {},
   "outputs": [
    {
     "data": {
      "image/png": "[encoded data removed]",
      "text/plain": [
       "<Figure size 648x432 with 1 Axes>"
      ]
     },
     "metadata": {
      "needs_background": "light"
     },
     "output_type": "display_data"
    }
   ],
   "source": [
    "errors = np.array(errors)\n",
    "plt.figure(1, figsize=(9,6))\n",
    "for i in range(np.shape(errors)[0]):\n",
    "    plt.semilogy(np.linspace(1, dim_out, dim_out), errors[i], '--o', label='basis: {}'.format(basis[i]))\n",
    "plt.legend()\n",
    "plt.show()"
   ]
  },
  {
   "cell_type": "markdown",
   "metadata": {},
   "source": [
    "Moment estimation (directly estimated from the PCE model of max_degree = 2)."
   ]
  },
  {
   "cell_type": "code",
   "execution_count": 7,
   "metadata": {},
   "outputs": [
    {
     "name": "stdout",
     "output_type": "stream",
     "text": [
      "First moments estimation from PCE : [ 12.3407  41.9584  91.3212 160.4291 249.2821 357.8803 486.2236 634.312\n",
      " 802.1455 989.7242]\n",
      "\n",
      "Second moments estimation from PCE : [4.150000e-02 6.267000e-01 3.162500e+00 9.989800e+00 2.438550e+01\n",
      " 5.056320e+01 9.367240e+01 1.597993e+02 2.559660e+02 3.901312e+02]\n"
     ]
    }
   ],
   "source": [
    "print('First moments estimation from PCE :', MomentEstimation(surr_object=pce_models[1]).get()[0])\n",
    "print('')\n",
    "print('Second moments estimation from PCE :', MomentEstimation(surr_object=pce_models[1]).get()[1])"
   ]
  },
  {
   "cell_type": "markdown",
   "metadata": {},
   "source": [
    "Moment estimation via Monte Carlo integration."
   ]
  },
  {
   "cell_type": "code",
   "execution_count": 8,
   "metadata": {},
   "outputs": [
    {
     "name": "stdout",
     "output_type": "stream",
     "text": [
      "First moments from Monte Carlo integration:  [ 12.3412  41.9607  91.3264 160.4385 249.2968 357.9015 486.2524 634.3497\n",
      " 802.1932 989.7831]\n",
      "\n",
      "Second moments from Monte Carlo integration:  [4.130000e-02 6.258000e-01 3.159200e+00 9.980500e+00 2.436420e+01\n",
      " 5.052060e+01 9.359530e+01 1.596696e+02 2.557605e+02 3.898204e+02]\n"
     ]
    }
   ],
   "source": [
    "n_mc = 100000\n",
    "x_mc = joint.rvs(n_mc)\n",
    "y_mc = np.array([analytical_eigenvalues_2d(dim_out, x[0], x[1]) for x in x_mc])\n",
    "mu = np.mean(y_mc,axis=0)\n",
    "moments = (np.round((1/n_mc)*np.sum(y_mc,axis=0),4), np.round((1/n_mc)*np.sum((y_mc-mu)**2,axis=0),4))\n",
    "print('First moments from Monte Carlo integration: ', moments[0])\n",
    "print('')\n",
    "print('Second moments from Monte Carlo integration: ', moments[1])"
   ]
  }
 ],
 "metadata": {
  "kernelspec": {
   "display_name": "Python 3",
   "language": "python",
   "name": "python3"
  },
  "language_info": {
   "codemirror_mode": {
    "name": "ipython",
    "version": 3
   },
   "file_extension": ".py",
   "mimetype": "text/x-python",
   "name": "python",
   "nbconvert_exporter": "python",
   "pygments_lexer": "ipython3",
   "version": "3.7.7"
  }
 },
 "nbformat": 4,
 "nbformat_minor": 4
}
