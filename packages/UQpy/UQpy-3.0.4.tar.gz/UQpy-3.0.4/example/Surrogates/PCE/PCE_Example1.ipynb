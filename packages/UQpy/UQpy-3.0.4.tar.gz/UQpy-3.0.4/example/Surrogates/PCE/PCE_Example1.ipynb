{
 "cells": [
  {
   "cell_type": "markdown",
   "metadata": {},
   "source": [
    "## Polynomial Chaos Expansion Example 1"
   ]
  },
  {
   "cell_type": "markdown",
   "metadata": {},
   "source": [
    "Author: Katiana Kontolati \\\n",
    "Date: December 8, 2020"
   ]
  },
  {
   "cell_type": "markdown",
   "metadata": {},
   "source": [
    "In this example, PCE is used to generate a surrogate model for a given set of 1D data."
   ]
  },
  {
   "cell_type": "code",
   "execution_count": 1,
   "metadata": {},
   "outputs": [],
   "source": [
    "import numpy as np\n",
    "import matplotlib.pyplot as plt\n",
    "from UQpy.Surrogates import *"
   ]
  },
  {
   "cell_type": "markdown",
   "metadata": {},
   "source": [
    "Define a function."
   ]
  },
  {
   "cell_type": "code",
   "execution_count": 2,
   "metadata": {},
   "outputs": [],
   "source": [
    "def function(x):                                \n",
    "    return x*np.sin(x)/10"
   ]
  },
  {
   "cell_type": "markdown",
   "metadata": {},
   "source": [
    "Create a distribution object, generate samples and evaluate the function at the samples."
   ]
  },
  {
   "cell_type": "code",
   "execution_count": 3,
   "metadata": {},
   "outputs": [],
   "source": [
    "np.random.seed(1)\n",
    "\n",
    "dist = Uniform(loc=0, scale=10)   \n",
    "n_samples = 30         \n",
    "x = dist.rvs(n_samples)  \n",
    "y = function(x)  "
   ]
  },
  {
   "cell_type": "markdown",
   "metadata": {},
   "source": [
    "Create an object from the PCE class."
   ]
  },
  {
   "cell_type": "code",
   "execution_count": 4,
   "metadata": {},
   "outputs": [],
   "source": [
    "max_degree = 7\n",
    "polys = Polynomials(dist_object=dist, degree=max_degree) "
   ]
  },
  {
   "cell_type": "markdown",
   "metadata": {},
   "source": [
    "Compute PCE coefficients using least sqaures regression. "
   ]
  },
  {
   "cell_type": "code",
   "execution_count": 5,
   "metadata": {},
   "outputs": [],
   "source": [
    "lstsq = PolyChaosLstsq(poly_object=polys)\n",
    "pce = PCE(method=lstsq) \n",
    "pce.fit(x,y)"
   ]
  },
  {
   "cell_type": "markdown",
   "metadata": {},
   "source": [
    "Compute PCE coefficients using Lasso regression."
   ]
  },
  {
   "cell_type": "code",
   "execution_count": 6,
   "metadata": {},
   "outputs": [],
   "source": [
    "lasso = PolyChaosLasso(poly_object=polys, learning_rate=0.01, iterations=1000, penalty=0.1)\n",
    "pce2 = PCE(method=lasso) \n",
    "pce2.fit(x,y)"
   ]
  },
  {
   "cell_type": "markdown",
   "metadata": {},
   "source": [
    "Compute PCE coefficients with Ridge regression."
   ]
  },
  {
   "cell_type": "code",
   "execution_count": 7,
   "metadata": {},
   "outputs": [],
   "source": [
    "ridge = PolyChaosRidge(poly_object=polys, learning_rate=0.01, iterations=1000, penalty=0.1)\n",
    "pce3 = PCE(method=ridge) \n",
    "pce3.fit(x,y)"
   ]
  },
  {
   "cell_type": "markdown",
   "metadata": {},
   "source": [
    "PCE surrogate is used to predict the behavior of the function at new samples."
   ]
  },
  {
   "cell_type": "code",
   "execution_count": 8,
   "metadata": {},
   "outputs": [],
   "source": [
    "x_test = dist.rvs(100)\n",
    "x_test.sort(axis=0) \n",
    "\n",
    "y_test = pce.predict(x_test)\n",
    "y_test2 = pce2.predict(x_test)\n",
    "y_test3 = pce3.predict(x_test)"
   ]
  },
  {
   "cell_type": "markdown",
   "metadata": {},
   "source": [
    "Plot training data, true function and PCE surrogate"
   ]
  },
  {
   "cell_type": "code",
   "execution_count": 9,
   "metadata": {},
   "outputs": [
    {
     "data": {
      "image/png": "[encoded data removed]",
      "text/plain": [
       "<Figure size 432x288 with 1 Axes>"
      ]
     },
     "metadata": {
      "needs_background": "light"
     },
     "output_type": "display_data"
    }
   ],
   "source": [
    "n_samples_ = 100\n",
    "x_ = np.linspace(min(x_test), max(x_test), n_samples_)\n",
    "f = function(x_)\n",
    "\n",
    "plt.figure()\n",
    "plt.plot(x_test, y_test, 'g', label='PCE predictor - OLS')\n",
    "plt.plot(x_test, y_test2, 'r', label='PCE predictor - LASSO')\n",
    "plt.plot(x_test, y_test3, 'b', label='PCE predictor - Ridge')\n",
    "plt.scatter(x, y, label='training data')\n",
    "plt.plot(x_, f, 'm', label='function')\n",
    "plt.title('PCE surrogate')\n",
    "#plt.ylim(-0.6,0.9)\n",
    "plt.legend(); plt.show()"
   ]
  },
  {
   "cell_type": "markdown",
   "metadata": {},
   "source": [
    "### Error Estimation"
   ]
  },
  {
   "cell_type": "markdown",
   "metadata": {},
   "source": [
    "Construct a validation dataset and get the validation error."
   ]
  },
  {
   "cell_type": "code",
   "execution_count": 10,
   "metadata": {},
   "outputs": [
    {
     "name": "stdout",
     "output_type": "stream",
     "text": [
      "Error from least squares regression is:  0.000982\n",
      "Error from LASSO regression is:  0.0012424\n",
      "Error from Ridge regression is:  0.0008246\n"
     ]
    }
   ],
   "source": [
    "n_samples = 20\n",
    "x_val = dist.rvs(n_samples)\n",
    "y_val = function(x_val)\n",
    "\n",
    "error = ErrorEstimation(surr_object=pce)\n",
    "error2 = ErrorEstimation(surr_object=pce2)\n",
    "error3 = ErrorEstimation(surr_object=pce3)\n",
    "\n",
    "print('Error from least squares regression is: ', error.validation(x_val, y_val))\n",
    "print('Error from LASSO regression is: ', error2.validation(x_val, y_val))\n",
    "print('Error from Ridge regression is: ', error3.validation(x_val, y_val))"
   ]
  },
  {
   "cell_type": "markdown",
   "metadata": {},
   "source": [
    "### Moment Estimation"
   ]
  },
  {
   "cell_type": "markdown",
   "metadata": {},
   "source": [
    "Returns mean and variance of the PCE surrogate."
   ]
  },
  {
   "cell_type": "code",
   "execution_count": 11,
   "metadata": {},
   "outputs": [
    {
     "name": "stdout",
     "output_type": "stream",
     "text": [
      "Moments from least squares regression : (0.08143, 0.136647)\n",
      "Moments from LASSO regression : (0.078796, 0.137014)\n",
      "Moments from Ridge regression : (0.081477, 0.13525)\n",
      "Moments from Monte Carlo integration:  (0.078906, 0.136831)\n"
     ]
    }
   ],
   "source": [
    "n_mc = 1000000\n",
    "x_mc = dist.rvs(n_mc)  \n",
    "y_mc = function(x_mc)  \n",
    "mu = np.mean(y_mc)\n",
    "\n",
    "print('Moments from least squares regression :', MomentEstimation(surr_object=pce).get())\n",
    "print('Moments from LASSO regression :', MomentEstimation(surr_object=pce2).get())\n",
    "print('Moments from Ridge regression :', MomentEstimation(surr_object=pce3).get())\n",
    "print('Moments from Monte Carlo integration: ', (round((1/n_mc)*np.sum(y_mc),6), round((1/n_mc)*np.sum((y_mc-mu)**2),6)))"
   ]
  }
 ],
 "metadata": {
  "kernelspec": {
   "display_name": "Python 3",
   "language": "python",
   "name": "python3"
  },
  "language_info": {
   "codemirror_mode": {
    "name": "ipython",
    "version": 3
   },
   "file_extension": ".py",
   "mimetype": "text/x-python",
   "name": "python",
   "nbconvert_exporter": "python",
   "pygments_lexer": "ipython3",
   "version": "3.7.7"
  }
 },
 "nbformat": 4,
 "nbformat_minor": 4
}
