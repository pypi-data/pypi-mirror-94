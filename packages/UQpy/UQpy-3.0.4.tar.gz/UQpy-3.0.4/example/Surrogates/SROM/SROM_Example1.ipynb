{
 "cells": [
  {
   "cell_type": "markdown",
   "metadata": {},
   "source": [
    "# Stochastic Reduce Order Model Example 1"
   ]
  },
  {
   "cell_type": "markdown",
   "metadata": {},
   "source": [
    "- Author: Mohit S. Chauhan \n",
    "- Date: June 4, 2018"
   ]
  },
  {
   "cell_type": "markdown",
   "metadata": {},
   "source": [
    "In this example, Stratified sampling is used to generate samples from Gamma distribution and weights are defined using Stochastic Reduce Order Model (SROM)."
   ]
  },
  {
   "cell_type": "markdown",
   "metadata": {},
   "source": [
    "Import the necessary libraries. Here we import standard libraries such as numpy and matplotlib, but also need to import the STS and SROM class from UQpy."
   ]
  },
  {
   "cell_type": "code",
   "execution_count": 1,
   "metadata": {},
   "outputs": [],
   "source": [
    "from UQpy.Surrogates import SROM\n",
    "from UQpy.SampleMethods import RectangularStrata, RectangularSTS\n",
    "from UQpy.Distributions import Gamma\n",
    "import scipy.stats as stats\n",
    "import matplotlib.pyplot as plt\n",
    "import numpy as np"
   ]
  },
  {
   "cell_type": "markdown",
   "metadata": {},
   "source": [
    "Create a distribution object for Gamma distribution with shape, shift and scale parameters as 2, 1 and 3."
   ]
  },
  {
   "cell_type": "code",
   "execution_count": 2,
   "metadata": {},
   "outputs": [],
   "source": [
    "marginals = [Gamma(a=2., loc=1., scale=3.), Gamma(a=2., loc=1., scale=3.)]"
   ]
  },
  {
   "cell_type": "markdown",
   "metadata": {},
   "source": [
    "Create a strata object."
   ]
  },
  {
   "cell_type": "code",
   "execution_count": 3,
   "metadata": {},
   "outputs": [],
   "source": [
    "strata = RectangularStrata(nstrata=[4, 4])"
   ]
  },
  {
   "cell_type": "markdown",
   "metadata": {},
   "source": [
    "Using UQpy STS class to generate samples for two random variables having Gamma distribution."
   ]
  },
  {
   "cell_type": "code",
   "execution_count": 4,
   "metadata": {},
   "outputs": [],
   "source": [
    "x = RectangularSTS(dist_object=marginals, strata_object=strata, nsamples_per_stratum=1)"
   ]
  },
  {
   "cell_type": "markdown",
   "metadata": {},
   "source": [
    "Run SROM using the defined Gamma distribution. Here we use the following parameters.\n",
    "\n",
    "- Gamma distribution with shape, shift and scale parameters as 2, 1 and 3.\n",
    "- First and second order moments about origin are 6 and 54.\n",
    "- Notice that pdf_target references the Gamma function directly and does not designate it as a string.\n",
    "- Samples are uncorrelated, i.e. also default value of correlation."
   ]
  },
  {
   "cell_type": "code",
   "execution_count": 5,
   "metadata": {},
   "outputs": [
    {
     "name": "stdout",
     "output_type": "stream",
     "text": [
      "UQpy: No properties list provided, execute the SROM by calling run method and specifying a properties list\n"
     ]
    }
   ],
   "source": [
    "y = SROM(samples=x.samples, target_dist_object=marginals, moments=np.array([[6., 6.], [54., 54.]]))\n",
    "y.run(properties=[True, True, True, True])"
   ]
  },
  {
   "cell_type": "markdown",
   "metadata": {},
   "source": [
    "Plot the samples and weights from SROM class. Also, compared with the CDF of gamma distrbution."
   ]
  },
  {
   "cell_type": "code",
   "execution_count": 6,
   "metadata": {},
   "outputs": [
    {
     "data": {
      "image/png": "[encoded data removed]",
      "text/plain": [
       "<Figure size 432x288 with 1 Axes>"
      ]
     },
     "metadata": {
      "needs_background": "light"
     },
     "output_type": "display_data"
    },
    {
     "data": {
      "image/png": "[encoded data removed]",
      "text/plain": [
       "<Figure size 432x288 with 1 Axes>"
      ]
     },
     "metadata": {
      "needs_background": "light"
     },
     "output_type": "display_data"
    }
   ],
   "source": [
    "c = np.concatenate((y.samples, y.sample_weights.reshape(y.sample_weights.shape[0], 1)), axis=1)\n",
    "d = c[c[:, 0].argsort()]\n",
    "plt.plot(d[:, 0], np.cumsum(d[:, 2], axis=0), 'o')\n",
    "plt.plot(np.arange(1,15,0.1), stats.gamma.cdf(np.arange(1,15,0.1), 2, loc=1, scale=3))\n",
    "plt.legend(['RV1_SROM','CDF'])\n",
    "plt.show()\n",
    "e = c[c[:, 1].argsort()]\n",
    "plt.plot(e[:, 1], np.cumsum(e[:, 2], axis=0), 'o')\n",
    "plt.plot(np.arange(1,15,0.1), stats.gamma.cdf(np.arange(1,15,0.1), 2, loc=1, scale=3))\n",
    "plt.legend(['RV2_SROM','CDF'])\n",
    "plt.show()"
   ]
  },
  {
   "cell_type": "markdown",
   "metadata": {},
   "source": [
    "A note on the weights corresponding to error in distribution, moments and correlation of random variables:\n",
    "\n",
    "- For this illustration, error_weigths are not defined and default value is [1, 0.2, 0]. These weights can be changed to obtain desired accuracy in certain properties."
   ]
  },
  {
   "cell_type": "code",
   "execution_count": 7,
   "metadata": {},
   "outputs": [
    {
     "name": "stdout",
     "output_type": "stream",
     "text": [
      "[0.04411245 0.09412891 0.10762481 0.0277126  0.02274106 0.06097593\n",
      " 0.05701803 0.07154612 0.11776744 0.00951533 0.03850448 0.07432444\n",
      " 0.02645018 0.07467024 0.06699009 0.1059179 ]\n"
     ]
    }
   ],
   "source": [
    "print(y.sample_weights)"
   ]
  }
 ],
 "metadata": {
  "kernelspec": {
   "display_name": "Python 3",
   "language": "python",
   "name": "python3"
  },
  "language_info": {
   "codemirror_mode": {
    "name": "ipython",
    "version": 3
   },
   "file_extension": ".py",
   "mimetype": "text/x-python",
   "name": "python",
   "nbconvert_exporter": "python",
   "pygments_lexer": "ipython3",
   "version": "3.7.7"
  }
 },
 "nbformat": 4,
 "nbformat_minor": 2
}
