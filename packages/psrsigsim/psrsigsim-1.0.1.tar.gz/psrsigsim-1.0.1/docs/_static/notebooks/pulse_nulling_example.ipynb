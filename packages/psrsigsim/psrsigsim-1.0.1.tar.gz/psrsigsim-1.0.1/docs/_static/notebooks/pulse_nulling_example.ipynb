{
 "cells": [
  {
   "cell_type": "markdown",
   "metadata": {},
   "source": [
    "# Pulse Nulling: Example Notebook\n",
    "\n",
    "This notebook will serve as an example of how to use the pulse nulling feature of the `Pulse Signal Simulator`. "
   ]
  },
  {
   "cell_type": "code",
   "execution_count": 1,
   "metadata": {},
   "outputs": [],
   "source": [
    "# Start by importing the packages we will need for the simulation.\n",
    "import psrsigsim as pss \n",
    "\n",
    "# Additional necessary packages\n",
    "import numpy as np\n",
    "import matplotlib.pyplot as plt\n",
    "# helpful magic lines\n",
    "%matplotlib inline"
   ]
  },
  {
   "cell_type": "markdown",
   "metadata": {},
   "source": [
    "We define a plotting convenience function for later."
   ]
  },
  {
   "cell_type": "code",
   "execution_count": 2,
   "metadata": {},
   "outputs": [],
   "source": [
    "# Define a function for easier plotting later on/throughout the testing\n",
    "def plotsignal(signals, nbins=2048):\n",
    "    # signals can be a list of multiple signals to overplot\n",
    "    for ii in range(len(signals)):\n",
    "        # Define the x axis\n",
    "        phases = np.linspace(0.0, len(signals[ii]), len(signals[ii]))/nbins\n",
    "        # now plot it\n",
    "        plt.plot(phases, signals[ii], label=\"signal %s\" % (ii))\n",
    "    plt.xlim([0.0, np.max(phases)])\n",
    "    plt.xlabel(\"Pulse Phase\")\n",
    "    plt.ylabel(\"Arb. Flux\")\n",
    "    plt.show()\n",
    "    plt.close()"
   ]
  },
  {
   "cell_type": "markdown",
   "metadata": {},
   "source": [
    "Now we will define some example simulation parameters. The warning generated below may be ignored."
   ]
  },
  {
   "cell_type": "code",
   "execution_count": 3,
   "metadata": {},
   "outputs": [
    {
     "name": "stdout",
     "output_type": "stream",
     "text": [
      "Warning: specified sample rate 0.002048 MHz < Nyquist frequency 1600.0 MHz\n"
     ]
    }
   ],
   "source": [
    "# define the required filterbank signal parameters\n",
    "f0 = 1380 # center observing frequecy in MHz\n",
    "bw = 800.0 # observation MHz\n",
    "Nf = 2 # number of frequency channels\n",
    "F0 = np.double(1.0) # pulsar frequency in Hz\n",
    "f_samp = F0*2048*10**-6 # sample rate of data in MHz, here 2048 bins across the pulse\n",
    "subintlen = 1.0 # desired length of fold-mode subintegration in seconds\n",
    "# Now we define our signal\n",
    "null_signal = pss.signal.FilterBankSignal(fcent = f0, bandwidth = bw, Nsubband=Nf,\\\n",
    "                                          sample_rate=f_samp, fold=True, sublen=subintlen)"
   ]
  },
  {
   "cell_type": "markdown",
   "metadata": {},
   "source": [
    "Now we define an example Gaussian pulse shape. Details on defining a pulse shape from a data array may be found in the example notebook in the docs."
   ]
  },
  {
   "cell_type": "code",
   "execution_count": 4,
   "metadata": {},
   "outputs": [],
   "source": [
    "prof = pss.pulsar.GaussProfile(peak=0.5, width=0.05, amp=1.0)"
   ]
  },
  {
   "cell_type": "markdown",
   "metadata": {},
   "source": [
    "Now we define an example pulsar."
   ]
  },
  {
   "cell_type": "code",
   "execution_count": 5,
   "metadata": {},
   "outputs": [],
   "source": [
    "# Define the necessary parameters\n",
    "period = np.double(1.0)/F0 # seconds\n",
    "flux = 0.1 # Jy\n",
    "psr_name = \"J0000+0000\"\n",
    "# Define the pulsar object\n",
    "pulsar = pss.pulsar.Pulsar(period=period, Smean=flux, profiles=prof, name=psr_name)"
   ]
  },
  {
   "cell_type": "markdown",
   "metadata": {},
   "source": [
    "Now we actually make the pulsar signal. Note that if the observation length is very long all the data will be saved in memory which may crash the computer or slow it down significantly."
   ]
  },
  {
   "cell_type": "code",
   "execution_count": 6,
   "metadata": {},
   "outputs": [],
   "source": [
    "# Define the observation time, in seconds\n",
    "ObsTime = 3.0 # seconds\n",
    "# make the pulses\n",
    "pulsar.make_pulses(null_signal, tobs = ObsTime)"
   ]
  },
  {
   "cell_type": "markdown",
   "metadata": {},
   "source": [
    "Now let's take a look at what the signals look like."
   ]
  },
  {
   "cell_type": "code",
   "execution_count": 7,
   "metadata": {},
   "outputs": [
    {
     "data": {
      "image/png": "[encoded data removed]",
      "text/plain": [
       "<Figure size 432x288 with 1 Axes>"
      ]
     },
     "metadata": {
      "needs_background": "light"
     },
     "output_type": "display_data"
    }
   ],
   "source": [
    "# We plot just the first frequency channel, but all pulses simulated\n",
    "plotsignal([null_signal.data[0,:]])"
   ]
  },
  {
   "cell_type": "markdown",
   "metadata": {},
   "source": [
    "Now we can disperse the simuated data if desired. Note that this is not required, and if you only want to simulate a single frequency channel or simulate coherently dedispersed data, the data does not have to be dispersed."
   ]
  },
  {
   "cell_type": "code",
   "execution_count": 8,
   "metadata": {},
   "outputs": [
    {
     "name": "stdout",
     "output_type": "stream",
     "text": [
      "\r",
      "100% dispersed in 0.001 seconds."
     ]
    },
    {
     "data": {
      "image/png": "[encoded data removed]",
      "text/plain": [
       "<Figure size 432x288 with 1 Axes>"
      ]
     },
     "metadata": {
      "needs_background": "light"
     },
     "output_type": "display_data"
    }
   ],
   "source": [
    "# First define the dispersion measure\n",
    "dm = 10.0 # pc cm^-3\n",
    "# Now define the ISM class\n",
    "ism_ob = pss.ism.ISM()\n",
    "# Now we give the ISM class the signal and disperse the data\n",
    "ism_ob.disperse(null_signal, dm)\n",
    "# If we plot the same pulses as above, you can see that the phase of the pulse has\n",
    "# been shfited due to the dispersion\n",
    "plotsignal([null_signal.data[0,:]])"
   ]
  },
  {
   "cell_type": "markdown",
   "metadata": {},
   "source": [
    "This is where the pulses should be nulled if desired. This can be run easily by giving the pulsar object only the signal class and the null fraction as a value between 0 and 1. The simulator will null as close to the null fraction as desired, and will round to the closest integer number of pulses to null based on the input nulling fraction, e.g. if 5 pulses are simulated and the nulling fraction is 0.5, it will round to null 3 pulses. Additionally, currently only the ability to null the pulses randomly is implemented. \n",
    "\n",
    "Here we will put in a nulling fraction of 33%."
   ]
  },
  {
   "cell_type": "code",
   "execution_count": 9,
   "metadata": {},
   "outputs": [],
   "source": [
    "pulsar.null(null_signal, 0.34)"
   ]
  },
  {
   "cell_type": "code",
   "execution_count": 10,
   "metadata": {},
   "outputs": [
    {
     "data": {
      "image/png": "[encoded data removed]",
      "text/plain": [
       "<Figure size 432x288 with 1 Axes>"
      ]
     },
     "metadata": {
      "needs_background": "light"
     },
     "output_type": "display_data"
    }
   ],
   "source": [
    "# and plot the signal to show the null\n",
    "plotsignal([null_signal.data[0,:]])"
   ]
  },
  {
   "cell_type": "markdown",
   "metadata": {},
   "source": [
    "We can also add radiometer noise from some observing telescope. This should only be run AFTER the pulsar nulling, but is not required. For our example, we will use the L-band feed for the Arecibo telescope. Note that here since we have set the pulsar flux very high we can easily see the single pulses above the noise."
   ]
  },
  {
   "cell_type": "code",
   "execution_count": 11,
   "metadata": {},
   "outputs": [
    {
     "name": "stderr",
     "output_type": "stream",
     "text": [
      "WARNING: AstropyDeprecationWarning: The truth value of a Quantity is ambiguous. In the future this will raise a ValueError. [astropy.units.quantity]\n"
     ]
    },
    {
     "data": {
      "image/png": "[encoded data removed]",
      "text/plain": [
       "<Figure size 432x288 with 1 Axes>"
      ]
     },
     "metadata": {
      "needs_background": "light"
     },
     "output_type": "display_data"
    }
   ],
   "source": [
    "# We define the telescope object\n",
    "tscope = pss.telescope.telescope.Arecibo()\n",
    "# Now add radiometer noise; ignore the output here, the noise is added directly to the signal\n",
    "output = tscope.observe(null_signal, pulsar, system=\"Lband_PUPPI\", noise=True)\n",
    "# and plot the signal to show the added noise\n",
    "plotsignal([null_signal.data[0,:]])"
   ]
  },
  {
   "cell_type": "markdown",
   "metadata": {},
   "source": [
    "Now we can save the data in a `PSRCHIVE pdv` format. This is done with the `txtfile` class. The save function will dump a new file for every 100 pulses that it writes to the text file. We start by initializing the `txtfile` object. The only input needed here is the `path` variable, which will tell the simulator where to save the data. All files saved will have \"_\\#.txt\" added to the end of the `path` variable."
   ]
  },
  {
   "cell_type": "code",
   "execution_count": 12,
   "metadata": {},
   "outputs": [],
   "source": [
    "txtfile = pss.io.TxtFile(path=\"PsrSigSim_Simulated_Pulsar.ar\")\n",
    "# Now we call the saving function. Note that depending on the length of the simulated data this may take awhile\n",
    "# the two inputs are the signal and the pulsar objects used to simulate the data.\n",
    "txtfile.save_psrchive_pdv(null_signal, pulsar)"
   ]
  },
  {
   "cell_type": "markdown",
   "metadata": {},
   "source": [
    "And that's all that there should be to it. Let us know if you have any questions moving forward, or if something is not working as it should be."
   ]
  },
  {
   "cell_type": "markdown",
   "metadata": {},
   "source": [
    "### Note about randomly generated pulses and noise\n",
    "\n",
    "`PsrSigSim` uses `numpy.random` under the hood in order to generate the radio pulses and various types of noise. If a user desires or requires that this randomly generated data is reproducible we recommend using a call to the seed generator native to `Numpy` before calling the function that produces the random noise/pulses. Newer versions of `Numpy` are moving toward slightly different [functionality/syntax](https://numpy.org/doc/stable/reference/random/index.html), but are essentially used in the same way. \n",
    "```\n",
    "numpy.random.seed(1776)\n",
    "pulsar_1.make_pulses(signal_1, tobs=obslen)\n",
    "\n",
    "```"
   ]
  },
  {
   "cell_type": "code",
   "execution_count": null,
   "metadata": {},
   "outputs": [],
   "source": []
  }
 ],
 "metadata": {
  "kernelspec": {
   "display_name": "Python (pss)",
   "language": "python",
   "name": "pss"
  },
  "language_info": {
   "codemirror_mode": {
    "name": "ipython",
    "version": 3
   },
   "file_extension": ".py",
   "mimetype": "text/x-python",
   "name": "python",
   "nbconvert_exporter": "python",
   "pygments_lexer": "ipython3",
   "version": "3.6.2"
  }
 },
 "nbformat": 4,
 "nbformat_minor": 2
}
