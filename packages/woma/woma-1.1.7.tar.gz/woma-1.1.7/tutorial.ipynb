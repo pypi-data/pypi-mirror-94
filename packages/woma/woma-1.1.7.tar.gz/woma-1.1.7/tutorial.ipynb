{
 "cells": [
  {
   "cell_type": "markdown",
   "metadata": {},
   "source": [
    "![WoMa](http://astro.dur.ac.uk/~cklv53/woma_logo.png \"WoMa\")\n",
    " <a id=\"top\"></a>"
   ]
  },
  {
   "cell_type": "markdown",
   "metadata": {},
   "source": [
    "# Welcome to WoMa"
   ]
  },
  {
   "cell_type": "markdown",
   "metadata": {},
   "source": [
    "This tutorial notebook covers the main features of WoMa. Let's get started!\n",
    "\n",
    "Also see the `README.md` for more documentation."
   ]
  },
  {
   "cell_type": "markdown",
   "metadata": {},
   "source": [
    "## Contents:\n",
    "[1.](#1_spherical_profiles) Spherical profiles\n",
    "\n",
    "[2.](#2_spinning_profiles) Spinning profiles\n",
    "\n",
    "[3.](#3_particles) Particle placement\n",
    "\n",
    "[4.](#4_impact_initial_conditions) (Bonus) Impact initial conditions"
   ]
  },
  {
   "cell_type": "markdown",
   "metadata": {},
   "source": [
    "#### Quick notes\n",
    "We refer to the bodies as \"planets\" but these methods can be applied to anything in hydrostatic equilibrium.\n",
    "\n",
    "See [Ruiz-Bonilla et al. 2020](https://arxiv.org/abs/2007.02965) for the full descriptions of the methods.\n",
    "\n",
    "Most WoMa functions take an optional `verbosity` argument that controls the amount of printed information. Set `0` for no printing, `1` for standard output, or `2` for extra details.\n",
    "\n",
    "Arrays in WoMa are explicitly labelled with a prefix `A1_`, or `An_` for an `n`-dimensional array.\n",
    "\n",
    "Further developments and extensions to WoMa are actively ongoing, so do let us know if there is a feature you would like, or of course if you find any bugs!"
   ]
  },
  {
   "cell_type": "markdown",
   "metadata": {},
   "source": [
    "---"
   ]
  },
  {
   "cell_type": "markdown",
   "metadata": {},
   "source": [
    " <a id=\"1_spherical_profiles\"></a>"
   ]
  },
  {
   "cell_type": "markdown",
   "metadata": {},
   "source": [
    " ## 1. Spherical profiles"
   ]
  },
  {
   "cell_type": "markdown",
   "metadata": {},
   "source": [
    "First let's import WoMa, set some constants, and make a simple plotting function to display the planets we create:"
   ]
  },
  {
   "cell_type": "code",
   "execution_count": null,
   "metadata": {},
   "outputs": [],
   "source": [
    "import woma\n",
    "import matplotlib.pyplot as plt\n",
    "\n",
    "R_earth = 6.371e6   # m\n",
    "M_earth = 5.9724e24  # kg m^-3 \n",
    "\n",
    "def plot_spherical_profiles(planet):    \n",
    "    fig, ax = plt.subplots(2, 2, figsize=(8,8))\n",
    "    \n",
    "    ax[0, 0].plot(planet.A1_r / R_earth, planet.A1_rho)\n",
    "    ax[0, 0].set_xlabel(r\"Radius, $r$ $[R_\\oplus]$\")\n",
    "    ax[0, 0].set_ylabel(r\"Density, $\\rho$ [kg m$^{-3}$]\")\n",
    "    ax[0, 0].set_yscale(\"log\")\n",
    "    ax[0, 0].set_xlim(0, None)\n",
    "    \n",
    "    ax[1, 0].plot(planet.A1_r / R_earth, planet.A1_m_enc / M_earth)\n",
    "    ax[1, 0].set_xlabel(r\"Radius, $r$ $[R_\\oplus]$\")\n",
    "    ax[1, 0].set_ylabel(r\"Enclosed Mass, $M_{<r}$ $[M_\\oplus]$\")\n",
    "    ax[1, 0].set_xlim(0, None)\n",
    "    ax[1, 0].set_ylim(0, None)\n",
    "    \n",
    "    ax[0, 1].plot(planet.A1_r / R_earth, planet.A1_P)\n",
    "    ax[0, 1].set_xlabel(r\"Radius, $r$ $[R_\\oplus]$\")\n",
    "    ax[0, 1].set_ylabel(r\"Pressure, $P$ [Pa]\")\n",
    "    ax[0, 1].set_yscale(\"log\")\n",
    "    ax[0, 1].set_xlim(0, None)\n",
    "    \n",
    "    ax[1, 1].plot(planet.A1_r / R_earth, planet.A1_T)\n",
    "    ax[1, 1].set_xlabel(r\"Radius, $r$ $[R_\\oplus]$\")\n",
    "    ax[1, 1].set_ylabel(r\"Temperature, $T$ [K]\")\n",
    "    ax[1, 1].set_xlim(0, None)\n",
    "    ax[1, 1].set_ylim(0, None)\n",
    "    \n",
    "    plt.tight_layout()\n",
    "    plt.show()"
   ]
  },
  {
   "cell_type": "markdown",
   "metadata": {},
   "source": [
    "### 1.1 One-layer planets"
   ]
  },
  {
   "cell_type": "markdown",
   "metadata": {},
   "source": [
    "Let's start by building a simple, spherical, 1 layer planet.\n",
    "\n",
    "WoMa provides many options for which inputs you provide and which are calculated. We'll cover other options later, or see the `README.md` for the full documentation.\n",
    "\n",
    "For any planet we want to build, we need to specify:\n",
    "- The equation of state (EoS) for every material: e.g. Tillotson basalt. \n",
    "- A temperature--density relation for every material: e.g. adiabatic, a power-law $T\\propto\\rho^\\alpha$ ($\\alpha=0$ for isothermal), or a fixed specific entropy.\n",
    "- The temperature $T_{\\rm s}$ and either the pressure $P_{\\rm s}$ or density $\\rho_{\\rm s}$ at the surface of the planet. e.g. $P_{\\rm s}=10^5\\, \\rm Pa$ and $T_{\\rm s}=500\\, \\rm K$. For a fixed-entropy relation, only $\\rho_{\\rm s}$ is needed."
   ]
  },
  {
   "cell_type": "code",
   "execution_count": null,
   "metadata": {},
   "outputs": [],
   "source": [
    "planet = woma.Planet(\n",
    "    name            = \"my_first_planet\",\n",
    "    A1_mat_layer    = [\"Til_basalt\"],\n",
    "    A1_T_rho_type   = [\"power=2\"],\n",
    "    P_s             = 1e5,\n",
    "    T_s             = 500,\n",
    ")"
   ]
  },
  {
   "cell_type": "markdown",
   "metadata": {},
   "source": [
    "For spherical 1 layer planets we can specify either the total radius `R` or the total mass `M` of the planet, then WoMa will find the value for the other such that we get a valid planet in hydrostatic equilibrium.\n",
    "\n",
    "Let's set our planet's radius to $1~R_\\oplus$. (We could have set this along with the other parameters in the previous cell.)"
   ]
  },
  {
   "cell_type": "code",
   "execution_count": null,
   "metadata": {},
   "outputs": [],
   "source": [
    "planet.R = R_earth"
   ]
  },
  {
   "cell_type": "markdown",
   "metadata": {},
   "source": [
    "We now select the appropiate method to make the planet profiles.\n",
    "\n",
    "In this case, we are generating (`gen_prof`) a one layer planet (`L1`) and need to find the mass (`find_M`) for our chosen radius (`given_R`). This function also needs a rough value for the maximum mass `M_max`, let's say a generous $2~M_\\oplus$."
   ]
  },
  {
   "cell_type": "code",
   "execution_count": null,
   "metadata": {},
   "outputs": [],
   "source": [
    "planet.gen_prof_L1_find_M_given_R(M_max=2 * M_earth)"
   ]
  },
  {
   "cell_type": "markdown",
   "metadata": {},
   "source": [
    "We can see from the printed output (or by printing `planet.M`) that the mass of our planet is about $\\tfrac{2}{3}~M_\\oplus$, along with other information.\n",
    "\n",
    "Let's plot the resulting profiles:"
   ]
  },
  {
   "cell_type": "code",
   "execution_count": null,
   "metadata": {},
   "outputs": [],
   "source": [
    "plot_spherical_profiles(planet)"
   ]
  },
  {
   "cell_type": "markdown",
   "metadata": {},
   "source": [
    "As mentioned above, we could instead set the total mass `M` to derive the radius. \n",
    "\n",
    "Let's also try an isothermal temperature relation."
   ]
  },
  {
   "cell_type": "code",
   "execution_count": null,
   "metadata": {
    "scrolled": true
   },
   "outputs": [],
   "source": [
    "planet = woma.Planet(\n",
    "    name            = \"my_second_planet\",\n",
    "    A1_mat_layer    = [\"Til_basalt\"],\n",
    "    A1_T_rho_type   = [\"power=0\"],\n",
    "    P_s             = 1e5,\n",
    "    T_s             = 500,\n",
    "    M               = M_earth,\n",
    ")\n",
    "\n",
    "# Generate the profiles\n",
    "planet.gen_prof_L1_find_R_given_M(R_max=2 * R_earth)\n",
    "\n",
    "# Plot the results\n",
    "plot_spherical_profiles(planet)"
   ]
  },
  {
   "cell_type": "markdown",
   "metadata": {},
   "source": [
    "### 1.2 Two-layer planets"
   ]
  },
  {
   "cell_type": "markdown",
   "metadata": {},
   "source": [
    "Let's move on to make some 2 layer planets. \n",
    "\n",
    "We'll also try some more realistic ANEOS equations of state for an Earth-like core and mantle, with adiabatic temperature--density relations, the inner one at a chosen specific entropy:"
   ]
  },
  {
   "cell_type": "code",
   "execution_count": null,
   "metadata": {},
   "outputs": [],
   "source": [
    "planet = woma.Planet(\n",
    "    name            = \"hello_world\",\n",
    "    A1_mat_layer    = [\"ANEOS_Fe85Si15\", \"ANEOS_forsterite\"],\n",
    "    A1_T_rho_type   = [\"entropy=1500\", \"adiabatic\"],\n",
    "    P_s             = 1e5,\n",
    "    T_s             = 1000,\n",
    ")"
   ]
  },
  {
   "cell_type": "markdown",
   "metadata": {},
   "source": [
    "For 2 layer planets we have more options for which properties of our planet we choose and which unknowns are derived. \n",
    "\n",
    "For example, we can set the total mass `M` and radius `R`, and get WoMa to find the boundary radius. (We could have set these along with the other parameters in the previous cell.)"
   ]
  },
  {
   "cell_type": "code",
   "execution_count": null,
   "metadata": {},
   "outputs": [],
   "source": [
    "planet.M = M_earth\n",
    "planet.R = R_earth\n",
    "\n",
    "# Generate the profiles\n",
    "planet.gen_prof_L2_find_R1_given_M_R()\n",
    "\n",
    "# Plot the results\n",
    "plot_spherical_profiles(planet)"
   ]
  },
  {
   "cell_type": "markdown",
   "metadata": {},
   "source": [
    "Or, we could set the masses of each layer, `A1_M_layer`, and get WoMa to find the radii of the boundary and the outer edge. As before, we also need to give minimum and maximum radii.\n",
    "\n",
    "Let's try a random mix of SESAME and Tillotson materials with an adiabatic mantle and a power-law core:"
   ]
  },
  {
   "cell_type": "code",
   "execution_count": null,
   "metadata": {
    "scrolled": true
   },
   "outputs": [],
   "source": [
    "planet = woma.Planet(\n",
    "    A1_mat_layer    = [\"Til_iron\", \"SESAME_basalt\"],\n",
    "    A1_T_rho_type   = [\"power=0.5\", \"adiabatic\"],\n",
    "    P_s             = 1e5,\n",
    "    T_s             = 1000,\n",
    "    A1_M_layer      = [0.3 * M_earth, 0.7 * M_earth],\n",
    ")\n",
    "\n",
    "# Generate the profiles\n",
    "planet.gen_prof_L2_find_R_R1_given_M1_M2(R_min=0.9 * R_earth, R_max=1.1 * R_earth)\n",
    "\n",
    "# Plot the results\n",
    "plot_spherical_profiles(planet)"
   ]
  },
  {
   "cell_type": "markdown",
   "metadata": {},
   "source": [
    "### 1.3 Three-layer planets"
   ]
  },
  {
   "cell_type": "markdown",
   "metadata": {},
   "source": [
    "With 3 layers there are a huge number of possible inputs and unknowns, several but not all of which are available in WoMa. Some of these require repeated iterations over multiple variables, so can take several minutes.\n",
    "\n",
    "Further developments are actively ongoing, so if you have a particular choice of parameters that you'd like to set and/or determine then please let us know! You can of course do the iterations yourself, systematically varying an input to a WoMa function until you get the output you need.\n",
    "\n",
    "For example, let's create an ice giant by setting the total mass and the radii at the base and top of the atmosphere."
   ]
  },
  {
   "cell_type": "code",
   "execution_count": null,
   "metadata": {},
   "outputs": [],
   "source": [
    "planet = woma.Planet(\n",
    "    A1_mat_layer    = [\"HM80_rock\", \"HM80_ice\", \"HM80_HHe\"],\n",
    "    A1_T_rho_type   = [\"power=0\", \"power=0.9\", \"adiabatic\"],\n",
    "    P_s             = 1e5,\n",
    "    T_s             = 70,\n",
    "    M               = 14.5 * M_earth,\n",
    "    A1_R_layer      = [None, 3 * R_earth, 4 * R_earth],\n",
    ")\n",
    "\n",
    "# Generate the profiles\n",
    "planet.gen_prof_L3_find_R1_given_M_R_R2()\n",
    "\n",
    "# Plot the results\n",
    "plot_spherical_profiles(planet)"
   ]
  },
  {
   "cell_type": "markdown",
   "metadata": {},
   "source": [
    "Let's make one final Earth-like (ish) planet and add a thick atmosphere on top of the inner two layers.\n",
    "\n",
    "The atmosphere's mass will depend primarily on the pressure at its base, so we need to keep that in mind when we make the inner two-layer planet first, for which we'll set the masses of each layer and let WoMa find the radii.\n",
    "\n",
    "We also need to set the minimum density and/or pressure at which our atmosphere will stop, since in this case the third layer profiles are integrated outwards."
   ]
  },
  {
   "cell_type": "code",
   "execution_count": null,
   "metadata": {},
   "outputs": [],
   "source": [
    "planet = woma.Planet(\n",
    "    A1_mat_layer    = [\"Til_iron\", \"Til_basalt\"],\n",
    "    A1_T_rho_type   = [\"power=2\", \"power=2\"],\n",
    "    A1_M_layer      = [0.3 * M_earth, 0.7 * M_earth],\n",
    "    P_s             = 1e8,\n",
    "    T_s             = 1000,\n",
    ")\n",
    "\n",
    "# Generate the profiles\n",
    "planet.gen_prof_L2_find_R_R1_given_M1_M2(\n",
    "    R_min=0.9 * R_earth, R_max=1.1 * R_earth, verbosity=0\n",
    ")\n",
    "\n",
    "# Generate the new layer on top\n",
    "planet.gen_prof_given_inner_prof(\n",
    "    mat         = \"HM80_HHe\", \n",
    "    T_rho_type  = \"adiabatic\", \n",
    "    rho_min     = 10, \n",
    "    P_min       = 0,\n",
    ")\n",
    "\n",
    "# Plot the results\n",
    "plot_spherical_profiles(planet)"
   ]
  },
  {
   "cell_type": "markdown",
   "metadata": {},
   "source": [
    "---"
   ]
  },
  {
   "cell_type": "markdown",
   "metadata": {},
   "source": [
    " <a id=\"2_spinning_profiles\"></a>"
   ]
  },
  {
   "cell_type": "markdown",
   "metadata": {},
   "source": [
    "[Back to Contents](#top)"
   ]
  },
  {
   "cell_type": "markdown",
   "metadata": {},
   "source": [
    "## 2. Spinning profiles"
   ]
  },
  {
   "cell_type": "markdown",
   "metadata": {},
   "source": [
    "As described in [Ruiz-Bonilla et al. 2020](...), a spinning body can be modelled as a system of thin, concentric spheroids of constant density.\n",
    "\n",
    "First, like we did for the spherical profiles, let's import WoMa, set some constants, and make a simple plotting function to display the planets we create."
   ]
  },
  {
   "cell_type": "code",
   "execution_count": null,
   "metadata": {},
   "outputs": [],
   "source": [
    "import woma\n",
    "import matplotlib.pyplot as plt\n",
    "from matplotlib.patches import Ellipse\n",
    "import numpy as np\n",
    "\n",
    "R_earth = 6.371e6   # m\n",
    "M_earth = 5.9724e24  # kg m^-3 \n",
    "\n",
    "def plot_spinning_profiles(sp):    \n",
    "    fig, ax = plt.subplots(1, 2, figsize=(12,6))\n",
    "        \n",
    "    ax[0].plot(sp.planet.A1_r / R_earth, sp.planet.A1_rho, label=\"original spherical\")\n",
    "    ax[0].plot(sp.A1_R / R_earth, sp.A1_rho, label=\"equatorial\")\n",
    "    ax[0].plot(sp.A1_Z / R_earth, sp.A1_rho, label=\"polar\")\n",
    "    ax[0].set_xlabel(r\"Radius, $r$ $[R_\\oplus]$\")\n",
    "    ax[0].set_ylabel(r\"Density, $\\rho$ [kg m$^{-3}$]\")\n",
    "    ax[0].set_yscale(\"log\")\n",
    "    ax[0].set_xlim(0, 1.1 * sp.R_eq / R_earth)\n",
    "    ax[0].legend()\n",
    "    \n",
    "    for i, e in enumerate([\n",
    "        Ellipse(\n",
    "            xy=[0, 0],\n",
    "            width=2 * sp.A1_R[i] / R_earth, \n",
    "            height=2 * sp.A1_Z[i] / R_earth,\n",
    "            zorder=-i,\n",
    "        )\n",
    "        for i in range(len(sp.A1_R))\n",
    "    ]):\n",
    "        ax[1].add_artist(e)\n",
    "        e.set_clip_box(ax[1].bbox)\n",
    "        e.set_facecolor(plt.get_cmap(\"viridis\")(\n",
    "            (sp.A1_rho[i] - sp.rho_s) / (sp.rho_0 - sp.rho_s)\n",
    "        ))\n",
    "    \n",
    "    ax[1].set_xlabel(r\"Equatorial Radius, $r_{xy}$ $[R_\\oplus]$\")\n",
    "    ax[1].set_ylabel(r\"Polar Radius, $z$ $[R_\\oplus]$\")    \n",
    "    ax[1].set_xlim(0, 1.1 * sp.R_eq / R_earth)\n",
    "    ax[1].set_ylim(0, 1.1 * sp.R_po / R_earth)\n",
    "    ax[1].set_aspect(\"equal\")\n",
    "    ax[1].set_title(r\"Density [kg m$^{-3}$]\")\n",
    "    \n",
    "    plt.tight_layout()\n",
    "    plt.show()"
   ]
  },
  {
   "cell_type": "markdown",
   "metadata": {},
   "source": [
    "To construct a spheroidal planet in WoMa we start from a spherical profile. Let's remake one of the simple 2 layer examples from the previous section as our input."
   ]
  },
  {
   "cell_type": "code",
   "execution_count": null,
   "metadata": {},
   "outputs": [],
   "source": [
    "planet = woma.Planet(\n",
    "    A1_mat_layer    = [\"Til_iron\", \"Til_basalt\"],\n",
    "    A1_T_rho_type   = [\"power=2\", \"power=2\"],\n",
    "    P_s             = 1e5,\n",
    "    T_s             = 1000,\n",
    "    M               = M_earth,\n",
    "    R               = R_earth,\n",
    ")\n",
    "\n",
    "# Generate the profiles\n",
    "planet.gen_prof_L2_find_R1_given_M_R(verbosity=0)"
   ]
  },
  {
   "cell_type": "markdown",
   "metadata": {},
   "source": [
    "We now use the `SpinPlanet` class and pass it the spherical planet with the period we want. Note the period is set in units of hours.\n",
    "\n",
    "Let's try a very rapid rotation for our Earth-like planet with a period of 4 hours.\n",
    "\n",
    "By default, the resulting total mass of our spinning planet is fixed to be the same as the input spherical planet. This does require some extra iteration over the faster base method, so if you don't need to keep the total mass precisely constant then set `fix_mass=False`."
   ]
  },
  {
   "cell_type": "code",
   "execution_count": null,
   "metadata": {},
   "outputs": [],
   "source": [
    "spin_planet = woma.SpinPlanet(\n",
    "    planet = planet,\n",
    "    period = 4, # h\n",
    ")"
   ]
  },
  {
   "cell_type": "markdown",
   "metadata": {},
   "source": [
    "Let's plot the resulting profiles using the spheroid data arrays:"
   ]
  },
  {
   "cell_type": "code",
   "execution_count": null,
   "metadata": {},
   "outputs": [],
   "source": [
    "plot_spinning_profiles(spin_planet)"
   ]
  },
  {
   "cell_type": "markdown",
   "metadata": {},
   "source": [
    "---"
   ]
  },
  {
   "cell_type": "markdown",
   "metadata": {},
   "source": [
    " <a id=\"3_particles\"></a>"
   ]
  },
  {
   "cell_type": "markdown",
   "metadata": {},
   "source": [
    "[Back to Contents](#top)"
   ]
  },
  {
   "cell_type": "markdown",
   "metadata": {},
   "source": [
    "## 3. Particle placement (e.g. for SPH) "
   ]
  },
  {
   "cell_type": "markdown",
   "metadata": {},
   "source": [
    "Creating particle representations with WoMa is done in the same way for spinning and spherical planets.\n",
    "\n",
    "For spherical profiles, we use the fast SEA algorithm ([Kegerreis et al. 2019](https://doi.org/10.1093/mnras/stz1606)) to place particles to precisely match the profile densities. \n",
    "\n",
    "For spinning profiles, we use a modified version of SEA as described in [Ruiz-Bonilla et al. 2020](...).\n",
    "\n",
    "The particles' other properties (e.g. temperature, material type) all match the input profiles too, with ~equal mass for all particles. The concentric shells of particles also align automatically with any material and surface boundaries in the profiles.\n",
    "\n",
    "Further documentation and examples for the [SEAGen](https://pypi.org/project/seagen/) python package are available at [github.com/jkeger/seagen](https://github.com/jkeger/seagen).\n",
    "\n",
    "Try `verbosity=1` or `2` for more information as well."
   ]
  },
  {
   "cell_type": "code",
   "execution_count": null,
   "metadata": {},
   "outputs": [],
   "source": [
    "import woma\n",
    "\n",
    "R_earth = 6.371e6   # m\n",
    "M_earth = 5.972e24  # kg m^-3 "
   ]
  },
  {
   "cell_type": "markdown",
   "metadata": {},
   "source": [
    "Let's start with a simple 2 layer spherical planet like we did above, then create two versions with sets of $10^4$ and $10^6$ particles:"
   ]
  },
  {
   "cell_type": "code",
   "execution_count": null,
   "metadata": {},
   "outputs": [],
   "source": [
    "planet = woma.Planet(\n",
    "    A1_mat_layer    = [\"Til_iron\", \"Til_basalt\"],\n",
    "    A1_T_rho_type   = [\"power=2\", \"power=2\"],\n",
    "    P_s             = 1e5,\n",
    "    T_s             = 1000,\n",
    "    M               = M_earth,\n",
    "    R               = R_earth,\n",
    ")\n",
    "\n",
    "# Generate the profiles\n",
    "planet.gen_prof_L2_find_R1_given_M_R(verbosity=0)"
   ]
  },
  {
   "cell_type": "code",
   "execution_count": null,
   "metadata": {},
   "outputs": [],
   "source": [
    "# Create the sets of particles\n",
    "particles_low_res = woma.ParticlePlanet(planet, 1e4, verbosity=0)\n",
    "\n",
    "particles_high_res = woma.ParticlePlanet(planet, 1e6, verbosity=0)"
   ]
  },
  {
   "cell_type": "markdown",
   "metadata": {},
   "source": [
    "We can now print, save, or do whatever we like with the particle data. \n",
    "\n",
    "See the `ParticlePlanet` class docstring in `woma/main.py` for the full output documentation.\n",
    "\n",
    "For example, let's just print the position, mass, density, and temperature of the 123$^{\\rm rd}$ particle:"
   ]
  },
  {
   "cell_type": "code",
   "execution_count": null,
   "metadata": {},
   "outputs": [],
   "source": [
    "print(particles_high_res.A2_pos[122] / R_earth, \"R_earth\")\n",
    "print(particles_high_res.A1_m[122] / M_earth, \"M_earth\")\n",
    "print(particles_high_res.A1_rho[122], \"kg m^-3\")\n",
    "print(particles_high_res.A1_T[122], \"K\")"
   ]
  },
  {
   "cell_type": "markdown",
   "metadata": {},
   "source": [
    "Note that the resulting number of particles may be slightly different from our input value. \n",
    "\n",
    "This is a consequence of needing to place integer numbers of particles in each shell, combined with the particle-mass tweaking required to align the particle shells with the profile boundaries."
   ]
  },
  {
   "cell_type": "code",
   "execution_count": null,
   "metadata": {},
   "outputs": [],
   "source": [
    "print(\"%.3e\" % particles_low_res.N_particles)\n",
    "print(\"%.3e\" % particles_high_res.N_particles)"
   ]
  },
  {
   "cell_type": "markdown",
   "metadata": {},
   "source": [
    "For a smoothed particle hydrodynamics (SPH) simulation, we can also input the number of neighbours for a quick and crude estimate of each particle's smoothing length from its density."
   ]
  },
  {
   "cell_type": "code",
   "execution_count": null,
   "metadata": {},
   "outputs": [],
   "source": [
    "particles_low_res = woma.ParticlePlanet(planet, 1e4, N_ngb=48, verbosity=0)\n",
    "\n",
    "print(particles_low_res.A1_h[122] / R_earth, \"R_earth\")"
   ]
  },
  {
   "cell_type": "markdown",
   "metadata": {},
   "source": [
    "Everything works the same for a spinning planet.\n",
    "\n",
    "Let's give our example planet a familiar rotation period, then place particles as before."
   ]
  },
  {
   "cell_type": "code",
   "execution_count": null,
   "metadata": {},
   "outputs": [],
   "source": [
    "spin_planet = woma.SpinPlanet(\n",
    "    planet      = planet,\n",
    "    period      = 24,  # h\n",
    "    verbosity   = 0,\n",
    ")"
   ]
  },
  {
   "cell_type": "code",
   "execution_count": null,
   "metadata": {},
   "outputs": [],
   "source": [
    "particles = woma.ParticlePlanet(spin_planet, 1e5, N_ngb=48)\n",
    "\n",
    "print(particles.A2_pos[122] / R_earth, \"R_earth\")"
   ]
  },
  {
   "cell_type": "markdown",
   "metadata": {},
   "source": [
    "Finally, we can save the particle data to an HDF5 file, using the same format as the open-source simulation code SWIFT (www.swiftsim.com):\n",
    "```python\n",
    "particles.save(\"particles.hdf5\")\n",
    "```\n",
    "See the `save()` method's docstring and  `save_particle_data()` in `woma/misc/io.py` for more details."
   ]
  },
  {
   "cell_type": "markdown",
   "metadata": {},
   "source": [
    "---"
   ]
  },
  {
   "cell_type": "markdown",
   "metadata": {},
   "source": [
    " <a id=\"4_impact_initial_conditions\"></a>"
   ]
  },
  {
   "cell_type": "markdown",
   "metadata": {},
   "source": [
    "[Back to Contents](#top)"
   ]
  },
  {
   "cell_type": "markdown",
   "metadata": {},
   "source": [
    "## 4. Impact initial conditions"
   ]
  },
  {
   "cell_type": "markdown",
   "metadata": {},
   "source": [
    "One of the motivations for WoMa's development was to create initial conditions for the modelling of planetary giant impacts. (Check out the open-source SWIFT code at www.swiftsim.com and see e.g. [icc.dur.ac.uk/giant_impacts/](http://icc.dur.ac.uk/giant_impacts/) for more info about these applications.)\n",
    "\n",
    "Therefore, we include here some simple utilities for setting up the initial conditions for an impact scenario between two planets, as described in Appendix A of [Kegerreis et al. (2020)](iopscience.iop.org/article/10.3847/1538-4357/ab9810). See `impact_pos_vel_b_v_c_r()` and `impact_pos_vel_b_v_c_t()` in `woma/misc/utils.py` for the full documentation.\n",
    "\n",
    "Note that while the particles placed by WoMa and SEAGen should be close to equilibrium for use in a simulation, it is recommended that you run a short \"relaxation\" simulation to allow any final settling to take place. In the case of standard SPH, particles at the density discontinuities of the outer surface and any interior boundaries will have incorrect smoothed densities and pressures. This can put the planet out of equilibrium even if the particles matched the input profiles perfectly."
   ]
  },
  {
   "cell_type": "code",
   "execution_count": null,
   "metadata": {},
   "outputs": [],
   "source": [
    "import woma\n",
    "import numpy as np\n",
    "\n",
    "R_earth = 6.371e6   # m\n",
    "M_earth = 5.9724e24  # kg m^-3 \n",
    "G = 6.67408e-11  # m^3 kg^-1 s^-2"
   ]
  },
  {
   "cell_type": "markdown",
   "metadata": {},
   "source": [
    "Let's assume we have our sets of prepared target and impactor particles, and now need to give them the correct initial positions and velocities for e.g. a canonical Moon-forming impact scenario.\n",
    "\n",
    "We'll set the speed at contact to be the mutual escape speed, and an impact angle of 45 degrees, starting in the rest frame of the target at the origin."
   ]
  },
  {
   "cell_type": "code",
   "execution_count": null,
   "metadata": {},
   "outputs": [],
   "source": [
    "# Example masses and radii of the target and impactor\n",
    "M_t = 0.887 * M_earth\n",
    "M_i = 0.133 * M_earth\n",
    "R_t = 0.96 * R_earth\n",
    "R_i = 0.57 * R_earth\n",
    "\n",
    "# Mutual escape speed\n",
    "v_esc = np.sqrt(2 * G * (M_t + M_i) / (R_t + R_i))\n",
    "\n",
    "# Initial position and velocity of the target\n",
    "A1_pos_t = np.array([0., 0., 0.])\n",
    "A1_vel_t = np.array([0., 0., 0.])"
   ]
  },
  {
   "cell_type": "markdown",
   "metadata": {},
   "source": [
    "We can specify either an initial separation of the body centres or a time before impact. \n",
    "\n",
    "The default input units are the dimensionless impact parameter, b = sin(B) where B is the impact angle, and the speed at contact, v_c, in m/s. Or we can choose to input the impact angle in degrees and the speed in terms of the mutual escape speed."
   ]
  },
  {
   "cell_type": "code",
   "execution_count": null,
   "metadata": {},
   "outputs": [],
   "source": [
    "# Initial position and velocity of the impactor\n",
    "\n",
    "# Set initial separation of 4 Earth radii\n",
    "# Default inputs: dimensionless impact parameter and SI speed\n",
    "A1_pos_i, A1_vel_i = woma.impact_pos_vel_b_v_c_r(\n",
    "    b       = np.sin(45 * np.pi/180), \n",
    "    v_c     = v_esc, \n",
    "    r       = 4 * R_earth, \n",
    "    R_t     = R_t, \n",
    "    R_i     = R_i, \n",
    "    M_t     = M_t, \n",
    "    M_i     = M_i,\n",
    ")\n",
    "\n",
    "print(A1_pos_i / R_earth, \"R_earth\")\n",
    "print(A1_vel_i, \"m/s\")"
   ]
  },
  {
   "cell_type": "code",
   "execution_count": null,
   "metadata": {},
   "outputs": [],
   "source": [
    "# Set time until contact of 1 hour\n",
    "# Instead: impact angle in degrees and speed in units of the escape speed\n",
    "A1_pos_i, A1_vel_i = woma.impact_pos_vel_b_v_c_t(\n",
    "    b           = 45,\n",
    "    v_c         = 1, \n",
    "    t           = 3600, \n",
    "    R_t         = R_t, \n",
    "    R_i         = R_i, \n",
    "    M_t         = M_t, \n",
    "    M_i         = M_i,\n",
    "    units_b     = \"B\", \n",
    "    units_v_c   = \"v_esc\",\n",
    ")\n",
    "\n",
    "print(A1_pos_i / R_earth, \"R_earth\")\n",
    "print(A1_vel_i, \"m/s\")"
   ]
  },
  {
   "cell_type": "markdown",
   "metadata": {},
   "source": [
    "These functions automatically rotate the coordinates such that the velocity at contact is in the negative x direction, which is simply a common aesthetic choice."
   ]
  },
  {
   "cell_type": "markdown",
   "metadata": {},
   "source": [
    "We might prefer to run a simulation in the centre-of-mass and zero-momentum frame, so let's translate the positions and velocities accordingly:"
   ]
  },
  {
   "cell_type": "code",
   "execution_count": null,
   "metadata": {},
   "outputs": [],
   "source": [
    "# Centre of mass\n",
    "A1_pos_com = (M_t * A1_pos_t + M_i * A1_pos_i) / (M_t + M_i)\n",
    "A1_pos_t -= A1_pos_com\n",
    "A1_pos_i -= A1_pos_com\n",
    "\n",
    "# Centre of momentum\n",
    "A1_vel_com = (M_t * A1_vel_t + M_i * A1_vel_i) / (M_t + M_i)\n",
    "A1_vel_t -= A1_vel_com\n",
    "A1_vel_i -= A1_vel_com\n",
    "\n",
    "print(A1_pos_t / R_earth, \"R_earth\")\n",
    "print(A1_vel_t, \"m/s\")\n",
    "print(A1_pos_i / R_earth, \"R_earth\")\n",
    "print(A1_vel_i, \"m/s\")"
   ]
  },
  {
   "cell_type": "markdown",
   "metadata": {},
   "source": [
    "These positions and velocities can now be added to all of the particles in our two planets to give the initial conditions for the impact simulation.\n",
    "\n",
    "It is usually worth first running a relaxation simulation with each planet in isolation to allow any final settling to occur and to double check your initial conditions, before then combining the particles.\n",
    "```python\n",
    "target.A2_pos += A1_pos_t\n",
    "target.A2_vel[:] = A1_vel_t\n",
    "\n",
    "impactor.A2_pos += A1_pos_i\n",
    "impactor.A2_vel[:] = A1_vel_i\n",
    "```"
   ]
  },
  {
   "cell_type": "markdown",
   "metadata": {},
   "source": [
    "We can then save the particles to an HDF5 file, using the same format as SWIFT. \n",
    "\n",
    "If the simulation box has 0,0,0 in the corner rather than the centre, then we can pass the size of the box, e.g. 100 Earth radii, to shift the origin to the centre.\n",
    "\n",
    "We might also want to use a different units system for the file instead of the default SI, e.g. Earth masses, Earth radii, and seconds. \n",
    "```python\n",
    "import h5py\n",
    "with h5py.File(\"initial_conditions.hdf5\", \"w\") as f:\n",
    "    woma.save_particle_data(\n",
    "        f,\n",
    "        np.append(target.A2_pos, impactor.A2_pos, axis=0),\n",
    "        np.append(target.A2_vel, impactor.A2_vel, axis=0),\n",
    "        np.append(target.A1_m, impactor.A1_m),\n",
    "        np.append(target.A1_h, impactor.A1_h),\n",
    "        np.append(target.A1_rho, impactor.A1_rho),\n",
    "        np.append(target.A1_P, impactor.A1_P),\n",
    "        np.append(target.A1_u, impactor.A1_u),\n",
    "        np.append(target.A1_mat_id, impactor.A1_mat_id),\n",
    "        boxsize=100 * R_earth,\n",
    "        file_to_SI=woma.Conversions(M_earth, R_earth, 1),\n",
    "    )\n",
    "```\n",
    "See `save_particle_data()` in `woma/misc/io.py` and `Conversions` in `woma/misc/utils.py` for details."
   ]
  },
  {
   "cell_type": "markdown",
   "metadata": {},
   "source": [
    "---"
   ]
  },
  {
   "cell_type": "markdown",
   "metadata": {},
   "source": [
    "Thank you for trying WoMa! We hope you find it useful and any feedback would be greatly appreciated."
   ]
  },
  {
   "cell_type": "markdown",
   "metadata": {},
   "source": [
    "---"
   ]
  },
  {
   "cell_type": "markdown",
   "metadata": {},
   "source": [
    "[Back to Contents](#top)"
   ]
  }
 ],
 "metadata": {
  "kernelspec": {
   "display_name": "Python 3",
   "language": "python",
   "name": "python3"
  },
  "language_info": {
   "codemirror_mode": {
    "name": "ipython",
    "version": 3
   },
   "file_extension": ".py",
   "mimetype": "text/x-python",
   "name": "python",
   "nbconvert_exporter": "python",
   "pygments_lexer": "ipython3",
   "version": "3.6.9"
  }
 },
 "nbformat": 4,
 "nbformat_minor": 2
}
