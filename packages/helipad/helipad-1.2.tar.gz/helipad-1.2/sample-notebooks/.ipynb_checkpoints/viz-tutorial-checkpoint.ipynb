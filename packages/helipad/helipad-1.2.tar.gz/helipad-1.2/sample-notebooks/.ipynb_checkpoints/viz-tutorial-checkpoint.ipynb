{
 "cells": [
  {
   "cell_type": "markdown",
   "id": "built-diameter",
   "metadata": {},
   "source": [
    "# Visualization Tutorial\n",
    "\n",
    "This notebook walks through the process of subclassing [`ChartPlot`](https://helipad.dev/functions/chartplot/) to create a new type of plot that we can use in a panel of the [`Charts`](https://helipad.dev/functions/charts/) visualizer. `ChartPlot` allows any model data to be represented by anything that can be done on a Matplotlib canvas, so we'll be dealing with the Matplotlib API in addition to the Helipad API. In this case, we'll be creating a spatial model and replacing the default spatial visualizer with a 3D bar chart."
   ]
  },
  {
   "cell_type": "markdown",
   "id": "subsequent-discretion",
   "metadata": {},
   "source": [
    "## A Basic Model\n",
    "\n",
    "First, our basic model setup. We instantiate the `helipad` object and set a few options. Importantly, we initialize a spatial network with [`heli.spatial()`](https://helipad.dev/functions/model/spatial/). In this case we have a 20&times;20 grid with half-weighted diagonal connections and wrapping across the edges.\n",
    "\n",
    "However, `heli.spatial()` also registers the `Charts` visualizer and adds a `spatial` plot named `map` to it. We want to keep the `Charts` visualizer. However, we also want to replace the stock `spatial` plot with our own 3D map. Since `heli.spatial()` returns the map plot object, we can simply call `.remove()` on it, leaving us with an empty `Charts` visualizer."
   ]
  },
  {
   "cell_type": "code",
   "execution_count": null,
   "id": "funky-retention",
   "metadata": {},
   "outputs": [],
   "source": [
    "from helipad import Helipad\n",
    "heli = Helipad()\n",
    "\n",
    "heli.name = '3D Spatial Visualizer'\n",
    "heli.order = 'random'\n",
    "\n",
    "mapPlot = heli.spatial(x=20, diag=False, wrap=True)\n",
    "mapPlot.remove()"
   ]
  },
  {
   "cell_type": "markdown",
   "id": "british-ultimate",
   "metadata": {},
   "source": [
    "From here we can get to the meat of the model. Each period, agents are going to be able to move to an adjacent cell. They choose which cell to move to based on an attractor that grows at a diminishing rate with local population, and a repulsor that grows linearly with population. Thus, we get urban areas with outlying suburbs, depending on how strong the attractor and repulsor are relative to one another.\n",
    "\n",
    "First, we'll create parameters to weight the attractor and the repulsor, and then functions to calculate them for each patch. The attractor is the population on the patch, plus half the population of its direct neighbors and a quarter of the population of its diagonal neighbors, square rooted and multiplied by the attractor weight. The repulsor is simply the local population times the repulsor weight. The `netAttractor()` property returns the difference between the two."
   ]
  },
  {
   "cell_type": "code",
   "execution_count": null,
   "id": "banned-scanner",
   "metadata": {},
   "outputs": [],
   "source": [
    "from helipad.spatial import Patch\n",
    "from math import sqrt\n",
    "import numpy as np\n",
    "\n",
    "heli.addParameter('attract', 'Attractor weight: 2^', 'slider', 3, opts={'low': -4, 'high': 4, 'step': 1})\n",
    "heli.addParameter('repulse', 'Repulsor weight: 2^', 'slider', 1, opts={'low': -4, 'high': 4, 'step': 1})\n",
    "heli.params['num_agent'].opts = {'low': 50, 'high': 1000, 'step': 50}\n",
    "heli.param('num_agent', 250)\n",
    "\n",
    "def netAttraction(self):\n",
    "    pop = len(list(self.agentsOn))\n",
    "    attr = pop\n",
    "    \n",
    "    #Use .outbound('space') instead of .neighbors so we can get the weights\n",
    "    for e in self.neighbors: #outbound('space', True):\n",
    "        attr += 0.5 * len(list(e.agentsOn))\n",
    "    return heli.param('attract') * sqrt(attr) - heli.param('repulse') * pop\n",
    "\n",
    "Patch.netAttraction = property(netAttraction)"
   ]
  },
  {
   "cell_type": "markdown",
   "id": "proved-sword",
   "metadata": {},
   "source": [
    "Now we'll program agent behavior. The agent searches neighboring patches, including the current one, for the maximum difference between the attractor and repulsor, and then moves to that patch."
   ]
  },
  {
   "cell_type": "code",
   "execution_count": null,
   "id": "banner-invitation",
   "metadata": {},
   "outputs": [],
   "source": [
    "@heli.hook\n",
    "def agentStep(agent, model, stage):\n",
    "    potential = agent.patch.neighbors + [agent.patch]\n",
    "    vals = [(p, p.netAttraction) for p in potential]\n",
    "    mx = max([v[1] for v in vals])\n",
    "    for v in vals:\n",
    "        if v[1]==mx:\n",
    "            patch = v[0]\n",
    "            break\n",
    "    agent.moveTo(patch.x, patch.y)"
   ]
  },
  {
   "cell_type": "markdown",
   "id": "silent-graduate",
   "metadata": {},
   "source": [
    "## The Visualizer\n",
    "\n",
    "In order to visualize the population on each patch, we'll use Matplotlib's [`bar3d`](https://matplotlib.org/mpl_toolkits/mplot3d/api.html#mpl_toolkits.mplot3d.axes3d.Axes3D.bar3d) function. `ChartPlot` requires us to specify three methods: `launch(axes)`, `update(data,t)`, and `draw(t)`. We'll write these functions one at a time and then compile them into the class at the end so we can intersperse exposition, but more usually you'll just put all of these methods underneath the class definition."
   ]
  },
  {
   "cell_type": "code",
   "execution_count": null,
   "id": "differential-montreal",
   "metadata": {},
   "outputs": [],
   "source": [
    "from helipad.visualize import ChartPlot\n",
    "class spatial3D(ChartPlot):\n",
    "    type = 'spatial3d'\n",
    "    projection = '3d'\n",
    "\n",
    "    def launch(self, axes):\n",
    "        self.heights = {}\n",
    "        super().launch(axes)\n",
    "        self.update(self.viz.model.data.all, 0)\n",
    "        self.draw(0)\n",
    " \n",
    "    def update(self, data, t):\n",
    "        Z = np.array([list(range(self.viz.model.param('x'))) for i in list(range(self.viz.model.param('y')))])\n",
    "        \n",
    "        for x,col in enumerate(self.viz.model.patches):\n",
    "            for y,a in enumerate(col):\n",
    "                Z[x][y] = len(list(a.agentsOn))\n",
    "        \n",
    "        self.heights[t] = Z.ravel()\n",
    "        \n",
    "    def draw(self, t):\n",
    "        X, Y = np.meshgrid(range(self.viz.model.param('x')), range(self.viz.model.param('y')))\n",
    "        X, Y = X.ravel(), Y.ravel()\n",
    "        base = np.zeros_like(Y) # Z coordinates of each bar\n",
    "        dim = np.array([1 for i in X]) #Length & width of each bar\n",
    "        self.axes.clear()\n",
    "        self.axes.bar3d(X, Y, base, dim, dim, self.heights[t], shade=True)"
   ]
  },
  {
   "cell_type": "markdown",
   "id": "tribal-synthetic",
   "metadata": {},
   "source": [
    "The first method is `launch()`, which sets up our axes before drawing data. The `launch` method receives the Matplotlib `SubplotAxes` object created by `Charts`. The first thing we want to do is to call the parent method. After that, we can use this method to do anything we need to. In this case we'll be telling Matplotlib to create a 3D bar chart, and then feeding it our initial data.\n",
    "\n",
    "For some plot types, we will be able to update the plot data without redrawing it entirely. In this case, we would draw the plot in `launch()` and update it in `draw()`. Matplotlib's `bar3d` is not one of these, unfortunately. Since we have to redraw the plot each time, we can use a minimal `launch()` method and put all of our drawing code in `draw()`. Here, all we need to do is set aside a variable to store height data which we can scrub back over later.\n",
    "\n",
    "We populate `self.heights` in the `update()` method, using the model time as the dict index. Note that since the data we need is not reported in a reporter, and thus not passed to the function in the `data` argument, we can retrieve the model object directly using `self.viz.model`. Since the `X` and `Y` coordinates of all the bars stays the same, the only thing we need to store is the `Z` height.\n",
    "\n",
    "As mentioned earlier, Matplotlib's `axes3d` class does not provide an easy way to update chart data without redrawing it, so we must recreate the chart on each update, using the `Z` data that we stored above in `update()`.\n",
    "\n",
    "The Matplotlib [`bar3d` method](https://matplotlib.org/mpl_toolkits/mplot3d/api.html#mpl_toolkits.mplot3d.axes3d.Axes3D.bar3d) requires a rather particular array structure. The code above is adapted from the [3D bar chart demo](https://matplotlib.org/3.3.3/gallery/mplot3d/3d_bars.html)."
   ]
  },
  {
   "cell_type": "markdown",
   "id": "perfect-atlanta",
   "metadata": {},
   "source": [
    "Finally, we register the class using [`Charts.addPlotType()`](https://helipad.dev/functions/charts/addplottype/). Having registered the plot type, we can then add it to our visualization with [`Charts.addPlot()`](https://helipad.dev/functions/charts/addplot/), referring back to it with our class' `type` property."
   ]
  },
  {
   "cell_type": "code",
   "execution_count": null,
   "id": "corporate-afternoon",
   "metadata": {},
   "outputs": [],
   "source": [
    "heli.visual.addPlotType(spatial3D)\n",
    "heli.visual.addPlot('map', '3D Population Map', 'spatial3d')"
   ]
  },
  {
   "cell_type": "markdown",
   "id": "measured-october",
   "metadata": {},
   "source": [
    "## Run the Model\n",
    "\n",
    "First the control panel:"
   ]
  },
  {
   "cell_type": "code",
   "execution_count": null,
   "id": "female-athletics",
   "metadata": {},
   "outputs": [],
   "source": [
    "heli.launchCpanel()"
   ]
  },
  {
   "cell_type": "markdown",
   "id": "respected-thesaurus",
   "metadata": {},
   "source": [
    "And then the visualizations."
   ]
  },
  {
   "cell_type": "code",
   "execution_count": null,
   "id": "familiar-bearing",
   "metadata": {},
   "outputs": [],
   "source": [
    "heli.launchVisuals()"
   ]
  },
  {
   "cell_type": "markdown",
   "id": "considerable-lloyd",
   "metadata": {},
   "source": [
    "As you can see from the results, we get just a handful of major cities, surrounded by slightly smaller outlying suburbs, but largely concentrated after just a couple hundred periods.\n",
    "\n",
    "Though the model is somewhat slow in a Jupyter notebook, note that you can\n",
    "\n",
    "* Rotate the box to a desired angle\n",
    "* Scrub over the model time with the time bar, to replay the model\n",
    "\n",
    "Further exercises:\n",
    "\n",
    "* Set the patch color to reflect some other property of the patch\n",
    "* Add other plots alongside our new 3D plot"
   ]
  }
 ],
 "metadata": {
  "kernelspec": {
   "display_name": "Python 3",
   "language": "python",
   "name": "python3"
  },
  "language_info": {
   "codemirror_mode": {
    "name": "ipython",
    "version": 3
   },
   "file_extension": ".py",
   "mimetype": "text/x-python",
   "name": "python",
   "nbconvert_exporter": "python",
   "pygments_lexer": "ipython3",
   "version": "3.9.1"
  }
 },
 "nbformat": 4,
 "nbformat_minor": 5
}
