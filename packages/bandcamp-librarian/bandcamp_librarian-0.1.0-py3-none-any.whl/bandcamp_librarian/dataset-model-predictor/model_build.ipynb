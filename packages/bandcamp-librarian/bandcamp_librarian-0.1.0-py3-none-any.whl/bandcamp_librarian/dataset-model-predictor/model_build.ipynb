{
 "cells": [
  {
   "cell_type": "code",
   "execution_count": 1,
   "metadata": {},
   "outputs": [],
   "source": [
    "import pandas as pd\n",
    "import numpy as np\n",
    "\n",
    "from sklearn.ensemble import ExtraTreesClassifier\n",
    "from sklearn.model_selection import train_test_split\n",
    "from sklearn.model_selection import cross_val_score\n",
    "\n",
    "from sklearn.metrics import f1_score"
   ]
  },
  {
   "cell_type": "code",
   "execution_count": 2,
   "metadata": {},
   "outputs": [],
   "source": [
    "import sklearn"
   ]
  },
  {
   "cell_type": "code",
   "execution_count": 3,
   "metadata": {},
   "outputs": [
    {
     "data": {
      "text/plain": [
       "'0.24.1'"
      ]
     },
     "execution_count": 3,
     "metadata": {},
     "output_type": "execute_result"
    }
   ],
   "source": [
    "sklearn.__version__"
   ]
  },
  {
   "cell_type": "code",
   "execution_count": 4,
   "metadata": {},
   "outputs": [],
   "source": [
    "df = pd.read_csv('beatport_2021jan.csv')\n",
    "df.drop(['artist','track'], axis=1, inplace=True) \n",
    "X = df.drop('genre', axis=1)"
   ]
  },
  {
   "cell_type": "code",
   "execution_count": 5,
   "metadata": {},
   "outputs": [
    {
     "data": {
      "text/html": [
       "<div>\n",
       "<style scoped>\n",
       "    .dataframe tbody tr th:only-of-type {\n",
       "        vertical-align: middle;\n",
       "    }\n",
       "\n",
       "    .dataframe tbody tr th {\n",
       "        vertical-align: top;\n",
       "    }\n",
       "\n",
       "    .dataframe thead th {\n",
       "        text-align: right;\n",
       "    }\n",
       "</style>\n",
       "<table border=\"1\" class=\"dataframe\">\n",
       "  <thead>\n",
       "    <tr style=\"text-align: right;\">\n",
       "      <th></th>\n",
       "      <th>1-ZCRm</th>\n",
       "      <th>2-Energym</th>\n",
       "      <th>3-EnergyEntropym</th>\n",
       "      <th>4-SpectralCentroidm</th>\n",
       "      <th>5-SpectralSpreadm</th>\n",
       "      <th>6-SpectralEntropym</th>\n",
       "      <th>7-SpectralFluxm</th>\n",
       "      <th>8-SpectralRolloffm</th>\n",
       "      <th>9-MFCCs1m</th>\n",
       "      <th>10-MFCCs2m</th>\n",
       "      <th>...</th>\n",
       "      <th>83-beats_loudness_band_ratio.mean3</th>\n",
       "      <th>84-beats_loudness_band_ratio.mean4</th>\n",
       "      <th>85-beats_loudness_band_ratio.mean5</th>\n",
       "      <th>86-beats_loudness_band_ratio.mean6</th>\n",
       "      <th>87-beats_loudness_band_ratio.stdev1</th>\n",
       "      <th>88-beats_loudness_band_ratio.stdev2</th>\n",
       "      <th>89-beats_loudness_band_ratio.stdev3</th>\n",
       "      <th>90-beats_loudness_band_ratio.stdev4</th>\n",
       "      <th>91-beats_loudness_band_ratio.stdev5</th>\n",
       "      <th>92-beats_loudness_band_ratio.stdev6</th>\n",
       "    </tr>\n",
       "  </thead>\n",
       "  <tbody>\n",
       "    <tr>\n",
       "      <th>0</th>\n",
       "      <td>0.079425</td>\n",
       "      <td>0.089604</td>\n",
       "      <td>3.120111</td>\n",
       "      <td>0.214365</td>\n",
       "      <td>0.234222</td>\n",
       "      <td>0.633007</td>\n",
       "      <td>0.012340</td>\n",
       "      <td>0.150022</td>\n",
       "      <td>-23.770716</td>\n",
       "      <td>2.118928</td>\n",
       "      <td>...</td>\n",
       "      <td>0.058442</td>\n",
       "      <td>0.032402</td>\n",
       "      <td>0.024159</td>\n",
       "      <td>0.300503</td>\n",
       "      <td>0.248348</td>\n",
       "      <td>0.131157</td>\n",
       "      <td>0.109375</td>\n",
       "      <td>0.070657</td>\n",
       "      <td>0.027211</td>\n",
       "      <td>0.223204</td>\n",
       "    </tr>\n",
       "    <tr>\n",
       "      <th>1</th>\n",
       "      <td>0.049946</td>\n",
       "      <td>0.066472</td>\n",
       "      <td>3.099221</td>\n",
       "      <td>0.164947</td>\n",
       "      <td>0.217858</td>\n",
       "      <td>0.397340</td>\n",
       "      <td>0.018363</td>\n",
       "      <td>0.079529</td>\n",
       "      <td>-23.910628</td>\n",
       "      <td>2.304411</td>\n",
       "      <td>...</td>\n",
       "      <td>0.087221</td>\n",
       "      <td>0.063572</td>\n",
       "      <td>0.026616</td>\n",
       "      <td>0.009315</td>\n",
       "      <td>0.358702</td>\n",
       "      <td>0.160241</td>\n",
       "      <td>0.164309</td>\n",
       "      <td>0.112424</td>\n",
       "      <td>0.067507</td>\n",
       "      <td>0.021833</td>\n",
       "    </tr>\n",
       "    <tr>\n",
       "      <th>2</th>\n",
       "      <td>0.073689</td>\n",
       "      <td>0.072842</td>\n",
       "      <td>3.114776</td>\n",
       "      <td>0.201525</td>\n",
       "      <td>0.239958</td>\n",
       "      <td>0.554679</td>\n",
       "      <td>0.013654</td>\n",
       "      <td>0.116526</td>\n",
       "      <td>-23.883897</td>\n",
       "      <td>2.080150</td>\n",
       "      <td>...</td>\n",
       "      <td>0.260990</td>\n",
       "      <td>0.056078</td>\n",
       "      <td>0.045613</td>\n",
       "      <td>0.049592</td>\n",
       "      <td>0.460217</td>\n",
       "      <td>0.033355</td>\n",
       "      <td>0.317956</td>\n",
       "      <td>0.089679</td>\n",
       "      <td>0.078159</td>\n",
       "      <td>0.078740</td>\n",
       "    </tr>\n",
       "    <tr>\n",
       "      <th>3</th>\n",
       "      <td>0.074295</td>\n",
       "      <td>0.143877</td>\n",
       "      <td>3.184615</td>\n",
       "      <td>0.196423</td>\n",
       "      <td>0.231027</td>\n",
       "      <td>0.632171</td>\n",
       "      <td>0.013408</td>\n",
       "      <td>0.098109</td>\n",
       "      <td>-22.323175</td>\n",
       "      <td>2.178740</td>\n",
       "      <td>...</td>\n",
       "      <td>0.180866</td>\n",
       "      <td>0.094388</td>\n",
       "      <td>0.028915</td>\n",
       "      <td>0.017663</td>\n",
       "      <td>0.365594</td>\n",
       "      <td>0.086201</td>\n",
       "      <td>0.221063</td>\n",
       "      <td>0.137246</td>\n",
       "      <td>0.041445</td>\n",
       "      <td>0.028583</td>\n",
       "    </tr>\n",
       "    <tr>\n",
       "      <th>4</th>\n",
       "      <td>0.092794</td>\n",
       "      <td>0.061911</td>\n",
       "      <td>3.146484</td>\n",
       "      <td>0.219616</td>\n",
       "      <td>0.250961</td>\n",
       "      <td>0.716576</td>\n",
       "      <td>0.011783</td>\n",
       "      <td>0.162721</td>\n",
       "      <td>-23.549247</td>\n",
       "      <td>2.516020</td>\n",
       "      <td>...</td>\n",
       "      <td>0.064147</td>\n",
       "      <td>0.042904</td>\n",
       "      <td>0.011318</td>\n",
       "      <td>0.013010</td>\n",
       "      <td>0.260539</td>\n",
       "      <td>0.102057</td>\n",
       "      <td>0.098144</td>\n",
       "      <td>0.089875</td>\n",
       "      <td>0.025987</td>\n",
       "      <td>0.031015</td>\n",
       "    </tr>\n",
       "  </tbody>\n",
       "</table>\n",
       "<p>5 rows × 92 columns</p>\n",
       "</div>"
      ],
      "text/plain": [
       "     1-ZCRm  2-Energym  3-EnergyEntropym  4-SpectralCentroidm  \\\n",
       "0  0.079425   0.089604          3.120111             0.214365   \n",
       "1  0.049946   0.066472          3.099221             0.164947   \n",
       "2  0.073689   0.072842          3.114776             0.201525   \n",
       "3  0.074295   0.143877          3.184615             0.196423   \n",
       "4  0.092794   0.061911          3.146484             0.219616   \n",
       "\n",
       "   5-SpectralSpreadm  6-SpectralEntropym  7-SpectralFluxm  8-SpectralRolloffm  \\\n",
       "0           0.234222            0.633007         0.012340            0.150022   \n",
       "1           0.217858            0.397340         0.018363            0.079529   \n",
       "2           0.239958            0.554679         0.013654            0.116526   \n",
       "3           0.231027            0.632171         0.013408            0.098109   \n",
       "4           0.250961            0.716576         0.011783            0.162721   \n",
       "\n",
       "   9-MFCCs1m  10-MFCCs2m  ...  83-beats_loudness_band_ratio.mean3  \\\n",
       "0 -23.770716    2.118928  ...                            0.058442   \n",
       "1 -23.910628    2.304411  ...                            0.087221   \n",
       "2 -23.883897    2.080150  ...                            0.260990   \n",
       "3 -22.323175    2.178740  ...                            0.180866   \n",
       "4 -23.549247    2.516020  ...                            0.064147   \n",
       "\n",
       "   84-beats_loudness_band_ratio.mean4  85-beats_loudness_band_ratio.mean5  \\\n",
       "0                            0.032402                            0.024159   \n",
       "1                            0.063572                            0.026616   \n",
       "2                            0.056078                            0.045613   \n",
       "3                            0.094388                            0.028915   \n",
       "4                            0.042904                            0.011318   \n",
       "\n",
       "   86-beats_loudness_band_ratio.mean6  87-beats_loudness_band_ratio.stdev1  \\\n",
       "0                            0.300503                             0.248348   \n",
       "1                            0.009315                             0.358702   \n",
       "2                            0.049592                             0.460217   \n",
       "3                            0.017663                             0.365594   \n",
       "4                            0.013010                             0.260539   \n",
       "\n",
       "   88-beats_loudness_band_ratio.stdev2  89-beats_loudness_band_ratio.stdev3  \\\n",
       "0                             0.131157                             0.109375   \n",
       "1                             0.160241                             0.164309   \n",
       "2                             0.033355                             0.317956   \n",
       "3                             0.086201                             0.221063   \n",
       "4                             0.102057                             0.098144   \n",
       "\n",
       "   90-beats_loudness_band_ratio.stdev4  91-beats_loudness_band_ratio.stdev5  \\\n",
       "0                             0.070657                             0.027211   \n",
       "1                             0.112424                             0.067507   \n",
       "2                             0.089679                             0.078159   \n",
       "3                             0.137246                             0.041445   \n",
       "4                             0.089875                             0.025987   \n",
       "\n",
       "   92-beats_loudness_band_ratio.stdev6  \n",
       "0                             0.223204  \n",
       "1                             0.021833  \n",
       "2                             0.078740  \n",
       "3                             0.028583  \n",
       "4                             0.031015  \n",
       "\n",
       "[5 rows x 92 columns]"
      ]
     },
     "execution_count": 5,
     "metadata": {},
     "output_type": "execute_result"
    }
   ],
   "source": [
    "X.head()"
   ]
  },
  {
   "cell_type": "code",
   "execution_count": 6,
   "metadata": {},
   "outputs": [],
   "source": [
    "y = df['genre']"
   ]
  },
  {
   "cell_type": "code",
   "execution_count": 7,
   "metadata": {},
   "outputs": [],
   "source": [
    "X_train, X_test, y_train, y_test = train_test_split(X, y, test_size=0.2, stratify=y, random_state=42)"
   ]
  },
  {
   "cell_type": "code",
   "execution_count": 8,
   "metadata": {},
   "outputs": [],
   "source": [
    "BP2021 = ExtraTreesClassifier(bootstrap=False, class_weight=None, criterion='gini',\n",
    "           max_depth=None, max_features=0.77,\n",
    "           max_leaf_nodes=None, min_impurity_decrease=0,\n",
    "           min_samples_leaf=1, min_samples_split=8,\n",
    "           min_weight_fraction_leaf=0, n_estimators=325, n_jobs=4,\n",
    "           oob_score=False, random_state=42, verbose=0, warm_start=False)"
   ]
  },
  {
   "cell_type": "code",
   "execution_count": 9,
   "metadata": {},
   "outputs": [
    {
     "name": "stdout",
     "output_type": "stream",
     "text": [
      "Train CV (10-fold) accuracy: 0.534 +/- 0.025\n"
     ]
    }
   ],
   "source": [
    "accuracy = cross_val_score(BP2021, X_train, y_train, cv=10)\n",
    "print(f'Train CV (10-fold) accuracy: {round(accuracy.mean(),3)} +/- {round(accuracy.std(), 3)}')"
   ]
  },
  {
   "cell_type": "code",
   "execution_count": 10,
   "metadata": {},
   "outputs": [
    {
     "name": "stdout",
     "output_type": "stream",
     "text": [
      "Test CV (10-fold) accuracy: 0.481 +/- 0.069\n"
     ]
    }
   ],
   "source": [
    "accuracy = cross_val_score(BP2021, X_test, y_test, cv=10)\n",
    "print(f'Test CV (10-fold) accuracy: {round(accuracy.mean(),3)} +/- {round(accuracy.std(), 3)}')"
   ]
  },
  {
   "cell_type": "code",
   "execution_count": 11,
   "metadata": {},
   "outputs": [
    {
     "name": "stdout",
     "output_type": "stream",
     "text": [
      "Test F1 score: 0.545\n"
     ]
    }
   ],
   "source": [
    "BP2021.fit(X_train, y_train)\n",
    "print(f'Test F1 score: {round(f1_score(y_test, BP2021.predict(X_test), average=\"macro\"), 3)}')"
   ]
  },
  {
   "cell_type": "code",
   "execution_count": 12,
   "metadata": {},
   "outputs": [],
   "source": [
    "import matplotlib.pyplot as pyplot"
   ]
  },
  {
   "cell_type": "code",
   "execution_count": 13,
   "metadata": {},
   "outputs": [
    {
     "name": "stdout",
     "output_type": "stream",
     "text": [
      "Feature: 0, Score: 0.00917\n",
      "Feature: 1, Score: 0.01913\n",
      "Feature: 2, Score: 0.01052\n",
      "Feature: 3, Score: 0.01346\n",
      "Feature: 4, Score: 0.00931\n",
      "Feature: 5, Score: 0.00909\n",
      "Feature: 6, Score: 0.01679\n",
      "Feature: 7, Score: 0.00834\n",
      "Feature: 8, Score: 0.01956\n",
      "Feature: 9, Score: 0.00900\n",
      "Feature: 10, Score: 0.00764\n",
      "Feature: 11, Score: 0.00596\n",
      "Feature: 12, Score: 0.00608\n",
      "Feature: 13, Score: 0.00626\n",
      "Feature: 14, Score: 0.00570\n",
      "Feature: 15, Score: 0.00537\n",
      "Feature: 16, Score: 0.00595\n",
      "Feature: 17, Score: 0.00610\n",
      "Feature: 18, Score: 0.00538\n",
      "Feature: 19, Score: 0.00496\n",
      "Feature: 20, Score: 0.00538\n",
      "Feature: 21, Score: 0.00513\n",
      "Feature: 22, Score: 0.00532\n",
      "Feature: 23, Score: 0.01322\n",
      "Feature: 24, Score: 0.00543\n",
      "Feature: 25, Score: 0.00536\n",
      "Feature: 26, Score: 0.00500\n",
      "Feature: 27, Score: 0.00870\n",
      "Feature: 28, Score: 0.00613\n",
      "Feature: 29, Score: 0.00586\n",
      "Feature: 30, Score: 0.00497\n",
      "Feature: 31, Score: 0.00736\n",
      "Feature: 32, Score: 0.00528\n",
      "Feature: 33, Score: 0.00856\n",
      "Feature: 34, Score: 0.01059\n",
      "Feature: 35, Score: 0.00899\n",
      "Feature: 36, Score: 0.00942\n",
      "Feature: 37, Score: 0.01833\n",
      "Feature: 38, Score: 0.01884\n",
      "Feature: 39, Score: 0.01354\n",
      "Feature: 40, Score: 0.01286\n",
      "Feature: 41, Score: 0.01146\n",
      "Feature: 42, Score: 0.01369\n",
      "Feature: 43, Score: 0.02641\n",
      "Feature: 44, Score: 0.01248\n",
      "Feature: 45, Score: 0.01366\n",
      "Feature: 46, Score: 0.00983\n",
      "Feature: 47, Score: 0.00959\n",
      "Feature: 48, Score: 0.00891\n",
      "Feature: 49, Score: 0.01171\n",
      "Feature: 50, Score: 0.00967\n",
      "Feature: 51, Score: 0.00778\n",
      "Feature: 52, Score: 0.01148\n",
      "Feature: 53, Score: 0.01026\n",
      "Feature: 54, Score: 0.01252\n",
      "Feature: 55, Score: 0.00531\n",
      "Feature: 56, Score: 0.00575\n",
      "Feature: 57, Score: 0.00988\n",
      "Feature: 58, Score: 0.00553\n",
      "Feature: 59, Score: 0.00599\n",
      "Feature: 60, Score: 0.00521\n",
      "Feature: 61, Score: 0.00708\n",
      "Feature: 62, Score: 0.00729\n",
      "Feature: 63, Score: 0.00656\n",
      "Feature: 64, Score: 0.00479\n",
      "Feature: 65, Score: 0.00810\n",
      "Feature: 66, Score: 0.00608\n",
      "Feature: 67, Score: 0.00712\n",
      "Feature: 68, Score: 0.02691\n",
      "Feature: 69, Score: 0.02816\n",
      "Feature: 70, Score: 0.07603\n",
      "Feature: 71, Score: 0.07483\n",
      "Feature: 72, Score: 0.00924\n",
      "Feature: 73, Score: 0.00643\n",
      "Feature: 74, Score: 0.00623\n",
      "Feature: 75, Score: 0.00717\n",
      "Feature: 76, Score: 0.01174\n",
      "Feature: 77, Score: 0.01131\n",
      "Feature: 78, Score: 0.01157\n",
      "Feature: 79, Score: 0.02612\n",
      "Feature: 80, Score: 0.00646\n",
      "Feature: 81, Score: 0.00667\n",
      "Feature: 82, Score: 0.00617\n",
      "Feature: 83, Score: 0.00493\n",
      "Feature: 84, Score: 0.00700\n",
      "Feature: 85, Score: 0.01044\n",
      "Feature: 86, Score: 0.00944\n",
      "Feature: 87, Score: 0.00640\n",
      "Feature: 88, Score: 0.00630\n",
      "Feature: 89, Score: 0.00539\n",
      "Feature: 90, Score: 0.00572\n",
      "Feature: 91, Score: 0.00715\n"
     ]
    },
    {
     "data": {
      "image/png": "[encoded data removed]",
      "text/plain": [
       "<Figure size 432x288 with 1 Axes>"
      ]
     },
     "metadata": {
      "needs_background": "light"
     },
     "output_type": "display_data"
    }
   ],
   "source": [
    "importance = BP2021.feature_importances_\n",
    "for i,v in enumerate(importance):\n",
    "    print('Feature: %0d, Score: %.5f' % (i,v))\n",
    "# plot feature importance\n",
    "pyplot.bar([x for x in range(len(importance))], importance)\n",
    "pyplot.show()"
   ]
  }
 ],
 "metadata": {
  "kernelspec": {
   "display_name": "Python 3",
   "language": "python",
   "name": "python3"
  },
  "language_info": {
   "codemirror_mode": {
    "name": "ipython",
    "version": 3
   },
   "file_extension": ".py",
   "mimetype": "text/x-python",
   "name": "python",
   "nbconvert_exporter": "python",
   "pygments_lexer": "ipython3",
   "version": "3.8.5"
  }
 },
 "nbformat": 4,
 "nbformat_minor": 4
}
