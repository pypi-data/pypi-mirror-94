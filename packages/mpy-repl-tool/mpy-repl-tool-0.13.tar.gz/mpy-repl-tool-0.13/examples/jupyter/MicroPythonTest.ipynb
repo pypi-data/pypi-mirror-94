{
 "cells": [
  {
   "cell_type": "markdown",
   "metadata": {},
   "source": [
    "\n",
    "# MicroPython / mpy-repl-tool Kernel for IPython/Jupyter"
   ]
  },
  {
   "cell_type": "markdown",
   "metadata": {},
   "source": [
    "To use this notebook, the MicroPython Kernel from mpy-repl-tools must be installed and configured. To do so, use the following two commands:\n",
    "\n",
    "- `pip3 install mpy-repl-tool`\n",
    "- `python3 -m there.jupyter-setup`\n",
    "\n",
    "The second one will install the kernel configuration file into Jupyter.\n",
    "\n",
    "It is only compatible with Python 3 and the commands above must be executed in the same environment where Jupyter notebook runs.\n",
    "\n",
    "The kernel needs to know how to talk to a board. Use `%connect [port [baudrate]]`. The default is to connect to the first USB-serial adapter it finds. If that is not a micropython board, you need to change this line (e.g. `%connect hwgrep://pyboard` or `%connect COM55`."
   ]
  },
  {
   "cell_type": "code",
   "execution_count": 1,
   "metadata": {},
   "outputs": [
    {
     "name": "stdout",
     "output_type": "stream",
     "text": [
      "mpy-repl-tool: connected to /dev/ttyUSB0: 115200,8,N,1\n",
      "mpy-repl-tool: implementation: (name='micropython', version=(1, 8, 7))\n"
     ]
    }
   ],
   "source": [
    "%connect"
   ]
  },
  {
   "cell_type": "markdown",
   "metadata": {},
   "source": [
    "After a connection is made, it is ready to execute code"
   ]
  },
  {
   "cell_type": "code",
   "execution_count": 2,
   "metadata": {},
   "outputs": [
    {
     "name": "stdout",
     "output_type": "stream",
     "text": [
      "Hello, World\r\n",
      "Greetings from esp8266\r\n"
     ]
    }
   ],
   "source": [
    "import sys\n",
    "print(\"Hello, World\\nGreetings from {}\".format(sys.platform))"
   ]
  },
  {
   "cell_type": "code",
   "execution_count": 3,
   "metadata": {},
   "outputs": [
    {
     "name": "stdout",
     "output_type": "stream",
     "text": []
    }
   ],
   "source": [
    "import machine\n",
    "import time"
   ]
  },
  {
   "cell_type": "code",
   "execution_count": 4,
   "metadata": {},
   "outputs": [
    {
     "name": "stdout",
     "output_type": "stream",
     "text": []
    }
   ],
   "source": [
    "led = machine.Pin(2, machine.Pin.OUT)  # LED near antenna on ESP-12 boards"
   ]
  },
  {
   "cell_type": "code",
   "execution_count": 5,
   "metadata": {},
   "outputs": [
    {
     "name": "stdout",
     "output_type": "stream",
     "text": []
    }
   ],
   "source": [
    "led.low()"
   ]
  },
  {
   "cell_type": "code",
   "execution_count": 6,
   "metadata": {},
   "outputs": [
    {
     "name": "stdout",
     "output_type": "stream",
     "text": []
    }
   ],
   "source": [
    "led.high()"
   ]
  },
  {
   "cell_type": "markdown",
   "metadata": {},
   "source": [
    "## Magic commands\n",
    "The commands with a `%` prefix, which must be written as\n",
    "first statement in a separate input cell, are interpreted\n",
    "by the proxy code and influence how it interacts with the\n",
    "MicroPython board.\n",
    "\n",
    "Currently available commands are:\n",
    "- `%ports`\n",
    "- `%connect [port [baudrate]]`\n",
    "- `%disconnect`\n",
    "- `%timeout [seconds]`\n",
    "- `%reset`\n",
    "- `%info`\n",
    "- see below for additional filesystem commands"
   ]
  },
  {
   "cell_type": "code",
   "execution_count": 7,
   "metadata": {},
   "outputs": [
    {
     "name": "stdout",
     "output_type": "stream",
     "text": [
      "/dev/ttyS0 - ttyS0\n",
      "/dev/ttyUSB0 - USB2.0-Serial\n"
     ]
    }
   ],
   "source": [
    "%ports"
   ]
  },
  {
   "cell_type": "code",
   "execution_count": 8,
   "metadata": {},
   "outputs": [
    {
     "name": "stdout",
     "output_type": "stream",
     "text": [
      "mpy-repl-tool: connected to /dev/ttyUSB0: 115200,8,N,1\n"
     ]
    }
   ],
   "source": [
    "%info"
   ]
  },
  {
   "cell_type": "code",
   "execution_count": 9,
   "metadata": {},
   "outputs": [
    {
     "name": "stdout",
     "output_type": "stream",
     "text": []
    }
   ],
   "source": [
    "# %reset"
   ]
  },
  {
   "cell_type": "code",
   "execution_count": 10,
   "metadata": {},
   "outputs": [
    {
     "name": "stdout",
     "output_type": "stream",
     "text": [
      "mpy-repl-tool: timeout is 30 seconds"
     ]
    }
   ],
   "source": [
    "%timeout"
   ]
  },
  {
   "cell_type": "markdown",
   "metadata": {},
   "source": [
    "### Filesystem commands\n",
    "\n",
    "These commands can be used to inspect and modify the files on the MicroPython board.\n",
    "- `%push [-r] LOCAL [LOCAL ...] REMOTE`\n",
    "- `%pull [-r] REMOTE [REMOTE ...] LOCAL`\n",
    "- `%ls [-l] [-r] [PATH]...`\n",
    "- `%cat [PATH [PATH ...]]`\n",
    "- `%write PATH`\n",
    "- `%rm [-r] [-f] PATH [PATH ...]`\n",
    "- `%df [PATH]`"
   ]
  },
  {
   "cell_type": "code",
   "execution_count": 12,
   "metadata": {},
   "outputs": [],
   "source": [
    "%write /hello.txt\n",
    "This is the file contents.\n",
    "On multiple lines, following the command."
   ]
  },
  {
   "cell_type": "code",
   "execution_count": 13,
   "metadata": {},
   "outputs": [
    {
     "name": "stdout",
     "output_type": "stream",
     "text": [
      "----------    0    0    160B 1970-01-01 00:00:02 /boot.py\n",
      "----------    0    0     68B 1970-01-01 00:03:18 /hello.txt\n"
     ]
    }
   ],
   "source": [
    "%ls -l"
   ]
  },
  {
   "cell_type": "code",
   "execution_count": 14,
   "metadata": {
    "scrolled": true
   },
   "outputs": [
    {
     "name": "stdout",
     "output_type": "stream",
     "text": [
      "This is the file contents.\n",
      "On multiple lines, following the command.\n"
     ]
    }
   ],
   "source": [
    "%cat /hello.txt"
   ]
  },
  {
   "cell_type": "code",
   "execution_count": 15,
   "metadata": {},
   "outputs": [
    {
     "name": "stdout",
     "output_type": "stream",
     "text": [
      "Total Size: 3.6MB, used: 8.2kB, free: 3.6MB\n"
     ]
    }
   ],
   "source": [
    "%df"
   ]
  },
  {
   "cell_type": "code",
   "execution_count": 16,
   "metadata": {},
   "outputs": [
    {
     "name": "stdout",
     "output_type": "stream",
     "text": [
      "usage: %push [-h] [-r] [--dry-run] LOCAL [LOCAL ...] REMOTE\n",
      "\n",
      "positional arguments:\n",
      "  LOCAL            one or more source files/directories\n",
      "  REMOTE           destination directory\n",
      "\n",
      "optional arguments:\n",
      "  -h, --help       show this help message and exit\n",
      "  -r, --recursive  copy recursively\n",
      "  --dry-run        do not actually create anything on target\n"
     ]
    }
   ],
   "source": [
    "%push -h"
   ]
  },
  {
   "cell_type": "markdown",
   "metadata": {},
   "source": [
    "## Tips & Tricks"
   ]
  },
  {
   "cell_type": "markdown",
   "metadata": {},
   "source": [
    "If you run the following, one of two things might happen:\n",
    "- it timeouts after a number of seconds\n",
    "- you get bored and choose to select \"kernel->interrupt\" from the menu"
   ]
  },
  {
   "cell_type": "code",
   "execution_count": 17,
   "metadata": {},
   "outputs": [
    {
     "name": "stderr",
     "output_type": "stream",
     "text": [
      "execution failed: : Traceback (most recent call last):\r\n",
      "  File \"<stdin>\", line 5, in <module>\r\n",
      "KeyboardInterrupt: \r\n"
     ]
    }
   ],
   "source": [
    "while(True):\n",
    "    led.high()\n",
    "    time.sleep(0.5)\n",
    "    led.low()\n",
    "    time.sleep(0.5)"
   ]
  },
  {
   "cell_type": "markdown",
   "metadata": {
    "collapsed": true
   },
   "source": [
    "This is an example where micropython reports an error:"
   ]
  },
  {
   "cell_type": "code",
   "execution_count": 18,
   "metadata": {},
   "outputs": [
    {
     "name": "stderr",
     "output_type": "stream",
     "text": [
      "execution failed: : Traceback (most recent call last):\r\n",
      "  File \"<stdin>\", line 1, in <module>\r\n",
      "AttributeError: 'Pin' object has no attribute 'on'\r\n"
     ]
    }
   ],
   "source": [
    "led.on()"
   ]
  }
 ],
 "metadata": {
  "kernelspec": {
   "display_name": "MicroPython",
   "language": "micropython",
   "name": "micropython-mpy-repl"
  },
  "language_info": {
   "file_extension": ".py",
   "mimetype": "text/x-python",
   "name": "python"
  }
 },
 "nbformat": 4,
 "nbformat_minor": 2
}
