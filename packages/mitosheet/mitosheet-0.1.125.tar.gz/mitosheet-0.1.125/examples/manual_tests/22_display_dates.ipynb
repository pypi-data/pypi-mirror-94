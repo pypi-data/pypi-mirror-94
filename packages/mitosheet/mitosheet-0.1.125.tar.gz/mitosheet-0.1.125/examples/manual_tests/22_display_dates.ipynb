{
 "cells": [
  {
   "cell_type": "code",
   "execution_count": 1,
   "metadata": {},
   "outputs": [
    {
     "data": {
      "application/vnd.jupyter.widget-view+json": {
       "model_id": "5654ba6ce8824a2fb160ec983eee2696",
       "version_major": 2,
       "version_minor": 0
      },
      "text/plain": [
       "MitoWidget(analysis_name='UUID-ee3240e7-4e4f-42e6-8d4e-e25826425074', code_json='{\"imports\": \"from mitosheet i…"
      ]
     },
     "metadata": {},
     "output_type": "display_data"
    }
   ],
   "source": [
    "\"\"\"\n",
    "This file should tests dates are displayed correctly in the sheet.\n",
    "\n",
    "Instructions:\n",
    "- Run this cell. \n",
    "- Check the dates in the sheet, and make sure they are displayed correctly (YYYY-MM-DD).\n",
    "- Add three new columns, and use the YEAR, MONTH, and DAY functions respectively to \n",
    "- Create a new column, and use the CONCAT function to get the new columns back to YYYY-MM-DD format as a string.\n",
    "- Create a final new column, and use the DATEVALUE function to return to a date (which doesn't change anything).\n",
    "- Add a new filter to the final column, getting all dates between December 1, 2001, and January 1, 2003.\n",
    "- Rename 'dob' to 'date_of_birth' and check that the column is labeled 'date_of' new line '_birth'\n",
    "- expand the column width and see it move to 'date_of_birth'\n",
    "\"\"\"\n",
    "import mitosheet\n",
    "import pandas as pd\n",
    "df = pd.DataFrame({\n",
    "    'name': ['alice','bob','charlie'],\n",
    "    'dob': ['2005-10-23','2002-10-2','2001-11-14']\n",
    "})\n",
    "df['dob'] = pd.to_datetime(df['dob'])\n",
    "mitosheet.sheet(df)"
   ]
  },
  {
   "cell_type": "code",
   "execution_count": null,
   "metadata": {},
   "outputs": [],
   "source": [
    "# MITO CODE START (DO NOT EDIT)\n",
    "# SAVED-ANALYSIS-STARTUUID-ee3240e7-4e4f-42e6-8d4e-e25826425074SAVED-ANALYSIS-END\n",
    "\n",
    "from mitosheet import *\n",
    "\n",
    "# Step 1\n",
    "\n",
    "df['C'] = df['dob']\n",
    "\n",
    "# Step 2\n",
    "\n",
    "df['D'] = df['dob'] - df['C']\n",
    "\n",
    "# Step 3\n",
    "\n",
    "df.drop('D', axis=1, inplace=True)\n",
    "\n",
    "# Step 4\n",
    "\n",
    "df['D'] = 0\n",
    "\n",
    "# Step 5\n",
    "\n",
    "df.drop('D', axis=1, inplace=True)\n",
    "\n",
    "# Step 6\n",
    "\n",
    "df.drop('C', axis=1, inplace=True)\n",
    "\n",
    "# Step 7\n",
    "\n",
    "df['C'] = 0\n",
    "\n",
    "# Step 8\n",
    "\n",
    "df['D'] = 0\n",
    "\n",
    "# Step 9\n",
    "\n",
    "df['E'] = 0\n",
    "\n",
    "# Step 10\n",
    "\n",
    "df['C'] = DAY(df['dob'])\n",
    "\n",
    "# Step 11\n",
    "\n",
    "df['D'] = MONTH(df['dob'])\n",
    "\n",
    "# Step 12\n",
    "\n",
    "df['E'] = YEAR(df['dob'])\n",
    "\n",
    "df['D'] = MONTH(df['dob'])\n",
    "\n",
    "# Step 13\n",
    "\n",
    "df['F'] = DATEVALUE(CONCAT(df['E'], \"-\", df['D'], \"-\", df['C'] - 1))\n",
    "\n",
    "# Step 14\n",
    "\n",
    "df['G'] = df['dob'] - df['F']\n",
    "  \n",
    "# MITO CODE END (DO NOT EDIT)"
   ]
  },
  {
   "cell_type": "code",
   "execution_count": null,
   "metadata": {},
   "outputs": [],
   "source": []
  },
  {
   "cell_type": "code",
   "execution_count": null,
   "metadata": {},
   "outputs": [],
   "source": []
  },
  {
   "cell_type": "code",
   "execution_count": null,
   "metadata": {},
   "outputs": [],
   "source": []
  }
 ],
 "metadata": {
  "kernelspec": {
   "display_name": "Python 3",
   "language": "python",
   "name": "python3"
  },
  "language_info": {
   "codemirror_mode": {
    "name": "ipython",
    "version": 3
   },
   "file_extension": ".py",
   "mimetype": "text/x-python",
   "name": "python",
   "nbconvert_exporter": "python",
   "pygments_lexer": "ipython3",
   "version": "3.8.5"
  },
  "widgets": {
   "application/vnd.jupyter.widget-state+json": {
    "state": {
     "5654ba6ce8824a2fb160ec983eee2696": {
      "model_module": "mitosheet",
      "model_module_version": "^0.1.61",
      "model_name": "ExampleModel",
      "state": {
       "_model_module_version": "^0.1.61",
       "_view_module_version": "^0.1.61",
       "analysis_name": "UUID-ee3240e7-4e4f-42e6-8d4e-e25826425074",
       "code_json": "{\"imports\": \"from mitosheet import *\", \"code\": [\"# Step 1\", \"df['C'] = df['dob']\", \"# Step 2\", \"df['D'] = df['dob'] - df['C']\", \"# Step 3\", \"df.drop('D', axis=1, inplace=True)\", \"# Step 4\", \"df['D'] = 0\", \"# Step 5\", \"df.drop('D', axis=1, inplace=True)\", \"# Step 6\", \"df.drop('C', axis=1, inplace=True)\", \"# Step 7\", \"df['C'] = 0\", \"# Step 8\", \"df['D'] = 0\", \"# Step 9\", \"df['E'] = 0\", \"# Step 10\", \"df['C'] = DAY(df['dob'])\", \"# Step 11\", \"df['D'] = MONTH(df['dob'])\", \"# Step 12\", \"df['E'] = YEAR(df['dob'])\", \"df['D'] = MONTH(df['dob'])\", \"# Step 13\", \"df['F'] = DATEVALUE(CONCAT(df['E'], \\\"-\\\", df['D'], \\\"-\\\", df['C'] - 1))\", \"# Step 14\", \"df['G'] = df['dob'] - df['F']\"]}",
       "column_filters_json": "[{\"name\": {\"operator\": \"And\", \"filters\": []}, \"dob\": {\"operator\": \"And\", \"filters\": []}, \"C\": {\"operator\": \"And\", \"filters\": []}, \"D\": {\"operator\": \"And\", \"filters\": []}, \"E\": {\"operator\": \"And\", \"filters\": []}, \"F\": {\"operator\": \"And\", \"filters\": []}, \"G\": {\"operator\": \"And\", \"filters\": []}}]",
       "column_spreadsheet_code_json": "[{\"name\": \"\", \"dob\": \"\", \"C\": \"=DAY(dob)\", \"D\": \"=MONTH(dob)\", \"E\": \"=YEAR(dob)\", \"F\": \"=DATEVALUE(CONCAT(E, \\\"-\\\", D, \\\"-\\\", C - 1))\", \"G\": \"=dob - F\"}]",
       "column_type_json": "[{\"name\": \"string\", \"dob\": \"datetime\", \"C\": \"number\", \"D\": \"number\", \"E\": \"number\", \"F\": \"datetime\", \"G\": \"string\"}]",
       "df_names_json": "{\"df_names\": [\"df\"]}",
       "df_shape_json": "[{\"rows\": 3, \"cols\": 7}]",
       "layout": "IPY_MODEL_ec62596dcab249ae8efc54de62ff0bce",
       "saved_analysis_names_json": "[\"1\", \"28\", \"Double Import\", \"File Import Get Length\", \"File Import\", \"Testing\", \"aaa\", \"new\"]",
       "sheet_json": "[{\"columns\": [\"name\", \"dob\", \"C\", \"D\", \"E\", \"F\", \"G\"], \"index\": [0, 1, 2], \"data\": [[\"alice\", \"2005-10-23 00:00:00\", 23, 10, 2005, \"2005-10-22 00:00:00\", 86400000], [\"bob\", \"2002-10-02 00:00:00\", 2, 10, 2002, \"2002-10-01 00:00:00\", 86400000], [\"charlie\", \"2001-11-14 00:00:00\", 14, 11, 2001, \"2001-11-13 00:00:00\", 86400000]]}]",
       "user_id": "nate",
       "value": "Hello World"
      }
     },
     "ec62596dcab249ae8efc54de62ff0bce": {
      "model_module": "@jupyter-widgets/base",
      "model_module_version": "1.2.0",
      "model_name": "LayoutModel",
      "state": {}
     }
    },
    "version_major": 2,
    "version_minor": 0
   }
  }
 },
 "nbformat": 4,
 "nbformat_minor": 4
}
