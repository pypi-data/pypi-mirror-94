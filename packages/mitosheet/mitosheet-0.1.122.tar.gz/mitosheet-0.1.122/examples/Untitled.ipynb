{
 "cells": [
  {
   "cell_type": "code",
   "execution_count": 2,
   "metadata": {},
   "outputs": [
    {
     "data": {
      "application/vnd.jupyter.widget-view+json": {
       "model_id": "d549a5c9f76642a097cb4c39fc336033",
       "version_major": 2,
       "version_minor": 0
      },
      "text/plain": [
       "MitoWidget(analysis_name='UUID-4a44dd11-2fde-4832-b0f4-16e2c49f98f0', code_json='{\"imports\": \"from mitosheet i…"
      ]
     },
     "metadata": {},
     "output_type": "display_data"
    }
   ],
   "source": [
    "import mitosheet\n",
    "import pandas as pd\n",
    "mitosheet.sheet(pd.DataFrame({'A': [123]}))"
   ]
  },
  {
   "cell_type": "code",
   "execution_count": null,
   "metadata": {},
   "outputs": [],
   "source": []
  }
 ],
 "metadata": {
  "kernelspec": {
   "display_name": "Python 3",
   "language": "python",
   "name": "python3"
  },
  "language_info": {
   "codemirror_mode": {
    "name": "ipython",
    "version": 3
   },
   "file_extension": ".py",
   "mimetype": "text/x-python",
   "name": "python",
   "nbconvert_exporter": "python",
   "pygments_lexer": "ipython3",
   "version": "3.8.5"
  },
  "widgets": {
   "application/vnd.jupyter.widget-state+json": {
    "state": {
     "0778d56bfbdc4fa9b3059b06267ecea7": {
      "model_module": "@jupyter-widgets/base",
      "model_module_version": "1.2.0",
      "model_name": "LayoutModel",
      "state": {}
     },
     "0fe88c2e95564fa5bdb6a363585ee50d": {
      "model_module": "mitosheet",
      "model_module_version": "^0.1.121",
      "model_name": "ExampleModel",
      "state": {
       "_model_module_version": "^0.1.121",
       "_view_module_version": "^0.1.121",
       "analysis_name": "UUID-194294b2-721c-40c4-81a6-590d739e7bd1",
       "code_json": "{\"imports\": \"from mitosheet import *\", \"code\": []}",
       "column_filters_json": "[{\"A\": {\"operator\": \"And\", \"filters\": []}}]",
       "column_spreadsheet_code_json": "[{\"A\": \"\"}]",
       "column_type_json": "[{\"A\": \"datetime\"}]",
       "df_names_json": "{\"df_names\": [\"df\"]}",
       "df_shape_json": "[{\"rows\": 2, \"cols\": 1}]",
       "has_rendered": true,
       "is_local_deployment": true,
       "layout": "IPY_MODEL_ff8758bee2734fc9a398a90ef0b3f1c2",
       "saved_analysis_names_json": "[\"111\", \"1111\", \"28\", \"Testing\", \"_3arkvynuo\", \"_419wxryas\", \"_49hlkjtgp\", \"_88amfqk2f\", \"_8b9x4aa2m\", \"_cb27694sr\", \"_gs9b8mudg\", \"_hexaujrz3\", \"_jtip39qtx\", \"_k4ce9w8om\", \"_ktv9i6xtb\", \"_nauipuq8o\", \"_ojtvedr82\", \"_rqyqe9rfu\", \"_yd64b4y4m\", \"test\", \"to_test\"]",
       "sheet_json": "[{\"columns\": [\"A\"], \"index\": [0, 1], \"data\": [[\"2020-12-20 00:00:00\"], [\"2020-12-20 00:00:00\"]]}]",
       "should_upgrade_mitosheet": false,
       "tutorial_mode": false,
       "user_email": "naterush1997@gmail.com",
       "value": "Hello World"
      }
     },
     "2d6717ee0e4c40fdaef8ae11dd4bda4a": {
      "model_module": "@jupyter-widgets/base",
      "model_module_version": "1.2.0",
      "model_name": "LayoutModel",
      "state": {}
     },
     "3ae08b94f6bc428cb7f47662c2117d6c": {
      "model_module": "mitosheet",
      "model_module_version": "^0.1.121",
      "model_name": "ExampleModel",
      "state": {
       "_model_module_version": "^0.1.121",
       "_view_module_version": "^0.1.121",
       "analysis_name": "UUID-cc768d36-71ea-42de-ad8d-c408c77bdd2c",
       "code_json": "{\"imports\": \"from mitosheet import *\", \"code\": []}",
       "column_filters_json": "[{\"A\": {\"operator\": \"And\", \"filters\": []}}]",
       "column_spreadsheet_code_json": "[{\"A\": \"\"}]",
       "column_type_json": "[{\"A\": \"string\"}]",
       "df_names_json": "{\"df_names\": [\"df\"]}",
       "df_shape_json": "[{\"rows\": 2, \"cols\": 1}]",
       "has_rendered": true,
       "is_local_deployment": true,
       "layout": "IPY_MODEL_dbb8a8d9f38e45aebdc0d04f04ffbad6",
       "saved_analysis_names_json": "[\"111\", \"1111\", \"28\", \"Testing\", \"_3arkvynuo\", \"_419wxryas\", \"_49hlkjtgp\", \"_88amfqk2f\", \"_8b9x4aa2m\", \"_cb27694sr\", \"_gs9b8mudg\", \"_hexaujrz3\", \"_jtip39qtx\", \"_k4ce9w8om\", \"_ktv9i6xtb\", \"_nauipuq8o\", \"_ojtvedr82\", \"_rqyqe9rfu\", \"_yd64b4y4m\", \"test\", \"to_test\"]",
       "sheet_json": "[{\"columns\": [\"A\"], \"index\": [0, 1], \"data\": [[true], [false]]}]",
       "should_upgrade_mitosheet": false,
       "tutorial_mode": false,
       "user_email": "naterush1997@gmail.com",
       "value": "Hello World"
      }
     },
     "68e3a1e890654f5eb8340b4e462f0211": {
      "model_module": "@jupyter-widgets/base",
      "model_module_version": "1.2.0",
      "model_name": "LayoutModel",
      "state": {}
     },
     "87bf2d4cfa964687bfd2a4fc36bdc4e3": {
      "model_module": "@jupyter-widgets/base",
      "model_module_version": "1.2.0",
      "model_name": "LayoutModel",
      "state": {}
     },
     "99e6d977f681446185d87ecee49c035d": {
      "model_module": "mitosheet",
      "model_module_version": "^0.1.121",
      "model_name": "ExampleModel",
      "state": {
       "_model_module_version": "^0.1.121",
       "_view_module_version": "^0.1.121",
       "analysis_name": "UUID-c2d1cb1a-aa51-4dc5-b458-60f583f62ba8",
       "code_json": "{\"imports\": \"from mitosheet import *\", \"code\": []}",
       "column_filters_json": "[{\"A\": {\"operator\": \"And\", \"filters\": []}}]",
       "column_spreadsheet_code_json": "[{\"A\": \"\"}]",
       "column_type_json": "[{\"A\": \"number\"}]",
       "df_names_json": "{\"df_names\": [\"df\"]}",
       "df_shape_json": "[{\"rows\": 1, \"cols\": 1}]",
       "has_rendered": true,
       "is_local_deployment": true,
       "layout": "IPY_MODEL_0778d56bfbdc4fa9b3059b06267ecea7",
       "saved_analysis_names_json": "[\"111\", \"1111\", \"28\", \"Testing\", \"_3arkvynuo\", \"_419wxryas\", \"_49hlkjtgp\", \"_88amfqk2f\", \"_8b9x4aa2m\", \"_cb27694sr\", \"_gs9b8mudg\", \"_hexaujrz3\", \"_jtip39qtx\", \"_k4ce9w8om\", \"_ktv9i6xtb\", \"_nauipuq8o\", \"_ojtvedr82\", \"_rqyqe9rfu\", \"_yd64b4y4m\", \"test\", \"to_test\"]",
       "sheet_json": "[{\"columns\": [\"A\"], \"index\": [0], \"data\": [[123]]}]",
       "should_upgrade_mitosheet": false,
       "tutorial_mode": false,
       "user_email": "naterush1997@gmail.com",
       "value": "Hello World"
      }
     },
     "b6739ea98f96456082cbaed602af7d4f": {
      "model_module": "mitosheet",
      "model_module_version": "^0.1.121",
      "model_name": "ExampleModel",
      "state": {
       "_model_module_version": "^0.1.121",
       "_view_module_version": "^0.1.121",
       "analysis_name": "UUID-368291a6-df12-47c4-a809-9919155577a9",
       "code_json": "{\"imports\": \"from mitosheet import *\", \"code\": []}",
       "column_filters_json": "[{\"A\": {\"operator\": \"And\", \"filters\": []}}]",
       "column_spreadsheet_code_json": "[{\"A\": \"\"}]",
       "column_type_json": "[{\"A\": \"string\"}]",
       "df_names_json": "{\"df_names\": [\"df\"]}",
       "df_shape_json": "[{\"rows\": 1, \"cols\": 1}]",
       "has_rendered": true,
       "is_local_deployment": true,
       "layout": "IPY_MODEL_87bf2d4cfa964687bfd2a4fc36bdc4e3",
       "saved_analysis_names_json": "[\"111\", \"1111\", \"28\", \"Testing\", \"_3arkvynuo\", \"_419wxryas\", \"_49hlkjtgp\", \"_88amfqk2f\", \"_8b9x4aa2m\", \"_cb27694sr\", \"_gs9b8mudg\", \"_hexaujrz3\", \"_jtip39qtx\", \"_k4ce9w8om\", \"_ktv9i6xtb\", \"_nauipuq8o\", \"_ojtvedr82\", \"_rqyqe9rfu\", \"_yd64b4y4m\", \"test\", \"to_test\"]",
       "sheet_json": "[{\"columns\": [\"A\"], \"index\": [0], \"data\": [[\"A\"]]}]",
       "should_upgrade_mitosheet": false,
       "tutorial_mode": false,
       "user_email": "naterush1997@gmail.com",
       "value": "Hello World"
      }
     },
     "d549a5c9f76642a097cb4c39fc336033": {
      "model_module": "mitosheet",
      "model_module_version": "^0.1.121",
      "model_name": "ExampleModel",
      "state": {
       "_model_module_version": "^0.1.121",
       "_view_module_version": "^0.1.121",
       "analysis_name": "UUID-4a44dd11-2fde-4832-b0f4-16e2c49f98f0",
       "code_json": "{\"imports\": \"from mitosheet import *\", \"code\": []}",
       "column_filters_json": "[{\"A\": {\"operator\": \"And\", \"filters\": []}}]",
       "column_spreadsheet_code_json": "[{\"A\": \"\"}]",
       "column_type_json": "[{\"A\": \"number\"}]",
       "df_names_json": "{\"df_names\": [\"pd.DataFrame({'A': [123]}\"]}",
       "df_shape_json": "[{\"rows\": 1, \"cols\": 1}]",
       "has_rendered": true,
       "is_local_deployment": true,
       "layout": "IPY_MODEL_68e3a1e890654f5eb8340b4e462f0211",
       "saved_analysis_names_json": "[\"111\", \"1111\", \"28\", \"Testing\", \"_3arkvynuo\", \"_419wxryas\", \"_49hlkjtgp\", \"_88amfqk2f\", \"_8b9x4aa2m\", \"_cb27694sr\", \"_gs9b8mudg\", \"_hexaujrz3\", \"_jtip39qtx\", \"_k4ce9w8om\", \"_ktv9i6xtb\", \"_nauipuq8o\", \"_ojtvedr82\", \"_rqyqe9rfu\", \"_yd64b4y4m\", \"test\", \"to_test\"]",
       "sheet_json": "[{\"columns\": [\"A\"], \"index\": [0], \"data\": [[123]]}]",
       "should_upgrade_mitosheet": false,
       "tutorial_mode": false,
       "user_email": "naterush1997@gmail.com",
       "value": "Hello World"
      }
     },
     "dbb8a8d9f38e45aebdc0d04f04ffbad6": {
      "model_module": "@jupyter-widgets/base",
      "model_module_version": "1.2.0",
      "model_name": "LayoutModel",
      "state": {}
     },
     "dcf2ed2691084b82b0c1dcbdff8ab29b": {
      "model_module": "mitosheet",
      "model_module_version": "^0.1.121",
      "model_name": "ExampleModel",
      "state": {
       "_model_module_version": "^0.1.121",
       "_view_module_version": "^0.1.121",
       "analysis_name": "UUID-00730296-5fd4-4916-b8e8-e8bf429358f0",
       "code_json": "{\"imports\": \"from mitosheet import *\", \"code\": []}",
       "column_filters_json": "[{\"A\": {\"operator\": \"And\", \"filters\": []}}]",
       "column_spreadsheet_code_json": "[{\"A\": \"\"}]",
       "column_type_json": "[{\"A\": \"string\"}]",
       "df_names_json": "{\"df_names\": [\"df\"]}",
       "df_shape_json": "[{\"rows\": 3, \"cols\": 1}]",
       "has_rendered": true,
       "is_local_deployment": true,
       "layout": "IPY_MODEL_2d6717ee0e4c40fdaef8ae11dd4bda4a",
       "saved_analysis_names_json": "[\"111\", \"1111\", \"28\", \"Testing\", \"_3arkvynuo\", \"_419wxryas\", \"_49hlkjtgp\", \"_88amfqk2f\", \"_8b9x4aa2m\", \"_cb27694sr\", \"_gs9b8mudg\", \"_hexaujrz3\", \"_jtip39qtx\", \"_k4ce9w8om\", \"_ktv9i6xtb\", \"_nauipuq8o\", \"_ojtvedr82\", \"_rqyqe9rfu\", \"_yd64b4y4m\", \"test\", \"to_test\"]",
       "sheet_json": "[{\"columns\": [\"A\"], \"index\": [0, 1, 2], \"data\": [[\"12-20-2020\"], [true], [10]]}]",
       "should_upgrade_mitosheet": false,
       "tutorial_mode": false,
       "user_email": "naterush1997@gmail.com",
       "value": "Hello World"
      }
     },
     "ff8758bee2734fc9a398a90ef0b3f1c2": {
      "model_module": "@jupyter-widgets/base",
      "model_module_version": "1.2.0",
      "model_name": "LayoutModel",
      "state": {}
     }
    },
    "version_major": 2,
    "version_minor": 0
   }
  }
 },
 "nbformat": 4,
 "nbformat_minor": 4
}
