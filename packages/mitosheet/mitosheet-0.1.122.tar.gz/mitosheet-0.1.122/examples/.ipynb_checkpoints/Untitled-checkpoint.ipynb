{
 "cells": [
  {
   "cell_type": "code",
   "execution_count": null,
   "metadata": {},
   "outputs": [],
   "source": []
  }
 ],
 "metadata": {
  "kernelspec": {
   "display_name": "Python 3",
   "language": "python",
   "name": "python3"
  },
  "language_info": {
   "codemirror_mode": {
    "name": "ipython",
    "version": 3
   },
   "file_extension": ".py",
   "mimetype": "text/x-python",
   "name": "python",
   "nbconvert_exporter": "python",
   "pygments_lexer": "ipython3",
   "version": "3.8.5"
  },
  "widgets": {
   "application/vnd.jupyter.widget-state+json": {
    "state": {
     "8d5cecacb4bc45da85349041becc6042": {
      "model_module": "@jupyter-widgets/base",
      "model_module_version": "1.2.0",
      "model_name": "LayoutModel",
      "state": {}
     },
     "c6d7a247a13b4760803a11cd06289a62": {
      "model_module": "mitosheet",
      "model_module_version": "^0.1.121",
      "model_name": "ExampleModel",
      "state": {
       "_model_module_version": "^0.1.121",
       "_view_module_version": "^0.1.121",
       "analysis_name": "UUID-70c8042f-78c0-46fd-8c72-094a1336adc8",
       "code_json": "{\"imports\": \"from mitosheet import *\", \"code\": []}",
       "column_filters_json": "[{\"A\": {\"operator\": \"And\", \"filters\": []}}]",
       "column_spreadsheet_code_json": "[{\"A\": \"\"}]",
       "column_type_json": "[{\"A\": \"number\"}]",
       "df_names_json": "{\"df_names\": [\"df\"]}",
       "df_shape_json": "[{\"rows\": 1, \"cols\": 1}]",
       "has_rendered": true,
       "is_local_deployment": true,
       "layout": "IPY_MODEL_8d5cecacb4bc45da85349041becc6042",
       "saved_analysis_names_json": "[\"111\", \"1111\", \"28\", \"Testing\", \"_3arkvynuo\", \"_419wxryas\", \"_49hlkjtgp\", \"_88amfqk2f\", \"_8b9x4aa2m\", \"_cb27694sr\", \"_gs9b8mudg\", \"_hexaujrz3\", \"_jtip39qtx\", \"_k4ce9w8om\", \"_ktv9i6xtb\", \"_nauipuq8o\", \"_ojtvedr82\", \"_rqyqe9rfu\", \"_yd64b4y4m\", \"test\", \"to_test\"]",
       "sheet_json": "[{\"columns\": [\"A\"], \"index\": [0], \"data\": [[123]]}]",
       "should_upgrade_mitosheet": false,
       "tutorial_mode": false,
       "user_email": "naterush1997@gmail.com",
       "value": "Hello World"
      }
     },
     "cf939fff1b844882a4df4894098a9343": {
      "model_module": "@jupyter-widgets/base",
      "model_module_version": "1.2.0",
      "model_name": "LayoutModel",
      "state": {}
     },
     "d636120aca54450492d51f1d13a50e7b": {
      "model_module": "mitosheet",
      "model_module_version": "^0.1.121",
      "model_name": "ExampleModel",
      "state": {
       "_model_module_version": "^0.1.121",
       "_view_module_version": "^0.1.121",
       "analysis_name": "UUID-8f9a11f1-0ad3-40f7-ac2e-2feb84db1551",
       "code_json": "{\"imports\": \"from mitosheet import *\", \"code\": []}",
       "column_filters_json": "[{\"B\": {\"operator\": \"And\", \"filters\": []}}]",
       "column_spreadsheet_code_json": "[{\"B\": \"\"}]",
       "column_type_json": "[{\"B\": \"string\"}]",
       "df_names_json": "{\"df_names\": [\"df\"]}",
       "df_shape_json": "[{\"rows\": 1, \"cols\": 1}]",
       "has_rendered": true,
       "is_local_deployment": true,
       "layout": "IPY_MODEL_cf939fff1b844882a4df4894098a9343",
       "saved_analysis_names_json": "[\"111\", \"1111\", \"28\", \"Testing\", \"_3arkvynuo\", \"_419wxryas\", \"_49hlkjtgp\", \"_88amfqk2f\", \"_8b9x4aa2m\", \"_cb27694sr\", \"_gs9b8mudg\", \"_hexaujrz3\", \"_jtip39qtx\", \"_k4ce9w8om\", \"_ktv9i6xtb\", \"_nauipuq8o\", \"_ojtvedr82\", \"_rqyqe9rfu\", \"_yd64b4y4m\", \"test\", \"to_test\"]",
       "sheet_json": "[{\"columns\": [\"B\"], \"index\": [0], \"data\": [[\"AAAAAAAAAAAAAAAAAAAAAAAAAAAAAA\"]]}]",
       "should_upgrade_mitosheet": false,
       "tutorial_mode": false,
       "user_email": "naterush1997@gmail.com",
       "value": "Hello World"
      }
     }
    },
    "version_major": 2,
    "version_minor": 0
   }
  }
 },
 "nbformat": 4,
 "nbformat_minor": 4
}
