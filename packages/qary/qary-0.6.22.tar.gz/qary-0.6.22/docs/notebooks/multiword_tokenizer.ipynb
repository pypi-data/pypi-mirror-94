{
 "cells": [
  {
   "cell_type": "code",
   "execution_count": 2,
   "metadata": {},
   "outputs": [],
   "source": [
    "# Import dependencies\n",
    "from elasticsearch import Elasticsearch\n",
    "from nltk.tokenize import MWETokenizer\n",
    "import yake"
   ]
  },
  {
   "cell_type": "code",
   "execution_count": 3,
   "metadata": {},
   "outputs": [],
   "source": [
    "client = Elasticsearch(\"http://localhost:9200\")"
   ]
  },
  {
   "cell_type": "code",
   "execution_count": 4,
   "metadata": {},
   "outputs": [],
   "source": [
    "def search(index = '', text=\"coronavirus\"):  \n",
    "\n",
    "    # client = Elasticsearch(\"elasticsearch:9200\")\n",
    "    client = Elasticsearch(\"localhost:9200\")\n",
    "\n",
    "    body = {\n",
    "        \"query\": {\n",
    "            \"bool\": {\n",
    "                \"should\": [\n",
    "                    {\"match\": {\"title\": {\n",
    "                        'query': text,\n",
    "                        \"boost\":3\n",
    "                    }}},\n",
    "                    {\n",
    "                        \"nested\": {\n",
    "                            \"path\": \"text\",\n",
    "                            \"query\": {\n",
    "                                \"bool\": {\n",
    "                                    \"should\": [\n",
    "                                        {\"term\": { \"text.section_num\": 0 }},\n",
    "                                        { \"match\": { \"text.section_content\":  text }}\n",
    "                                    ]\n",
    "                                }\n",
    "                            },\n",
    "                            \"inner_hits\":{\n",
    "                                \"highlight\": {\n",
    "                                    \"fields\": {\"text.section_content\": {\"number_of_fragments\" : 1, 'fragment_size':200, 'order': \"score\"}}\n",
    "                                }\n",
    "                            }\n",
    "                        }\n",
    "                    }\n",
    "                    \n",
    "                ]\n",
    "            }\n",
    "        }\n",
    "    }\n",
    "\n",
    "\n",
    "    \"\"\" Full text search within an ElasticSearch index (''=all indexes) for the indicated text \"\"\"\n",
    "    return client.search(index=index,\n",
    "                         body=body)"
   ]
  },
  {
   "cell_type": "code",
   "execution_count": 5,
   "metadata": {},
   "outputs": [
    {
     "ename": "IndexError",
     "evalue": "list index out of range",
     "output_type": "error",
     "traceback": [
      "\u001b[1;31m---------------------------------------------------------------------------\u001b[0m",
      "\u001b[1;31mIndexError\u001b[0m                                Traceback (most recent call last)",
      "\u001b[1;32m<ipython-input-5-a390b44980eb>\u001b[0m in \u001b[0;36m<module>\u001b[1;34m\u001b[0m\n\u001b[0;32m     17\u001b[0m \u001b[1;31m#     return results\u001b[0m\u001b[1;33m\u001b[0m\u001b[1;33m\u001b[0m\u001b[1;33m\u001b[0m\u001b[0m\n\u001b[0;32m     18\u001b[0m \u001b[1;33m\u001b[0m\u001b[0m\n\u001b[1;32m---> 19\u001b[1;33m \u001b[0msections\u001b[0m \u001b[1;33m=\u001b[0m \u001b[0mget_results\u001b[0m\u001b[1;33m(\u001b[0m\u001b[1;34m\"When Barack Obama was inaugurated?\"\u001b[0m\u001b[1;33m)\u001b[0m\u001b[1;33m\u001b[0m\u001b[1;33m\u001b[0m\u001b[0m\n\u001b[0m",
      "\u001b[1;32m<ipython-input-5-a390b44980eb>\u001b[0m in \u001b[0;36mget_results\u001b[1;34m(statement)\u001b[0m\n\u001b[0;32m      3\u001b[0m     \u001b[0msections\u001b[0m \u001b[1;33m=\u001b[0m \u001b[1;33m[\u001b[0m\u001b[1;33m]\u001b[0m\u001b[1;33m\u001b[0m\u001b[1;33m\u001b[0m\u001b[0m\n\u001b[0;32m      4\u001b[0m \u001b[1;33m\u001b[0m\u001b[0m\n\u001b[1;32m----> 5\u001b[1;33m     \u001b[1;32mfor\u001b[0m \u001b[0msection\u001b[0m \u001b[1;32min\u001b[0m \u001b[0mquery\u001b[0m\u001b[1;33m[\u001b[0m\u001b[1;34m'hits'\u001b[0m\u001b[1;33m]\u001b[0m\u001b[1;33m[\u001b[0m\u001b[1;34m'hits'\u001b[0m\u001b[1;33m]\u001b[0m\u001b[1;33m[\u001b[0m\u001b[1;36m0\u001b[0m\u001b[1;33m]\u001b[0m\u001b[1;33m[\u001b[0m\u001b[1;34m'_source'\u001b[0m\u001b[1;33m]\u001b[0m\u001b[1;33m[\u001b[0m\u001b[1;34m'text'\u001b[0m\u001b[1;33m]\u001b[0m\u001b[1;33m:\u001b[0m\u001b[1;33m\u001b[0m\u001b[1;33m\u001b[0m\u001b[0m\n\u001b[0m\u001b[0;32m      6\u001b[0m         \u001b[0msections\u001b[0m\u001b[1;33m.\u001b[0m\u001b[0mappend\u001b[0m\u001b[1;33m(\u001b[0m\u001b[0msection\u001b[0m\u001b[1;33m[\u001b[0m\u001b[1;34m'section_content'\u001b[0m\u001b[1;33m]\u001b[0m\u001b[1;33m.\u001b[0m\u001b[0mstrip\u001b[0m\u001b[1;33m(\u001b[0m\u001b[1;34m'\\n'\u001b[0m\u001b[1;33m)\u001b[0m\u001b[1;33m)\u001b[0m\u001b[1;33m\u001b[0m\u001b[1;33m\u001b[0m\u001b[0m\n\u001b[0;32m      7\u001b[0m \u001b[1;33m\u001b[0m\u001b[0m\n",
      "\u001b[1;31mIndexError\u001b[0m: list index out of range"
     ]
    }
   ],
   "source": [
    "def get_results(statement):\n",
    "    query = search(text=statement)\n",
    "    sections = []\n",
    "\n",
    "    for section in query['hits']['hits'][0]['_source']['text']:\n",
    "        sections.append(section['section_content'].strip('\\n'))\n",
    "        \n",
    "    return sections\n",
    "\n",
    "        \n",
    "\n",
    "#                 results.append(mytuple)\n",
    "\n",
    "#             except:  # noqa\n",
    "#                 pass\n",
    "\n",
    "#     return results\n",
    "\n",
    "sections = get_results(\"When Barack Obama was inaugurated?\")"
   ]
  },
  {
   "cell_type": "code",
   "execution_count": 7,
   "metadata": {},
   "outputs": [],
   "source": [
    "text = ' '.join(sections)"
   ]
  },
  {
   "cell_type": "code",
   "execution_count": 9,
   "metadata": {},
   "outputs": [
    {
     "name": "stdout",
     "output_type": "stream",
     "text": [
      "('obama', 0.0001334842312732941)\n",
      "('united states', 0.00029016168936240005)\n",
      "('barack obama', 0.0003933835861721877)\n",
      "('president barack obama', 0.00041665227772143547)\n",
      "('barack hussein obama', 0.000564995829573451)\n",
      "('president obama', 0.0008901984850432722)\n",
      "('obama administration', 0.0009192385398860593)\n",
      "('united states house', 0.0010278402318980744)\n",
      "('obama signed', 0.0012123855131392696)\n",
      "('obama announced', 0.0012160273160759048)\n",
      "('barack obama presidential', 0.0013401234223959062)\n",
      "('affordable care act', 0.001430931128683662)\n",
      "('united states congress', 0.0014390236140447317)\n",
      "('president', 0.0017672050293412514)\n",
      "('president obama signed', 0.0019013460679336404)\n",
      "('president obama announced', 0.0019073184054521478)\n",
      "('chicago law school', 0.0021099255248114603)\n",
      "('act', 0.002175452329708623)\n",
      "('states', 0.0023650831212219383)\n",
      "('united', 0.002558788255334354)\n"
     ]
    }
   ],
   "source": [
    "kw_extractor = yake.KeywordExtractor()\n",
    "keywords = kw_extractor.extract_keywords(text)\n",
    "\n",
    "for kw in keywords:\n",
    "    print(kw)"
   ]
  },
  {
   "cell_type": "code",
   "execution_count": null,
   "metadata": {},
   "outputs": [],
   "source": [
    "('obama', 0.0001334842312732941)\n",
    "('united states', 0.00029016168936240005)\n",
    "('barack obama', 0.0003933835861721877)\n",
    "('president barack obama', 0.00041665227772143547)\n",
    "('barack hussein obama', 0.000564995829573451)\n",
    "('president obama', 0.0008901984850432722)\n",
    "('obama administration', 0.0009192385398860593)\n",
    "('united states house', 0.0010278402318980744)\n",
    "('obama signed', 0.0012123855131392696)\n",
    "('obama announced', 0.0012160273160759048)\n",
    "('barack obama presidential', 0.0013401234223959062)\n",
    "('affordable care act', 0.001430931128683662)\n",
    "('united states congress', 0.0014390236140447317)\n",
    "('president', 0.0017672050293412514)\n",
    "('president obama signed', 0.0019013460679336404)\n",
    "('president obama announced', 0.0019073184054521478)\n",
    "('chicago law school', 0.0021099255248114603)\n",
    "('act', 0.002175452329708623)\n",
    "('states', 0.0023650831212219383)\n",
    "('united', 0.002558788255334354)\n"
   ]
  },
  {
   "cell_type": "code",
   "execution_count": 1,
   "metadata": {},
   "outputs": [
    {
     "ename": "NameError",
     "evalue": "name 'yake' is not defined",
     "output_type": "error",
     "traceback": [
      "\u001b[1;31m---------------------------------------------------------------------------\u001b[0m",
      "\u001b[1;31mNameError\u001b[0m                                 Traceback (most recent call last)",
      "\u001b[1;32m<ipython-input-1-33f64bf25a3a>\u001b[0m in \u001b[0;36m<module>\u001b[1;34m\u001b[0m\n\u001b[1;32m----> 1\u001b[1;33m \u001b[0mkw_extractor\u001b[0m \u001b[1;33m=\u001b[0m \u001b[0myake\u001b[0m\u001b[1;33m.\u001b[0m\u001b[0mKeywordExtractor\u001b[0m\u001b[1;33m(\u001b[0m\u001b[1;33m)\u001b[0m\u001b[1;33m\u001b[0m\u001b[1;33m\u001b[0m\u001b[0m\n\u001b[0m\u001b[0;32m      2\u001b[0m \u001b[0mkeywords\u001b[0m \u001b[1;33m=\u001b[0m \u001b[0mkw_extractor\u001b[0m\u001b[1;33m.\u001b[0m\u001b[0mextract_keywords\u001b[0m\u001b[1;33m(\u001b[0m\u001b[1;34m\"When Barack Obama was inaugurated?\"\u001b[0m\u001b[1;33m)\u001b[0m\u001b[1;33m\u001b[0m\u001b[1;33m\u001b[0m\u001b[0m\n\u001b[0;32m      3\u001b[0m \u001b[1;33m\u001b[0m\u001b[0m\n\u001b[0;32m      4\u001b[0m \u001b[1;32mfor\u001b[0m \u001b[0mkw\u001b[0m \u001b[1;32min\u001b[0m \u001b[0mkeywords\u001b[0m\u001b[1;33m:\u001b[0m\u001b[1;33m\u001b[0m\u001b[1;33m\u001b[0m\u001b[0m\n\u001b[0;32m      5\u001b[0m     \u001b[0mprint\u001b[0m\u001b[1;33m(\u001b[0m\u001b[0mkw\u001b[0m\u001b[1;33m)\u001b[0m\u001b[1;33m\u001b[0m\u001b[1;33m\u001b[0m\u001b[0m\n",
      "\u001b[1;31mNameError\u001b[0m: name 'yake' is not defined"
     ]
    }
   ],
   "source": [
    "kw_extractor = yake.KeywordExtractor()\n",
    "keywords = kw_extractor.extract_keywords(\"When Barack Obama was inaugurated?\")\n",
    "\n",
    "for kw in keywords:\n",
    "    print(kw)"
   ]
  },
  {
   "cell_type": "code",
   "execution_count": null,
   "metadata": {},
   "outputs": [],
   "source": []
  }
 ],
 "metadata": {
  "kernelspec": {
   "display_name": "Python [conda env:nbooks] *",
   "language": "python",
   "name": "conda-env-nbooks-py"
  },
  "language_info": {
   "codemirror_mode": {
    "name": "ipython",
    "version": 3
   },
   "file_extension": ".py",
   "mimetype": "text/x-python",
   "name": "python",
   "nbconvert_exporter": "python",
   "pygments_lexer": "ipython3",
   "version": "3.6.10"
  }
 },
 "nbformat": 4,
 "nbformat_minor": 4
}
