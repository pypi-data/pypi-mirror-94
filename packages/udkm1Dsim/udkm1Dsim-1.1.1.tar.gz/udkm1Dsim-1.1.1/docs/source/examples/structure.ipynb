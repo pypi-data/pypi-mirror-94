{
 "cells": [
  {
   "cell_type": "markdown",
   "metadata": {},
   "source": [
    "# Structure\n",
    "\n",
    "In order to carry out any simulations using the `udkm1Dsim` package, an according one-dimensional `Structure` needs to be created in advance.\n",
    "\n",
    "This `Structure` object can consists of one or many sub-structures and/or `Layers` of type `UnitCell` or `AmorphousLayer`.\n",
    "\n",
    "`UnitCell`s and `AmorphousLayer`s conist of the fundamental building blocks, namely `Atom`s and `AtomMixed`.\n",
    "\n",
    "In this example the basic concepts of creating the above mentioned objects are introduced. Furthermore one should easily see how to set and access all the physical properties of these physical objects."
   ]
  },
  {
   "cell_type": "markdown",
   "metadata": {},
   "source": [
    "## Setup\n",
    "\n",
    "Do all necessary imports and settings."
   ]
  },
  {
   "cell_type": "code",
   "execution_count": 1,
   "metadata": {},
   "outputs": [],
   "source": [
    "import udkm1Dsim as ud\n",
    "u = ud.u #  import the pint unit registry from udkm1Dsim\n",
    "import scipy.constants as constants\n",
    "import numpy as np\n",
    "import matplotlib.pyplot as plt\n",
    "%matplotlib inline\n",
    "u.setup_matplotlib() #  use matplotlib with pint units"
   ]
  },
  {
   "cell_type": "markdown",
   "metadata": {},
   "source": [
    "## Atoms\n",
    "\n",
    "The `atoms` module contains two classes: `Atom` and `AtomMixed`."
   ]
  },
  {
   "cell_type": "markdown",
   "metadata": {},
   "source": [
    "### Atom\n",
    "\n",
    "The `Atom` object represents a real physical atom as it can be found in the periodic table.\n",
    "Accordingly, it is initialized with the required `symbol` of the element.\n",
    "Then all necessary data are loaded from paramter files linked to this element.\n",
    "\n",
    "An optional `ID` can be given as _keyword parameter_ if atoms of the same element but with different properties are used.\n",
    "Another keyword argument is the `ionicity` of the atom, which has to be present in the parameter files.\n",
    "\n",
    "The magnetization of every atom can be set by the three _keyword parameters_\n",
    "* `mag_amplitude`\n",
    "* `mag_phi`\n",
    "* `mag_gamma`\n",
    "\n",
    "If no individual paths to the atomic- and/or magnetic scattering factors are given, by `atomic_form_factor_path` and `magnetic_form_factor_path`, respectively, the defaults parameters are used from the \n",
    "_Chantler tables_:\n",
    "\n",
    "C.T. Chantler, K. Olsen, R.A. Dragoset, J. Chang, A.R. Kishore, S.A. Kotochigova, & D.S. Zucker,  \n",
    "*Detailed Tabulation of Atomic Form Factors, Photoelectric Absorption and Scattering Cross Section, and Mass Attenuation Coefficients for Z = 1-92 from E = 1-10 eV to E = 0.4-1.0 MeV*  \n",
    "[NIST Standard Reference Database 66.](https://dx.doi.org/10.18434/T4HS32)\n",
    "\n",
    "as well as [Project Dyna](https://neel.cnrs.frspip.php/?rubrique1008&lang=en), respectively"
   ]
  },
  {
   "cell_type": "code",
   "execution_count": 2,
   "metadata": {},
   "outputs": [],
   "source": [
    "O = ud.Atom('O')\n",
    "Om1 = ud.Atom('O', id='Om1', ionicity=-1)\n",
    "Om2 = ud.Atom('O', id='Om2', ionicity=-2)\n",
    "Fe = ud.Atom('Fe', mag_amplitude=1, mag_phi=0*u.deg, mag_gamma=90*u.deg)\n",
    "Cr = ud.Atom('Cr')\n",
    "Ti = ud.Atom('Ti')\n",
    "Sr = ud.Atom('Sr')\n",
    "Ru = ud.Atom('Ru')\n",
    "Pb = ud.Atom('Pb')\n",
    "Zr = ud.Atom('Zr')"
   ]
  },
  {
   "cell_type": "markdown",
   "metadata": {},
   "source": [
    "One can easily print all properties of a single atom:"
   ]
  },
  {
   "cell_type": "code",
   "execution_count": 3,
   "metadata": {},
   "outputs": [
    {
     "name": "stdout",
     "output_type": "stream",
     "text": [
      "Atom with the following properties\n",
      "=================  =================================\n",
      "               id  Sr\n",
      "           symbol  Sr\n",
      "             name  Strontium\n",
      "  atomic number Z  38\n",
      "    mass number A  87.62\n",
      "             mass  1.455×10⁻²⁵ kg\n",
      "         ionicity  0\n",
      "Cromer Mann coeff  [38.      0.     17.5663  9.8184]\n",
      "               ..  [ 5.422   2.6694  1.5564 14.0988]\n",
      "               ..  [  0.1664 132.376    2.5064]\n",
      "  magn. amplitude  0\n",
      "        magn. phi  0.0 deg\n",
      "      magn. gamma  0.0 deg\n",
      "=================  =================================\n"
     ]
    }
   ],
   "source": [
    "print(Sr)"
   ]
  },
  {
   "cell_type": "markdown",
   "metadata": {},
   "source": [
    "Or just a single property:"
   ]
  },
  {
   "cell_type": "code",
   "execution_count": 4,
   "metadata": {},
   "outputs": [
    {
     "name": "stdout",
     "output_type": "stream",
     "text": [
      "7.948502350094219×10⁻²⁶ kg\n"
     ]
    }
   ],
   "source": [
    "print(Ti.mass)"
   ]
  },
  {
   "cell_type": "markdown",
   "metadata": {},
   "source": [
    "### Mixed Atom\n",
    "\n",
    "The `AtomMixed` class allows for solid solutions that can easily achieved by the following lines of code.\n",
    "The input for the initialization of the `AtomMixed` object are the `symbol`, `id`, and `name`, whereas only the first is required."
   ]
  },
  {
   "cell_type": "code",
   "execution_count": 5,
   "metadata": {},
   "outputs": [
    {
     "name": "stdout",
     "output_type": "stream",
     "text": [
      "AtomMixed with the following properties\n",
      "===============  ====================\n",
      "             id  ZT\n",
      "         symbol  ZT\n",
      "           name  Zircon-Titan 0.2 0.8\n",
      "atomic number Z  25.6\n",
      "  mass number A  56.538399999999996\n",
      "           mass  9.388×10⁻²⁶ kg\n",
      "       ionicity  0.0\n",
      "magn. amplitude  0\n",
      "      magn. phi  0.0 deg\n",
      "    magn. gamma  0.0 deg\n",
      "===============  ====================\n",
      "2 Constituents:\n",
      "---------  ------\n",
      "Zirconium  20.0 %\n",
      " Titanium  80.0 %\n",
      "---------  ------\n"
     ]
    }
   ],
   "source": [
    "ZT = ud.AtomMixed('ZT', id='ZT', name='Zircon-Titan 0.2 0.8')\n",
    "ZT.add_atom(Zr, 0.2)\n",
    "ZT.add_atom(Ti, 0.8)\n",
    "print(ZT)"
   ]
  },
  {
   "cell_type": "markdown",
   "metadata": {},
   "source": [
    "## Layers\n",
    "\n",
    "The atoms created above can be used to build `Layer`s.\n",
    "There are two types of layers available: `AmorphousLayer` and crystalline `UnitCell`.\n",
    "Both share many common physical properties which are relevant for the later simulations.\n",
    "Please refer to a complete list or properties and methods in the __API documentation__."
   ]
  },
  {
   "cell_type": "markdown",
   "metadata": {},
   "source": [
    "### Amorphous Layers\n",
    "\n",
    "The `AmorphousLayer` must be initialized with an `id`, `name`, `thickness`, and `density`.\n",
    "All other properties are optional and must be set to carry out the according simulations."
   ]
  },
  {
   "cell_type": "code",
   "execution_count": 6,
   "metadata": {},
   "outputs": [
    {
     "name": "stdout",
     "output_type": "stream",
     "text": [
      "Amorphous layer with the following properties\n",
      "\n",
      "========================  ===========================\n",
      "               parameter  value\n",
      "========================  ===========================\n",
      "                      id  amorph_Fe\n",
      "                    name  amorph_Fe\n",
      "               thickness  20.0 nm\n",
      "                    area  0.01 nm²\n",
      "                  volume  0.2 nm³\n",
      "                    mass  1.5748×10⁻²⁴ kg\n",
      "      mass per unit area  1.5748×10⁻²⁴ kg\n",
      "                 density  7.874×10³ kg/m³\n",
      "               roughness  0.0 nm\n",
      "     Debye Waller Factor  0 m²\n",
      "          sound velocity  0.0 m/s\n",
      "         spring constant  [0.0] kg/s²\n",
      "          phonon damping  0.0 kg/s\n",
      "         opt. pen. depth  0.0 nm\n",
      "   opt. refractive index  0\n",
      "  opt. ref. index/strain  0\n",
      "        thermal conduct.  lambda T: 0.000000 W/(m K)\n",
      "linear thermal expansion  lambda T: 0.000000\n",
      "           heat capacity  lambda T: 0.000000 J/(kg K)\n",
      "      subsystem coupling  lambda T: 0.000000 W/m³\n",
      "             no atom set\n",
      "========================  ===========================\n"
     ]
    }
   ],
   "source": [
    "amorph_Fe = ud.AmorphousLayer('amorph_Fe', 'amorph_Fe', 20*u.nm, 7.874*u.g/u.cm**3)\n",
    "# print the layer properties\n",
    "print(amorph_Fe)"
   ]
  },
  {
   "cell_type": "markdown",
   "metadata": {},
   "source": [
    "The physical properties can be also given during initialization using a `dict`:"
   ]
  },
  {
   "cell_type": "code",
   "execution_count": 7,
   "metadata": {},
   "outputs": [
    {
     "name": "stdout",
     "output_type": "stream",
     "text": [
      "Amorphous layer with the following properties\n",
      "\n",
      "========================  ===========================\n",
      "               parameter  value\n",
      "========================  ===========================\n",
      "                      id  amorph_Cr\n",
      "                    name  amorph_Cr\n",
      "               thickness  40.0 nm\n",
      "                    area  0.01 nm²\n",
      "                  volume  0.4 nm³\n",
      "                    mass  2.856×10⁻²⁴ kg\n",
      "      mass per unit area  2.856×10⁻²⁴ kg\n",
      "                 density  7.14×10³ kg/m³\n",
      "               roughness  0.0 nm\n",
      "     Debye Waller Factor  0 m²\n",
      "          sound velocity  5×10³ m/s\n",
      "         spring constant  [0.0] kg/s²\n",
      "          phonon damping  0.0 kg/s\n",
      "         opt. pen. depth  9.999999999999998 nm\n",
      "   opt. refractive index  0\n",
      "  opt. ref. index/strain  0\n",
      "        thermal conduct.  lambda T: 0.000000 W/(m K)\n",
      "linear thermal expansion  lambda T: 0.000000\n",
      "           heat capacity  lambda T: 0.000000 J/(kg K)\n",
      "      subsystem coupling  lambda T: 0.000000 W/m³\n",
      "                    atom  Chromium\n",
      "           magnetization\n",
      "               amplitude  0\n",
      "                 phi [°]  0.0 deg\n",
      "               gamma [°]  0.0 deg\n",
      "========================  ===========================\n"
     ]
    }
   ],
   "source": [
    "params = {\n",
    "    'opt_pen_depth': 10*u.nm,\n",
    "    'sound_vel': 5*(u.nm/u.ps),\n",
    "}\n",
    "\n",
    "amorph_Cr = ud.AmorphousLayer('amorph_Cr', 'amorph_Cr', 40*u.nm, 7.14*u.g/u.cm**3, atom=Cr, **params)\n",
    "# print the layer properties\n",
    "print(amorph_Cr)"
   ]
  },
  {
   "cell_type": "markdown",
   "metadata": {},
   "source": [
    "### Unit Cells\n",
    "\n",
    "The `UnitCell` requires an `id`, `name`, and `c_axis` upon initialization.\n",
    "Mulltiple atoms can be added to relative positions along the _c_-Axis in the 1D `UnitCell`.\n",
    "Note that all temperature-dependent properties can be given either as scalar (constant) value or as string that represents a temperature-dependent _lambda_-function:"
   ]
  },
  {
   "cell_type": "code",
   "execution_count": 8,
   "metadata": {},
   "outputs": [
    {
     "name": "stdout",
     "output_type": "stream",
     "text": [
      "Unit Cell with the following properties\n",
      "\n",
      "========================  ==================================================\n",
      "               parameter  value\n",
      "========================  ==================================================\n",
      "                      id  SRO\n",
      "                    name  Strontium Ruthenate\n",
      "                  a-axis  0.3905 nm\n",
      "                  b-axis  0.3905 nm\n",
      "                  c-axis  0.3949 nm\n",
      "                    area  0.1525 nm²\n",
      "                  volume  0.06022 nm³\n",
      "                    mass  3.93×10⁻²⁵ kg\n",
      "      mass per unit area  2.577×10⁻²⁶ kg\n",
      "                    area  0.1525 nm²\n",
      "                  volume  0.06022 nm³\n",
      "                    mass  3.930300027032341×10⁻²⁵ kg\n",
      "      mass per unit area  2.5774107046400294×10⁻²⁶ kg\n",
      "                 density  6.527×10³ kg/m³\n",
      "               roughness  0.0 nm\n",
      "     Debye Waller Factor  0 m²\n",
      "          sound velocity  6.312×10³ m/s\n",
      "         spring constant  [6.0] kg/s²\n",
      "          phonon damping  0.0 kg/s\n",
      "         opt. pen. depth  0.0 nm\n",
      "   opt. refractive index  (2.44+4.32j)\n",
      "  opt. ref. index/strain  0\n",
      "        thermal conduct.  lambda T: 5.720000 W/(m K)\n",
      "linear thermal expansion  lambda T: 0.000010\n",
      "           heat capacity  lambda T: 455.2 + 0.112*T - 2.1935e6/T**2 J/(kg K)\n",
      "      subsystem coupling  lambda T: 0.000000 W/m³\n",
      "========================  ==================================================\n",
      "\n",
      "5 Constituents:\n",
      "=========  ==========  ======================================  =======  ===========  =========  ===========\n",
      "atom         position  position function                       magn.      amplitude    phi [°]    gamma [°]\n",
      "=========  ==========  ======================================  =======  ===========  =========  ===========\n",
      "Oxygen            0    lambda strain: 0.000000e+00*(strain+1)                     0          0            0\n",
      "Strontium         0    lambda strain: 0.000000e+00*(strain+1)                     0          0            0\n",
      "Oxygen            0.5  lambda strain: 5.000000e-01*(strain+1)                     0          0            0\n",
      "Oxygen            0.5  lambda strain: 5.000000e-01*(strain+1)                     0          0            0\n",
      "Ruthenium         0.5  lambda strain: 5.000000e-01*(strain+1)                     0          0            0\n",
      "=========  ==========  ======================================  =======  ===========  =========  ===========\n"
     ]
    }
   ],
   "source": [
    "# c-axis lattice constants of the two layers\n",
    "c_STO_sub = 3.905*u.angstrom\n",
    "c_SRO = 3.94897*u.angstrom\n",
    "# sound velocities [nm/ps] of the two layers\n",
    "sv_SRO = 6.312*u.nm/u.ps\n",
    "sv_STO = 7.800*u.nm/u.ps\n",
    "\n",
    "# SRO layer\n",
    "prop_SRO = {}\n",
    "prop_SRO['a_axis'] = c_STO_sub # aAxis\n",
    "prop_SRO['b_axis'] = c_STO_sub # bAxis\n",
    "prop_SRO['deb_Wal_Fac'] = 0 # Debye-Waller factor\n",
    "prop_SRO['sound_vel'] = sv_SRO # sound velocity\n",
    "prop_SRO['opt_ref_index'] = 2.44+4.32j\n",
    "prop_SRO['therm_cond'] = 5.72*u.W/(u.m *u.K) # heat conductivity\n",
    "prop_SRO['lin_therm_exp'] = 1.03e-5 # linear thermal expansion\n",
    "prop_SRO['heat_capacity'] = 'lambda T: 455.2 + 0.112*T - 2.1935e6/T**2' # heat capacity [J/kg K]\n",
    "\n",
    "SRO = ud.UnitCell('SRO', 'Strontium Ruthenate', c_SRO, **prop_SRO)\n",
    "SRO.add_atom(O, 0)\n",
    "SRO.add_atom(Sr, 0)\n",
    "SRO.add_atom(O, 0.5)\n",
    "SRO.add_atom(O, 0.5)\n",
    "SRO.add_atom(Ru, 0.5)\n",
    "\n",
    "print(SRO)"
   ]
  },
  {
   "cell_type": "markdown",
   "metadata": {},
   "source": [
    "#### Non-Linear Strain Dependence\n",
    "In general the position of each atom in a unit cell depends linearly from an external strain.\n",
    "In some cases this linear behaviour has to be altered.\n",
    "This can be easily achieved by providing a string representation of a strain-dependent _lambda_-function for the atom position when the atom is added to the unit cell."
   ]
  },
  {
   "cell_type": "code",
   "execution_count": 9,
   "metadata": {},
   "outputs": [
    {
     "name": "stdout",
     "output_type": "stream",
     "text": [
      "Unit Cell with the following properties\n",
      "\n",
      "========================  ===================================================\n",
      "               parameter  value\n",
      "========================  ===================================================\n",
      "                      id  STOsub\n",
      "                    name  Strontium Titanate Substrate\n",
      "                  a-axis  0.3905 nm\n",
      "                  b-axis  0.3905 nm\n",
      "                  c-axis  0.3905 nm\n",
      "                    area  0.1525 nm²\n",
      "                  volume  0.05955 nm³\n",
      "                    mass  3.047×10⁻²⁵ kg\n",
      "      mass per unit area  1.998×10⁻²⁶ kg\n",
      "                    area  0.1525 nm²\n",
      "                  volume  0.05955 nm³\n",
      "                    mass  3.046843427429143×10⁻²⁵ kg\n",
      "      mass per unit area  1.9980578610298977×10⁻²⁶ kg\n",
      "                 density  5.117×10³ kg/m³\n",
      "               roughness  0.0 nm\n",
      "     Debye Waller Factor  0 m²\n",
      "          sound velocity  7.8×10³ m/s\n",
      "         spring constant  [7.0] kg/s²\n",
      "          phonon damping  0.0 kg/s\n",
      "         opt. pen. depth  0.0 nm\n",
      "   opt. refractive index  (2.1+0j)\n",
      "  opt. ref. index/strain  0\n",
      "        thermal conduct.  lambda T: 12.000000 W/(m K)\n",
      "linear thermal expansion  lambda T: 0.000010\n",
      "           heat capacity  lambda T: 733.73 + 0.0248*T - 6.531e6/T**2 J/(kg K)\n",
      "      subsystem coupling  lambda T: 0.000000 W/m³\n",
      "========================  ===================================================\n",
      "\n",
      "5 Constituents:\n",
      "=========  ==========  ======================================  =======  ===========  =========  ===========\n",
      "atom         position  position function                       magn.      amplitude    phi [°]    gamma [°]\n",
      "=========  ==========  ======================================  =======  ===========  =========  ===========\n",
      "Strontium         0    lambda strain: 0.000000e+00*(strain+1)                     0          0            0\n",
      "Oxygen            0.1  lambda strain: 0.1*(strain**2+1)                           0          0            0\n",
      "Oxygen            0.5  lambda strain: 5.000000e-01*(strain+1)                     0          0            0\n",
      "Oxygen            0.5  lambda strain: 5.000000e-01*(strain+1)                     0          0            0\n",
      "Titanium          0.5  lambda strain: 5.000000e-01*(strain+1)                     0          0            0\n",
      "=========  ==========  ======================================  =======  ===========  =========  ===========\n"
     ]
    }
   ],
   "source": [
    "# STO substrate\n",
    "prop_STO_sub = {}\n",
    "prop_STO_sub['a_axis'] = c_STO_sub # aAxis\n",
    "prop_STO_sub['b_axis'] = c_STO_sub # bAxis\n",
    "prop_STO_sub['deb_Wal_Fac'] = 0 # Debye-Waller factor\n",
    "prop_STO_sub['sound_vel'] = sv_STO # sound velocity\n",
    "prop_STO_sub['opt_ref_index'] = 2.1+0j\n",
    "prop_STO_sub['therm_cond'] = 12*u.W/(u.m *u.K) # heat conductivity\n",
    "prop_STO_sub['lin_therm_exp'] = 1e-5 # linear thermal expansion\n",
    "prop_STO_sub['heat_capacity'] = 'lambda T: 733.73 + 0.0248*T - 6.531e6/T**2' # heat capacity [J/kg K]\n",
    "    \n",
    "STO_sub = ud.UnitCell('STOsub', 'Strontium Titanate Substrate', c_STO_sub, **prop_STO_sub)\n",
    "STO_sub.add_atom(O, 'lambda strain: 0.1*(strain**2+1)')\n",
    "STO_sub.add_atom(Sr, 0)\n",
    "STO_sub.add_atom(O, 0.5)\n",
    "STO_sub.add_atom(O, 0.5)\n",
    "STO_sub.add_atom(Ti, 0.5)\n",
    "\n",
    "print(STO_sub)"
   ]
  },
  {
   "cell_type": "markdown",
   "metadata": {},
   "source": [
    "A simple visualization is alos available:"
   ]
  },
  {
   "cell_type": "code",
   "execution_count": 10,
   "metadata": {},
   "outputs": [
    {
     "data": {
      "image/png": "[encoded data removed]",
      "text/plain": [
       "<Figure size 432x288 with 1 Axes>"
      ]
     },
     "metadata": {
      "needs_background": "light"
     },
     "output_type": "display_data"
    }
   ],
   "source": [
    "SRO.visualize()"
   ]
  },
  {
   "cell_type": "markdown",
   "metadata": {},
   "source": [
    "## Structure\n",
    "\n",
    "The `AmorphousLayer` and `UnitCell` can now be added to an actual structure:"
   ]
  },
  {
   "cell_type": "code",
   "execution_count": 11,
   "metadata": {},
   "outputs": [
    {
     "name": "stdout",
     "output_type": "stream",
     "text": [
      "Structure properties:\n",
      "\n",
      "Name   : Single Layer\n",
      "Thickness : 429.99 nanometer\n",
      "Roughness : 0.00 nanometer\n",
      "----\n",
      "100 times Strontium Ruthenate: 39.49 nanometer\n",
      "1000 times Strontium Titanate Substrate: 390.50 nanometer\n",
      "----\n",
      "no substrate\n",
      "\n"
     ]
    },
    {
     "data": {
      "image/png": "[encoded data removed]",
      "text/plain": [
       "<Figure size 1440x72 with 1 Axes>"
      ]
     },
     "metadata": {
      "needs_background": "light"
     },
     "output_type": "display_data"
    }
   ],
   "source": [
    "S = ud.Structure('Single Layer')\n",
    "S.add_sub_structure(SRO, 100) # add 100 layers of SRO to sample\n",
    "S.add_sub_structure(STO_sub, 1000) # add 1000 layers of STO substrate\n",
    "\n",
    "print(S)\n",
    "\n",
    "S.visualize()"
   ]
  },
  {
   "cell_type": "markdown",
   "metadata": {},
   "source": [
    "There are various methods available to determine specific properties of a `Structure`, please also refer to the __API documentation__ for more details:"
   ]
  },
  {
   "cell_type": "code",
   "execution_count": 12,
   "metadata": {},
   "outputs": [],
   "source": [
    "[d_start, d_end, d_mid] = S.get_distances_of_layers() \n",
    "K = S.get_number_of_sub_structures()\n",
    "L = S.get_number_of_unique_layers()\n",
    "M = S.get_number_of_layers()\n",
    "P = S.get_all_positions_per_unique_layer()\n",
    "I = S.get_distances_of_interfaces()\n",
    "c_axis = S.get_layer_property_vector('c_axis')"
   ]
  },
  {
   "cell_type": "markdown",
   "metadata": {},
   "source": [
    "The `Structure` class also allows to nest multiple substructures in order to build more complex samples easily:"
   ]
  },
  {
   "cell_type": "code",
   "execution_count": 13,
   "metadata": {},
   "outputs": [
    {
     "name": "stdout",
     "output_type": "stream",
     "text": [
      "Structure properties:\n",
      "\n",
      "Name   : Super Lattice\n",
      "Thickness : 332.58 nanometer\n",
      "Roughness : 0.00 nanometer\n",
      "----\n",
      "sub-structure 10 times:\n",
      "\tStructure properties:\n",
      "\n",
      "\tName   : Double Layer\n",
      "\tThickness : 13.73 nanometer\n",
      "\tRoughness : 0.00 nanometer\n",
      "\t----\n",
      "\t15 times Strontium Ruthenate: 5.92 nanometer\n",
      "\t20 times Strontium Titanate Substrate: 7.81 nanometer\n",
      "\t----\n",
      "\tno substrate\n",
      "500 times Strontium Titanate Substrate: 195.25 nanometer\n",
      "----\n",
      "no substrate\n",
      "\n"
     ]
    },
    {
     "data": {
      "image/png": "[encoded data removed]",
      "text/plain": [
       "<Figure size 1440x72 with 1 Axes>"
      ]
     },
     "metadata": {
      "needs_background": "light"
     },
     "output_type": "display_data"
    }
   ],
   "source": [
    "S2 = ud.Structure('Super Lattice')\n",
    "# define a single double layer\n",
    "DL = ud.Structure('Double Layer')\n",
    "DL.add_sub_structure(SRO, 15)  # add 15 layers of SRO\n",
    "DL.add_sub_structure(STO_sub, 20)  # add 20 layers of STO substrate\n",
    "\n",
    "# add the double layer to the super lattice\n",
    "S2.add_sub_structure(DL, 10)  # add 10 double layers to super lattice\n",
    "S2.add_sub_structure(STO_sub,500)  # add 500 layers of STO substrate\n",
    "\n",
    "print(S2)\n",
    "\n",
    "S2.visualize()"
   ]
  },
  {
   "cell_type": "markdown",
   "metadata": {},
   "source": [
    "There a few more interafaces than before (includes also the top and bottom interface):"
   ]
  },
  {
   "cell_type": "code",
   "execution_count": 14,
   "metadata": {},
   "outputs": [
    {
     "name": "stdout",
     "output_type": "stream",
     "text": [
      "21\n"
     ]
    }
   ],
   "source": [
    "I2 = S2.get_distances_of_interfaces();\n",
    "print(len(I2))"
   ]
  },
  {
   "cell_type": "markdown",
   "metadata": {},
   "source": [
    "## Static Substrate"
   ]
  },
  {
   "cell_type": "markdown",
   "metadata": {},
   "source": [
    "Mainly for X-ray scattering simulations it might be helpful to add a `static` substrate to the structure, which is not included in the `dynamic` simulations of `heat`, `phonons`, and `magnetization`.\n",
    "Hence the simulation time can be kept short while the scattering result include thick substrate contributions."
   ]
  },
  {
   "cell_type": "code",
   "execution_count": 17,
   "metadata": {},
   "outputs": [
    {
     "name": "stdout",
     "output_type": "stream",
     "text": [
      "Structure properties:\n",
      "\n",
      "Name   : Super Lattice\n",
      "Thickness : 332.58 nanometer\n",
      "Roughness : 0.00 nanometer\n",
      "----\n",
      "sub-structure 10 times:\n",
      "\tStructure properties:\n",
      "\n",
      "\tName   : Double Layer\n",
      "\tThickness : 13.73 nanometer\n",
      "\tRoughness : 0.00 nanometer\n",
      "\t----\n",
      "\t15 times Strontium Ruthenate: 5.92 nanometer\n",
      "\t20 times Strontium Titanate Substrate: 7.81 nanometer\n",
      "\t----\n",
      "\tno substrate\n",
      "500 times Strontium Titanate Substrate: 195.25 nanometer\n",
      "----\n",
      "Substrate:\n",
      "----\n",
      "1000000 times Strontium Titanate Substrate: 390500.00 nanometer\n",
      "\n"
     ]
    },
    {
     "data": {
      "image/png": "[encoded data removed]",
      "text/plain": [
       "<Figure size 1440x72 with 1 Axes>"
      ]
     },
     "metadata": {
      "needs_background": "light"
     },
     "output_type": "display_data"
    }
   ],
   "source": [
    "substrate = ud.Structure('Static Substrate')\n",
    "substrate.add_sub_structure(STO_sub, 1000000)\n",
    "\n",
    "S2.add_substrate(substrate)\n",
    "\n",
    "print(S2)\n",
    "\n",
    "S2.visualize()"
   ]
  }
 ],
 "metadata": {
  "kernelspec": {
   "display_name": "Python 3",
   "language": "python",
   "name": "python3"
  },
  "language_info": {
   "codemirror_mode": {
    "name": "ipython",
    "version": 3
   },
   "file_extension": ".py",
   "mimetype": "text/x-python",
   "name": "python",
   "nbconvert_exporter": "python",
   "pygments_lexer": "ipython3",
   "version": "3.7.7"
  }
 },
 "nbformat": 4,
 "nbformat_minor": 4
}
