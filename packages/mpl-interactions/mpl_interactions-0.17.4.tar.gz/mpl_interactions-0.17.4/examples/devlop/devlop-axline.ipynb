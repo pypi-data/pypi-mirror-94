{
 "cells": [
  {
   "cell_type": "code",
   "execution_count": 1,
   "metadata": {},
   "outputs": [],
   "source": [
    "%matplotlib ipympl\n",
    "import ipywidgets as widgets\n",
    "import matplotlib.pyplot as plt\n",
    "import numpy as np\n",
    "\n",
    "%load_ext autoreload\n",
    "%autoreload 2\n",
    "from mpl_interactions import *"
   ]
  },
  {
   "cell_type": "code",
   "execution_count": 2,
   "metadata": {},
   "outputs": [
    {
     "data": {
      "application/vnd.jupyter.widget-view+json": {
       "model_id": "8ecf6b7a6b3741afb0f228e0ece0997c",
       "version_major": 2,
       "version_minor": 0
      },
      "text/plain": [
       "Canvas(toolbar=Toolbar(toolitems=[('Home', 'Reset original view', 'home', 'home'), ('Back', 'Back to previous …"
      ]
     },
     "metadata": {},
     "output_type": "display_data"
    },
    {
     "data": {
      "application/vnd.jupyter.widget-view+json": {
       "model_id": "d760d944f599429c979d7e11b7f0679d",
       "version_major": 2,
       "version_minor": 0
      },
      "text/plain": [
       "VBox(children=(HBox(children=(IntSlider(value=0, description='heck', max=49, readout=False), Label(value='0.00…"
      ]
     },
     "metadata": {},
     "output_type": "display_data"
    }
   ],
   "source": [
    "fig, ax = plt.subplots()\n",
    "def y(heck):\n",
    "    return heck\n",
    "def xmin(heck):\n",
    "    return heck\n",
    "# controls = interactive_axhline(y,0,1, heck=(0,1))\n",
    "controls = interactive_axhline(y,xmin,1, heck=(0,1))\n",
    "# ret.set_ydata([.5,1])"
   ]
  },
  {
   "cell_type": "code",
   "execution_count": null,
   "metadata": {},
   "outputs": [],
   "source": [
    "plt.axhline()"
   ]
  },
  {
   "cell_type": "code",
   "execution_count": null,
   "metadata": {},
   "outputs": [],
   "source": [
    "\n",
    "\n",
    "def interactive_axhline(\n",
    "    y=0,\n",
    "    xmin=0,\n",
    "    xmax=1,\n",
    "    ax=None,\n",
    "    slider_formats=None,\n",
    "    title=None,\n",
    "    force_ipywidgets=False,\n",
    "    play_buttons=False,\n",
    "    play_button_pos=\"right\",\n",
    "    controls=None,\n",
    "    display_controls=True,\n",
    "    **kwargs,\n",
    "):\n",
    "    \"\"\"\n",
    "    Control an horizontal line using widgets.\n",
    "\n",
    "    parameters\n",
    "    ----------\n",
    "    y : float or function\n",
    "        y position in data coordinates of the horizontal line.\n",
    "    xmin : float or function\n",
    "        Should be between 0 and 1, 0 being the far left of the plot, 1 the\n",
    "        far right of the plot.\n",
    "    xmax : float or function\n",
    "        Should be between 0 and 1, 0 being the far left of the plot, 1 the\n",
    "        far right of the plot.\n",
    "    ax : matplotlib axis, optional\n",
    "        If None a new figure and axis will be created\n",
    "    slider_formats : None, string, or dict\n",
    "        If None a default value of decimal points will be used. Uses the new {} style formatting\n",
    "    force_ipywidgets : boolean\n",
    "        If True ipywidgets will always be used, even if not using the ipympl backend.\n",
    "        If False the function will try to detect if it is ok to use ipywidgets\n",
    "        If ipywidgets are not used the function will fall back on matplotlib widgets\n",
    "    play_buttons : bool or dict, optional\n",
    "        Whether to attach an ipywidgets.Play widget to any sliders that get created.\n",
    "        If a boolean it will apply to all kwargs, if a dictionary you choose which sliders you\n",
    "        want to attach play buttons too.\n",
    "    play_button_pos : str, or dict, or list(str)\n",
    "        'left' or 'right'. Whether to position the play widget(s) to the left or right of the slider(s)\n",
    "    controls : mpl_interactions.controller.Controls\n",
    "        An existing controls object if you want to tie multiple plot elements to the same set of\n",
    "        controls\n",
    "    display_controls : boolean\n",
    "        Whether the controls should display themselve on creation. Ignored if controls is specified.\n",
    "\n",
    "    returns\n",
    "    -------\n",
    "    controls\n",
    "    \"\"\"\n",
    "    ipympl = notebook_backend()\n",
    "    fig, ax = gogogo_figure(ipympl, ax)\n",
    "    use_ipywidgets = ipympl or force_ipywidgets\n",
    "    slider_formats = create_slider_format_dict(slider_formats)\n",
    "\n",
    "    controls, params = gogogo_controls(\n",
    "        kwargs, controls, display_controls, slider_formats, play_buttons, play_button_pos\n",
    "    )\n",
    "\n",
    "    def update(params, indices, cache):\n",
    "        if title is not None:\n",
    "            ax.set_title(title.format(**params))\n",
    "        y_ = callable_else_value(y, params, cache).item()\n",
    "        line.set_ydata([y_, y_])\n",
    "        xmin_ = callable_else_value(xmin, params, cache).item()\n",
    "        xmax_ = callable_else_value(xmax, params, cache).item()\n",
    "        line.set_xdata([xmin_, xmax_])\n",
    "        # TODO consider updating just the ydatalim here\n",
    "\n",
    "    controls.register_function(update, fig, params)\n",
    "    line = ax.axhline(\n",
    "        callable_else_value(y, params).item(),\n",
    "        callable_else_value(xmin, params).item(),\n",
    "        callable_else_value(xmax, params).item(),\n",
    "    )\n",
    "    return controls\n",
    "\n",
    "\n",
    "def interactive_axvline(\n",
    "    x=0,\n",
    "    ymin=0,\n",
    "    ymax=1,\n",
    "    ax=None,\n",
    "    slider_formats=None,\n",
    "    title=None,\n",
    "    force_ipywidgets=False,\n",
    "    play_buttons=False,\n",
    "    play_button_pos=\"right\",\n",
    "    controls=None,\n",
    "    display_controls=True,\n",
    "    **kwargs,\n",
    "):\n",
    "    ipympl = notebook_backend()\n",
    "    fig, ax = gogogo_figure(ipympl, ax)\n",
    "    use_ipywidgets = ipympl or force_ipywidgets\n",
    "    slider_formats = create_slider_format_dict(slider_formats)\n",
    "\n",
    "    controls, params = gogogo_controls(\n",
    "        kwargs, controls, display_controls, slider_formats, play_buttons, play_button_pos\n",
    "    )\n",
    "\n",
    "    def update(params, indices, cache):\n",
    "        if title is not None:\n",
    "            ax.set_title(title.format(**params))\n",
    "        x_ = callable_else_value(x, params, cache).item()\n",
    "        line.set_ydata([x_, x_])\n",
    "        ymin_ = callable_else_value(ymin, params, cache).item()\n",
    "        ymax_ = callable_else_value(ymax, params, cache).item()\n",
    "        line.set_xdata([ymin_, ymax_])\n",
    "        # TODO consider updating just the ydatalim here\n",
    "\n",
    "    controls.register_function(update, fig, params)\n",
    "    line = ax.axvline(\n",
    "        callable_else_value(x, params).item(),\n",
    "        callable_else_value(ymin, params).item(),\n",
    "        callable_else_value(ymax, params).item(),\n",
    "    )\n",
    "    return controls"
   ]
  },
  {
   "cell_type": "code",
   "execution_count": 18,
   "metadata": {},
   "outputs": [],
   "source": [
    "ret.set_ydata([0.5, 1])"
   ]
  },
  {
   "cell_type": "code",
   "execution_count": 14,
   "metadata": {},
   "outputs": [
    {
     "ename": "ValueError",
     "evalue": "xmin must be a single scalar value, but got 0",
     "output_type": "error",
     "traceback": [
      "\u001b[0;31m---------------------------------------------------------------------------\u001b[0m",
      "\u001b[0;31mValueError\u001b[0m                                Traceback (most recent call last)",
      "\u001b[0;32m<ipython-input-14-748f618dad05>\u001b[0m in \u001b[0;36m<module>\u001b[0;34m\u001b[0m\n\u001b[0;32m----> 1\u001b[0;31m \u001b[0mret\u001b[0m \u001b[0;34m=\u001b[0m \u001b[0max\u001b[0m\u001b[0;34m.\u001b[0m\u001b[0maxhline\u001b[0m\u001b[0;34m(\u001b[0m\u001b[0;36m0\u001b[0m\u001b[0;34m,\u001b[0m\u001b[0mnp\u001b[0m\u001b[0;34m.\u001b[0m\u001b[0marray\u001b[0m\u001b[0;34m(\u001b[0m\u001b[0;36m0\u001b[0m\u001b[0;34m)\u001b[0m\u001b[0;34m,\u001b[0m\u001b[0;36m1\u001b[0m\u001b[0;34m)\u001b[0m\u001b[0;34m\u001b[0m\u001b[0;34m\u001b[0m\u001b[0m\n\u001b[0m",
      "\u001b[0;32m~/Documents/jupyter/matplotlib/lib/matplotlib/axes/_axes.py\u001b[0m in \u001b[0;36maxhline\u001b[0;34m(self, y, xmin, xmax, **kwargs)\u001b[0m\n\u001b[1;32m    703\u001b[0m             \u001b[0;34m>>\u001b[0m\u001b[0;34m>\u001b[0m \u001b[0maxhline\u001b[0m\u001b[0;34m(\u001b[0m\u001b[0my\u001b[0m\u001b[0;34m=\u001b[0m\u001b[0;36m.5\u001b[0m\u001b[0;34m,\u001b[0m \u001b[0mxmin\u001b[0m\u001b[0;34m=\u001b[0m\u001b[0;36m0.25\u001b[0m\u001b[0;34m,\u001b[0m \u001b[0mxmax\u001b[0m\u001b[0;34m=\u001b[0m\u001b[0;36m0.75\u001b[0m\u001b[0;34m)\u001b[0m\u001b[0;34m\u001b[0m\u001b[0;34m\u001b[0m\u001b[0m\n\u001b[1;32m    704\u001b[0m         \"\"\"\n\u001b[0;32m--> 705\u001b[0;31m         \u001b[0mself\u001b[0m\u001b[0;34m.\u001b[0m\u001b[0m_check_no_units\u001b[0m\u001b[0;34m(\u001b[0m\u001b[0;34m[\u001b[0m\u001b[0mxmin\u001b[0m\u001b[0;34m,\u001b[0m \u001b[0mxmax\u001b[0m\u001b[0;34m]\u001b[0m\u001b[0;34m,\u001b[0m \u001b[0;34m[\u001b[0m\u001b[0;34m'xmin'\u001b[0m\u001b[0;34m,\u001b[0m \u001b[0;34m'xmax'\u001b[0m\u001b[0;34m]\u001b[0m\u001b[0;34m)\u001b[0m\u001b[0;34m\u001b[0m\u001b[0;34m\u001b[0m\u001b[0m\n\u001b[0m\u001b[1;32m    706\u001b[0m         \u001b[0;32mif\u001b[0m \u001b[0;34m\"transform\"\u001b[0m \u001b[0;32min\u001b[0m \u001b[0mkwargs\u001b[0m\u001b[0;34m:\u001b[0m\u001b[0;34m\u001b[0m\u001b[0;34m\u001b[0m\u001b[0m\n\u001b[1;32m    707\u001b[0m             raise ValueError(\"'transform' is not allowed as a keyword \"\n",
      "\u001b[0;32m~/Documents/jupyter/matplotlib/lib/matplotlib/axes/_axes.py\u001b[0m in \u001b[0;36m_check_no_units\u001b[0;34m(vals, names)\u001b[0m\n\u001b[1;32m    791\u001b[0m         \u001b[0;32mfor\u001b[0m \u001b[0mval\u001b[0m\u001b[0;34m,\u001b[0m \u001b[0mname\u001b[0m \u001b[0;32min\u001b[0m \u001b[0mzip\u001b[0m\u001b[0;34m(\u001b[0m\u001b[0mvals\u001b[0m\u001b[0;34m,\u001b[0m \u001b[0mnames\u001b[0m\u001b[0;34m)\u001b[0m\u001b[0;34m:\u001b[0m\u001b[0;34m\u001b[0m\u001b[0;34m\u001b[0m\u001b[0m\n\u001b[1;32m    792\u001b[0m             \u001b[0;32mif\u001b[0m \u001b[0;32mnot\u001b[0m \u001b[0mmunits\u001b[0m\u001b[0;34m.\u001b[0m\u001b[0m_is_natively_supported\u001b[0m\u001b[0;34m(\u001b[0m\u001b[0mval\u001b[0m\u001b[0;34m)\u001b[0m\u001b[0;34m:\u001b[0m\u001b[0;34m\u001b[0m\u001b[0;34m\u001b[0m\u001b[0m\n\u001b[0;32m--> 793\u001b[0;31m                 raise ValueError(f\"{name} must be a single scalar value, \"\n\u001b[0m\u001b[1;32m    794\u001b[0m                                  f\"but got {val}\")\n\u001b[1;32m    795\u001b[0m \u001b[0;34m\u001b[0m\u001b[0m\n",
      "\u001b[0;31mValueError\u001b[0m: xmin must be a single scalar value, but got 0"
     ]
    }
   ],
   "source": [
    "ret = ax.axhline(0,np.array(0),1)"
   ]
  },
  {
   "cell_type": "code",
   "execution_count": 13,
   "metadata": {},
   "outputs": [
    {
     "data": {
      "text/plain": [
       "0"
      ]
     },
     "execution_count": 13,
     "metadata": {},
     "output_type": "execute_result"
    }
   ],
   "source": [
    "arr = np.array(0)\n",
    "arr.item()"
   ]
  },
  {
   "cell_type": "code",
   "execution_count": 12,
   "metadata": {},
   "outputs": [
    {
     "ename": "IndexError",
     "evalue": "too many indices for array: array is 0-dimensional, but 1 were indexed",
     "output_type": "error",
     "traceback": [
      "\u001b[0;31m---------------------------------------------------------------------------\u001b[0m",
      "\u001b[0;31mIndexError\u001b[0m                                Traceback (most recent call last)",
      "\u001b[0;32m<ipython-input-12-d3e0db857085>\u001b[0m in \u001b[0;36m<module>\u001b[0;34m\u001b[0m\n\u001b[0;32m----> 1\u001b[0;31m \u001b[0marr\u001b[0m\u001b[0;34m[\u001b[0m\u001b[0;36m0\u001b[0m\u001b[0;34m]\u001b[0m\u001b[0;34m\u001b[0m\u001b[0;34m\u001b[0m\u001b[0m\n\u001b[0m",
      "\u001b[0;31mIndexError\u001b[0m: too many indices for array: array is 0-dimensional, but 1 were indexed"
     ]
    }
   ],
   "source": [
    "np.asscalar(arr)"
   ]
  },
  {
   "cell_type": "code",
   "execution_count": 21,
   "metadata": {},
   "outputs": [],
   "source": [
    "ret.set_xdata([0,1.5])"
   ]
  },
  {
   "cell_type": "code",
   "execution_count": 19,
   "metadata": {},
   "outputs": [
    {
     "data": {
      "text/plain": [
       "\u001b[0;31mSignature:\u001b[0m \u001b[0max\u001b[0m\u001b[0;34m.\u001b[0m\u001b[0maxhline\u001b[0m\u001b[0;34m(\u001b[0m\u001b[0my\u001b[0m\u001b[0;34m=\u001b[0m\u001b[0;36m0\u001b[0m\u001b[0;34m,\u001b[0m \u001b[0mxmin\u001b[0m\u001b[0;34m=\u001b[0m\u001b[0;36m0\u001b[0m\u001b[0;34m,\u001b[0m \u001b[0mxmax\u001b[0m\u001b[0;34m=\u001b[0m\u001b[0;36m1\u001b[0m\u001b[0;34m,\u001b[0m \u001b[0;34m**\u001b[0m\u001b[0mkwargs\u001b[0m\u001b[0;34m)\u001b[0m\u001b[0;34m\u001b[0m\u001b[0;34m\u001b[0m\u001b[0m\n",
       "\u001b[0;31mDocstring:\u001b[0m\n",
       "Add a horizontal line across the axis.\n",
       "\n",
       "Parameters\n",
       "----------\n",
       "y : float, default: 0\n",
       "    y position in data coordinates of the horizontal line.\n",
       "\n",
       "xmin : float, default: 0\n",
       "    Should be between 0 and 1, 0 being the far left of the plot, 1 the\n",
       "    far right of the plot.\n",
       "\n",
       "xmax : float, default: 1\n",
       "    Should be between 0 and 1, 0 being the far left of the plot, 1 the\n",
       "    far right of the plot.\n",
       "\n",
       "Returns\n",
       "-------\n",
       "`~matplotlib.lines.Line2D`\n",
       "\n",
       "Other Parameters\n",
       "----------------\n",
       "**kwargs\n",
       "    Valid keyword arguments are `.Line2D` properties, with the\n",
       "    exception of 'transform':\n",
       "\n",
       "    Properties:\n",
       "    agg_filter: a filter function, which takes a (m, n, 3) float array and a dpi value, and returns a (m, n, 3) array\n",
       "    alpha: scalar or None\n",
       "    animated: bool\n",
       "    antialiased or aa: bool\n",
       "    clip_box: `.Bbox`\n",
       "    clip_on: bool\n",
       "    clip_path: Patch or (Path, Transform) or None\n",
       "    color or c: color\n",
       "    contains: unknown\n",
       "    dash_capstyle: {'butt', 'round', 'projecting'}\n",
       "    dash_joinstyle: {'miter', 'round', 'bevel'}\n",
       "    dashes: sequence of floats (on/off ink in points) or (None, None)\n",
       "    data: (2, N) array or two 1D arrays\n",
       "    drawstyle or ds: {'default', 'steps', 'steps-pre', 'steps-mid', 'steps-post'}, default: 'default'\n",
       "    figure: `.Figure`\n",
       "    fillstyle: {'full', 'left', 'right', 'bottom', 'top', 'none'}\n",
       "    gid: str\n",
       "    in_layout: bool\n",
       "    label: object\n",
       "    linestyle or ls: {'-', '--', '-.', ':', '', (offset, on-off-seq), ...}\n",
       "    linewidth or lw: float\n",
       "    marker: marker style string, `~.path.Path` or `~.markers.MarkerStyle`\n",
       "    markeredgecolor or mec: color\n",
       "    markeredgewidth or mew: float\n",
       "    markerfacecolor or mfc: color\n",
       "    markerfacecoloralt or mfcalt: color\n",
       "    markersize or ms: float\n",
       "    markevery: None or int or (int, int) or slice or List[int] or float or (float, float) or List[bool]\n",
       "    path_effects: `.AbstractPathEffect`\n",
       "    picker: unknown\n",
       "    pickradius: float\n",
       "    rasterized: bool or None\n",
       "    sketch_params: (scale: float, length: float, randomness: float)\n",
       "    snap: bool or None\n",
       "    solid_capstyle: {'butt', 'round', 'projecting'}\n",
       "    solid_joinstyle: {'miter', 'round', 'bevel'}\n",
       "    transform: `matplotlib.transforms.Transform`\n",
       "    url: str\n",
       "    visible: bool\n",
       "    xdata: 1D array\n",
       "    ydata: 1D array\n",
       "    zorder: float\n",
       "\n",
       "See Also\n",
       "--------\n",
       "hlines : Add horizontal lines in data coordinates.\n",
       "axhspan : Add a horizontal span (rectangle) across the axis.\n",
       "axline : Add a line with an arbitrary slope.\n",
       "\n",
       "Examples\n",
       "--------\n",
       "* draw a thick red hline at 'y' = 0 that spans the xrange::\n",
       "\n",
       "    >>> axhline(linewidth=4, color='r')\n",
       "\n",
       "* draw a default hline at 'y' = 1 that spans the xrange::\n",
       "\n",
       "    >>> axhline(y=1)\n",
       "\n",
       "* draw a default hline at 'y' = .5 that spans the middle half of\n",
       "  the xrange::\n",
       "\n",
       "    >>> axhline(y=.5, xmin=0.25, xmax=0.75)\n",
       "\u001b[0;31mSource:\u001b[0m   \n",
       "    \u001b[0;34m@\u001b[0m\u001b[0mdocstring\u001b[0m\u001b[0;34m.\u001b[0m\u001b[0mdedent_interpd\u001b[0m\u001b[0;34m\u001b[0m\n",
       "\u001b[0;34m\u001b[0m    \u001b[0;32mdef\u001b[0m \u001b[0maxhline\u001b[0m\u001b[0;34m(\u001b[0m\u001b[0mself\u001b[0m\u001b[0;34m,\u001b[0m \u001b[0my\u001b[0m\u001b[0;34m=\u001b[0m\u001b[0;36m0\u001b[0m\u001b[0;34m,\u001b[0m \u001b[0mxmin\u001b[0m\u001b[0;34m=\u001b[0m\u001b[0;36m0\u001b[0m\u001b[0;34m,\u001b[0m \u001b[0mxmax\u001b[0m\u001b[0;34m=\u001b[0m\u001b[0;36m1\u001b[0m\u001b[0;34m,\u001b[0m \u001b[0;34m**\u001b[0m\u001b[0mkwargs\u001b[0m\u001b[0;34m)\u001b[0m\u001b[0;34m:\u001b[0m\u001b[0;34m\u001b[0m\n",
       "\u001b[0;34m\u001b[0m        \u001b[0;34m\"\"\"\u001b[0m\n",
       "\u001b[0;34m        Add a horizontal line across the axis.\u001b[0m\n",
       "\u001b[0;34m\u001b[0m\n",
       "\u001b[0;34m        Parameters\u001b[0m\n",
       "\u001b[0;34m        ----------\u001b[0m\n",
       "\u001b[0;34m        y : float, default: 0\u001b[0m\n",
       "\u001b[0;34m            y position in data coordinates of the horizontal line.\u001b[0m\n",
       "\u001b[0;34m\u001b[0m\n",
       "\u001b[0;34m        xmin : float, default: 0\u001b[0m\n",
       "\u001b[0;34m            Should be between 0 and 1, 0 being the far left of the plot, 1 the\u001b[0m\n",
       "\u001b[0;34m            far right of the plot.\u001b[0m\n",
       "\u001b[0;34m\u001b[0m\n",
       "\u001b[0;34m        xmax : float, default: 1\u001b[0m\n",
       "\u001b[0;34m            Should be between 0 and 1, 0 being the far left of the plot, 1 the\u001b[0m\n",
       "\u001b[0;34m            far right of the plot.\u001b[0m\n",
       "\u001b[0;34m\u001b[0m\n",
       "\u001b[0;34m        Returns\u001b[0m\n",
       "\u001b[0;34m        -------\u001b[0m\n",
       "\u001b[0;34m        `~matplotlib.lines.Line2D`\u001b[0m\n",
       "\u001b[0;34m\u001b[0m\n",
       "\u001b[0;34m        Other Parameters\u001b[0m\n",
       "\u001b[0;34m        ----------------\u001b[0m\n",
       "\u001b[0;34m        **kwargs\u001b[0m\n",
       "\u001b[0;34m            Valid keyword arguments are `.Line2D` properties, with the\u001b[0m\n",
       "\u001b[0;34m            exception of 'transform':\u001b[0m\n",
       "\u001b[0;34m\u001b[0m\n",
       "\u001b[0;34m            %(_Line2D_docstr)s\u001b[0m\n",
       "\u001b[0;34m\u001b[0m\n",
       "\u001b[0;34m        See Also\u001b[0m\n",
       "\u001b[0;34m        --------\u001b[0m\n",
       "\u001b[0;34m        hlines : Add horizontal lines in data coordinates.\u001b[0m\n",
       "\u001b[0;34m        axhspan : Add a horizontal span (rectangle) across the axis.\u001b[0m\n",
       "\u001b[0;34m        axline : Add a line with an arbitrary slope.\u001b[0m\n",
       "\u001b[0;34m\u001b[0m\n",
       "\u001b[0;34m        Examples\u001b[0m\n",
       "\u001b[0;34m        --------\u001b[0m\n",
       "\u001b[0;34m        * draw a thick red hline at 'y' = 0 that spans the xrange::\u001b[0m\n",
       "\u001b[0;34m\u001b[0m\n",
       "\u001b[0;34m            >>> axhline(linewidth=4, color='r')\u001b[0m\n",
       "\u001b[0;34m\u001b[0m\n",
       "\u001b[0;34m        * draw a default hline at 'y' = 1 that spans the xrange::\u001b[0m\n",
       "\u001b[0;34m\u001b[0m\n",
       "\u001b[0;34m            >>> axhline(y=1)\u001b[0m\n",
       "\u001b[0;34m\u001b[0m\n",
       "\u001b[0;34m        * draw a default hline at 'y' = .5 that spans the middle half of\u001b[0m\n",
       "\u001b[0;34m          the xrange::\u001b[0m\n",
       "\u001b[0;34m\u001b[0m\n",
       "\u001b[0;34m            >>> axhline(y=.5, xmin=0.25, xmax=0.75)\u001b[0m\n",
       "\u001b[0;34m        \"\"\"\u001b[0m\u001b[0;34m\u001b[0m\n",
       "\u001b[0;34m\u001b[0m        \u001b[0mself\u001b[0m\u001b[0;34m.\u001b[0m\u001b[0m_check_no_units\u001b[0m\u001b[0;34m(\u001b[0m\u001b[0;34m[\u001b[0m\u001b[0mxmin\u001b[0m\u001b[0;34m,\u001b[0m \u001b[0mxmax\u001b[0m\u001b[0;34m]\u001b[0m\u001b[0;34m,\u001b[0m \u001b[0;34m[\u001b[0m\u001b[0;34m'xmin'\u001b[0m\u001b[0;34m,\u001b[0m \u001b[0;34m'xmax'\u001b[0m\u001b[0;34m]\u001b[0m\u001b[0;34m)\u001b[0m\u001b[0;34m\u001b[0m\n",
       "\u001b[0;34m\u001b[0m        \u001b[0;32mif\u001b[0m \u001b[0;34m\"transform\"\u001b[0m \u001b[0;32min\u001b[0m \u001b[0mkwargs\u001b[0m\u001b[0;34m:\u001b[0m\u001b[0;34m\u001b[0m\n",
       "\u001b[0;34m\u001b[0m            \u001b[0;32mraise\u001b[0m \u001b[0mValueError\u001b[0m\u001b[0;34m(\u001b[0m\u001b[0;34m\"'transform' is not allowed as a keyword \"\u001b[0m\u001b[0;34m\u001b[0m\n",
       "\u001b[0;34m\u001b[0m                             \u001b[0;34m\"argument; axhline generates its own transform.\"\u001b[0m\u001b[0;34m)\u001b[0m\u001b[0;34m\u001b[0m\n",
       "\u001b[0;34m\u001b[0m        \u001b[0mymin\u001b[0m\u001b[0;34m,\u001b[0m \u001b[0mymax\u001b[0m \u001b[0;34m=\u001b[0m \u001b[0mself\u001b[0m\u001b[0;34m.\u001b[0m\u001b[0mget_ybound\u001b[0m\u001b[0;34m(\u001b[0m\u001b[0;34m)\u001b[0m\u001b[0;34m\u001b[0m\n",
       "\u001b[0;34m\u001b[0m\u001b[0;34m\u001b[0m\n",
       "\u001b[0;34m\u001b[0m        \u001b[0;31m# Strip away the units for comparison with non-unitized bounds.\u001b[0m\u001b[0;34m\u001b[0m\n",
       "\u001b[0;34m\u001b[0m        \u001b[0myy\u001b[0m\u001b[0;34m,\u001b[0m \u001b[0;34m=\u001b[0m \u001b[0mself\u001b[0m\u001b[0;34m.\u001b[0m\u001b[0m_process_unit_info\u001b[0m\u001b[0;34m(\u001b[0m\u001b[0;34m[\u001b[0m\u001b[0;34m(\u001b[0m\u001b[0;34m\"y\"\u001b[0m\u001b[0;34m,\u001b[0m \u001b[0my\u001b[0m\u001b[0;34m)\u001b[0m\u001b[0;34m]\u001b[0m\u001b[0;34m,\u001b[0m \u001b[0mkwargs\u001b[0m\u001b[0;34m)\u001b[0m\u001b[0;34m\u001b[0m\n",
       "\u001b[0;34m\u001b[0m        \u001b[0mscaley\u001b[0m \u001b[0;34m=\u001b[0m \u001b[0;34m(\u001b[0m\u001b[0myy\u001b[0m \u001b[0;34m<\u001b[0m \u001b[0mymin\u001b[0m\u001b[0;34m)\u001b[0m \u001b[0;32mor\u001b[0m \u001b[0;34m(\u001b[0m\u001b[0myy\u001b[0m \u001b[0;34m>\u001b[0m \u001b[0mymax\u001b[0m\u001b[0;34m)\u001b[0m\u001b[0;34m\u001b[0m\n",
       "\u001b[0;34m\u001b[0m\u001b[0;34m\u001b[0m\n",
       "\u001b[0;34m\u001b[0m        \u001b[0mtrans\u001b[0m \u001b[0;34m=\u001b[0m \u001b[0mself\u001b[0m\u001b[0;34m.\u001b[0m\u001b[0mget_yaxis_transform\u001b[0m\u001b[0;34m(\u001b[0m\u001b[0mwhich\u001b[0m\u001b[0;34m=\u001b[0m\u001b[0;34m'grid'\u001b[0m\u001b[0;34m)\u001b[0m\u001b[0;34m\u001b[0m\n",
       "\u001b[0;34m\u001b[0m        \u001b[0ml\u001b[0m \u001b[0;34m=\u001b[0m \u001b[0mmlines\u001b[0m\u001b[0;34m.\u001b[0m\u001b[0mLine2D\u001b[0m\u001b[0;34m(\u001b[0m\u001b[0;34m[\u001b[0m\u001b[0mxmin\u001b[0m\u001b[0;34m,\u001b[0m \u001b[0mxmax\u001b[0m\u001b[0;34m]\u001b[0m\u001b[0;34m,\u001b[0m \u001b[0;34m[\u001b[0m\u001b[0my\u001b[0m\u001b[0;34m,\u001b[0m \u001b[0my\u001b[0m\u001b[0;34m]\u001b[0m\u001b[0;34m,\u001b[0m \u001b[0mtransform\u001b[0m\u001b[0;34m=\u001b[0m\u001b[0mtrans\u001b[0m\u001b[0;34m,\u001b[0m \u001b[0;34m**\u001b[0m\u001b[0mkwargs\u001b[0m\u001b[0;34m)\u001b[0m\u001b[0;34m\u001b[0m\n",
       "\u001b[0;34m\u001b[0m        \u001b[0mself\u001b[0m\u001b[0;34m.\u001b[0m\u001b[0madd_line\u001b[0m\u001b[0;34m(\u001b[0m\u001b[0ml\u001b[0m\u001b[0;34m)\u001b[0m\u001b[0;34m\u001b[0m\n",
       "\u001b[0;34m\u001b[0m        \u001b[0mself\u001b[0m\u001b[0;34m.\u001b[0m\u001b[0m_request_autoscale_view\u001b[0m\u001b[0;34m(\u001b[0m\u001b[0mscalex\u001b[0m\u001b[0;34m=\u001b[0m\u001b[0;32mFalse\u001b[0m\u001b[0;34m,\u001b[0m \u001b[0mscaley\u001b[0m\u001b[0;34m=\u001b[0m\u001b[0mscaley\u001b[0m\u001b[0;34m)\u001b[0m\u001b[0;34m\u001b[0m\n",
       "\u001b[0;34m\u001b[0m        \u001b[0;32mreturn\u001b[0m \u001b[0ml\u001b[0m\u001b[0;34m\u001b[0m\u001b[0;34m\u001b[0m\u001b[0m\n",
       "\u001b[0;31mFile:\u001b[0m      ~/Documents/jupyter/matplotlib/lib/matplotlib/axes/_axes.py\n",
       "\u001b[0;31mType:\u001b[0m      method\n"
      ]
     },
     "metadata": {},
     "output_type": "display_data"
    }
   ],
   "source": [
    "def axhline(y=0, xmin=0, xmax=1):\n",
    "    "
   ]
  },
  {
   "cell_type": "code",
   "execution_count": 13,
   "metadata": {},
   "outputs": [
    {
     "data": {
      "text/plain": [
       "[0, 1]"
      ]
     },
     "execution_count": 13,
     "metadata": {},
     "output_type": "execute_result"
    }
   ],
   "source": [
    "ret.get_ydata()"
   ]
  },
  {
   "cell_type": "code",
   "execution_count": 14,
   "metadata": {},
   "outputs": [],
   "source": []
  },
  {
   "cell_type": "code",
   "execution_count": 15,
   "metadata": {},
   "outputs": [],
   "source": []
  },
  {
   "cell_type": "code",
   "execution_count": null,
   "metadata": {},
   "outputs": [],
   "source": []
  }
 ],
 "metadata": {
  "kernelspec": {
   "display_name": "Python 3",
   "language": "python",
   "name": "python3"
  },
  "language_info": {
   "codemirror_mode": {
    "name": "ipython",
    "version": 3
   },
   "file_extension": ".py",
   "mimetype": "text/x-python",
   "name": "python",
   "nbconvert_exporter": "python",
   "pygments_lexer": "ipython3",
   "version": "3.8.5"
  }
 },
 "nbformat": 4,
 "nbformat_minor": 4
}
