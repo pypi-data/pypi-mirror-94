{
 "cells": [
  {
   "cell_type": "markdown",
   "metadata": {},
   "source": [
    "# Attaching play buttons to sliders\n",
    ".. note:: \n",
    "    The labels will not update as that requires a Python kernel.\n",
    "\n",
    "If you are working in Jupyter then you can add\n",
    "an [ipywidgets.Play](https://ipywidgets.readthedocs.io/en/latest/examples/Widget%20List.html#Play-(Animation)-widget) widget to the sliders for any of the ``interactive_*`` functions.\n",
    "\n",
    "In this tutorial all the functions are ``scatter`` but this will work for ``plot``, ``hist``, ``imshow``, etc..."
   ]
  },
  {
   "cell_type": "markdown",
   "metadata": {},
   "source": [
    "## Specifying Which Sliders Get Play buttons"
   ]
  },
  {
   "cell_type": "code",
   "execution_count": null,
   "metadata": {},
   "outputs": [],
   "source": [
    "%matplotlib ipympl\n",
    "import matplotlib.pyplot as plt\n",
    "import numpy as np\n",
    "\n",
    "import mpl_interactions.ipyplot as iplt\n",
    "\n",
    "# turn off interactive mode so that broken\n",
    "# plots don't render in the docs\n",
    "plt.ioff()"
   ]
  },
  {
   "cell_type": "markdown",
   "metadata": {},
   "source": [
    "### Boolean: All get a button"
   ]
  },
  {
   "cell_type": "code",
   "execution_count": null,
   "metadata": {},
   "outputs": [],
   "source": [
    "N = 50\n",
    "x = np.random.rand(N)\n",
    "\n",
    "\n",
    "def f_y(x, tau, beta):\n",
    "    return np.sin(x * tau) ** 2 + np.random.randn(N) * 0.01 * beta\n",
    "\n",
    "\n",
    "fig, ax = plt.subplots()\n",
    "controls = iplt.scatter(x, f_y, tau=(1, 2 * np.pi, 100), beta=(0, 2), play_buttons=True)"
   ]
  },
  {
   "cell_type": "markdown",
   "metadata": {},
   "source": [
    "### String:\n",
    "You make a play button for all sliders on either the left or the right using a string argument."
   ]
  },
  {
   "cell_type": "code",
   "execution_count": null,
   "metadata": {},
   "outputs": [],
   "source": [
    "fig, ax = plt.subplots()\n",
    "controls = iplt.scatter(\n",
    "    x, f_y, tau=(1, 2 * np.pi, 100), beta=(0, 2), play_buttons=\"left\"\n",
    ")"
   ]
  },
  {
   "cell_type": "code",
   "execution_count": null,
   "metadata": {},
   "outputs": [],
   "source": [
    "fig, ax = plt.subplots()\n",
    "controls = iplt.scatter(\n",
    "    x, f_y, tau=(1, 2 * np.pi, 100), beta=(0, 2), play_buttons=\"right\"\n",
    ")"
   ]
  },
  {
   "cell_type": "markdown",
   "metadata": {},
   "source": [
    "### List: Choose by name"
   ]
  },
  {
   "cell_type": "code",
   "execution_count": null,
   "metadata": {},
   "outputs": [],
   "source": [
    "fig, ax = plt.subplots()\n",
    "controls = iplt.scatter(\n",
    "    x, f_y, tau=(1, 2 * np.pi, 100), beta=(0, 2), play_buttons=[\"tau\"]\n",
    ")"
   ]
  },
  {
   "cell_type": "markdown",
   "metadata": {},
   "source": [
    "### defaultdict: Specify by name and choose default\n",
    "\n",
    "If you have many parameters and you want the most, but not all, of them to have a Play button then\n",
    "you should use a `defaultdict``"
   ]
  },
  {
   "cell_type": "code",
   "execution_count": null,
   "metadata": {},
   "outputs": [],
   "source": [
    "from collections import defaultdict\n",
    "\n",
    "\n",
    "def f(x, **kwargs):\n",
    "    return x\n",
    "\n",
    "\n",
    "play_buttons = defaultdict(lambda: True)\n",
    "play_buttons[\"tau\"] = False\n",
    "fig, ax = plt.subplots()\n",
    "controls = iplt.scatter(\n",
    "    x,\n",
    "    f,\n",
    "    tau=(1, 2 * np.pi, 100),\n",
    "    beta=(0, 2),\n",
    "    zeta=(0, 1),\n",
    "    psi=(0, 1),\n",
    "    play_buttons=play_buttons,\n",
    ")"
   ]
  },
  {
   "cell_type": "code",
   "execution_count": null,
   "metadata": {},
   "outputs": [],
   "source": []
  }
 ],
 "metadata": {
  "kernelspec": {
   "display_name": "Python 3",
   "language": "python",
   "name": "python3"
  },
  "language_info": {
   "codemirror_mode": {
    "name": "ipython",
    "version": 3
   },
   "file_extension": ".py",
   "mimetype": "text/x-python",
   "name": "python",
   "nbconvert_exporter": "python",
   "pygments_lexer": "ipython3",
   "version": "3.8.5"
  },
  "widgets": {
   "application/vnd.jupyter.widget-state+json": {
    "state": {
     "00bc48d724aa438ab87463337e0f7eaf": {
      "model_module": "@jupyter-widgets/base",
      "model_module_version": "1.2.0",
      "model_name": "LayoutModel",
      "state": {}
     },
     "0179bb5130c9469f8f7e1e8799d837c5": {
      "model_module": "@jupyter-widgets/controls",
      "model_module_version": "1.5.0",
      "model_name": "DescriptionStyleModel",
      "state": {
       "description_width": ""
      }
     },
     "063865096bce4c3eabd7d67f9ae6f602": {
      "model_module": "@jupyter-widgets/controls",
      "model_module_version": "1.5.0",
      "model_name": "PlayModel",
      "state": {
       "layout": "IPY_MODEL_eb601277028748be867ac124794ef32a",
       "max": 49,
       "style": "IPY_MODEL_8772edca5d8f4879a7e5bad179dbb465"
      }
     },
     "074b61d9268f4c4393adab67e92ea873": {
      "model_module": "@jupyter-widgets/base",
      "model_module_version": "1.2.0",
      "model_name": "LayoutModel",
      "state": {}
     },
     "09c5da8a71b6456fb3060a3e646436ad": {
      "model_module": "@jupyter-widgets/base",
      "model_module_version": "1.2.0",
      "model_name": "LayoutModel",
      "state": {}
     },
     "0c4dc281a4624366825d33d4d018f06c": {
      "model_module": "@jupyter-widgets/base",
      "model_module_version": "1.2.0",
      "model_name": "LayoutModel",
      "state": {}
     },
     "0db9c1982fec463d8b9dc9c6f586eef0": {
      "model_module": "@jupyter-widgets/controls",
      "model_module_version": "1.5.0",
      "model_name": "DescriptionStyleModel",
      "state": {
       "description_width": ""
      }
     },
     "0e8b03a19d95457a800e5fd4d2053393": {
      "model_module": "@jupyter-widgets/controls",
      "model_module_version": "1.5.0",
      "model_name": "DescriptionStyleModel",
      "state": {
       "description_width": ""
      }
     },
     "0f6bdc75f1f143a28bc018529a767e3f": {
      "model_module": "@jupyter-widgets/controls",
      "model_module_version": "1.5.0",
      "model_name": "SliderStyleModel",
      "state": {
       "description_width": ""
      }
     },
     "12ed86c99bae48f5a92c578d8f7c4516": {
      "model_module": "@jupyter-widgets/controls",
      "model_module_version": "1.5.0",
      "model_name": "DescriptionStyleModel",
      "state": {
       "description_width": ""
      }
     },
     "13b486847ac9486ebf2a890cd352da66": {
      "model_module": "@jupyter-widgets/base",
      "model_module_version": "1.2.0",
      "model_name": "LayoutModel",
      "state": {}
     },
     "147ed24f6815419581f7bc7beb793bae": {
      "model_module": "@jupyter-widgets/base",
      "model_module_version": "1.2.0",
      "model_name": "LayoutModel",
      "state": {}
     },
     "1488b63d92c647039da0fbc329e7cc0b": {
      "model_module": "@jupyter-widgets/controls",
      "model_module_version": "1.5.0",
      "model_name": "HBoxModel",
      "state": {
       "children": [
        "IPY_MODEL_f68c476cf3e549c49e8866d85fca539e",
        "IPY_MODEL_93229abee42d4dbc843c0822fdb8be67",
        "IPY_MODEL_e5a6bd63bc9e483c8fe0e973e9477990"
       ],
       "layout": "IPY_MODEL_00bc48d724aa438ab87463337e0f7eaf"
      }
     },
     "173cf59534d24e76984cc1c97a498d27": {
      "model_module": "@jupyter-widgets/controls",
      "model_module_version": "1.5.0",
      "model_name": "SliderStyleModel",
      "state": {
       "description_width": ""
      }
     },
     "1af62bb653b44eb4b877430dbcf37369": {
      "model_module": "@jupyter-widgets/controls",
      "model_module_version": "1.5.0",
      "model_name": "DescriptionStyleModel",
      "state": {
       "description_width": ""
      }
     },
     "1d74805bf6674346b43248b6089ae3a2": {
      "model_module": "@jupyter-widgets/controls",
      "model_module_version": "1.5.0",
      "model_name": "LinkModel",
      "state": {
       "source": [
        "IPY_MODEL_9f42150ad69e4fcabf9116e6bf63c5f3",
        "value"
       ],
       "target": [
        "IPY_MODEL_972b7b715a38435ea4f2e643e33370ae",
        "value"
       ]
      }
     },
     "1e1aa4ea38ed4f55b86b0a2ff8b629f3": {
      "model_module": "@jupyter-widgets/base",
      "model_module_version": "1.2.0",
      "model_name": "LayoutModel",
      "state": {}
     },
     "1e500a68776e4fc0bcf600a8c5f53830": {
      "model_module": "@jupyter-widgets/base",
      "model_module_version": "1.2.0",
      "model_name": "LayoutModel",
      "state": {}
     },
     "2097e7ad60c34a4692be17b594adf121": {
      "model_module": "@jupyter-widgets/base",
      "model_module_version": "1.2.0",
      "model_name": "LayoutModel",
      "state": {}
     },
     "209e0565eee047a1b2aec9a08130de30": {
      "model_module": "@jupyter-widgets/base",
      "model_module_version": "1.2.0",
      "model_name": "LayoutModel",
      "state": {}
     },
     "20c3bfbec9a043fa82d7331d3f10a9d8": {
      "model_module": "@jupyter-widgets/base",
      "model_module_version": "1.2.0",
      "model_name": "LayoutModel",
      "state": {}
     },
     "2254583091644de4a80cdcccb4c08583": {
      "model_module": "@jupyter-widgets/controls",
      "model_module_version": "1.5.0",
      "model_name": "SliderStyleModel",
      "state": {
       "description_width": ""
      }
     },
     "22d5dff341384802975183b850a33948": {
      "model_module": "@jupyter-widgets/base",
      "model_module_version": "1.2.0",
      "model_name": "LayoutModel",
      "state": {}
     },
     "23d9f2c257e14ee8bdc8dee4cf34cc56": {
      "model_module": "@jupyter-widgets/controls",
      "model_module_version": "1.5.0",
      "model_name": "SliderStyleModel",
      "state": {
       "description_width": ""
      }
     },
     "28612cef33384b46a56dacc99c85cab2": {
      "model_module": "@jupyter-widgets/base",
      "model_module_version": "1.2.0",
      "model_name": "LayoutModel",
      "state": {}
     },
     "292627faee79458b8b8681b01af7b58e": {
      "model_module": "@jupyter-widgets/controls",
      "model_module_version": "1.5.0",
      "model_name": "HBoxModel",
      "state": {
       "children": [
        "IPY_MODEL_b86e5eb431f2444d988c1e0164e0a158",
        "IPY_MODEL_7094feae581d4ad39372e87e0529d5a0",
        "IPY_MODEL_bb7a3e7f48de4d06b8d3081be8c87ddd"
       ],
       "layout": "IPY_MODEL_a2ce4c83e95642f58879ded368545f27"
      }
     },
     "2a25dcc2cd854baab048c1f66a496d8b": {
      "model_module": "@jupyter-widgets/base",
      "model_module_version": "1.2.0",
      "model_name": "LayoutModel",
      "state": {}
     },
     "2a3d0d9d086d44ab8cbafbba96ff8b3e": {
      "model_module": "@jupyter-widgets/base",
      "model_module_version": "1.2.0",
      "model_name": "LayoutModel",
      "state": {}
     },
     "2b312c52b2454ab0bfbb479141f34a8f": {
      "model_module": "@jupyter-widgets/controls",
      "model_module_version": "1.5.0",
      "model_name": "IntSliderModel",
      "state": {
       "description": "tau",
       "layout": "IPY_MODEL_28612cef33384b46a56dacc99c85cab2",
       "max": 99,
       "readout": false,
       "style": "IPY_MODEL_23d9f2c257e14ee8bdc8dee4cf34cc56"
      }
     },
     "2e1d18f104f942c88f2e67f8357dd7e0": {
      "model_module": "@jupyter-widgets/controls",
      "model_module_version": "1.5.0",
      "model_name": "LabelModel",
      "state": {
       "layout": "IPY_MODEL_71ae53f85b464f91a8b74e021979331b",
       "style": "IPY_MODEL_0e8b03a19d95457a800e5fd4d2053393",
       "value": "0.00"
      }
     },
     "2e3b9925832c4f16aa932f952f9f0e07": {
      "model_module": "@jupyter-widgets/controls",
      "model_module_version": "1.5.0",
      "model_name": "DescriptionStyleModel",
      "state": {
       "description_width": ""
      }
     },
     "2f2a0039685c4a67863065d23816d6ca": {
      "model_module": "@jupyter-widgets/base",
      "model_module_version": "1.2.0",
      "model_name": "LayoutModel",
      "state": {}
     },
     "3055b3ed151d413d8b9735ab885cc290": {
      "model_module": "@jupyter-widgets/base",
      "model_module_version": "1.2.0",
      "model_name": "LayoutModel",
      "state": {}
     },
     "336cf6ddc05047909cfb90bb6870dc2b": {
      "model_module": "@jupyter-widgets/base",
      "model_module_version": "1.2.0",
      "model_name": "LayoutModel",
      "state": {}
     },
     "34a7eac0c50e4af6983ea87de0950492": {
      "model_module": "@jupyter-widgets/controls",
      "model_module_version": "1.5.0",
      "model_name": "PlayModel",
      "state": {
       "layout": "IPY_MODEL_074b61d9268f4c4393adab67e92ea873",
       "max": 99,
       "style": "IPY_MODEL_6d2fd048efe04cbd922eb22353a09690"
      }
     },
     "34c2110420714db5ba37dc6580359aab": {
      "model_module": "jupyter-matplotlib",
      "model_module_version": "^0.7.4",
      "model_name": "ToolbarModel",
      "state": {
       "layout": "IPY_MODEL_2a3d0d9d086d44ab8cbafbba96ff8b3e",
       "toolitems": [
        [
         "Home",
         "Reset original view",
         "home",
         "home"
        ],
        [
         "Back",
         "Back to previous view",
         "arrow-left",
         "back"
        ],
        [
         "Forward",
         "Forward to next view",
         "arrow-right",
         "forward"
        ],
        [
         "Pan",
         "Left button pans, Right button zooms\nx/y fixes axis, CTRL fixes aspect",
         "arrows",
         "pan"
        ],
        [
         "Zoom",
         "Zoom to rectangle\nx/y fixes axis, CTRL fixes aspect",
         "square-o",
         "zoom"
        ],
        [
         "Download",
         "Download plot",
         "floppy-o",
         "save_figure"
        ]
       ]
      }
     },
     "34f2c427451e4ba8b2246599b48e768b": {
      "model_module": "@jupyter-widgets/controls",
      "model_module_version": "1.5.0",
      "model_name": "HBoxModel",
      "state": {
       "children": [
        "IPY_MODEL_d442844b13254079b92e172bd06bf992",
        "IPY_MODEL_ee66bfbfc84f4f678a4c0e004e85d037"
       ],
       "layout": "IPY_MODEL_7536b106b60f40c9a432bd91e396c129"
      }
     },
     "367e88248d444ed595826e78c8438423": {
      "model_module": "@jupyter-widgets/controls",
      "model_module_version": "1.5.0",
      "model_name": "LabelModel",
      "state": {
       "layout": "IPY_MODEL_5951f4f41fc7482c9787d4951a82c2e4",
       "style": "IPY_MODEL_e6d2cef1df63469eb09ab1cd00a2755f",
       "value": "0.00"
      }
     },
     "385b94b75d074004a90c245122bdb133": {
      "model_module": "@jupyter-widgets/controls",
      "model_module_version": "1.5.0",
      "model_name": "LabelModel",
      "state": {
       "layout": "IPY_MODEL_e62faf79ecab47ccaa1a896a9b09e52d",
       "style": "IPY_MODEL_ceaf5ab5d836493e9578f0c4477c95a6",
       "value": "0.00"
      }
     },
     "45495b0d2edc4c23992bc50dcf4601ce": {
      "model_module": "@jupyter-widgets/controls",
      "model_module_version": "1.5.0",
      "model_name": "VBoxModel",
      "state": {
       "children": [
        "IPY_MODEL_fdab149e5d5f472b9a733a771e6ce9f2",
        "IPY_MODEL_1488b63d92c647039da0fbc329e7cc0b"
       ],
       "layout": "IPY_MODEL_a08069d3e2da40e7b4daa6554a63fa91"
      }
     },
     "46069f8dd83e41f6be1d1bd9e5358fa6": {
      "model_module": "@jupyter-widgets/controls",
      "model_module_version": "1.5.0",
      "model_name": "HBoxModel",
      "state": {
       "children": [
        "IPY_MODEL_dcf363d524924e78ac5a280145472fb7",
        "IPY_MODEL_c871a2fcda354f56b75bb4d99a90d6c7",
        "IPY_MODEL_bbf53d024b3f4f828f29c6c0299243f6"
       ],
       "layout": "IPY_MODEL_09c5da8a71b6456fb3060a3e646436ad"
      }
     },
     "46858834f29b4f41ad8070ef912a5f7f": {
      "model_module": "jupyter-matplotlib",
      "model_module_version": "^0.7.4",
      "model_name": "ToolbarModel",
      "state": {
       "layout": "IPY_MODEL_6d42f8aaa2f54b199e1355efbfbf9ba4",
       "toolitems": [
        [
         "Home",
         "Reset original view",
         "home",
         "home"
        ],
        [
         "Back",
         "Back to previous view",
         "arrow-left",
         "back"
        ],
        [
         "Forward",
         "Forward to next view",
         "arrow-right",
         "forward"
        ],
        [
         "Pan",
         "Left button pans, Right button zooms\nx/y fixes axis, CTRL fixes aspect",
         "arrows",
         "pan"
        ],
        [
         "Zoom",
         "Zoom to rectangle\nx/y fixes axis, CTRL fixes aspect",
         "square-o",
         "zoom"
        ],
        [
         "Download",
         "Download plot",
         "floppy-o",
         "save_figure"
        ]
       ]
      }
     },
     "4aac4f69f7184766a41ae127a87469e8": {
      "model_module": "@jupyter-widgets/base",
      "model_module_version": "1.2.0",
      "model_name": "LayoutModel",
      "state": {}
     },
     "4b0b2c56f1b3459f92d386d93821cf26": {
      "model_module": "@jupyter-widgets/controls",
      "model_module_version": "1.5.0",
      "model_name": "LabelModel",
      "state": {
       "layout": "IPY_MODEL_8ef256ba15fc4af1881aa8d52cbda203",
       "style": "IPY_MODEL_d4ffdc99ce9843489b5234ada4605c6a",
       "value": "1.00"
      }
     },
     "4c25880c3434470a8bd5ef15b311a1fd": {
      "model_module": "@jupyter-widgets/base",
      "model_module_version": "1.2.0",
      "model_name": "LayoutModel",
      "state": {}
     },
     "4d6863ed1c4d42f0a3361aa2b3cb66ae": {
      "model_module": "@jupyter-widgets/controls",
      "model_module_version": "1.5.0",
      "model_name": "IntSliderModel",
      "state": {
       "description": "psi",
       "layout": "IPY_MODEL_0c4dc281a4624366825d33d4d018f06c",
       "max": 49,
       "readout": false,
       "style": "IPY_MODEL_c7c475200a4347dab3744ae01d8cab5c"
      }
     },
     "4dfd079772d5408a90243977c696892d": {
      "model_module": "@jupyter-widgets/controls",
      "model_module_version": "1.5.0",
      "model_name": "DescriptionStyleModel",
      "state": {
       "description_width": ""
      }
     },
     "506ea9b948d64ee88d3baeea1115289a": {
      "model_module": "@jupyter-widgets/base",
      "model_module_version": "1.2.0",
      "model_name": "LayoutModel",
      "state": {}
     },
     "50a7491fb4794e178029c5b19534969c": {
      "model_module": "@jupyter-widgets/controls",
      "model_module_version": "1.5.0",
      "model_name": "DescriptionStyleModel",
      "state": {
       "description_width": ""
      }
     },
     "55b3c883757e473097c56be608654e37": {
      "model_module": "@jupyter-widgets/controls",
      "model_module_version": "1.5.0",
      "model_name": "PlayModel",
      "state": {
       "layout": "IPY_MODEL_e0f31fe391f44beb8d5db7ffcfffe74c",
       "max": 49,
       "style": "IPY_MODEL_f48b7a250b21444f920fc06fd8611729"
      }
     },
     "55dc31dbd76e44e1b443b80229aebb6d": {
      "model_module": "jupyter-matplotlib",
      "model_module_version": "^0.7.4",
      "model_name": "ToolbarModel",
      "state": {
       "layout": "IPY_MODEL_7e0bb89baf694a088495bdf469c67fc8",
       "toolitems": [
        [
         "Home",
         "Reset original view",
         "home",
         "home"
        ],
        [
         "Back",
         "Back to previous view",
         "arrow-left",
         "back"
        ],
        [
         "Forward",
         "Forward to next view",
         "arrow-right",
         "forward"
        ],
        [
         "Pan",
         "Left button pans, Right button zooms\nx/y fixes axis, CTRL fixes aspect",
         "arrows",
         "pan"
        ],
        [
         "Zoom",
         "Zoom to rectangle\nx/y fixes axis, CTRL fixes aspect",
         "square-o",
         "zoom"
        ],
        [
         "Download",
         "Download plot",
         "floppy-o",
         "save_figure"
        ]
       ]
      }
     },
     "576038d7322641f3827852d0b63e73c0": {
      "model_module": "@jupyter-widgets/base",
      "model_module_version": "1.2.0",
      "model_name": "LayoutModel",
      "state": {}
     },
     "580da8ff8f0945bea2f67b3a9c1f9a1a": {
      "model_module": "@jupyter-widgets/base",
      "model_module_version": "1.2.0",
      "model_name": "LayoutModel",
      "state": {}
     },
     "593fa6027a4c4a86bf762848f48bd51c": {
      "model_module": "@jupyter-widgets/controls",
      "model_module_version": "1.5.0",
      "model_name": "LinkModel",
      "state": {
       "source": [
        "IPY_MODEL_bb7a3e7f48de4d06b8d3081be8c87ddd",
        "value"
       ],
       "target": [
        "IPY_MODEL_b86e5eb431f2444d988c1e0164e0a158",
        "value"
       ]
      }
     },
     "5951f4f41fc7482c9787d4951a82c2e4": {
      "model_module": "@jupyter-widgets/base",
      "model_module_version": "1.2.0",
      "model_name": "LayoutModel",
      "state": {}
     },
     "5bb45121d6464c7097363c25efe98cf9": {
      "model_module": "@jupyter-widgets/base",
      "model_module_version": "1.2.0",
      "model_name": "LayoutModel",
      "state": {}
     },
     "5befd79e7c504e37862c87cc7b630bce": {
      "model_module": "@jupyter-widgets/base",
      "model_module_version": "1.2.0",
      "model_name": "LayoutModel",
      "state": {}
     },
     "62b5443b13ea4cdb831ba8b342723277": {
      "model_module": "@jupyter-widgets/base",
      "model_module_version": "1.2.0",
      "model_name": "LayoutModel",
      "state": {}
     },
     "6442aae31ff3455eb26e79975e693a57": {
      "model_module": "@jupyter-widgets/controls",
      "model_module_version": "1.5.0",
      "model_name": "SliderStyleModel",
      "state": {
       "description_width": ""
      }
     },
     "653fc987e3b645cfa86042507f926d2c": {
      "model_module": "@jupyter-widgets/controls",
      "model_module_version": "1.5.0",
      "model_name": "VBoxModel",
      "state": {
       "children": [
        "IPY_MODEL_9250b441f643489f844e6038f6fe32b0",
        "IPY_MODEL_46069f8dd83e41f6be1d1bd9e5358fa6"
       ],
       "layout": "IPY_MODEL_580da8ff8f0945bea2f67b3a9c1f9a1a"
      }
     },
     "66896af0a8ba481887962146682a7798": {
      "model_module": "@jupyter-widgets/controls",
      "model_module_version": "1.5.0",
      "model_name": "IntSliderModel",
      "state": {
       "description": "tau",
       "layout": "IPY_MODEL_13b486847ac9486ebf2a890cd352da66",
       "max": 99,
       "readout": false,
       "style": "IPY_MODEL_d513e060ff3640c080dd3db73f2606e8"
      }
     },
     "6d2fd048efe04cbd922eb22353a09690": {
      "model_module": "@jupyter-widgets/controls",
      "model_module_version": "1.5.0",
      "model_name": "DescriptionStyleModel",
      "state": {
       "description_width": ""
      }
     },
     "6d42f8aaa2f54b199e1355efbfbf9ba4": {
      "model_module": "@jupyter-widgets/base",
      "model_module_version": "1.2.0",
      "model_name": "LayoutModel",
      "state": {}
     },
     "6d97ab7e653145f4a792eb0019c1b04a": {
      "model_module": "@jupyter-widgets/controls",
      "model_module_version": "1.5.0",
      "model_name": "LabelModel",
      "state": {
       "layout": "IPY_MODEL_147ed24f6815419581f7bc7beb793bae",
       "style": "IPY_MODEL_0179bb5130c9469f8f7e1e8799d837c5",
       "value": "1.00"
      }
     },
     "6e6f728142a74b56a31964818638a450": {
      "model_module": "@jupyter-widgets/controls",
      "model_module_version": "1.5.0",
      "model_name": "LinkModel",
      "state": {
       "source": [
        "IPY_MODEL_fb2486a24a254d7699aa8deab9aab84c",
        "value"
       ],
       "target": [
        "IPY_MODEL_cef0fa3a198748eeaf798316a99b12e6",
        "value"
       ]
      }
     },
     "7094feae581d4ad39372e87e0529d5a0": {
      "model_module": "@jupyter-widgets/controls",
      "model_module_version": "1.5.0",
      "model_name": "LabelModel",
      "state": {
       "layout": "IPY_MODEL_f86b6435058b44149420ba354a8c905f",
       "style": "IPY_MODEL_1af62bb653b44eb4b877430dbcf37369",
       "value": "0.00"
      }
     },
     "71ae53f85b464f91a8b74e021979331b": {
      "model_module": "@jupyter-widgets/base",
      "model_module_version": "1.2.0",
      "model_name": "LayoutModel",
      "state": {}
     },
     "721c989b369d426e8611d8919b02e302": {
      "model_module": "jupyter-matplotlib",
      "model_module_version": "^0.7.4",
      "model_name": "ToolbarModel",
      "state": {
       "layout": "IPY_MODEL_c957c09849a44aef8c283e84178d05b7",
       "toolitems": [
        [
         "Home",
         "Reset original view",
         "home",
         "home"
        ],
        [
         "Back",
         "Back to previous view",
         "arrow-left",
         "back"
        ],
        [
         "Forward",
         "Forward to next view",
         "arrow-right",
         "forward"
        ],
        [
         "Pan",
         "Left button pans, Right button zooms\nx/y fixes axis, CTRL fixes aspect",
         "arrows",
         "pan"
        ],
        [
         "Zoom",
         "Zoom to rectangle\nx/y fixes axis, CTRL fixes aspect",
         "square-o",
         "zoom"
        ],
        [
         "Download",
         "Download plot",
         "floppy-o",
         "save_figure"
        ]
       ]
      }
     },
     "725e98d548db484394aa16bd063ef6f8": {
      "model_module": "jupyter-matplotlib",
      "model_module_version": "^0.7.4",
      "model_name": "MPLCanvasModel",
      "state": {
       "_cursor": "default",
       "_figure_label": "Figure 2",
       "_height": 480,
       "_width": 640,
       "layout": "IPY_MODEL_dcf043c1f4184e689caf11fc9b84427d",
       "toolbar": "IPY_MODEL_46858834f29b4f41ad8070ef912a5f7f",
       "toolbar_position": "left"
      }
     },
     "7536b106b60f40c9a432bd91e396c129": {
      "model_module": "@jupyter-widgets/base",
      "model_module_version": "1.2.0",
      "model_name": "LayoutModel",
      "state": {}
     },
     "77c55c42cdce43e58d4027e6995bde2c": {
      "model_module": "@jupyter-widgets/base",
      "model_module_version": "1.2.0",
      "model_name": "LayoutModel",
      "state": {}
     },
     "78bb2ca2bf3f4e4093b64b0d8d25002b": {
      "model_module": "@jupyter-widgets/controls",
      "model_module_version": "1.5.0",
      "model_name": "SliderStyleModel",
      "state": {
       "description_width": ""
      }
     },
     "7906c14cb4744c3e928973f4db2e0c4f": {
      "model_module": "@jupyter-widgets/base",
      "model_module_version": "1.2.0",
      "model_name": "LayoutModel",
      "state": {}
     },
     "79e7bd8d9c4547ca96bd8f62aa6e352c": {
      "model_module": "@jupyter-widgets/controls",
      "model_module_version": "1.5.0",
      "model_name": "SliderStyleModel",
      "state": {
       "description_width": ""
      }
     },
     "7a9e7a3dcec249d1a40578d1aebb4508": {
      "model_module": "@jupyter-widgets/base",
      "model_module_version": "1.2.0",
      "model_name": "LayoutModel",
      "state": {}
     },
     "7ab41e4a17144d25942471e52077b5fd": {
      "model_module": "@jupyter-widgets/controls",
      "model_module_version": "1.5.0",
      "model_name": "SliderStyleModel",
      "state": {
       "description_width": ""
      }
     },
     "7ad2d65aa8744b9e8f9d68524246ad33": {
      "model_module": "@jupyter-widgets/base",
      "model_module_version": "1.2.0",
      "model_name": "LayoutModel",
      "state": {}
     },
     "7b319c13a2b74a79945444134a8cdf05": {
      "model_module": "@jupyter-widgets/controls",
      "model_module_version": "1.5.0",
      "model_name": "LabelModel",
      "state": {
       "layout": "IPY_MODEL_c9ca522bd6664d2e943063c2c1bb778c",
       "style": "IPY_MODEL_b95a8941e55343d7b71f01ab369ef802",
       "value": "1.00"
      }
     },
     "7c2c56b5c40c48ad9adaa03926a334ae": {
      "model_module": "@jupyter-widgets/controls",
      "model_module_version": "1.5.0",
      "model_name": "LinkModel",
      "state": {
       "source": [
        "IPY_MODEL_f68c476cf3e549c49e8866d85fca539e",
        "value"
       ],
       "target": [
        "IPY_MODEL_93229abee42d4dbc843c0822fdb8be67",
        "value"
       ]
      }
     },
     "7e0bb89baf694a088495bdf469c67fc8": {
      "model_module": "@jupyter-widgets/base",
      "model_module_version": "1.2.0",
      "model_name": "LayoutModel",
      "state": {}
     },
     "7f6a223068844722bc137c06282eebbc": {
      "model_module": "@jupyter-widgets/controls",
      "model_module_version": "1.5.0",
      "model_name": "IntSliderModel",
      "state": {
       "description": "beta",
       "layout": "IPY_MODEL_3055b3ed151d413d8b9735ab885cc290",
       "max": 49,
       "readout": false,
       "style": "IPY_MODEL_173cf59534d24e76984cc1c97a498d27"
      }
     },
     "7fa98aae876442ed90de91dfc5b25d6a": {
      "model_module": "@jupyter-widgets/controls",
      "model_module_version": "1.5.0",
      "model_name": "VBoxModel",
      "state": {
       "children": [
        "IPY_MODEL_34f2c427451e4ba8b2246599b48e768b",
        "IPY_MODEL_acb89caef7284ac280bffd46eb7efb1d",
        "IPY_MODEL_941a1ccb283744b5b45f551fc13ee125",
        "IPY_MODEL_e87eab4366304228966e81912efe6165"
       ],
       "layout": "IPY_MODEL_7ad2d65aa8744b9e8f9d68524246ad33"
      }
     },
     "80c5135322724c618d0d4917c94ea160": {
      "model_module": "@jupyter-widgets/base",
      "model_module_version": "1.2.0",
      "model_name": "LayoutModel",
      "state": {}
     },
     "81b098ba89fb495297a29bcd9fa63552": {
      "model_module": "@jupyter-widgets/base",
      "model_module_version": "1.2.0",
      "model_name": "LayoutModel",
      "state": {}
     },
     "826f79d4c152428598bd068aa6a75458": {
      "model_module": "@jupyter-widgets/base",
      "model_module_version": "1.2.0",
      "model_name": "LayoutModel",
      "state": {}
     },
     "82c1f469e60c4515a86a9ba35d9cbbac": {
      "model_module": "@jupyter-widgets/controls",
      "model_module_version": "1.5.0",
      "model_name": "LinkModel",
      "state": {
       "source": [
        "IPY_MODEL_34a7eac0c50e4af6983ea87de0950492",
        "value"
       ],
       "target": [
        "IPY_MODEL_c08c87cf7f1647428136fd31634de388",
        "value"
       ]
      }
     },
     "8693a8c89ca84e7fa7ac41be929c1c96": {
      "model_module": "@jupyter-widgets/controls",
      "model_module_version": "1.5.0",
      "model_name": "HBoxModel",
      "state": {
       "children": [
        "IPY_MODEL_d1bb25426654463294285194c18f977d",
        "IPY_MODEL_367e88248d444ed595826e78c8438423"
       ],
       "layout": "IPY_MODEL_22d5dff341384802975183b850a33948"
      }
     },
     "8772edca5d8f4879a7e5bad179dbb465": {
      "model_module": "@jupyter-widgets/controls",
      "model_module_version": "1.5.0",
      "model_name": "DescriptionStyleModel",
      "state": {
       "description_width": ""
      }
     },
     "8bc74e78176b4425bf54101365df7399": {
      "model_module": "@jupyter-widgets/controls",
      "model_module_version": "1.5.0",
      "model_name": "LinkModel",
      "state": {
       "source": [
        "IPY_MODEL_c4b47c5e8f42426fb265ae90be2c9727",
        "value"
       ],
       "target": [
        "IPY_MODEL_2b312c52b2454ab0bfbb479141f34a8f",
        "value"
       ]
      }
     },
     "8dd23a485a314a169b8f202e69b8018b": {
      "model_module": "jupyter-matplotlib",
      "model_module_version": "^0.7.4",
      "model_name": "MPLCanvasModel",
      "state": {
       "_cursor": "default",
       "_figure_label": "Figure 5",
       "_height": 480,
       "_width": 640,
       "layout": "IPY_MODEL_506ea9b948d64ee88d3baeea1115289a",
       "toolbar": "IPY_MODEL_ba00a98f33c0421eb2eed69306d5ddcd",
       "toolbar_position": "left"
      }
     },
     "8ef256ba15fc4af1881aa8d52cbda203": {
      "model_module": "@jupyter-widgets/base",
      "model_module_version": "1.2.0",
      "model_name": "LayoutModel",
      "state": {}
     },
     "8f700c21bca44990bc79ebd7c26544ac": {
      "model_module": "@jupyter-widgets/base",
      "model_module_version": "1.2.0",
      "model_name": "LayoutModel",
      "state": {}
     },
     "922918b3a46440caba07dc5d0414478a": {
      "model_module": "@jupyter-widgets/controls",
      "model_module_version": "1.5.0",
      "model_name": "SliderStyleModel",
      "state": {
       "description_width": ""
      }
     },
     "9250b441f643489f844e6038f6fe32b0": {
      "model_module": "@jupyter-widgets/controls",
      "model_module_version": "1.5.0",
      "model_name": "HBoxModel",
      "state": {
       "children": [
        "IPY_MODEL_d2fca53ae566481eb92918dbea6736a7",
        "IPY_MODEL_66896af0a8ba481887962146682a7798",
        "IPY_MODEL_4b0b2c56f1b3459f92d386d93821cf26"
       ],
       "layout": "IPY_MODEL_77c55c42cdce43e58d4027e6995bde2c"
      }
     },
     "93229abee42d4dbc843c0822fdb8be67": {
      "model_module": "@jupyter-widgets/controls",
      "model_module_version": "1.5.0",
      "model_name": "IntSliderModel",
      "state": {
       "description": "beta",
       "layout": "IPY_MODEL_da486abb36db4e938ab10b860c8cd95c",
       "max": 49,
       "readout": false,
       "style": "IPY_MODEL_7ab41e4a17144d25942471e52077b5fd"
      }
     },
     "940808fbccb540738dd59dc6cc111821": {
      "model_module": "@jupyter-widgets/controls",
      "model_module_version": "1.5.0",
      "model_name": "LinkModel",
      "state": {
       "source": [
        "IPY_MODEL_55b3c883757e473097c56be608654e37",
        "value"
       ],
       "target": [
        "IPY_MODEL_7f6a223068844722bc137c06282eebbc",
        "value"
       ]
      }
     },
     "941a1ccb283744b5b45f551fc13ee125": {
      "model_module": "@jupyter-widgets/controls",
      "model_module_version": "1.5.0",
      "model_name": "HBoxModel",
      "state": {
       "children": [
        "IPY_MODEL_9f42150ad69e4fcabf9116e6bf63c5f3",
        "IPY_MODEL_972b7b715a38435ea4f2e643e33370ae",
        "IPY_MODEL_385b94b75d074004a90c245122bdb133"
       ],
       "layout": "IPY_MODEL_5befd79e7c504e37862c87cc7b630bce"
      }
     },
     "972b7b715a38435ea4f2e643e33370ae": {
      "model_module": "@jupyter-widgets/controls",
      "model_module_version": "1.5.0",
      "model_name": "IntSliderModel",
      "state": {
       "description": "zeta",
       "layout": "IPY_MODEL_2097e7ad60c34a4692be17b594adf121",
       "max": 49,
       "readout": false,
       "style": "IPY_MODEL_0f6bdc75f1f143a28bc018529a767e3f"
      }
     },
     "9d442f5afced48358f8e6440731e6c9e": {
      "model_module": "@jupyter-widgets/base",
      "model_module_version": "1.2.0",
      "model_name": "LayoutModel",
      "state": {}
     },
     "9d8aabb9f74d4000836fc2b55975dda3": {
      "model_module": "@jupyter-widgets/base",
      "model_module_version": "1.2.0",
      "model_name": "LayoutModel",
      "state": {}
     },
     "9da77a70252e496cbae576ee5f5f2a37": {
      "model_module": "@jupyter-widgets/base",
      "model_module_version": "1.2.0",
      "model_name": "LayoutModel",
      "state": {}
     },
     "9f42150ad69e4fcabf9116e6bf63c5f3": {
      "model_module": "@jupyter-widgets/controls",
      "model_module_version": "1.5.0",
      "model_name": "PlayModel",
      "state": {
       "layout": "IPY_MODEL_4c25880c3434470a8bd5ef15b311a1fd",
       "max": 49,
       "style": "IPY_MODEL_2e3b9925832c4f16aa932f952f9f0e07"
      }
     },
     "a08069d3e2da40e7b4daa6554a63fa91": {
      "model_module": "@jupyter-widgets/base",
      "model_module_version": "1.2.0",
      "model_name": "LayoutModel",
      "state": {}
     },
     "a0a62b9b25fb4210b1a9f684a83810ac": {
      "model_module": "@jupyter-widgets/controls",
      "model_module_version": "1.5.0",
      "model_name": "LinkModel",
      "state": {
       "source": [
        "IPY_MODEL_dcf363d524924e78ac5a280145472fb7",
        "value"
       ],
       "target": [
        "IPY_MODEL_c871a2fcda354f56b75bb4d99a90d6c7",
        "value"
       ]
      }
     },
     "a2ce4c83e95642f58879ded368545f27": {
      "model_module": "@jupyter-widgets/base",
      "model_module_version": "1.2.0",
      "model_name": "LayoutModel",
      "state": {}
     },
     "acb89caef7284ac280bffd46eb7efb1d": {
      "model_module": "@jupyter-widgets/controls",
      "model_module_version": "1.5.0",
      "model_name": "HBoxModel",
      "state": {
       "children": [
        "IPY_MODEL_55b3c883757e473097c56be608654e37",
        "IPY_MODEL_7f6a223068844722bc137c06282eebbc",
        "IPY_MODEL_2e1d18f104f942c88f2e67f8357dd7e0"
       ],
       "layout": "IPY_MODEL_fee5501fdac240ebbf99c2fdaeab9636"
      }
     },
     "ad6a6cab03d942468da0e064754e8165": {
      "model_module": "@jupyter-widgets/controls",
      "model_module_version": "1.5.0",
      "model_name": "HBoxModel",
      "state": {
       "children": [
        "IPY_MODEL_c4b47c5e8f42426fb265ae90be2c9727",
        "IPY_MODEL_2b312c52b2454ab0bfbb479141f34a8f",
        "IPY_MODEL_7b319c13a2b74a79945444134a8cdf05"
       ],
       "layout": "IPY_MODEL_576038d7322641f3827852d0b63e73c0"
      }
     },
     "add98409108844a9a2044222f40c93da": {
      "model_module": "@jupyter-widgets/controls",
      "model_module_version": "1.5.0",
      "model_name": "DescriptionStyleModel",
      "state": {
       "description_width": ""
      }
     },
     "aef8b512377a48158b3be378696fee88": {
      "model_module": "@jupyter-widgets/controls",
      "model_module_version": "1.5.0",
      "model_name": "LinkModel",
      "state": {
       "source": [
        "IPY_MODEL_d2fca53ae566481eb92918dbea6736a7",
        "value"
       ],
       "target": [
        "IPY_MODEL_66896af0a8ba481887962146682a7798",
        "value"
       ]
      }
     },
     "b0843b7ef1df481cb02d43b7b21d8490": {
      "model_module": "@jupyter-widgets/controls",
      "model_module_version": "1.5.0",
      "model_name": "VBoxModel",
      "state": {
       "children": [
        "IPY_MODEL_e0aed347f4d64594820933534659c93b",
        "IPY_MODEL_292627faee79458b8b8681b01af7b58e"
       ],
       "layout": "IPY_MODEL_4aac4f69f7184766a41ae127a87469e8"
      }
     },
     "b3dcdeeb58424c3098ab27090143f9d4": {
      "model_module": "@jupyter-widgets/base",
      "model_module_version": "1.2.0",
      "model_name": "LayoutModel",
      "state": {}
     },
     "b86e5eb431f2444d988c1e0164e0a158": {
      "model_module": "@jupyter-widgets/controls",
      "model_module_version": "1.5.0",
      "model_name": "IntSliderModel",
      "state": {
       "description": "beta",
       "layout": "IPY_MODEL_1e1aa4ea38ed4f55b86b0a2ff8b629f3",
       "max": 49,
       "readout": false,
       "style": "IPY_MODEL_6442aae31ff3455eb26e79975e693a57"
      }
     },
     "b95a8941e55343d7b71f01ab369ef802": {
      "model_module": "@jupyter-widgets/controls",
      "model_module_version": "1.5.0",
      "model_name": "DescriptionStyleModel",
      "state": {
       "description_width": ""
      }
     },
     "ba00a98f33c0421eb2eed69306d5ddcd": {
      "model_module": "jupyter-matplotlib",
      "model_module_version": "^0.7.4",
      "model_name": "ToolbarModel",
      "state": {
       "layout": "IPY_MODEL_8f700c21bca44990bc79ebd7c26544ac",
       "toolitems": [
        [
         "Home",
         "Reset original view",
         "home",
         "home"
        ],
        [
         "Back",
         "Back to previous view",
         "arrow-left",
         "back"
        ],
        [
         "Forward",
         "Forward to next view",
         "arrow-right",
         "forward"
        ],
        [
         "Pan",
         "Left button pans, Right button zooms\nx/y fixes axis, CTRL fixes aspect",
         "arrows",
         "pan"
        ],
        [
         "Zoom",
         "Zoom to rectangle\nx/y fixes axis, CTRL fixes aspect",
         "square-o",
         "zoom"
        ],
        [
         "Download",
         "Download plot",
         "floppy-o",
         "save_figure"
        ]
       ]
      }
     },
     "bb7a3e7f48de4d06b8d3081be8c87ddd": {
      "model_module": "@jupyter-widgets/controls",
      "model_module_version": "1.5.0",
      "model_name": "PlayModel",
      "state": {
       "layout": "IPY_MODEL_9da77a70252e496cbae576ee5f5f2a37",
       "max": 49,
       "style": "IPY_MODEL_0db9c1982fec463d8b9dc9c6f586eef0"
      }
     },
     "bbf53d024b3f4f828f29c6c0299243f6": {
      "model_module": "@jupyter-widgets/controls",
      "model_module_version": "1.5.0",
      "model_name": "LabelModel",
      "state": {
       "layout": "IPY_MODEL_2f2a0039685c4a67863065d23816d6ca",
       "style": "IPY_MODEL_12ed86c99bae48f5a92c578d8f7c4516",
       "value": "0.00"
      }
     },
     "bdc96de93ff24577b51e3d42c2bc92e9": {
      "model_module": "@jupyter-widgets/controls",
      "model_module_version": "1.5.0",
      "model_name": "DescriptionStyleModel",
      "state": {
       "description_width": ""
      }
     },
     "c08c87cf7f1647428136fd31634de388": {
      "model_module": "@jupyter-widgets/controls",
      "model_module_version": "1.5.0",
      "model_name": "IntSliderModel",
      "state": {
       "description": "tau",
       "layout": "IPY_MODEL_cfa5159e905749af95d4f2bd43976e69",
       "max": 99,
       "readout": false,
       "style": "IPY_MODEL_922918b3a46440caba07dc5d0414478a"
      }
     },
     "c28ac5539ce84262a051493b8af70468": {
      "model_module": "@jupyter-widgets/controls",
      "model_module_version": "1.5.0",
      "model_name": "DescriptionStyleModel",
      "state": {
       "description_width": ""
      }
     },
     "c4b47c5e8f42426fb265ae90be2c9727": {
      "model_module": "@jupyter-widgets/controls",
      "model_module_version": "1.5.0",
      "model_name": "PlayModel",
      "state": {
       "layout": "IPY_MODEL_826f79d4c152428598bd068aa6a75458",
       "max": 99,
       "style": "IPY_MODEL_4dfd079772d5408a90243977c696892d"
      }
     },
     "c4f208dc8ef9474caacdbef360b0eaca": {
      "model_module": "@jupyter-widgets/base",
      "model_module_version": "1.2.0",
      "model_name": "LayoutModel",
      "state": {}
     },
     "c7c475200a4347dab3744ae01d8cab5c": {
      "model_module": "@jupyter-widgets/controls",
      "model_module_version": "1.5.0",
      "model_name": "SliderStyleModel",
      "state": {
       "description_width": ""
      }
     },
     "c871a2fcda354f56b75bb4d99a90d6c7": {
      "model_module": "@jupyter-widgets/controls",
      "model_module_version": "1.5.0",
      "model_name": "IntSliderModel",
      "state": {
       "description": "beta",
       "layout": "IPY_MODEL_7906c14cb4744c3e928973f4db2e0c4f",
       "max": 49,
       "readout": false,
       "style": "IPY_MODEL_79e7bd8d9c4547ca96bd8f62aa6e352c"
      }
     },
     "c957c09849a44aef8c283e84178d05b7": {
      "model_module": "@jupyter-widgets/base",
      "model_module_version": "1.2.0",
      "model_name": "LayoutModel",
      "state": {}
     },
     "c9ca522bd6664d2e943063c2c1bb778c": {
      "model_module": "@jupyter-widgets/base",
      "model_module_version": "1.2.0",
      "model_name": "LayoutModel",
      "state": {}
     },
     "cb11dbf2d76b430fb5a88bd0afbab755": {
      "model_module": "@jupyter-widgets/controls",
      "model_module_version": "1.5.0",
      "model_name": "LabelModel",
      "state": {
       "layout": "IPY_MODEL_e7b784dd3cc940fea682474c6033316b",
       "style": "IPY_MODEL_d52e7a8d606a4ebcada37e4ff93cfa08",
       "value": "0.00"
      }
     },
     "cda7d2d5e7c341f5a803c0090df592fc": {
      "model_module": "@jupyter-widgets/controls",
      "model_module_version": "1.5.0",
      "model_name": "DescriptionStyleModel",
      "state": {
       "description_width": ""
      }
     },
     "ceaf5ab5d836493e9578f0c4477c95a6": {
      "model_module": "@jupyter-widgets/controls",
      "model_module_version": "1.5.0",
      "model_name": "DescriptionStyleModel",
      "state": {
       "description_width": ""
      }
     },
     "cef0fa3a198748eeaf798316a99b12e6": {
      "model_module": "@jupyter-widgets/controls",
      "model_module_version": "1.5.0",
      "model_name": "IntSliderModel",
      "state": {
       "description": "tau",
       "layout": "IPY_MODEL_81b098ba89fb495297a29bcd9fa63552",
       "max": 99,
       "readout": false,
       "style": "IPY_MODEL_f3f6b0f92cba44e9bc29b218ef1f3fcf"
      }
     },
     "cfa5159e905749af95d4f2bd43976e69": {
      "model_module": "@jupyter-widgets/base",
      "model_module_version": "1.2.0",
      "model_name": "LayoutModel",
      "state": {}
     },
     "d193c01161c947ecabb31eede84added": {
      "model_module": "@jupyter-widgets/base",
      "model_module_version": "1.2.0",
      "model_name": "LayoutModel",
      "state": {}
     },
     "d1bb25426654463294285194c18f977d": {
      "model_module": "@jupyter-widgets/controls",
      "model_module_version": "1.5.0",
      "model_name": "IntSliderModel",
      "state": {
       "description": "beta",
       "layout": "IPY_MODEL_9d442f5afced48358f8e6440731e6c9e",
       "max": 49,
       "readout": false,
       "style": "IPY_MODEL_78bb2ca2bf3f4e4093b64b0d8d25002b"
      }
     },
     "d2fca53ae566481eb92918dbea6736a7": {
      "model_module": "@jupyter-widgets/controls",
      "model_module_version": "1.5.0",
      "model_name": "PlayModel",
      "state": {
       "layout": "IPY_MODEL_7a9e7a3dcec249d1a40578d1aebb4508",
       "max": 99,
       "style": "IPY_MODEL_e6538b271ebb4448a0cd8919878279ea"
      }
     },
     "d442844b13254079b92e172bd06bf992": {
      "model_module": "@jupyter-widgets/controls",
      "model_module_version": "1.5.0",
      "model_name": "IntSliderModel",
      "state": {
       "description": "tau",
       "layout": "IPY_MODEL_d6a07d0a7bb24d92b937772fc4512823",
       "max": 99,
       "readout": false,
       "style": "IPY_MODEL_2254583091644de4a80cdcccb4c08583"
      }
     },
     "d4ffdc99ce9843489b5234ada4605c6a": {
      "model_module": "@jupyter-widgets/controls",
      "model_module_version": "1.5.0",
      "model_name": "DescriptionStyleModel",
      "state": {
       "description_width": ""
      }
     },
     "d513e060ff3640c080dd3db73f2606e8": {
      "model_module": "@jupyter-widgets/controls",
      "model_module_version": "1.5.0",
      "model_name": "SliderStyleModel",
      "state": {
       "description_width": ""
      }
     },
     "d52e7a8d606a4ebcada37e4ff93cfa08": {
      "model_module": "@jupyter-widgets/controls",
      "model_module_version": "1.5.0",
      "model_name": "DescriptionStyleModel",
      "state": {
       "description_width": ""
      }
     },
     "d5b7667dfb094fee982a96f7cfa5395e": {
      "model_module": "@jupyter-widgets/base",
      "model_module_version": "1.2.0",
      "model_name": "LayoutModel",
      "state": {}
     },
     "d6a07d0a7bb24d92b937772fc4512823": {
      "model_module": "@jupyter-widgets/base",
      "model_module_version": "1.2.0",
      "model_name": "LayoutModel",
      "state": {}
     },
     "d7acd8cdba624082957938500777c124": {
      "model_module": "@jupyter-widgets/controls",
      "model_module_version": "1.5.0",
      "model_name": "LinkModel",
      "state": {
       "source": [
        "IPY_MODEL_063865096bce4c3eabd7d67f9ae6f602",
        "value"
       ],
       "target": [
        "IPY_MODEL_4d6863ed1c4d42f0a3361aa2b3cb66ae",
        "value"
       ]
      }
     },
     "da486abb36db4e938ab10b860c8cd95c": {
      "model_module": "@jupyter-widgets/base",
      "model_module_version": "1.2.0",
      "model_name": "LayoutModel",
      "state": {}
     },
     "dcf043c1f4184e689caf11fc9b84427d": {
      "model_module": "@jupyter-widgets/base",
      "model_module_version": "1.2.0",
      "model_name": "LayoutModel",
      "state": {}
     },
     "dcf363d524924e78ac5a280145472fb7": {
      "model_module": "@jupyter-widgets/controls",
      "model_module_version": "1.5.0",
      "model_name": "PlayModel",
      "state": {
       "layout": "IPY_MODEL_b3dcdeeb58424c3098ab27090143f9d4",
       "max": 49,
       "style": "IPY_MODEL_c28ac5539ce84262a051493b8af70468"
      }
     },
     "e0aed347f4d64594820933534659c93b": {
      "model_module": "@jupyter-widgets/controls",
      "model_module_version": "1.5.0",
      "model_name": "HBoxModel",
      "state": {
       "children": [
        "IPY_MODEL_c08c87cf7f1647428136fd31634de388",
        "IPY_MODEL_fa755fc6fb9347fc8cfb14edd5c67e93",
        "IPY_MODEL_34a7eac0c50e4af6983ea87de0950492"
       ],
       "layout": "IPY_MODEL_9d8aabb9f74d4000836fc2b55975dda3"
      }
     },
     "e0f31fe391f44beb8d5db7ffcfffe74c": {
      "model_module": "@jupyter-widgets/base",
      "model_module_version": "1.2.0",
      "model_name": "LayoutModel",
      "state": {}
     },
     "e5a6bd63bc9e483c8fe0e973e9477990": {
      "model_module": "@jupyter-widgets/controls",
      "model_module_version": "1.5.0",
      "model_name": "LabelModel",
      "state": {
       "layout": "IPY_MODEL_d193c01161c947ecabb31eede84added",
       "style": "IPY_MODEL_e95c0a3bd12544c38923f2bf990b4b58",
       "value": "0.00"
      }
     },
     "e62faf79ecab47ccaa1a896a9b09e52d": {
      "model_module": "@jupyter-widgets/base",
      "model_module_version": "1.2.0",
      "model_name": "LayoutModel",
      "state": {}
     },
     "e6538b271ebb4448a0cd8919878279ea": {
      "model_module": "@jupyter-widgets/controls",
      "model_module_version": "1.5.0",
      "model_name": "DescriptionStyleModel",
      "state": {
       "description_width": ""
      }
     },
     "e6d2cef1df63469eb09ab1cd00a2755f": {
      "model_module": "@jupyter-widgets/controls",
      "model_module_version": "1.5.0",
      "model_name": "DescriptionStyleModel",
      "state": {
       "description_width": ""
      }
     },
     "e7b784dd3cc940fea682474c6033316b": {
      "model_module": "@jupyter-widgets/base",
      "model_module_version": "1.2.0",
      "model_name": "LayoutModel",
      "state": {}
     },
     "e87eab4366304228966e81912efe6165": {
      "model_module": "@jupyter-widgets/controls",
      "model_module_version": "1.5.0",
      "model_name": "HBoxModel",
      "state": {
       "children": [
        "IPY_MODEL_063865096bce4c3eabd7d67f9ae6f602",
        "IPY_MODEL_4d6863ed1c4d42f0a3361aa2b3cb66ae",
        "IPY_MODEL_cb11dbf2d76b430fb5a88bd0afbab755"
       ],
       "layout": "IPY_MODEL_62b5443b13ea4cdb831ba8b342723277"
      }
     },
     "e8d30c286f134439a490ef6ac63464d9": {
      "model_module": "@jupyter-widgets/controls",
      "model_module_version": "1.5.0",
      "model_name": "VBoxModel",
      "state": {
       "children": [
        "IPY_MODEL_ad6a6cab03d942468da0e064754e8165",
        "IPY_MODEL_8693a8c89ca84e7fa7ac41be929c1c96"
       ],
       "layout": "IPY_MODEL_80c5135322724c618d0d4917c94ea160"
      }
     },
     "e95c0a3bd12544c38923f2bf990b4b58": {
      "model_module": "@jupyter-widgets/controls",
      "model_module_version": "1.5.0",
      "model_name": "DescriptionStyleModel",
      "state": {
       "description_width": ""
      }
     },
     "eb601277028748be867ac124794ef32a": {
      "model_module": "@jupyter-widgets/base",
      "model_module_version": "1.2.0",
      "model_name": "LayoutModel",
      "state": {}
     },
     "ecc7dad4ca024181809d0564e0782045": {
      "model_module": "jupyter-matplotlib",
      "model_module_version": "^0.7.4",
      "model_name": "MPLCanvasModel",
      "state": {
       "_cursor": "default",
       "_figure_label": "Figure 3",
       "_height": 480,
       "_width": 640,
       "layout": "IPY_MODEL_20c3bfbec9a043fa82d7331d3f10a9d8",
       "toolbar": "IPY_MODEL_55dc31dbd76e44e1b443b80229aebb6d",
       "toolbar_position": "left"
      }
     },
     "ee66bfbfc84f4f678a4c0e004e85d037": {
      "model_module": "@jupyter-widgets/controls",
      "model_module_version": "1.5.0",
      "model_name": "LabelModel",
      "state": {
       "layout": "IPY_MODEL_d5b7667dfb094fee982a96f7cfa5395e",
       "style": "IPY_MODEL_50a7491fb4794e178029c5b19534969c",
       "value": "1.00"
      }
     },
     "f1b7c0904d774daea8df0d6c3db7296e": {
      "model_module": "jupyter-matplotlib",
      "model_module_version": "^0.7.4",
      "model_name": "MPLCanvasModel",
      "state": {
       "_cursor": "default",
       "_figure_label": "Figure 1",
       "_height": 480,
       "_width": 640,
       "layout": "IPY_MODEL_5bb45121d6464c7097363c25efe98cf9",
       "toolbar": "IPY_MODEL_34c2110420714db5ba37dc6580359aab",
       "toolbar_position": "left"
      }
     },
     "f3f6b0f92cba44e9bc29b218ef1f3fcf": {
      "model_module": "@jupyter-widgets/controls",
      "model_module_version": "1.5.0",
      "model_name": "SliderStyleModel",
      "state": {
       "description_width": ""
      }
     },
     "f48b7a250b21444f920fc06fd8611729": {
      "model_module": "@jupyter-widgets/controls",
      "model_module_version": "1.5.0",
      "model_name": "DescriptionStyleModel",
      "state": {
       "description_width": ""
      }
     },
     "f68c476cf3e549c49e8866d85fca539e": {
      "model_module": "@jupyter-widgets/controls",
      "model_module_version": "1.5.0",
      "model_name": "PlayModel",
      "state": {
       "layout": "IPY_MODEL_1e500a68776e4fc0bcf600a8c5f53830",
       "max": 49,
       "style": "IPY_MODEL_bdc96de93ff24577b51e3d42c2bc92e9"
      }
     },
     "f86b6435058b44149420ba354a8c905f": {
      "model_module": "@jupyter-widgets/base",
      "model_module_version": "1.2.0",
      "model_name": "LayoutModel",
      "state": {}
     },
     "fa755fc6fb9347fc8cfb14edd5c67e93": {
      "model_module": "@jupyter-widgets/controls",
      "model_module_version": "1.5.0",
      "model_name": "LabelModel",
      "state": {
       "layout": "IPY_MODEL_2a25dcc2cd854baab048c1f66a496d8b",
       "style": "IPY_MODEL_cda7d2d5e7c341f5a803c0090df592fc",
       "value": "1.00"
      }
     },
     "fb2486a24a254d7699aa8deab9aab84c": {
      "model_module": "@jupyter-widgets/controls",
      "model_module_version": "1.5.0",
      "model_name": "PlayModel",
      "state": {
       "layout": "IPY_MODEL_c4f208dc8ef9474caacdbef360b0eaca",
       "max": 99,
       "style": "IPY_MODEL_add98409108844a9a2044222f40c93da"
      }
     },
     "fc3fdfc0d42d4df3aae4d1ba0ec6f627": {
      "model_module": "jupyter-matplotlib",
      "model_module_version": "^0.7.4",
      "model_name": "MPLCanvasModel",
      "state": {
       "_cursor": "default",
       "_figure_label": "Figure 4",
       "_height": 480,
       "_width": 640,
       "layout": "IPY_MODEL_209e0565eee047a1b2aec9a08130de30",
       "toolbar": "IPY_MODEL_721c989b369d426e8611d8919b02e302",
       "toolbar_position": "left"
      }
     },
     "fdab149e5d5f472b9a733a771e6ce9f2": {
      "model_module": "@jupyter-widgets/controls",
      "model_module_version": "1.5.0",
      "model_name": "HBoxModel",
      "state": {
       "children": [
        "IPY_MODEL_fb2486a24a254d7699aa8deab9aab84c",
        "IPY_MODEL_cef0fa3a198748eeaf798316a99b12e6",
        "IPY_MODEL_6d97ab7e653145f4a792eb0019c1b04a"
       ],
       "layout": "IPY_MODEL_336cf6ddc05047909cfb90bb6870dc2b"
      }
     },
     "fee5501fdac240ebbf99c2fdaeab9636": {
      "model_module": "@jupyter-widgets/base",
      "model_module_version": "1.2.0",
      "model_name": "LayoutModel",
      "state": {}
     }
    },
    "version_major": 2,
    "version_minor": 0
   }
  }
 },
 "nbformat": 4,
 "nbformat_minor": 4
}
