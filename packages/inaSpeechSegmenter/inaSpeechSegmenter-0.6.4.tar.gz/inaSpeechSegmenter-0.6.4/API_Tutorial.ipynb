{
 "cells": [
  {
   "cell_type": "code",
   "execution_count": 1,
   "metadata": {},
   "outputs": [
    {
     "name": "stderr",
     "output_type": "stream",
     "text": [
      "Using TensorFlow backend.\n"
     ]
    }
   ],
   "source": [
    "# Load the API (Current warning is related to h5py and has no consequences)\n",
    "from inaSpeechSegmenter import Segmenter, seg2csv"
   ]
  },
  {
   "cell_type": "code",
   "execution_count": 2,
   "metadata": {},
   "outputs": [],
   "source": [
    "# select a media to analyse\n",
    "# any media supported by ffmpeg may be used (video, audio, urls)\n",
    "media = './media/musanmix.mp3'"
   ]
  },
  {
   "cell_type": "code",
   "execution_count": 3,
   "metadata": {},
   "outputs": [],
   "source": [
    "# create an instance of speech segmenter\n",
    "# this loads neural networks and may last few seconds\n",
    "# Warnings have no incidence on the results\n",
    "seg = Segmenter()"
   ]
  },
  {
   "cell_type": "code",
   "execution_count": 4,
   "metadata": {},
   "outputs": [
    {
     "name": "stderr",
     "output_type": "stream",
     "text": [
      "/home/ddoukhan/gitrepos/inaspeechsegmenterunittest/env/lib/python3.5/site-packages/pyannote/algorithms/utils/viterbi.py:88: FutureWarning: arrays to stack must be passed as a \"sequence\" type such as list or tuple. Support for non-sequence iterables such as generators is deprecated as of NumPy 1.16 and will raise an error in the future.\n",
      "  for e, c in six.moves.zip(emission.T, consecutive)\n",
      "/home/ddoukhan/gitrepos/inaspeechsegmenterunittest/env/lib/python3.5/site-packages/pyannote/algorithms/utils/viterbi.py:97: FutureWarning: arrays to stack must be passed as a \"sequence\" type such as list or tuple. Support for non-sequence iterables such as generators is deprecated as of NumPy 1.16 and will raise an error in the future.\n",
      "  for e, c in six.moves.zip(constraint.T, consecutive)\n"
     ]
    }
   ],
   "source": [
    "# segmentation is performed using the __call__ method of the segmenter instance\n",
    "segmentation = seg(media)"
   ]
  },
  {
   "cell_type": "code",
   "execution_count": 5,
   "metadata": {},
   "outputs": [
    {
     "name": "stdout",
     "output_type": "stream",
     "text": [
      "[('music', 0.0, 22.48), ('noEnergy', 22.48, 29.080000000000002), ('male', 29.080000000000002, 32.480000000000004), ('music', 32.480000000000004, 52.800000000000004), ('noEnergy', 52.800000000000004, 54.78), ('music', 54.78, 55.74), ('noEnergy', 55.74, 63.34), ('male', 63.34, 68.26), ('noEnergy', 68.26, 68.92), ('male', 68.92, 71.60000000000001), ('noEnergy', 71.60000000000001, 72.0), ('male', 72.0, 73.82000000000001), ('noEnergy', 73.82000000000001, 74.5)]\n"
     ]
    }
   ],
   "source": [
    "# the result is a list of tuples\n",
    "# each tuple contains:\n",
    "# * label in 'Male', 'Female', 'Music', 'NOACTIVITY'\n",
    "# * start time of the segment\n",
    "# * end time of the segment\n",
    "print(segmentation)"
   ]
  },
  {
   "cell_type": "code",
   "execution_count": 6,
   "metadata": {},
   "outputs": [],
   "source": [
    "# this writes the resulting segmentation into a csvfile\n",
    "# the csv file may be used to import segmentation into visualization softwares,\n",
    "# such as sonic-visualiser: https://www.sonicvisualiser.org\n",
    "seg2csv(segmentation, 'myseg.csv')"
   ]
  },
  {
   "cell_type": "code",
   "execution_count": 7,
   "metadata": {},
   "outputs": [
    {
     "name": "stdout",
     "output_type": "stream",
     "text": [
      "labels\tstart\tstop\r\n",
      "music\t0.0\t22.48\r\n",
      "noEnergy\t22.48\t29.080000000000002\r\n",
      "male\t29.080000000000002\t32.480000000000004\r\n",
      "music\t32.480000000000004\t52.800000000000004\r\n",
      "noEnergy\t52.800000000000004\t54.78\r\n",
      "music\t54.78\t55.74\r\n",
      "noEnergy\t55.74\t63.34\r\n",
      "male\t63.34\t68.26\r\n",
      "noEnergy\t68.26\t68.92\r\n",
      "male\t68.92\t71.60000000000001\r\n",
      "noEnergy\t71.60000000000001\t72.0\r\n",
      "male\t72.0\t73.82000000000001\r\n",
      "noEnergy\t73.82000000000001\t74.5\r\n"
     ]
    }
   ],
   "source": [
    "# Here is the resulting CSV\n",
    "!cat myseg.csv"
   ]
  },
  {
   "cell_type": "code",
   "execution_count": 8,
   "metadata": {},
   "outputs": [
    {
     "name": "stderr",
     "output_type": "stream",
     "text": [
      "/home/ddoukhan/gitrepos/inaspeechsegmenterunittest/env/lib/python3.5/site-packages/pyannote/algorithms/utils/viterbi.py:88: FutureWarning: arrays to stack must be passed as a \"sequence\" type such as list or tuple. Support for non-sequence iterables such as generators is deprecated as of NumPy 1.16 and will raise an error in the future.\n",
      "  for e, c in six.moves.zip(emission.T, consecutive)\n",
      "/home/ddoukhan/gitrepos/inaspeechsegmenterunittest/env/lib/python3.5/site-packages/pyannote/algorithms/utils/viterbi.py:97: FutureWarning: arrays to stack must be passed as a \"sequence\" type such as list or tuple. Support for non-sequence iterables such as generators is deprecated as of NumPy 1.16 and will raise an error in the future.\n",
      "  for e, c in six.moves.zip(constraint.T, consecutive)\n"
     ]
    },
    {
     "name": "stdout",
     "output_type": "stream",
     "text": [
      "labels\tstart\tstop\r\n",
      "music\t0.0\t22.48\r\n",
      "noEnergy\t22.48\t29.080000000000002\r\n",
      "noise\t29.080000000000002\t52.800000000000004\r\n",
      "noEnergy\t52.800000000000004\t54.78\r\n",
      "noise\t54.78\t55.74\r\n",
      "noEnergy\t55.74\t63.34\r\n",
      "male\t63.34\t68.26\r\n",
      "noEnergy\t68.26\t68.92\r\n",
      "male\t68.92\t71.60000000000001\r\n",
      "noEnergy\t71.60000000000001\t72.0\r\n",
      "male\t72.0\t73.82000000000001\r\n",
      "noEnergy\t73.82000000000001\t74.5\r\n"
     ]
    }
   ],
   "source": [
    "# Voice activity done using speech, music and noise model\n",
    "seg = Segmenter(vad_engine='smn')\n",
    "segmentation = seg(media)\n",
    "seg2csv(segmentation, 'myseg2.csv')\n",
    "!cat myseg2.csv"
   ]
  },
  {
   "cell_type": "code",
   "execution_count": null,
   "metadata": {},
   "outputs": [],
   "source": []
  }
 ],
 "metadata": {
  "kernelspec": {
   "display_name": "Python 3",
   "language": "python",
   "name": "python3"
  },
  "language_info": {
   "codemirror_mode": {
    "name": "ipython",
    "version": 3
   },
   "file_extension": ".py",
   "mimetype": "text/x-python",
   "name": "python",
   "nbconvert_exporter": "python",
   "pygments_lexer": "ipython3",
   "version": "3.5.2"
  }
 },
 "nbformat": 4,
 "nbformat_minor": 2
}
