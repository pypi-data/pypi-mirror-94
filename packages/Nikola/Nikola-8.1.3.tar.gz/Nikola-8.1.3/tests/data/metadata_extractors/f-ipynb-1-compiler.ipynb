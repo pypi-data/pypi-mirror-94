{
 "cells": [
  {
   "cell_type": "markdown",
   "metadata": {},
   "source": [
    "Content line 1.\nContent line 2."
   ]
  }
 ],
 "metadata": {
  "kernelspec": {
   "display_name": "Python 3",
   "env": {},
   "language": "python",
   "name": "python3"
  },
  "nikola": {
   "category": "",
   "date": "2017-07-01 00:00:00 UTC",
   "description": "",
   "link": "",
   "slug": "s-ipynb-1-compiler",
   "tags": "meta,Jupyter Notebook,onefile,compiler",
   "title": "T: Jupyter Notebook, 1, compiler",
   "type": "text"
  }
 },
 "nbformat": 4,
 "nbformat_minor": 2
}
