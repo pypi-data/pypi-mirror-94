{
 "cells": [
  {
   "cell_type": "code",
   "execution_count": 1,
   "metadata": {
    "ExecuteTime": {
     "end_time": "2020-07-13T23:08:59.230302Z",
     "start_time": "2020-07-13T23:08:59.203794Z"
    }
   },
   "outputs": [],
   "source": [
    "%load_ext autoreload\n",
    "%autoreload 2"
   ]
  },
  {
   "cell_type": "code",
   "execution_count": 9,
   "metadata": {
    "ExecuteTime": {
     "end_time": "2020-07-13T23:53:05.409049Z",
     "start_time": "2020-07-13T23:53:05.359682Z"
    }
   },
   "outputs": [
    {
     "ename": "ImportError",
     "evalue": "attempted relative import with no known parent package",
     "output_type": "error",
     "traceback": [
      "\u001b[0;31m---------------------------------------------------------------------------\u001b[0m",
      "\u001b[0;31mImportError\u001b[0m                               Traceback (most recent call last)",
      "\u001b[0;32m<ipython-input-9-2331beab264e>\u001b[0m in \u001b[0;36m<module>\u001b[0;34m\u001b[0m\n\u001b[0;32m----> 1\u001b[0;31m \u001b[0;32mimport\u001b[0m \u001b[0msearch\u001b[0m\u001b[0;34m\u001b[0m\u001b[0;34m\u001b[0m\u001b[0m\n\u001b[0m\u001b[1;32m      2\u001b[0m \u001b[0;32mimport\u001b[0m \u001b[0mpandas\u001b[0m \u001b[0;32mas\u001b[0m \u001b[0mpd\u001b[0m\u001b[0;34m\u001b[0m\u001b[0;34m\u001b[0m\u001b[0m\n\u001b[1;32m      3\u001b[0m \u001b[0;32mimport\u001b[0m \u001b[0mmatplotlib\u001b[0m\u001b[0;34m.\u001b[0m\u001b[0mpyplot\u001b[0m \u001b[0;32mas\u001b[0m \u001b[0mplt\u001b[0m\u001b[0;34m\u001b[0m\u001b[0;34m\u001b[0m\u001b[0m\n\u001b[1;32m      4\u001b[0m \u001b[0;32mfrom\u001b[0m \u001b[0msklearn\u001b[0m\u001b[0;34m.\u001b[0m\u001b[0mensemble\u001b[0m \u001b[0;32mimport\u001b[0m \u001b[0mRandomForestClassifier\u001b[0m\u001b[0;34m\u001b[0m\u001b[0;34m\u001b[0m\u001b[0m\n\u001b[1;32m      5\u001b[0m \u001b[0;32mfrom\u001b[0m \u001b[0mdataprep\u001b[0m\u001b[0;34m.\u001b[0m\u001b[0meda\u001b[0m \u001b[0;32mimport\u001b[0m \u001b[0;34m*\u001b[0m\u001b[0;34m\u001b[0m\u001b[0;34m\u001b[0m\u001b[0m\n",
      "\u001b[0;32m~/smbo-explanation/experiments/search.py\u001b[0m in \u001b[0;36m<module>\u001b[0;34m\u001b[0m\n\u001b[1;32m      7\u001b[0m \u001b[0;32mimport\u001b[0m \u001b[0mtime\u001b[0m\u001b[0;34m\u001b[0m\u001b[0;34m\u001b[0m\u001b[0m\n\u001b[1;32m      8\u001b[0m \u001b[0;34m\u001b[0m\u001b[0m\n\u001b[0;32m----> 9\u001b[0;31m \u001b[0;32mfrom\u001b[0m \u001b[0;34m.\u001b[0m\u001b[0mcat_xform\u001b[0m \u001b[0;32mimport\u001b[0m \u001b[0mtarget_encoding\u001b[0m\u001b[0;34m\u001b[0m\u001b[0;34m\u001b[0m\u001b[0m\n\u001b[0m\u001b[1;32m     10\u001b[0m \u001b[0;32mfrom\u001b[0m \u001b[0mtpe_expl_optuna\u001b[0m \u001b[0;32mimport\u001b[0m \u001b[0mTpeBo\u001b[0m\u001b[0;34m\u001b[0m\u001b[0;34m\u001b[0m\u001b[0m\n\u001b[1;32m     11\u001b[0m \u001b[0;34m\u001b[0m\u001b[0m\n",
      "\u001b[0;31mImportError\u001b[0m: attempted relative import with no known parent package"
     ]
    }
   ],
   "source": [
    "import search\n",
    "import pandas as pd\n",
    "import matplotlib.pyplot as plt\n",
    "from sklearn.ensemble import RandomForestClassifier\n",
    "from dataprep.eda import *"
   ]
  },
  {
   "cell_type": "markdown",
   "metadata": {},
   "source": [
    "# Campaign expenditures - Scorpion's objective function"
   ]
  },
  {
   "cell_type": "code",
   "execution_count": 8,
   "metadata": {
    "ExecuteTime": {
     "end_time": "2020-07-13T23:53:01.666766Z",
     "start_time": "2020-07-13T23:53:01.634547Z"
    }
   },
   "outputs": [
    {
     "name": "stdout",
     "output_type": "stream",
     "text": [
      "['/usr/local/Cellar/python@3.8/3.8.3/Frameworks/Python.framework/Versions/3.8/lib/python38.zip', '/usr/local/Cellar/python@3.8/3.8.3/Frameworks/Python.framework/Versions/3.8/lib/python3.8', '/usr/local/Cellar/python@3.8/3.8.3/Frameworks/Python.framework/Versions/3.8/lib/python3.8/lib-dynload', '', '/Users/brandonlockhart/smbo-explanation/.venv/lib/python3.8/site-packages', '/Users/brandonlockhart/smbo-explanation/.venv/lib/python3.8/site-packages/IPython/extensions', '/Users/brandonlockhart/.ipython']\n"
     ]
    }
   ],
   "source": [
    "import sys\n",
    "sys.path.remove('/Users/brandonlockhart/smbo-explanation/experiments')\n",
    "print(sys.path)"
   ]
  },
  {
   "cell_type": "code",
   "execution_count": null,
   "metadata": {
    "ExecuteTime": {
     "end_time": "2020-07-13T23:09:02.273235Z",
     "start_time": "2020-07-13T23:09:00.077Z"
    },
    "hide_input": false
   },
   "outputs": [],
   "source": [
    "df = pd.read_csv(\"/Users/brandonlockhart/smbo-explanation/datasets/expend.csv\")\n",
    "\n",
    "grps = df.groupby(\"month\")[\"DISBURSEMENT_AMT\"].mean()\n",
    "\n",
    "plt.bar(grps.index, grps)\n",
    "plt.title(\"2016 Campaign Expenditures\")\n",
    "plt.xlabel(\"month\")\n",
    "plt.ylabel(\"DISBURSEMENT_AMT\")\n",
    "plt.show()"
   ]
  },
  {
   "cell_type": "code",
   "execution_count": null,
   "metadata": {
    "ExecuteTime": {
     "end_time": "2020-07-13T23:09:02.294685Z",
     "start_time": "2020-07-13T23:09:01.338Z"
    }
   },
   "outputs": [],
   "source": [
    "# global variable\n",
    "# df\n",
    "\n",
    "# Scorpion objective function\n",
    "def objective(df, aggs_orig):\n",
    "    \n",
    "#     df = df[drop predicate]\n",
    "\n",
    "    # aggregates after removing the tuples satisfying a predicate\n",
    "    aggs = df.groupby(\"month\")[\"DISBURSEMENT_AMT\"].agg([\"mean\", \"size\"])\n",
    "\n",
    "    # influences\n",
    "    infs = (aggs_orig[\"mean\"] - aggs[\"mean\"]) / (aggs_orig[\"size\"] - aggs[\"size\"] + 1e-9)\n",
    "\n",
    "    # outlier influences\n",
    "    outl_inf = infs.loc[8]\n",
    "\n",
    "    # the holdout influences\n",
    "    hold_infs = infs.drop([8], axis=\"rows\")\n",
    "    # holdout with the largest influence\n",
    "    max_hold_inf = abs(hold_infs).max()\n",
    "\n",
    "    # final result from Scorpion\n",
    "    return 0.8 * outl_inf - 0.2 * max_hold_inf"
   ]
  },
  {
   "cell_type": "markdown",
   "metadata": {},
   "source": [
    "# API\n",
    "One function `search()` with input:\n",
    "1. `df`: *pd.DataFrame* - dataframe from which tuples are removed\n",
    "2. `objective`: *python function* - the function to optimize takes as input:\n",
    "    1. An updated dataframe (with the tuples satisfying the predicate removed)\n",
    "3. `num_cols`: *list, optional* - numerical columns from which tuples satisfying a range predicate are removed\n",
    "4. `cat_cols`: *list, optional* - categorical columns from which tuples satisfying an equality predicate are removed\n",
    "5. `cat_enc`: *str, default \"individual_contribution\"* - categorical encoding option\n",
    "6. `max_evals`: *int, deault 100* - number of evaluations of the objective function\n",
    "7. `direction`: *{\"minimize\", \"maximize\"}* - minimize or maximize the objective function\n",
    "\n",
    "Return:\n",
    "1. Data frame with dropped predicate\n",
    "\n",
    "Output to console:\n",
    "1. The predicate removed\n",
    "2. The number of tuples removed"
   ]
  },
  {
   "cell_type": "code",
   "execution_count": 3,
   "metadata": {
    "ExecuteTime": {
     "end_time": "2020-07-13T23:09:03.566116Z",
     "start_time": "2020-07-13T23:09:03.516989Z"
    }
   },
   "outputs": [
    {
     "ename": "NameError",
     "evalue": "name 'df' is not defined",
     "output_type": "error",
     "traceback": [
      "\u001b[0;31m---------------------------------------------------------------------------\u001b[0m",
      "\u001b[0;31mNameError\u001b[0m                                 Traceback (most recent call last)",
      "\u001b[0;32m<ipython-input-3-edf864547ad3>\u001b[0m in \u001b[0;36m<module>\u001b[0;34m\u001b[0m\n\u001b[1;32m      1\u001b[0m \u001b[0;31m# initial aggregates\u001b[0m\u001b[0;34m\u001b[0m\u001b[0;34m\u001b[0m\u001b[0;34m\u001b[0m\u001b[0m\n\u001b[0;32m----> 2\u001b[0;31m \u001b[0maggs_orig\u001b[0m \u001b[0;34m=\u001b[0m \u001b[0mdf\u001b[0m\u001b[0;34m.\u001b[0m\u001b[0mgroupby\u001b[0m\u001b[0;34m(\u001b[0m\u001b[0;34m\"month\"\u001b[0m\u001b[0;34m)\u001b[0m\u001b[0;34m[\u001b[0m\u001b[0;34m\"DISBURSEMENT_AMT\"\u001b[0m\u001b[0;34m]\u001b[0m\u001b[0;34m.\u001b[0m\u001b[0magg\u001b[0m\u001b[0;34m(\u001b[0m\u001b[0;34m[\u001b[0m\u001b[0;34m\"mean\"\u001b[0m\u001b[0;34m,\u001b[0m \u001b[0;34m\"size\"\u001b[0m\u001b[0;34m]\u001b[0m\u001b[0;34m)\u001b[0m\u001b[0;34m\u001b[0m\u001b[0;34m\u001b[0m\u001b[0m\n\u001b[0m\u001b[1;32m      3\u001b[0m \u001b[0;34m\u001b[0m\u001b[0m\n\u001b[1;32m      4\u001b[0m \u001b[0;31m# space = {\"CANDIDATE_NAME\": categories(df[\"CANDIDATE_NAME\"].unique()),\u001b[0m\u001b[0;34m\u001b[0m\u001b[0;34m\u001b[0m\u001b[0;34m\u001b[0m\u001b[0m\n\u001b[1;32m      5\u001b[0m \u001b[0;31m#         \"continuous_num_col\": uniform(df[\"num_col\"].min(), df[\"num_col\"].max()),\u001b[0m\u001b[0;34m\u001b[0m\u001b[0;34m\u001b[0m\u001b[0;34m\u001b[0m\u001b[0m\n",
      "\u001b[0;31mNameError\u001b[0m: name 'df' is not defined"
     ]
    }
   ],
   "source": [
    "# initial aggregates\n",
    "aggs_orig = df.groupby(\"month\")[\"DISBURSEMENT_AMT\"].agg([\"mean\", \"size\"])\n",
    "\n",
    "# space = {\"CANDIDATE_NAME\": categories(df[\"CANDIDATE_NAME\"].unique()),\n",
    "#         \"continuous_num_col\": uniform(df[\"num_col\"].min(), df[\"num_col\"].max()),\n",
    "#          \"discrete_num_col\": integer(df[\"num_col\"].min(), df[\"num_col\"].max())\n",
    "#         }\n",
    "# space = generate_space(df, cat_cols, num_cols)\n",
    "\n",
    "# df_rem = fmax(\n",
    "#     objective=objective,\n",
    "#     space=space,\n",
    "# )\n",
    "\n",
    "\n",
    "df_rem = search.search(\n",
    "    df=df,\n",
    "    objective=objective,\n",
    "    cat_cols=[\"CANDIDATE_NAME\", \"RECIPIENT_STATE\", \"DISBURSEMENT_DESC\"],\n",
    "    cat_enc=\"tpe_categorical\",\n",
    "    max_evals=10,\n",
    "    direction=\"maximize\",\n",
    "    runs=1,\n",
    "    aggs_orig=aggs_orig,\n",
    ")"
   ]
  },
  {
   "cell_type": "code",
   "execution_count": 60,
   "metadata": {
    "ExecuteTime": {
     "end_time": "2020-07-07T22:12:38.876115Z",
     "start_time": "2020-07-07T22:12:38.583328Z"
    }
   },
   "outputs": [
    {
     "data": {
      "image/png": "[encoded data removed]",
      "text/plain": [
       "<Figure size 432x288 with 1 Axes>"
      ]
     },
     "metadata": {
      "needs_background": "light"
     },
     "output_type": "display_data"
    }
   ],
   "source": [
    "grps = df_rem.groupby(\"month\")[\"DISBURSEMENT_AMT\"].mean()\n",
    "\n",
    "plt.bar(grps.index, grps)\n",
    "plt.title(\"2016 Campaign Expenditures\")\n",
    "plt.xlabel(\"month\")\n",
    "plt.ylabel(\"DISBURSEMENT_AMT\")\n",
    "plt.show()"
   ]
  },
  {
   "cell_type": "markdown",
   "metadata": {
    "ExecuteTime": {
     "end_time": "2020-07-07T22:26:10.161694Z",
     "start_time": "2020-07-07T22:26:10.114338Z"
    }
   },
   "source": [
    "# Adult Income Classification\n",
    "\n",
    "Objective function:\n",
    "\n",
    "$$\\text{SUM(Capital Gain) WHERE Label=1} - \\text{SUM(Capital Gain) WHERE Label=0}$$"
   ]
  },
  {
   "cell_type": "code",
   "execution_count": 73,
   "metadata": {
    "ExecuteTime": {
     "end_time": "2020-07-07T22:36:12.840831Z",
     "start_time": "2020-07-07T22:36:10.124051Z"
    }
   },
   "outputs": [
    {
     "name": "stdout",
     "output_type": "stream",
     "text": [
      "The test accuracy of the Random Forest Model is 0.8604342781369136\n",
      "\n",
      " pred\n",
      "0     9440\n",
      "1    30025\n",
      "Name: Capital_Gain, dtype: int64 \n",
      "\n",
      "Value to minimize 20585\n"
     ]
    }
   ],
   "source": [
    "# train and tests datasets\n",
    "train = pd.read_csv(\"/Users/brandonlockhart/smbo-explanation/a_train.csv\")\n",
    "test = pd.read_csv(\"/Users/brandonlockhart/smbo-explanation/a_test.csv\")\n",
    "\n",
    "# train and score the model\n",
    "tree = RandomForestClassifier(max_depth=15, random_state=0)\n",
    "tree.fit(train.drop(columns=[\"Target\"]), train[\"Target\"])\n",
    "score = tree.score(test.drop(columns=[\"Target\"]), test[\"Target\"])\n",
    "print(f'The test accuracy of the Random Forest Model is {score}')\n",
    "\n",
    "# calculate the objective function\n",
    "X_test = test.drop(columns=[\"Target\"]).copy()\n",
    "X_test[\"pred\"] = tree.predict(X_test)\n",
    "result = X_test.groupby(\"pred\")[\"Capital_Gain\"].sum()\n",
    "print(\"\\n\", result, \"\\n\")\n",
    "print(\"Value to minimize\", result[1] - result[0])"
   ]
  },
  {
   "cell_type": "code",
   "execution_count": 62,
   "metadata": {
    "ExecuteTime": {
     "end_time": "2020-07-07T22:15:28.965931Z",
     "start_time": "2020-07-07T22:15:28.904493Z"
    },
    "hide_input": false
   },
   "outputs": [],
   "source": [
    "def objective2(df, test):\n",
    "    # train on parsed data\n",
    "    tree = RandomForestClassifier(max_depth=15, random_state=0)\n",
    "    tree.fit(df.drop(columns=[\"Target\"]), df[\"Target\"])\n",
    "    \n",
    "    X_test = test.drop(columns=[\"Target\"]).copy()\n",
    "    X_test[\"pred\"] = tree.predict(X_test)\n",
    "    result = X_test.groupby(\"pred\")[\"Capital_Gain\"].sum()\n",
    "    return result[1] - result[0]"
   ]
  },
  {
   "cell_type": "code",
   "execution_count": 63,
   "metadata": {
    "ExecuteTime": {
     "end_time": "2020-07-07T22:22:25.399508Z",
     "start_time": "2020-07-07T22:15:52.299939Z"
    }
   },
   "outputs": [
    {
     "name": "stdout",
     "output_type": "stream",
     "text": [
      "Predicate:\n",
      "\t Age_min 4\n",
      "\t Age_len 65\n",
      "\t Education_Num_min 4\n",
      "\t Education_Num_len 14\n",
      "\t Hours_per_week_min 7\n",
      "\t Hours_per_week_len 90\n",
      "21593 tuples removed from the dataset\n",
      "\n",
      "AVERAGE TIME 171.91197395324707\n",
      "AVERAGE DUPLICATE COUNT 0.0\n",
      "AVERAGE ZERO TUPLE 4.0\n",
      "AVERAGE NO COLUMN COUNT 0.0\n",
      "\n",
      "\n",
      "RANDOM TIME 220.38375306129456\n",
      "AVERAGE DUPLICATE COUNT 0.0\n",
      "AVERAGE ZERO TUPLE 10.0\n",
      "AVERAGE NO COLUMN COUNT 0.0\n",
      "\n"
     ]
    },
    {
     "data": {
      "image/png": "[encoded data removed]",
      "text/plain": [
       "<Figure size 1440x720 with 1 Axes>"
      ]
     },
     "metadata": {
      "needs_background": "light"
     },
     "output_type": "display_data"
    }
   ],
   "source": [
    "df_rem = search.search(\n",
    "    df=train,\n",
    "    objective=objective2,\n",
    "    num_cols=[\"Age\", \"Education_Num\", \"Hours_per_week\"],\n",
    "    test=test # pass test data so it doesn't need to be loaded in the objective function\n",
    ")"
   ]
  },
  {
   "cell_type": "code",
   "execution_count": 70,
   "metadata": {
    "ExecuteTime": {
     "end_time": "2020-07-07T22:30:23.796475Z",
     "start_time": "2020-07-07T22:30:23.736832Z"
    }
   },
   "outputs": [
    {
     "data": {
      "text/plain": [
       "2536"
      ]
     },
     "execution_count": 70,
     "metadata": {},
     "output_type": "execute_result"
    }
   ],
   "source": [
    "len(df_rem)"
   ]
  },
  {
   "cell_type": "code",
   "execution_count": 76,
   "metadata": {
    "ExecuteTime": {
     "end_time": "2020-07-07T22:40:19.734501Z",
     "start_time": "2020-07-07T22:40:19.215443Z"
    }
   },
   "outputs": [
    {
     "name": "stdout",
     "output_type": "stream",
     "text": [
      "The accuracy of the Random Forest Model is 0.7619757997679429\n",
      "\n",
      " pred\n",
      "0    27895\n",
      "1    11570\n",
      "Name: Capital_Gain, dtype: int64 \n",
      "\n",
      "Objective value -16325\n"
     ]
    }
   ],
   "source": [
    "tree = RandomForestClassifier(max_depth=15, random_state=0)\n",
    "tree.fit(df_rem.drop(columns=[\"Target\"]), df_rem[\"Target\"])\n",
    "score_randomforest = tree.score(test.drop(columns=[\"Target\"]), test[\"Target\"])\n",
    "print(f'The accuracy of the Random Forest Model is {score_randomforest}')\n",
    "\n",
    "X_test = test.drop(columns=[\"Target\"]).copy()\n",
    "X_test[\"pred\"] = tree.predict(X_test)\n",
    "result = X_test.groupby(\"pred\")[\"Capital_Gain\"].sum()\n",
    "print(\"\\n\", result, \"\\n\")\n",
    "print(\"Objective value\", result[1] - result[0])"
   ]
  },
  {
   "cell_type": "code",
   "execution_count": null,
   "metadata": {},
   "outputs": [],
   "source": []
  }
 ],
 "metadata": {
  "hide_input": false,
  "kernelspec": {
   "display_name": "smbo-explanation",
   "language": "python",
   "name": "smbo-explanation"
  },
  "language_info": {
   "codemirror_mode": {
    "name": "ipython",
    "version": 3
   },
   "file_extension": ".py",
   "mimetype": "text/x-python",
   "name": "python",
   "nbconvert_exporter": "python",
   "pygments_lexer": "ipython3",
   "version": "3.8.3"
  },
  "toc": {
   "base_numbering": 1,
   "nav_menu": {},
   "number_sections": true,
   "sideBar": true,
   "skip_h1_title": false,
   "title_cell": "Table of Contents",
   "title_sidebar": "Contents",
   "toc_cell": false,
   "toc_position": {},
   "toc_section_display": true,
   "toc_window_display": false
  },
  "varInspector": {
   "cols": {
    "lenName": 16,
    "lenType": 16,
    "lenVar": 40
   },
   "kernels_config": {
    "python": {
     "delete_cmd_postfix": "",
     "delete_cmd_prefix": "del ",
     "library": "var_list.py",
     "varRefreshCmd": "print(var_dic_list())"
    },
    "r": {
     "delete_cmd_postfix": ") ",
     "delete_cmd_prefix": "rm(",
     "library": "var_list.r",
     "varRefreshCmd": "cat(var_dic_list()) "
    }
   },
   "types_to_exclude": [
    "module",
    "function",
    "builtin_function_or_method",
    "instance",
    "_Feature"
   ],
   "window_display": false
  }
 },
 "nbformat": 4,
 "nbformat_minor": 4
}
