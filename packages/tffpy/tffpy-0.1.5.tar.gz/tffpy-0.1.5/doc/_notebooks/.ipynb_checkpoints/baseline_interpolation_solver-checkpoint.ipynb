{
 "cells": [
  {
   "cell_type": "markdown",
   "metadata": {
    "ein.tags": [
     "worksheet-0"
    ],
    "slideshow": {
     "slide_type": "-"
    }
   },
   "source": [
    "# Demo for `tffpy.interpolation_solver`\n",
    "\n",
    "A simple demonstration of the baseline interpolation solver"
   ]
  },
  {
   "cell_type": "code",
   "execution_count": null,
   "metadata": {},
   "outputs": [],
   "source": [
    "%load_ext autoreload\n",
    "%autoreload 2\n",
    "\n",
    "%matplotlib inline"
   ]
  },
  {
   "cell_type": "code",
   "execution_count": null,
   "metadata": {},
   "outputs": [],
   "source": [
    "%%javascript\n",
    "IPython.OutputArea.prototype._should_scroll = function(lines) {\n",
    "    return false;\n",
    "}"
   ]
  },
  {
   "cell_type": "code",
   "execution_count": null,
   "metadata": {
    "autoscroll": "json-false",
    "collapsed": true,
    "ein.tags": [
     "worksheet-0"
    ],
    "slideshow": {
     "slide_type": "-"
    }
   },
   "outputs": [],
   "source": [
    "import numpy as np\n",
    "import matplotlib as mpl\n",
    "mpl.rcParams['figure.figsize'] = [15.0, 7.0]\n",
    "\n",
    "from tffpy.datasets import get_mix\n",
    "from tffpy.interpolation_solver import solve_by_interpolation"
   ]
  },
  {
   "cell_type": "code",
   "execution_count": null,
   "metadata": {},
   "outputs": [],
   "source": [
    "win_type = 'gauss'\n",
    "win_dur = 256 / 8000\n",
    "hop_ratio = 1 / 4\n",
    "n_bins_ratio = 4\n",
    "delta_mix_db = 0\n",
    "delta_loc_db = 30\n",
    "n_iter_closing = n_iter_opening = 3\n",
    "wb_to_loc_ratio_db = 8\n",
    "closing_first = True\n",
    "or_mask = True\n",
    "fig_dir = 'fig_interpolation'\n",
    "\n",
    "x_mix, dgt_params, signal_params, mask, x_bird, x_engine = \\\n",
    "    get_mix(loc_source='bird', wideband_src='car',\n",
    "            wb_to_loc_ratio_db=wb_to_loc_ratio_db,\n",
    "            win_dur=win_dur, win_type=win_type,\n",
    "            hop_ratio=hop_ratio, n_bins_ratio=n_bins_ratio,\n",
    "            n_iter_closing=n_iter_closing,\n",
    "            n_iter_opening=n_iter_opening,\n",
    "            closing_first=closing_first,\n",
    "            delta_mix_db=delta_mix_db, delta_loc_db=delta_loc_db,\n",
    "            or_mask=or_mask, fig_dir=fig_dir)\n"
   ]
  },
  {
   "cell_type": "code",
   "execution_count": null,
   "metadata": {
    "collapsed": true
   },
   "outputs": [],
   "source": [
    "x_est = solve_by_interpolation(x_mix, mask, dgt_params, signal_params,\n",
    "                               fig_dir)"
   ]
  }
 ],
 "metadata": {
  "kernelspec": {
   "display_name": "Python 3",
   "language": "python",
   "name": "python3"
  },
  "language_info": {
   "codemirror_mode": {
    "name": "ipython",
    "version": 3
   },
   "file_extension": ".py",
   "mimetype": "text/x-python",
   "name": "python",
   "nbconvert_exporter": "python",
   "pygments_lexer": "ipython3",
   "version": "3.6.2"
  },
  "name": "data_structures.ipynb"
 },
 "nbformat": 4,
 "nbformat_minor": 1
}
