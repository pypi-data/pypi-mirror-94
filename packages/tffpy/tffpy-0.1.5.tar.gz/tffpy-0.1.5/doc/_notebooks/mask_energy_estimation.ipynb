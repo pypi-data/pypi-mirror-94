{
 "cells": [
  {
   "cell_type": "markdown",
   "metadata": {},
   "source": [
    "# Demo for `tffpy.tf_fading.estimate_energy_in_mask`\n",
    "\n",
    "A simple demonstration for the estimation of energy in time-frequency regions."
   ]
  },
  {
   "cell_type": "code",
   "execution_count": null,
   "metadata": {
    "collapsed": true
   },
   "outputs": [],
   "source": [
    "%load_ext autoreload\n",
    "%autoreload 2\n",
    "\n",
    "%matplotlib inline"
   ]
  },
  {
   "cell_type": "code",
   "execution_count": null,
   "metadata": {},
   "outputs": [],
   "source": [
    "%%javascript\n",
    "IPython.OutputArea.prototype._should_scroll = function(lines) {\n",
    "    return false;\n",
    "}"
   ]
  },
  {
   "cell_type": "code",
   "execution_count": null,
   "metadata": {
    "collapsed": true
   },
   "outputs": [],
   "source": [
    "import numpy as np\n",
    "import matplotlib as mpl\n",
    "mpl.rcParams['figure.figsize'] = [15.0, 7.0]\n",
    "\n",
    "from tffpy.datasets import get_mix\n",
    "from tffpy.tf_fading import estimate_energy_in_mask"
   ]
  },
  {
   "cell_type": "code",
   "execution_count": null,
   "metadata": {},
   "outputs": [],
   "source": [
    "fig_dir = 'fig_energy_estimation'\n",
    "x_mix, dgt_params, signal_params, mask, x_loc, x_wb = \\\n",
    "            get_mix(loc_source='bird',\n",
    "                    wideband_src='car',\n",
    "                    crop=None,\n",
    "                    win_dur=256/8000,\n",
    "                    win_type='gauss',\n",
    "                    hop_ratio=1/4,\n",
    "                    n_bins_ratio=4,\n",
    "                    n_iter_closing=3,\n",
    "                    n_iter_opening=3,\n",
    "                    closing_first=True,\n",
    "                    delta_mix_db=0,\n",
    "                    delta_loc_db=40,\n",
    "                    wb_to_loc_ratio_db=8,\n",
    "                    or_mask=True,\n",
    "                    fig_dir=fig_dir)"
   ]
  },
  {
   "cell_type": "code",
   "execution_count": null,
   "metadata": {},
   "outputs": [],
   "source": [
    "estimate_energy_in_mask(x_mix=x_mix, mask=mask, dgt_params=dgt_params, signal_params=signal_params,\n",
    "                        fig_dir=fig_dir, prefix=None)"
   ]
  },
  {
   "cell_type": "code",
   "execution_count": null,
   "metadata": {
    "collapsed": true
   },
   "outputs": [],
   "source": []
  }
 ],
 "metadata": {
  "kernelspec": {
   "display_name": "Python 3",
   "language": "python",
   "name": "python3"
  },
  "language_info": {
   "codemirror_mode": {
    "name": "ipython",
    "version": 3
   },
   "file_extension": ".py",
   "mimetype": "text/x-python",
   "name": "python",
   "nbconvert_exporter": "python",
   "pygments_lexer": "ipython3",
   "version": "3.6.2"
  }
 },
 "nbformat": 4,
 "nbformat_minor": 2
}
