{
 "cells": [
  {
   "cell_type": "markdown",
   "metadata": {},
   "source": [
    "# Function optimize_ga with ∂a∂i for (YRI, CEU) inference\n",
    "\n",
    "It is example from [∂a∂i](https://bitbucket.org/gutenkunstlab/dadi/). In original example close to optimal parameters are pertrubed and then local search (optimize_log, optimize_powell etc.) is launched.\n",
    "\n",
    "In our modification of this example here we use global search - Genetic Algorithm (optimize_ga) from [GADMA](https://github.com/ctlab/GADMA) software.\n",
    "\n",
    "You can find original python code [here](https://bitbucket.org/gutenkunstlab/dadi/src/master/examples/YRI_CEU/YRI_CEU.py) (`dadi/examples/YRI_CEU/YRI_CEU.py` file)"
   ]
  },
  {
   "cell_type": "markdown",
   "metadata": {},
   "source": [
    "## Imports"
   ]
  },
  {
   "cell_type": "code",
   "execution_count": 1,
   "metadata": {},
   "outputs": [],
   "source": [
    "import dadi\n",
    "import gadma\n",
    "%matplotlib inline"
   ]
  },
  {
   "cell_type": "markdown",
   "metadata": {},
   "source": [
    "## Data"
   ]
  },
  {
   "cell_type": "markdown",
   "metadata": {},
   "source": [
    "Data was build originally for paper [Gutenkunst et al. 2009](https://journals.plos.org/plosgenetics/article?id=10.1371/journal.pgen.1000695).\n",
    "\n",
    "It is 20x20 spectrum for two populations:\n",
    "\n",
    "* YRI - Yoruba in Ibadan, Nigeria\n",
    "* CEU - Utah Residents (CEPH) with Northern and Western European Ancestry"
   ]
  },
  {
   "cell_type": "code",
   "execution_count": 2,
   "metadata": {},
   "outputs": [
    {
     "name": "stdout",
     "output_type": "stream",
     "text": [
      "Size of spectrum: [20 20]\n"
     ]
    }
   ],
   "source": [
    "data = dadi.Spectrum.from_file(\"YRI_CEU.fs\")\n",
    "ns = data.sample_sizes\n",
    "print(f\"Size of spectrum: {ns}\")"
   ]
  },
  {
   "cell_type": "code",
   "execution_count": 3,
   "metadata": {},
   "outputs": [
    {
     "data": {
      "text/plain": [
       "<matplotlib.colorbar.Colorbar at 0x7f93040f6c18>"
      ]
     },
     "execution_count": 3,
     "metadata": {},
     "output_type": "execute_result"
    },
    {
     "data": {
      "image/png": "[encoded data removed]",
      "text/plain": [
       "<Figure size 432x288 with 2 Axes>"
      ]
     },
     "metadata": {
      "needs_background": "light"
     },
     "output_type": "display_data"
    }
   ],
   "source": [
    "dadi.Plotting.plot_single_2d_sfs(data, vmin=1.0)"
   ]
  },
  {
   "cell_type": "markdown",
   "metadata": {},
   "source": [
    "## Grid points\n",
    "\n",
    "∂a∂i needs grid points for evaluations:"
   ]
  },
  {
   "cell_type": "code",
   "execution_count": 4,
   "metadata": {},
   "outputs": [],
   "source": [
    "# These are the grid point settings will use for extrapolation.\n",
    "pts = [40,50,60]"
   ]
  },
  {
   "cell_type": "markdown",
   "metadata": {},
   "source": [
    "## Demographic model"
   ]
  },
  {
   "cell_type": "markdown",
   "metadata": {},
   "source": [
    "Demographic model is saved in `demographic_models_dadi.py` as ``model_func`` function. But we also put it here:"
   ]
  },
  {
   "cell_type": "code",
   "execution_count": 5,
   "metadata": {},
   "outputs": [],
   "source": [
    "import numpy\n",
    "import dadi\n",
    "\n",
    "def model_func(params, ns, pts):\n",
    "    \"\"\"\n",
    "    Model with growth, split, bottleneck in pop2, exp recovery, migration\n",
    "\n",
    "    nu1F: The ancestral population size after growth. (Its initial size is\n",
    "          defined to be 1.)\n",
    "    nu2B: The bottleneck size for pop2\n",
    "    nu2F: The final size for pop2\n",
    "    m: The scaled migration rate\n",
    "    Tp: The scaled time between ancestral population growth and the split.\n",
    "    T: The time between the split and present\n",
    "\n",
    "    n1,n2: Size of fs to generate.\n",
    "    pts: Number of points to use in grid for evaluation.\n",
    "    \"\"\"\n",
    "\n",
    "    nu1F, nu2B, nu2F, m, Tp, T = params\n",
    "    # Define the grid we'll use\n",
    "    xx = yy = dadi.Numerics.default_grid(pts)\n",
    "\n",
    "    # phi for the equilibrium ancestral population\n",
    "    phi = dadi.PhiManip.phi_1D(xx)\n",
    "    # Now do the population growth event.\n",
    "    phi = dadi.Integration.one_pop(phi, xx, Tp, nu=nu1F)\n",
    "\n",
    "    # The divergence\n",
    "    phi = dadi.PhiManip.phi_1D_to_2D(xx, phi)\n",
    "    # We need to define a function to describe the non-constant population 2\n",
    "    # size. lambda is a convenient way to do so.\n",
    "    nu2_func = lambda t: nu2B*(nu2F/nu2B)**(t/T)\n",
    "    phi = dadi.Integration.two_pops(phi, xx, T, nu1=nu1F, nu2=nu2_func, \n",
    "                                    m12=m, m21=m)\n",
    "\n",
    "    # Finally, calculate the spectrum.\n",
    "    sfs = dadi.Spectrum.from_phi(phi, ns, (xx,yy))\n",
    "    return sfs"
   ]
  },
  {
   "cell_type": "markdown",
   "metadata": {},
   "source": [
    "We can import it from file by:"
   ]
  },
  {
   "cell_type": "code",
   "execution_count": 6,
   "metadata": {},
   "outputs": [],
   "source": [
    "from demographic_models_dadi import model_func as func"
   ]
  },
  {
   "cell_type": "markdown",
   "metadata": {},
   "source": [
    "or use directly from our notebook:"
   ]
  },
  {
   "cell_type": "code",
   "execution_count": 7,
   "metadata": {},
   "outputs": [],
   "source": [
    "func = model_func"
   ]
  },
  {
   "cell_type": "markdown",
   "metadata": {},
   "source": [
    "## Inference"
   ]
  },
  {
   "cell_type": "markdown",
   "metadata": {},
   "source": [
    "Now we will infer parameters for this demographic history and loaded data."
   ]
  },
  {
   "cell_type": "code",
   "execution_count": 8,
   "metadata": {},
   "outputs": [
    {
     "name": "stdout",
     "output_type": "stream",
     "text": [
      "Beginning optimization ************************************************\n",
      "--Start global optimization Genetic_algorithm--\n"
     ]
    },
    {
     "name": "stderr",
     "output_type": "stream",
     "text": [
      "WARNING:Inference:Model is masked in some entries where data is not.\n",
      "WARNING:Inference:Number of affected entries is 238. Sum of data in those entries is 2998.58:\n"
     ]
    },
    {
     "name": "stdout",
     "output_type": "stream",
     "text": [
      "2998.5798028627855 15684.69145058756\n",
      "Generation #0.\n",
      "Current generation of solutions:\n",
      "N\tValue of fitness function\tSolution\n",
      "0\t-1701.826817\t(nu1F=2.30421,\tnu2B=2.06258,\tnu2F=0.45752,\tm=0.75996,\tTp=1.18187,\tT=0.86968)\tr\n",
      "1\t-1729.977101\t(nu1F=2.8046,\tnu2B=0.03398,\tnu2F=0.56888,\tm=1.29198,\tTp=0.54352,\tT=1.27484)\tr\n",
      "2\t-3429.804929\t(nu1F=10.07386,\tnu2B=2.30486,\tnu2F=0.42512,\tm=0.83356,\tTp=0.83459,\tT=0.9573)\tr\n",
      "3\t-3553.704116\t(nu1F=0.57483,\tnu2B=0.08977,\tnu2F=0.28265,\tm=1.15827,\tTp=1.12788,\tT=1.00575)\tr\n",
      "4\t-3584.960802\t(nu1F=2.26739,\tnu2B=3.09241,\tnu2F=2.52953,\tm=0.58835,\tTp=0.88652,\tT=0.77567)\tr\n",
      "5\t-3675.524195\t(nu1F=12.18778,\tnu2B=3.09972,\tnu2F=0.33028,\tm=1.00913,\tTp=1.11375,\tT=0.3531)\tr\n",
      "6\t-3792.617760\t(nu1F=0.69454,\tnu2B=0.68659,\tnu2F=1.04326,\tm=1.37447,\tTp=1.07923,\tT=1.16278)\tr\n",
      "7\t-4259.763741\t(nu1F=0.41307,\tnu2B=0.28107,\tnu2F=0.18045,\tm=1.40936,\tTp=1.59377,\tT=1.17211)\tr\n",
      "8\t-4300.191417\t(nu1F=0.59633,\tnu2B=1.9406,\tnu2F=0.38285,\tm=0.45428,\tTp=0.75365,\tT=0.33004)\tr\n",
      "9\t-4316.308906\t(nu1F=3.35194,\tnu2B=8.90924,\tnu2F=1.66733,\tm=1.2133,\tTp=1.10813,\tT=0.85285)\tr\n",
      "Current mean mutation rate:\t 0.200000\n",
      "Current mean number of params to change during mutation:\t  1\n",
      "\n",
      "--Best solution by value of fitness function--\n",
      "Value of fitness: -1701.8268172514881\n",
      "Solution:\t\t(nu1F=2.30421,\tnu2B=2.06258,\tnu2F=0.45752,\tm=0.75996,\tTp=1.18187,\tT=0.86968)\tr\n",
      "\n",
      "\n",
      "Generation #1.\n",
      "Current generation of solutions:\n",
      "N\tValue of fitness function\tSolution\n",
      "0\t-1701.826817\t(nu1F=2.30421,\tnu2B=2.06258,\tnu2F=0.45752,\tm=0.75996,\tTp=1.18187,\tT=0.86968)\tr\n",
      "1\t-1729.977101\t(nu1F=2.8046,\tnu2B=0.03398,\tnu2F=0.56888,\tm=1.29198,\tTp=0.54352,\tT=1.27484)\tr\n",
      "2\t-1760.864950\t(nu1F=2.8046,\tnu2B=2.06258,\tnu2F=0.45752,\tm=0.75996,\tTp=0.54352,\tT=0.86968)\tc\n",
      "3\t-2264.177426\t(nu1F=5.83626,\tnu2B=0.13663,\tnu2F=0.48804,\tm=1.42326,\tTp=1.08219,\tT=0.87912)\tr\n",
      "4\t-3063.650364\t(nu1F=9.15027,\tnu2B=2.33581,\tnu2F=0.33028,\tm=1.23806,\tTp=1.11375,\tT=0.3531)\tmmm\n",
      "5\t-3148.592837\t(nu1F=10.07386,\tnu2B=2.30486,\tnu2F=0.53811,\tm=0.83356,\tTp=0.83459,\tT=1.02132)\tmm\n",
      "6\t-3319.821496\t(nu1F=2.8046,\tnu2B=0.03398,\tnu2F=0.33028,\tm=1.00913,\tTp=1.11375,\tT=1.27484)\tc\n",
      "7\t-3766.686457\t(nu1F=2.30421,\tnu2B=3.09241,\tnu2F=2.52953,\tm=0.75996,\tTp=0.88652,\tT=0.77567)\tc\n",
      "8\t-3930.025618\t(nu1F=0.59633,\tnu2B=1.9406,\tnu2F=0.38285,\tm=0.58574,\tTp=0.75365,\tT=0.33004)\tm\n",
      "9\t-12840.236662\t(nu1F=0.2805,\tnu2B=0.10287,\tnu2F=0.50801,\tm=0.36103,\tTp=0.98415,\tT=1.5125)\tr\n",
      "Current mean mutation rate:\t 0.240000\n",
      "Current mean number of params to change during mutation:\t  1\n",
      "\n",
      "--Best solution by value of fitness function--\n",
      "Value of fitness: -1701.8268172514881\n",
      "Solution:\t\t(nu1F=2.30421,\tnu2B=2.06258,\tnu2F=0.45752,\tm=0.75996,\tTp=1.18187,\tT=0.86968)\tr\n",
      "\n",
      "Mean time:\t4.705 sec.\n",
      "\n",
      "\n",
      "\n",
      "Generation #2.\n",
      "Current generation of solutions:\n",
      "N\tValue of fitness function\tSolution\n",
      "0\t-1421.483902\t(nu1F=2.30421,\tnu2B=2.06258,\tnu2F=0.56888,\tm=1.29198,\tTp=0.54352,\tT=0.86968)\tc\n",
      "1\t-1648.737614\t(nu1F=2.8046,\tnu2B=2.06258,\tnu2F=0.56888,\tm=0.75996,\tTp=0.54352,\tT=1.27484)\tc\n",
      "2\t-1701.826817\t(nu1F=2.30421,\tnu2B=2.06258,\tnu2F=0.45752,\tm=0.75996,\tTp=1.18187,\tT=0.86968)\tr\n",
      "3\t-1712.040031\t(nu1F=2.70395,\tnu2B=2.06258,\tnu2F=0.45752,\tm=0.75996,\tTp=1.03441,\tT=0.86968)\tmm\n",
      "4\t-1729.977101\t(nu1F=2.8046,\tnu2B=0.03398,\tnu2F=0.56888,\tm=1.29198,\tTp=0.54352,\tT=1.27484)\tr\n",
      "5\t-2521.636599\t(nu1F=7.01144,\tnu2B=0.13663,\tnu2F=0.48804,\tm=1.42326,\tTp=1.08219,\tT=0.87912)\tm\n",
      "6\t-3098.933038\t(nu1F=9.15027,\tnu2B=2.33581,\tnu2F=0.38926,\tm=1.23806,\tTp=1.33106,\tT=0.3531)\tmm\n",
      "7\t-7024.808187\t(nu1F=10.07386,\tnu2B=0.10287,\tnu2F=0.53811,\tm=0.36103,\tTp=0.98415,\tT=1.5125)\tc\n",
      "8\t-13573.782932\t(nu1F=0.81134,\tnu2B=3.28175,\tnu2F=27.41468,\tm=0,\tTp=0.79988,\tT=0.63039)\tr\n",
      "9\t-30960.850332\t(nu1F=3.42775,\tnu2B=0.07771,\tnu2F=2.06107,\tm=0,\tTp=1.62673,\tT=1.38412)\tr\n",
      "Current mean mutation rate:\t 0.288000\n",
      "Current mean number of params to change during mutation:\t  1\n",
      "\n",
      "--Best solution by value of fitness function--\n",
      "Value of fitness: -1421.4839020176794\n",
      "Solution:\t\t(nu1F=2.30421,\tnu2B=2.06258,\tnu2F=0.56888,\tm=1.29198,\tTp=0.54352,\tT=0.86968)\tc\n",
      "\n",
      "Mean time:\t4.617 sec.\n",
      "\n",
      "\n",
      "\n",
      "Generation #3.\n",
      "Current generation of solutions:\n",
      "N\tValue of fitness function\tSolution\n",
      "0\t-1421.483902\t(nu1F=2.30421,\tnu2B=2.06258,\tnu2F=0.56888,\tm=1.29198,\tTp=0.54352,\tT=0.86968)\tc\n",
      "1\t-1577.591980\t(nu1F=1.49263,\tnu2B=2.06258,\tnu2F=0.56888,\tm=1.29198,\tTp=0.54352,\tT=0.86968)\tm\n",
      "2\t-1597.190567\t(nu1F=2.8046,\tnu2B=2.06258,\tnu2F=0.56888,\tm=0.75996,\tTp=0.54352,\tT=0.86968)\tc\n",
      "3\t-1648.737614\t(nu1F=2.8046,\tnu2B=2.06258,\tnu2F=0.56888,\tm=0.75996,\tTp=0.54352,\tT=1.27484)\tc\n",
      "4\t-3210.674478\t(nu1F=9.15027,\tnu2B=2.33581,\tnu2F=0.38926,\tm=0.36103,\tTp=0.98415,\tT=0.3531)\tc\n",
      "5\t-4112.075815\t(nu1F=7.87171,\tnu2B=7.32061,\tnu2F=0.21993,\tm=1.00734,\tTp=0.54731,\tT=1.03704)\tr\n",
      "6\t-5989.011686\t(nu1F=6.25357,\tnu2B=0.10287,\tnu2F=0.53811,\tm=0.36103,\tTp=0.98415,\tT=1.5125)\tm\n",
      "7\t-7202.271523\t(nu1F=10.07386,\tnu2B=0.10287,\tnu2F=0.53811,\tm=0.36103,\tTp=0.98415,\tT=1.32037)\tm\n",
      "8\t-7484.427556\t(nu1F=10.07386,\tnu2B=0.10287,\tnu2F=0.56888,\tm=0.36103,\tTp=0.98415,\tT=0.86968)\tc\n",
      "9\t-76056.242622\t(nu1F=0.11937,\tnu2B=4.6946,\tnu2F=0.08804,\tm=0,\tTp=1.30773,\tT=1.08575)\tr\n",
      "Current mean mutation rate:\t 0.275168\n",
      "Current mean number of params to change during mutation:\t  1\n",
      "\n",
      "--Best solution by value of fitness function--\n",
      "Value of fitness: -1421.4839020176794\n",
      "Solution:\t\t(nu1F=2.30421,\tnu2B=2.06258,\tnu2F=0.56888,\tm=1.29198,\tTp=0.54352,\tT=0.86968)\tc\n",
      "\n",
      "Mean time:\t4.946 sec.\n",
      "\n",
      "\n",
      "\n",
      "Generation #4.\n",
      "Current generation of solutions:\n",
      "N\tValue of fitness function\tSolution\n",
      "0\t-1421.483902\t(nu1F=2.30421,\tnu2B=2.06258,\tnu2F=0.56888,\tm=1.29198,\tTp=0.54352,\tT=0.86968)\tc\n",
      "1\t-1481.222311\t(nu1F=1.9016,\tnu2B=2.06258,\tnu2F=0.56888,\tm=1.45384,\tTp=0.54352,\tT=0.86968)\tmm\n",
      "2\t-1489.444836\t(nu1F=1.49263,\tnu2B=2.06258,\tnu2F=0.42053,\tm=1.29198,\tTp=0.54352,\tT=1.17575)\tmm\n",
      "3\t-1577.591980\t(nu1F=1.49263,\tnu2B=2.06258,\tnu2F=0.56888,\tm=1.29198,\tTp=0.54352,\tT=0.86968)\tm\n",
      "4\t-1680.835446\t(nu1F=1.49263,\tnu2B=2.06258,\tnu2F=0.56888,\tm=1.00734,\tTp=0.54731,\tT=1.03704)\tc\n",
      "5\t-3326.596980\t(nu1F=10.07386,\tnu2B=0.10287,\tnu2F=0.56888,\tm=1.29198,\tTp=0.54352,\tT=0.86968)\tc\n",
      "6\t-4086.691541\t(nu1F=7.87171,\tnu2B=7.32061,\tnu2F=0.21993,\tm=1.00734,\tTp=0.3989,\tT=1.03704)\tm\n",
      "7\t-9743.703382\t(nu1F=45.92041,\tnu2B=16.86401,\tnu2F=4.64628,\tm=0,\tTp=0.7852,\tT=1.19254)\tr\n",
      "8\t-11479.011689\t(nu1F=10.07386,\tnu2B=0.10287,\tnu2F=0.21993,\tm=0.36103,\tTp=0.54731,\tT=0.86968)\tc\n",
      "9\t-11637.931727\t(nu1F=28.0868,\tnu2B=12.61298,\tnu2F=0.16764,\tm=0,\tTp=1.26555,\tT=0.73011)\tr\n",
      "Current mean mutation rate:\t 0.262907\n",
      "Current mean number of params to change during mutation:\t  1\n",
      "\n",
      "--Best solution by value of fitness function--\n",
      "Value of fitness: -1421.4839020176794\n",
      "Solution:\t\t(nu1F=2.30421,\tnu2B=2.06258,\tnu2F=0.56888,\tm=1.29198,\tTp=0.54352,\tT=0.86968)\tc\n",
      "\n",
      "Mean time:\t4.958 sec.\n",
      "\n",
      "\n",
      "\n",
      "Generation #5.\n",
      "Current generation of solutions:\n",
      "N\tValue of fitness function\tSolution\n",
      "0\t-1421.483902\t(nu1F=2.30421,\tnu2B=2.06258,\tnu2F=0.56888,\tm=1.29198,\tTp=0.54352,\tT=0.86968)\tc\n",
      "1\t-1481.222311\t(nu1F=1.9016,\tnu2B=2.06258,\tnu2F=0.56888,\tm=1.45384,\tTp=0.54352,\tT=0.86968)\tmm\n",
      "2\t-1622.650743\t(nu1F=1.49263,\tnu2B=0.10287,\tnu2F=0.42053,\tm=1.29198,\tTp=0.54731,\tT=1.17575)\tc\n",
      "3\t-1784.525601\t(nu1F=1.49263,\tnu2B=2.06258,\tnu2F=0.38616,\tm=1.00734,\tTp=0.54731,\tT=1.03704)\tm\n",
      "4\t-2704.144441\t(nu1F=6.88227,\tnu2B=0.10287,\tnu2F=0.56888,\tm=1.29198,\tTp=0.54352,\tT=0.86968)\tm\n",
      "5\t-4111.566184\t(nu1F=7.87171,\tnu2B=7.32061,\tnu2F=0.21993,\tm=1.00734,\tTp=0.54352,\tT=1.03704)\tc\n",
      "6\t-6430.579304\t(nu1F=1.49263,\tnu2B=0.10287,\tnu2F=0.42053,\tm=0.36103,\tTp=0.54352,\tT=0.86968)\tc\n",
      "7\t-9184.126127\t(nu1F=3.47701,\tnu2B=6.0622,\tnu2F=0.19563,\tm=0,\tTp=1.74888,\tT=0.85791)\tr\n",
      "8\t-10133.145838\t(nu1F=10.07386,\tnu2B=0.10287,\tnu2F=0.28776,\tm=0.36103,\tTp=0.54731,\tT=0.86968)\tm\n",
      "9\t-50698.797605\t(nu1F=0.2162,\tnu2B=0.24522,\tnu2F=0.78623,\tm=0,\tTp=1.18292,\tT=1.05393)\tr\n",
      "Current mean mutation rate:\t 0.251192\n",
      "Current mean number of params to change during mutation:\t  1\n",
      "\n",
      "--Best solution by value of fitness function--\n",
      "Value of fitness: -1421.4839020176794\n",
      "Solution:\t\t(nu1F=2.30421,\tnu2B=2.06258,\tnu2F=0.56888,\tm=1.29198,\tTp=0.54352,\tT=0.86968)\tc\n",
      "\n",
      "Mean time:\t5.052 sec.\n",
      "\n",
      "\n",
      "\n",
      "Generation #6.\n",
      "Current generation of solutions:\n",
      "N\tValue of fitness function\tSolution\n",
      "0\t-1421.483902\t(nu1F=2.30421,\tnu2B=2.06258,\tnu2F=0.56888,\tm=1.29198,\tTp=0.54352,\tT=0.86968)\tc\n",
      "1\t-1481.222311\t(nu1F=1.9016,\tnu2B=2.06258,\tnu2F=0.56888,\tm=1.45384,\tTp=0.54352,\tT=0.86968)\tmm\n",
      "2\t-6199.437036\t(nu1F=1.49263,\tnu2B=0.10287,\tnu2F=0.42053,\tm=0.36103,\tTp=0.54352,\tT=0.52632)\tm\n",
      "3\t-6430.579304\t(nu1F=1.49263,\tnu2B=0.10287,\tnu2F=0.42053,\tm=0.36103,\tTp=0.54352,\tT=0.86968)\tc\n",
      "4\t-6640.844060\t(nu1F=6.88227,\tnu2B=0.10287,\tnu2F=0.56888,\tm=0.36103,\tTp=0.54352,\tT=0.86968)\tc\n",
      "5\t-8399.863314\t(nu1F=1.9016,\tnu2B=2.06258,\tnu2F=0.56888,\tm=0,\tTp=0.54352,\tT=0.85791)\tc\n",
      "6\t-8832.053052\t(nu1F=3.47701,\tnu2B=7.33239,\tnu2F=0.19563,\tm=0,\tTp=1.74888,\tT=0.85791)\tm\n",
      "7\t-9146.318921\t(nu1F=4.05271,\tnu2B=6.0622,\tnu2F=0.19563,\tm=0,\tTp=1.74888,\tT=0.85791)\tm\n",
      "8\t-10454.658375\t(nu1F=0.84381,\tnu2B=10.16508,\tnu2F=0.56506,\tm=0,\tTp=1.43428,\tT=0.71472)\tr\n",
      "9\t-78224.057665\t(nu1F=0.57119,\tnu2B=0.09234,\tnu2F=0.05643,\tm=0,\tTp=1.06285,\tT=0.99956)\tr\n",
      "Current mean mutation rate:\t 0.240000\n",
      "Current mean number of params to change during mutation:\t  1\n",
      "\n",
      "--Best solution by value of fitness function--\n",
      "Value of fitness: -1421.4839020176794\n",
      "Solution:\t\t(nu1F=2.30421,\tnu2B=2.06258,\tnu2F=0.56888,\tm=1.29198,\tTp=0.54352,\tT=0.86968)\tc\n",
      "\n",
      "Mean time:\t4.796 sec.\n",
      "\n",
      "\n",
      "\n"
     ]
    },
    {
     "name": "stdout",
     "output_type": "stream",
     "text": [
      "Generation #7.\n",
      "Current generation of solutions:\n",
      "N\tValue of fitness function\tSolution\n",
      "0\t-1379.451604\t(nu1F=2.30421,\tnu2B=2.06258,\tnu2F=0.40953,\tm=1.69576,\tTp=0.54352,\tT=0.86968)\tmm\n",
      "1\t-1421.483902\t(nu1F=2.30421,\tnu2B=2.06258,\tnu2F=0.56888,\tm=1.29198,\tTp=0.54352,\tT=0.86968)\tc\n",
      "2\t-1481.222311\t(nu1F=1.9016,\tnu2B=2.06258,\tnu2F=0.56888,\tm=1.45384,\tTp=0.54352,\tT=0.86968)\tmm\n",
      "3\t-3443.242136\t(nu1F=6.55397,\tnu2B=1.64121,\tnu2F=0.23611,\tm=0.79503,\tTp=1.01632,\tT=0.47258)\tr\n",
      "4\t-4238.287643\t(nu1F=13.82932,\tnu2B=0.52445,\tnu2F=1.76065,\tm=1.12997,\tTp=0.88447,\tT=0.63745)\tr\n",
      "5\t-6199.437036\t(nu1F=1.49263,\tnu2B=0.10287,\tnu2F=0.42053,\tm=0.36103,\tTp=0.54352,\tT=0.52632)\tc\n",
      "6\t-6341.457145\t(nu1F=6.88227,\tnu2B=0.10287,\tnu2F=0.56888,\tm=0.36103,\tTp=0.54352,\tT=1.1935)\tm\n",
      "7\t-9146.318921\t(nu1F=4.05271,\tnu2B=6.0622,\tnu2F=0.19563,\tm=0,\tTp=1.74888,\tT=0.85791)\tc\n",
      "8\t-10749.801271\t(nu1F=0.65262,\tnu2B=10.16508,\tnu2F=0.56506,\tm=0,\tTp=1.43428,\tT=0.56536)\tmmm\n",
      "9\t-19462.131920\t(nu1F=0.57119,\tnu2B=10.16508,\tnu2F=0.56506,\tm=0,\tTp=1.06285,\tT=0.99956)\tc\n",
      "Current mean mutation rate:\t 0.288000\n",
      "Current mean number of params to change during mutation:\t  1\n",
      "\n",
      "--Best solution by value of fitness function--\n",
      "Value of fitness: -1379.451603685885\n",
      "Solution:\t\t(nu1F=2.30421,\tnu2B=2.06258,\tnu2F=0.40953,\tm=1.69576,\tTp=0.54352,\tT=0.86968)\tmm\n",
      "\n",
      "Mean time:\t4.537 sec.\n",
      "\n",
      "\n",
      "\n",
      "Generation #8.\n",
      "Current generation of solutions:\n",
      "N\tValue of fitness function\tSolution\n",
      "0\t-1332.756094\t(nu1F=1.9016,\tnu2B=2.06258,\tnu2F=0.44017,\tm=1.45384,\tTp=0.54352,\tT=0.86968)\tm\n",
      "1\t-1379.451604\t(nu1F=2.30421,\tnu2B=2.06258,\tnu2F=0.40953,\tm=1.69576,\tTp=0.54352,\tT=0.86968)\tmm\n",
      "2\t-1421.483902\t(nu1F=2.30421,\tnu2B=2.06258,\tnu2F=0.56888,\tm=1.29198,\tTp=0.54352,\tT=0.86968)\tc\n",
      "3\t-1446.202441\t(nu1F=1.9016,\tnu2B=2.06258,\tnu2F=0.56888,\tm=1.45384,\tTp=0.54352,\tT=1.1935)\tc\n",
      "4\t-2335.006192\t(nu1F=6.55397,\tnu2B=1.64121,\tnu2F=0.56888,\tm=0.79503,\tTp=0.54352,\tT=0.47258)\tc\n",
      "5\t-3864.588131\t(nu1F=13.82932,\tnu2B=0.32695,\tnu2F=1.76065,\tm=1.12997,\tTp=1.08406,\tT=0.51967)\tmmm\n",
      "6\t-4350.986386\t(nu1F=1.00225,\tnu2B=1.98231,\tnu2F=1.51719,\tm=0.62344,\tTp=0.73584,\tT=0.77814)\tr\n",
      "7\t-11844.684249\t(nu1F=4.05271,\tnu2B=2.06258,\tnu2F=0.19563,\tm=0,\tTp=1.74888,\tT=0.85791)\tc\n",
      "8\t-13112.320124\t(nu1F=1.19806,\tnu2B=1.39403,\tnu2F=19.89957,\tm=0,\tTp=0.9426,\tT=0.9661)\tr\n",
      "9\t-19462.131920\t(nu1F=0.57119,\tnu2B=10.16508,\tnu2F=0.56506,\tm=0,\tTp=1.06285,\tT=0.99956)\tmmmmm\n",
      "Current mean mutation rate:\t 0.345600\n",
      "Current mean number of params to change during mutation:\t  1\n",
      "\n",
      "--Best solution by value of fitness function--\n",
      "Value of fitness: -1332.756093859653\n",
      "Solution:\t\t(nu1F=1.9016,\tnu2B=2.06258,\tnu2F=0.44017,\tm=1.45384,\tTp=0.54352,\tT=0.86968)\tm\n",
      "\n",
      "Mean time:\t4.328 sec.\n",
      "\n",
      "\n",
      "\n",
      "Generation #9.\n",
      "Current generation of solutions:\n",
      "N\tValue of fitness function\tSolution\n",
      "0\t-1332.756094\t(nu1F=1.9016,\tnu2B=2.06258,\tnu2F=0.44017,\tm=1.45384,\tTp=0.54352,\tT=0.86968)\tm\n",
      "1\t-1356.743441\t(nu1F=2.30421,\tnu2B=2.06258,\tnu2F=0.40953,\tm=1.12997,\tTp=1.08406,\tT=0.51967)\tc\n",
      "2\t-1377.570320\t(nu1F=1.9016,\tnu2B=1.46395,\tnu2F=0.56888,\tm=1.45384,\tTp=0.54352,\tT=1.1935)\tm\n",
      "3\t-1379.451604\t(nu1F=2.30421,\tnu2B=2.06258,\tnu2F=0.40953,\tm=1.69576,\tTp=0.54352,\tT=0.86968)\tmm\n",
      "4\t-1409.806963\t(nu1F=1.9016,\tnu2B=2.06258,\tnu2F=0.56888,\tm=1.28727,\tTp=0.54352,\tT=1.1935)\tm\n",
      "5\t-1427.591237\t(nu1F=1.9016,\tnu2B=2.06258,\tnu2F=0.55688,\tm=1.45384,\tTp=0.54352,\tT=1.23065)\tmm\n",
      "6\t-1488.529556\t(nu1F=1.9016,\tnu2B=0.32695,\tnu2F=0.44017,\tm=1.12997,\tTp=1.08406,\tT=0.51967)\tc\n",
      "7\t-3388.058628\t(nu1F=1.9016,\tnu2B=2.06258,\tnu2F=1.51719,\tm=1.45384,\tTp=0.54352,\tT=0.77814)\tc\n",
      "8\t-8041.568942\t(nu1F=1.95672,\tnu2B=0.6205,\tnu2F=4.85963,\tm=0,\tTp=1.35314,\tT=0.91228)\tr\n",
      "9\t-8214.541951\t(nu1F=3.26254,\tnu2B=1.69449,\tnu2F=0.44299,\tm=0,\tTp=0.2379,\tT=0.81994)\tr\n",
      "Current mean mutation rate:\t 0.330201\n",
      "Current mean number of params to change during mutation:\t  1\n",
      "\n",
      "--Best solution by value of fitness function--\n",
      "Value of fitness: -1332.756093859653\n",
      "Solution:\t\t(nu1F=1.9016,\tnu2B=2.06258,\tnu2F=0.44017,\tm=1.45384,\tTp=0.54352,\tT=0.86968)\tm\n",
      "\n",
      "Mean time:\t4.448 sec.\n",
      "\n",
      "\n",
      "\n",
      "Generation #10.\n",
      "Current generation of solutions:\n",
      "N\tValue of fitness function\tSolution\n",
      "0\t-1332.756094\t(nu1F=1.9016,\tnu2B=2.06258,\tnu2F=0.44017,\tm=1.45384,\tTp=0.54352,\tT=0.86968)\tm\n",
      "1\t-1335.409202\t(nu1F=1.9016,\tnu2B=2.06258,\tnu2F=0.44017,\tm=1.45384,\tTp=0.66314,\tT=0.86968)\tm\n",
      "2\t-1356.743441\t(nu1F=2.30421,\tnu2B=2.06258,\tnu2F=0.40953,\tm=1.12997,\tTp=1.08406,\tT=0.51967)\tc\n",
      "3\t-1371.555405\t(nu1F=1.9016,\tnu2B=1.46395,\tnu2F=0.56888,\tm=1.45384,\tTp=0.26909,\tT=1.1935)\tm\n",
      "4\t-1444.528889\t(nu1F=1.9016,\tnu2B=1.46395,\tnu2F=0.44017,\tm=1.12997,\tTp=0.54352,\tT=1.1935)\tc\n",
      "5\t-1446.202441\t(nu1F=1.9016,\tnu2B=2.06258,\tnu2F=0.56888,\tm=1.45384,\tTp=0.54352,\tT=1.1935)\tc\n",
      "6\t-1637.447995\t(nu1F=1.9016,\tnu2B=2.06258,\tnu2F=0.7285,\tm=1.28727,\tTp=0.54352,\tT=1.1935)\tm\n",
      "7\t-4578.167648\t(nu1F=5.71242,\tnu2B=0.34508,\tnu2F=15.81412,\tm=0,\tTp=0.65176,\tT=0.63848)\tr\n",
      "8\t-5580.242741\t(nu1F=3.94175,\tnu2B=0.97538,\tnu2F=4.41883,\tm=0,\tTp=1.64821,\tT=1.03995)\tr\n",
      "9\t-10564.016593\t(nu1F=3.26254,\tnu2B=0.6205,\tnu2F=0.44299,\tm=0,\tTp=1.35314,\tT=0.81994)\tc\n",
      "Current mean mutation rate:\t 0.315488\n",
      "Current mean number of params to change during mutation:\t  1\n",
      "\n",
      "--Best solution by value of fitness function--\n",
      "Value of fitness: -1332.756093859653\n",
      "Solution:\t\t(nu1F=1.9016,\tnu2B=2.06258,\tnu2F=0.44017,\tm=1.45384,\tTp=0.54352,\tT=0.86968)\tm\n",
      "\n",
      "Mean time:\t4.465 sec.\n",
      "\n",
      "\n",
      "\n",
      "--Finish global optimization Genetic_algorithm--\n",
      "Result:\n",
      "   status: 1\n",
      " success: True\n",
      " message: OPTIMIZATION IS NOT STOPPED\n",
      "       x: [1.9015956483379328 2.06257938805023 0.4401664517805921 1.45383785541038\n",
      " 0.5435242533018835 0.8696827003939265]\n",
      "       y: -1332.756093859653\n",
      "  n_eval: 154\n",
      "  n_iter: 10\n",
      "\n",
      "--Start local optimization optimize_log_powell--\n",
      "1\t-1332.756093859653\t(nu1F=1.9016,\tnu2B=2.06258,\tnu2F=0.44017,\tm=1.45384,\tTp=0.54352,\tT=0.86968)\t\n",
      "2\t-2028.0661250483067\t(nu1F=5.16907,\tnu2B=2.06258,\tnu2F=0.44017,\tm=1.45384,\tTp=0.54352,\tT=0.86968)\t\n",
      "3\t-4898.459097385603\t(nu1F=0.37706,\tnu2B=2.06258,\tnu2F=0.44017,\tm=1.45384,\tTp=0.54352,\tT=0.86968)\t\n",
      "4\t-1810.533699560487\t(nu1F=1.02497,\tnu2B=2.06258,\tnu2F=0.44017,\tm=1.45384,\tTp=0.54352,\tT=0.86968)\t\n",
      "5\t-1433.348153974162\t(nu1F=2.78615,\tnu2B=2.06258,\tnu2F=0.44017,\tm=1.45384,\tTp=0.54352,\tT=0.86968)\t\n",
      "6\t-1331.2814040134494\t(nu1F=2.02714,\tnu2B=2.06258,\tnu2F=0.44017,\tm=1.45384,\tTp=0.54352,\tT=0.86968)\t\n",
      "7\t-1330.8914116934352\t(nu1F=1.98867,\tnu2B=2.06258,\tnu2F=0.44017,\tm=1.45384,\tTp=0.54352,\tT=0.86968)\t\n",
      "8\t-1330.8905075545727\t(nu1F=1.98685,\tnu2B=2.06258,\tnu2F=0.44017,\tm=1.45384,\tTp=0.54352,\tT=0.86968)\t\n",
      "9\t-1330.8906282307707\t(nu1F=1.98598,\tnu2B=2.06258,\tnu2F=0.44017,\tm=1.45384,\tTp=0.54352,\tT=0.86968)\t\n",
      "10\t-1330.8907466170276\t(nu1F=1.98772,\tnu2B=2.06258,\tnu2F=0.44017,\tm=1.45384,\tTp=0.54352,\tT=0.86968)\t\n",
      "11\t-1493.8639276695478\t(nu1F=1.98685,\tnu2B=5.60667,\tnu2F=0.44017,\tm=1.45384,\tTp=0.54352,\tT=0.86968)\t\n",
      "12\t-1258.422056937624\t(nu1F=1.98685,\tnu2B=0.40899,\tnu2F=0.44017,\tm=1.45384,\tTp=0.54352,\tT=0.86968)\t\n",
      "13\t-1245.529008909171\t(nu1F=1.98685,\tnu2B=0.55927,\tnu2F=0.44017,\tm=1.45384,\tTp=0.54352,\tT=0.86968)\t\n",
      "14\t-1254.7026644593452\t(nu1F=1.98685,\tnu2B=0.92069,\tnu2F=0.44017,\tm=1.45384,\tTp=0.54352,\tT=0.86968)\t\n",
      "15\t-1244.9797708249203\t(nu1F=1.98685,\tnu2B=0.67657,\tnu2F=0.44017,\tm=1.45384,\tTp=0.54352,\tT=0.86968)\t\n",
      "16\t-1244.5673649674582\t(nu1F=1.98685,\tnu2B=0.6281,\tnu2F=0.44017,\tm=1.45384,\tTp=0.54352,\tT=0.86968)\t\n",
      "17\t-1244.5749257264883\t(nu1F=1.98685,\tnu2B=0.62068,\tnu2F=0.44017,\tm=1.45384,\tTp=0.54352,\tT=0.86968)\t\n",
      "18\t-1244.5802436046356\t(nu1F=1.98685,\tnu2B=0.63562,\tnu2F=0.44017,\tm=1.45384,\tTp=0.54352,\tT=0.86968)\t\n",
      "19\t-2111.2380189441797\t(nu1F=1.98685,\tnu2B=0.6281,\tnu2F=1.1965,\tm=1.45384,\tTp=0.54352,\tT=0.86968)\t\n",
      "20\t-6307.093905715057\t(nu1F=1.98685,\tnu2B=0.6281,\tnu2F=0.08728,\tm=1.45384,\tTp=0.54352,\tT=0.86968)\t\n",
      "21\t-2116.1078046047132\t(nu1F=1.98685,\tnu2B=0.6281,\tnu2F=0.23725,\tm=1.45384,\tTp=0.54352,\tT=0.86968)\t\n",
      "22\t-1297.5281461620343\t(nu1F=1.98685,\tnu2B=0.6281,\tnu2F=0.64492,\tm=1.45384,\tTp=0.54352,\tT=0.86968)\t\n",
      "23\t-1216.4731192580962\t(nu1F=1.98685,\tnu2B=0.6281,\tnu2F=0.50947,\tm=1.45384,\tTp=0.54352,\tT=0.86968)\t\n",
      "24\t-1216.40638111635\t(nu1F=1.98685,\tnu2B=0.6281,\tnu2F=0.50711,\tm=1.45384,\tTp=0.54352,\tT=0.86968)\t\n",
      "25\t-1216.395948956531\t(nu1F=1.98685,\tnu2B=0.6281,\tnu2F=0.50579,\tm=1.45384,\tTp=0.54352,\tT=0.86968)\t\n",
      "26\t-1216.3983018971778\t(nu1F=1.98685,\tnu2B=0.6281,\tnu2F=0.50509,\tm=1.45384,\tTp=0.54352,\tT=0.86968)\t\n",
      "27\t-2816.280367294807\t(nu1F=1.98685,\tnu2B=0.6281,\tnu2F=0.50579,\tm=3.95194,\tTp=0.54352,\tT=0.86968)\t\n",
      "28\t-4413.191785940151\t(nu1F=1.98685,\tnu2B=0.6281,\tnu2F=0.50579,\tm=0.28828,\tTp=0.54352,\tT=0.86968)\t\n"
     ]
    },
    {
     "name": "stdout",
     "output_type": "stream",
     "text": [
      "29\t-1807.5156600216585\t(nu1F=1.98685,\tnu2B=0.6281,\tnu2F=0.50579,\tm=0.78362,\tTp=0.54352,\tT=0.86968)\t\n",
      "30\t-1454.6104282471256\t(nu1F=1.98685,\tnu2B=0.6281,\tnu2F=0.50579,\tm=2.13011,\tTp=0.54352,\tT=0.86968)\t\n",
      "31\t-1216.5164931025915\t(nu1F=1.98685,\tnu2B=0.6281,\tnu2F=0.50579,\tm=1.44462,\tTp=0.54352,\tT=0.86968)\t\n",
      "32\t-1216.3828121502381\t(nu1F=1.98685,\tnu2B=0.6281,\tnu2F=0.50579,\tm=1.45754,\tTp=0.54352,\tT=0.86968)\t\n",
      "33\t-1216.3737651390086\t(nu1F=1.98685,\tnu2B=0.6281,\tnu2F=0.50579,\tm=1.45812,\tTp=0.54352,\tT=0.86968)\t\n",
      "34\t-1251.1253085831238\t(nu1F=1.98685,\tnu2B=0.6281,\tnu2F=0.50579,\tm=1.68526,\tTp=0.54352,\tT=0.86968)\t\n",
      "35\t-1221.4720803645298\t(nu1F=1.98685,\tnu2B=0.6281,\tnu2F=0.50579,\tm=1.54102,\tTp=0.54352,\tT=0.86968)\t\n",
      "36\t-1217.136792008684\t(nu1F=1.98685,\tnu2B=0.6281,\tnu2F=0.50579,\tm=1.48925,\tTp=0.54352,\tT=0.86968)\t\n",
      "37\t-1216.5009769324383\t(nu1F=1.98685,\tnu2B=0.6281,\tnu2F=0.50579,\tm=1.46993,\tTp=0.54352,\tT=0.86968)\t\n",
      "38\t-1216.3868222564906\t(nu1F=1.98685,\tnu2B=0.6281,\tnu2F=0.50579,\tm=1.46262,\tTp=0.54352,\tT=0.86968)\t\n",
      "39\t-1216.3857536100047\t(nu1F=1.98685,\tnu2B=0.6281,\tnu2F=0.50579,\tm=1.45997,\tTp=0.54352,\tT=0.86968)\t\n",
      "40\t-1216.383717663772\t(nu1F=1.98685,\tnu2B=0.6281,\tnu2F=0.50579,\tm=1.45869,\tTp=0.54352,\tT=0.86968)\t\n",
      "41\t-1216.3681534921243\t(nu1F=1.98685,\tnu2B=0.6281,\tnu2F=0.50579,\tm=1.45808,\tTp=0.54352,\tT=0.86968)\t\n",
      "42\t-1216.3797027301853\t(nu1F=1.98685,\tnu2B=0.6281,\tnu2F=0.50579,\tm=1.45786,\tTp=0.54352,\tT=0.86968)\t\n",
      "43\t-1216.3785601896823\t(nu1F=1.98685,\tnu2B=0.6281,\tnu2F=0.50579,\tm=1.45799,\tTp=0.54352,\tT=0.86968)\t\n",
      "44\t-1234.2589240883358\t(nu1F=1.98685,\tnu2B=0.6281,\tnu2F=0.50579,\tm=1.45808,\tTp=1.47745,\tT=0.86968)\t\n",
      "45\t-1207.801950905503\t(nu1F=1.98685,\tnu2B=0.6281,\tnu2F=0.50579,\tm=1.45808,\tTp=0.10777,\tT=0.86968)\t\n",
      "46\t-1208.7540304472927\t(nu1F=1.98685,\tnu2B=0.6281,\tnu2F=0.50579,\tm=1.45808,\tTp=0.13962,\tT=0.86968)\t\n",
      "47\t-1204.217295391792\t(nu1F=1.98685,\tnu2B=0.6281,\tnu2F=0.50579,\tm=1.45808,\tTp=0.00786,\tT=0.86968)\t\n",
      "48\t-1204.4649664537692\t(nu1F=1.98685,\tnu2B=0.6281,\tnu2F=0.50579,\tm=1.45808,\tTp=0.0139,\tT=0.86968)\t\n",
      "49\t-1203.8955946917079\t(nu1F=1.98685,\tnu2B=0.6281,\tnu2F=0.50579,\tm=1.45808,\tTp=0.00011,\tT=0.86968)\t\n",
      "50\t-1203.9239532891347\t(nu1F=1.98685,\tnu2B=0.6281,\tnu2F=0.50579,\tm=1.45808,\tTp=0.00077,\tT=0.86968)\t\n",
      "51\t-1203.8906918264106\t(nu1F=1.98685,\tnu2B=0.6281,\tnu2F=0.50579,\tm=1.45808,\tTp=1.20e-07,\tT=0.86968)\t\n",
      "52\t-1203.8908379423583\t(nu1F=1.98685,\tnu2B=0.6281,\tnu2F=0.50579,\tm=1.45808,\tTp=3.50e-06,\tT=0.86968)\t\n",
      "53\t-1203.8906866459101\t(nu1F=1.98685,\tnu2B=0.6281,\tnu2F=0.50579,\tm=1.45808,\tTp=1.83e-12,\tT=0.86968)\t\n",
      "54\t-1203.890686666229\t(nu1F=1.98685,\tnu2B=0.6281,\tnu2F=0.50579,\tm=1.45808,\tTp=4.66e-10,\tT=0.86968)\t\n",
      "55\t-1203.8906866456591\t(nu1F=1.98685,\tnu2B=0.6281,\tnu2F=0.50579,\tm=1.45808,\tTp=2.95e-20,\tT=0.86968)\t\n",
      "56\t-1203.8906866456623\t(nu1F=1.98685,\tnu2B=0.6281,\tnu2F=0.50579,\tm=1.45808,\tTp=2.32e-16,\tT=0.86968)\t\n",
      "57\t-1203.8906866456587\t(nu1F=1.98685,\tnu2B=0.6281,\tnu2F=0.50579,\tm=1.45808,\tTp=7.25e-33,\tT=0.86968)\t\n",
      "58\t-1203.890686645661\t(nu1F=1.98685,\tnu2B=0.6281,\tnu2F=0.50579,\tm=1.45808,\tTp=1.42e-26,\tT=0.86968)\t\n",
      "59\t-1203.8906866456532\t(nu1F=1.98685,\tnu2B=0.6281,\tnu2F=0.50579,\tm=1.45808,\tTp=2.79e-17,\tT=0.86968)\t\n",
      "60\t-1203.8906866456578\t(nu1F=1.98685,\tnu2B=0.6281,\tnu2F=0.50579,\tm=1.45808,\tTp=1.93e-15,\tT=0.86968)\t\n",
      "61\t-1203.8906866456591\t(nu1F=1.98685,\tnu2B=0.6281,\tnu2F=0.50579,\tm=1.45808,\tTp=1.07e-17,\tT=0.86968)\t\n",
      "62\t-1203.890686645661\t(nu1F=1.98685,\tnu2B=0.6281,\tnu2F=0.50579,\tm=1.45808,\tTp=1.58e-16,\tT=0.86968)\t\n",
      "63\t-1203.8906866456591\t(nu1F=1.98685,\tnu2B=0.6281,\tnu2F=0.50579,\tm=1.45808,\tTp=5.42e-17,\tT=0.86968)\t\n",
      "64\t-1203.8906866456587\t(nu1F=1.98685,\tnu2B=0.6281,\tnu2F=0.50579,\tm=1.45808,\tTp=1.92e-17,\tT=0.86968)\t\n",
      "65\t-1246.5689058605644\t(nu1F=1.98685,\tnu2B=0.6281,\tnu2F=0.50579,\tm=1.45808,\tTp=2.79e-17,\tT=2.36404)\t\n",
      "66\t-1565.1957441363834\t(nu1F=1.98685,\tnu2B=0.6281,\tnu2F=0.50579,\tm=1.45808,\tTp=2.79e-17,\tT=0.17245)\t\n",
      "67\t-1184.6639581710049\t(nu1F=1.98685,\tnu2B=0.6281,\tnu2F=0.50579,\tm=1.45808,\tTp=2.79e-17,\tT=0.46876)\t\n",
      "68\t-1219.6162433763666\t(nu1F=1.98685,\tnu2B=0.6281,\tnu2F=0.50579,\tm=1.45808,\tTp=2.79e-17,\tT=0.31994)\t\n",
      "69\t-1186.4370918740005\t(nu1F=1.98685,\tnu2B=0.6281,\tnu2F=0.50579,\tm=1.45808,\tTp=2.79e-17,\tT=0.56242)\t\n",
      "70\t-1184.7607271707827\t(nu1F=1.98685,\tnu2B=0.6281,\tnu2F=0.50579,\tm=1.45808,\tTp=2.79e-17,\tT=0.46495)\t\n",
      "71\t-1184.4456559875418\t(nu1F=1.98685,\tnu2B=0.6281,\tnu2F=0.50579,\tm=1.45808,\tTp=2.79e-17,\tT=0.49189)\t\n",
      "72\t-1184.8114774728335\t(nu1F=1.98685,\tnu2B=0.6281,\tnu2F=0.50579,\tm=1.45808,\tTp=2.79e-17,\tT=0.51772)\t\n",
      "73\t-1184.4413687280955\t(nu1F=1.98685,\tnu2B=0.6281,\tnu2F=0.50579,\tm=1.45808,\tTp=2.79e-17,\tT=0.48864)\t\n",
      "74\t-1184.446161555542\t(nu1F=1.98685,\tnu2B=0.6281,\tnu2F=0.50579,\tm=1.45808,\tTp=2.79e-17,\tT=0.48583)\t\n",
      "--Finish local optimization optimize_log_powell--\n",
      "Result:\n",
      "   status: 2\n",
      " success: False\n",
      " message: GLOBAL OPTIMIZATION: OPTIMIZATION IS NOT STOPPED; LOCAL OPTIMIZATION: Maximum number of iterations has been exceeded.\n",
      "       x: [1.9868528725580605 0.6281033050618842 0.5057936159267086\n",
      " 1.4580765859361928 2.7945929091077765e-17 0.4886353404838611]\n",
      "       y: -1184.4413687280955\n",
      "  n_eval: 228\n",
      "  n_iter: 11\n",
      "\n",
      "Finshed optimization **************************************************\n"
     ]
    }
   ],
   "source": [
    "# Now let's optimize parameters for this model.\n",
    "\n",
    "# The upper_bound and lower_bound lists are for use in optimization.\n",
    "# Occasionally the optimizer will try wacky parameter values. We in particular\n",
    "# want to exclude values with very long times, very small population sizes, or\n",
    "# very high migration rates, as they will take a long time to evaluate.\n",
    "# Parameters are: (nu1F, nu2B, nu2F, m, Tp, T)\n",
    "par_labels = ('nu1F', 'nu2B', 'nu2F', 'm', 'Tp', 'T')\n",
    "upper_bound = [100, 100, 100, 10, 3, 3]\n",
    "lower_bound = [1e-2, 1e-2, 1e-2, 0, 0, 0]\n",
    "\n",
    "# Make the extrapolating version of our demographic model function.\n",
    "func_ex = dadi.Numerics.make_extrap_log_func(func)\n",
    "\n",
    "# Run our optimization\n",
    "# For more information: help(gadma.Inference.optimize_ga)\n",
    "# It is test optimization so only 10 iterations of global optimization\n",
    "# (ga_maxiter) and 1 iteration of local (ls_maxiter) are run.\n",
    "# For better optimization set those number to greater values or to None.\n",
    "print('Beginning optimization ************************************************')\n",
    "result = gadma.Inference.optimize_ga(data=data,\n",
    "                                     model_func=func_ex,\n",
    "                                     engine='dadi',\n",
    "                                     args=(pts,),\n",
    "                                     p_ids = par_labels,\n",
    "                                     lower_bound=lower_bound,\n",
    "                                     upper_bound=upper_bound,\n",
    "                                     local_optimizer='Powell_log',\n",
    "                                     ga_maxiter=10,\n",
    "                                     ls_maxiter=1)\n",
    "print('Finshed optimization **************************************************')"
   ]
  },
  {
   "cell_type": "code",
   "execution_count": 9,
   "metadata": {},
   "outputs": [
    {
     "name": "stdout",
     "output_type": "stream",
     "text": [
      "Found parameters: [1.9868528725580605 0.6281033050618842 0.5057936159267086\n",
      " 1.4580765859361928 2.7945929091077765e-17 0.4886353404838611]\n",
      "With log-likelihood: -1184.4413687280955\n",
      "\n",
      "From Gutenkunst et al 2009:\n",
      "Best-fit parameters: [1.881, 0.071, 1.845, 0.911, 0.355, 0.111]\n",
      "Maximum log composite likelihood: -1066.3460755934125\n",
      "Optimal value of theta: 2749.285796480555\n"
     ]
    }
   ],
   "source": [
    "popt = result.x\n",
    "print(f'Found parameters: {popt}')\n",
    "print(f'With log-likelihood: {result.y}')\n",
    "\n",
    "# Now we can compare our parameters with those that were obtained before:\n",
    "print('\\nFrom Gutenkunst et al 2009:')\n",
    "# These are the actual best-fit model parameters, which we found through\n",
    "# longer optimizations and confirmed by running multiple optimizations.\n",
    "# We'll work with them through the rest of this script. \n",
    "popt = [1.881, 0.0710, 1.845, 0.911, 0.355, 0.111]\n",
    "print('Best-fit parameters: {0}'.format(popt))\n",
    "\n",
    "# Calculate the best-fit model AFS.\n",
    "model = func_ex(popt, ns, pts)\n",
    "# Likelihood of the data given the model AFS.\n",
    "ll_model = dadi.Inference.ll_multinom(model, data)\n",
    "print('Maximum log composite likelihood: {0}'.format(ll_model))\n",
    "# The optimal value of theta given the model.\n",
    "theta = dadi.Inference.optimal_sfs_scaling(model, data)\n",
    "print('Optimal value of theta: {0}'.format(theta))"
   ]
  },
  {
   "cell_type": "markdown",
   "metadata": {},
   "source": [
    "## Plotting\n",
    "\n",
    "Now we could draw some plots for model with best parameters."
   ]
  },
  {
   "cell_type": "code",
   "execution_count": 10,
   "metadata": {
    "scrolled": true
   },
   "outputs": [
    {
     "data": {
      "image/png": "[encoded data removed]",
      "text/plain": [
       "<Figure size 432x288 with 6 Axes>"
      ]
     },
     "metadata": {
      "needs_background": "light"
     },
     "output_type": "display_data"
    }
   ],
   "source": [
    "# Plot a comparison of the resulting fs with the data.\n",
    "import pylab\n",
    "pylab.figure(1)\n",
    "dadi.Plotting.plot_2d_comp_multinom(model, data, vmin=1, resid_range=3,\n",
    "                                    pop_ids =('YRI','CEU'), show=True)"
   ]
  },
  {
   "cell_type": "code",
   "execution_count": null,
   "metadata": {},
   "outputs": [],
   "source": []
  }
 ],
 "metadata": {
  "kernelspec": {
   "display_name": "Python 3",
   "language": "python",
   "name": "python3"
  },
  "language_info": {
   "codemirror_mode": {
    "name": "ipython",
    "version": 3
   },
   "file_extension": ".py",
   "mimetype": "text/x-python",
   "name": "python",
   "nbconvert_exporter": "python",
   "pygments_lexer": "ipython3",
   "version": "3.6.9"
  }
 },
 "nbformat": 4,
 "nbformat_minor": 4
}
