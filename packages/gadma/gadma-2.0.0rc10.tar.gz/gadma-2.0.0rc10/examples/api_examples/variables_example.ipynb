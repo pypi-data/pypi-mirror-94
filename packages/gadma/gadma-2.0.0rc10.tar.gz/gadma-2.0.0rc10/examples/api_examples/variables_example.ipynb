{
 "cells": [
  {
   "cell_type": "markdown",
   "metadata": {},
   "source": [
    "# Variables\n",
    "\n",
    "GADMA has several variable classes in ``gadma.utils`` for different types of variables. Variables are used in models and for optimization runs. Base classes are:\n",
    "   \n",
    "* ``ContinuousVariable`` -  continuous variables.\n",
    "* ``DiscreteVariable`` - variable with discrete domain.\n",
    "\n",
    "To create object one should set ``name``, ``domain`` and reand_gen (optional):"
   ]
  },
  {
   "cell_type": "code",
   "execution_count": 1,
   "metadata": {},
   "outputs": [],
   "source": [
    "from gadma import *\n",
    "\n",
    "cont_var = ContinuousVariable('var_name', domain=[-1, 1])\n",
    "\n",
    "rand_gen = lambda domain: np.random.choice(domain)\n",
    "disc_var = DiscreteVariable('some_var', domain=['one', 'two', 'three'], rand_gen=rand_gen)"
   ]
  },
  {
   "cell_type": "markdown",
   "metadata": {},
   "source": [
    "Every variable also has random generator for its valuesa and ``get_possible_values``, ``get_bounds`` methods.\n"
   ]
  },
  {
   "cell_type": "code",
   "execution_count": 2,
   "metadata": {},
   "outputs": [
    {
     "name": "stdout",
     "output_type": "stream",
     "text": [
      "Random value of cont_var: 0.8983341063764418\n",
      "Random value of cont_var: two\n"
     ]
    }
   ],
   "source": [
    "print(f\"Random value of cont_var: {cont_var.resample()}\")\n",
    "print(f\"Random value of cont_var: {disc_var.resample()}\")"
   ]
  },
  {
   "cell_type": "markdown",
   "metadata": {},
   "source": [
    "There are also special set of variables for demographic parameters with specified default domain and special random generators:\n",
    "\n",
    "* ``PopulationSizeVariable`` - variable for holding populations size.\n",
    "* ``TimeVariable`` - variable for holding time migration rate.\n",
    "* ``MigrationVariable`` - variable for holding time.\n",
    "* ``SelectionVariable`` - variable for holding selection.\n",
    "* ``FractionVariable`` - variable for holding fraction.\n",
    "* ``DynamicVariable`` - variable for holding dynamic of size change.\n",
    "\n",
    "The last variable class is discrete variable class."
   ]
  },
  {
   "cell_type": "code",
   "execution_count": 3,
   "metadata": {},
   "outputs": [
    {
     "name": "stdout",
     "output_type": "stream",
     "text": [
      "Domain of PopulationSizeVariable: [1.e-02 1.e+02]\n",
      "Domain of TimeVariable: [1.e-15 5.e+00]\n",
      "Domain of MigrationVariable: [ 0 10]\n",
      "Domain of SelectionVariable: [1.e-15 1.e+01]\n",
      "Domain of FractionVariable: [0.001 0.999]\n",
      "Domain of DynamicVariable: ['Sud' 'Lin' 'Exp']\n"
     ]
    }
   ],
   "source": [
    "nu = PopulationSizeVariable(\"nu\")\n",
    "t = TimeVariable(\"t\")\n",
    "m = MigrationVariable(\"m\")\n",
    "g = SelectionVariable(\"g\")\n",
    "f = FractionVariable(\"f\")\n",
    "d = DynamicVariable(\"d\")\n",
    "\n",
    "print(f\"Domain of PopulationSizeVariable: {nu.domain}\")\n",
    "print(f\"Domain of TimeVariable: {t.domain}\")\n",
    "print(f\"Domain of MigrationVariable: {m.domain}\")\n",
    "print(f\"Domain of SelectionVariable: {g.domain}\")\n",
    "print(f\"Domain of FractionVariable: {f.domain}\")\n",
    "print(f\"Domain of DynamicVariable: {d.domain}\")"
   ]
  },
  {
   "cell_type": "markdown",
   "metadata": {},
   "source": [
    "**Variables pool**\n",
    "\n",
    "There is a special class for keeping list of unique variables. All variables in variable pool should have different names otherwise there will be an error."
   ]
  },
  {
   "cell_type": "code",
   "execution_count": 4,
   "metadata": {},
   "outputs": [
    {
     "name": "stdout",
     "output_type": "stream",
     "text": [
      "Variable pool from variables with unique names was created\n",
      "Variable pool was not updates as there is the variable with the same name:\n",
      " VariablePool has already a Variable with the same name (nu).\n"
     ]
    }
   ],
   "source": [
    "# Create variables for pool\n",
    "nu = PopulationSizeVariable(\"nu\")\n",
    "same_nu = PopulationSizeVariable(\"nu\")\n",
    "t = TimeVariable(\"t\")\n",
    "\n",
    "# create pool from unique variables\n",
    "pool = VariablePool([nu, t])\n",
    "print(\"Variable pool from variables with unique names was created\")\n",
    "\n",
    "try:\n",
    "    pool.append(same_nu)\n",
    "except NameError as e:\n",
    "    print(\"Variable pool was not updates as there is the variable with the same name:\\n\", e)\n"
   ]
  },
  {
   "cell_type": "code",
   "execution_count": null,
   "metadata": {},
   "outputs": [],
   "source": []
  }
 ],
 "metadata": {
  "kernelspec": {
   "display_name": "Python 3",
   "language": "python",
   "name": "python3"
  },
  "language_info": {
   "codemirror_mode": {
    "name": "ipython",
    "version": 3
   },
   "file_extension": ".py",
   "mimetype": "text/x-python",
   "name": "python",
   "nbconvert_exporter": "python",
   "pygments_lexer": "ipython3",
   "version": "3.6.9"
  }
 },
 "nbformat": 4,
 "nbformat_minor": 4
}
