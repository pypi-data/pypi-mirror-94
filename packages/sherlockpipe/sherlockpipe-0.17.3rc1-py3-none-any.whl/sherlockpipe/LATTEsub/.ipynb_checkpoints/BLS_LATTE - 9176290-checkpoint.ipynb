{
 "cells": [
  {
   "cell_type": "code",
   "execution_count": 1,
   "metadata": {
    "collapsed": false
   },
   "outputs": [],
   "source": [
    "from __future__ import print_function, absolute_import, division\n",
    "%matplotlib inline\n",
    "import numpy as np\n",
    "import matplotlib.pyplot as plt\n",
    "import astropy.io.fits as pf\n",
    "from glob import glob\n",
    "import pandas as pd\n",
    "from matplotlib import cm\n",
    "import math\n",
    "from matplotlib.ticker import AutoMinorLocator\n",
    "from matplotlib.ticker import FormatStrFormatter\n",
    "from lightkurve import TessTargetPixelFile\n",
    "import requests\n",
    "from astropy.stats import LombScargle\n",
    "from scipy.signal import medfilt\n",
    "\n",
    "\n",
    "from sklearn.decomposition import PCA\n",
    "import scipy\n",
    "from mpl_toolkits.axes_grid1 import make_axes_locatable, axes_size\n",
    "import batman\n",
    "\n",
    "from astropy.stats import BoxLeastSquares as bls\n",
    "import seaborn as sns\n",
    "sns.set_style('white')\n",
    "sns.set_context('notebook')\n",
    "import requests\n"
   ]
  },
  {
   "cell_type": "code",
   "execution_count": 4,
   "metadata": {
    "collapsed": true
   },
   "outputs": [],
   "source": [
    "import LATTEutils as lu\n",
    "import filters\n",
    "import norm"
   ]
  },
  {
   "cell_type": "code",
   "execution_count": 7,
   "metadata": {
    "collapsed": false
   },
   "outputs": [],
   "source": [
    "indir = \"/Users/Nora/Documents/research/TESS/planethunters/LATTE\"  # CHANGE THIS"
   ]
  },
  {
   "cell_type": "code",
   "execution_count": 8,
   "metadata": {
    "collapsed": false
   },
   "outputs": [],
   "source": [
    "tic = 198390247 #tic = 284903291  \n",
    "\n",
    "sectors = lu.tess_point(indir, tic) # returns all of the sectors in which TESS observed the given TIC id"
   ]
  },
  {
   "cell_type": "code",
   "execution_count": 10,
   "metadata": {
    "collapsed": false
   },
   "outputs": [
    {
     "name": "stdout",
     "output_type": "stream",
     "text": [
      "In the future, this TIC 198390247 will be observed in sector(s) [17, 18, 19, 20, 21, 22, 23, 24, 25, 26]\n"
     ]
    }
   ],
   "source": [
    "alltime, allflux, allflux_err, allline, alltimebinned, allfluxbinned, allx1, allx2, ally1, ally2, alltime12, allfbkg, start_sec, end_sec, in_sec, tessmag, teff, srad = lu.download_data(indir, sectors, tic)\n"
   ]
  },
  {
   "cell_type": "code",
   "execution_count": 14,
   "metadata": {
    "collapsed": false
   },
   "outputs": [],
   "source": [
    "l = np.isfinite(np.array(alltimebinned)) * np.isfinite(np.array(allfluxbinned))\n",
    "\n",
    "BLS = bls(np.array(alltimebinned)[l],np.array(allfluxbinned)[l])\n",
    "\n",
    "def mad(data):\n",
    "    return np.median(np.absolute(data - np.median(data)))\n",
    "\n",
    "durations = np.linspace(0.005, 0.2, 15)\n",
    "\n",
    "results = BLS.autopower(durations, frequency_factor = 5, minimum_n_transit=2, minimum_period =1, maximum_period=90, objective = 'snr')\n"
   ]
  },
  {
   "cell_type": "code",
   "execution_count": 15,
   "metadata": {
    "collapsed": false
   },
   "outputs": [
    {
     "name": "stdout",
     "output_type": "stream",
     "text": [
      "22.818597861298496\n"
     ]
    }
   ],
   "source": [
    "index_max = np.argmax(results.depth_snr)\n",
    "t0_rec = results.transit_time[index_max]\n",
    "duration_rec = results.duration[index_max]\n",
    "\n",
    "# the Signal Residual\n",
    "SR = results.depth_snr\n",
    "\n",
    "maxpower = np.max(results.depth_snr)\n",
    "maxdepth = np.max(results.depth)\n",
    "#maxpower = np.max(results.power)\n",
    " \n",
    "# filter the SR in order to only use the data within one frequency day\n",
    "peak_idx = list(SR).index(np.max(SR))  # find the index of the max peak in the SR\n",
    "\n",
    "period = results.period             # period\n",
    "frequency = 1./period \n",
    "freq_peak = frequency[peak_idx]     # frequency at the peak SR\n",
    "per_peak = period[peak_idx]         # period at the peak SR\n",
    "\n",
    "p = SR\n",
    "mpow = np.max(p)         # maximum SR\n",
    "\n",
    "\n",
    "sde2 = (mpow - np.nanmedian(SR))/(mad(SR) * np.sqrt(2)) # signal detection efficiency\n",
    "\n",
    "sde = (mpow - np.nanmedian(p))/(mad(p) * np.sqrt(2)) # signal detection efficiency\n",
    "\n",
    "print (sde)"
   ]
  },
  {
   "cell_type": "code",
   "execution_count": 16,
   "metadata": {
    "collapsed": false
   },
   "outputs": [
    {
     "data": {
      "text/plain": [
       "[<matplotlib.lines.Line2D at 0x1c25a0a5c0>]"
      ]
     },
     "execution_count": 16,
     "metadata": {},
     "output_type": "execute_result"
    },
    {
     "data": {
      "image/png": "[encoded data removed]",
      "text/plain": [
       "<Figure size 432x288 with 1 Axes>"
      ]
     },
     "metadata": {},
     "output_type": "display_data"
    }
   ],
   "source": [
    "plt.plot(period, SR)"
   ]
  },
  {
   "cell_type": "code",
   "execution_count": null,
   "metadata": {
    "collapsed": true
   },
   "outputs": [],
   "source": []
  }
 ],
 "metadata": {
  "anaconda-cloud": {},
  "kernelspec": {
   "display_name": "Python [conda env:astroconda]",
   "language": "python",
   "name": "conda-env-astroconda-py"
  },
  "language_info": {
   "codemirror_mode": {
    "name": "ipython",
    "version": 3
   },
   "file_extension": ".py",
   "mimetype": "text/x-python",
   "name": "python",
   "nbconvert_exporter": "python",
   "pygments_lexer": "ipython3",
   "version": "3.7.2"
  }
 },
 "nbformat": 4,
 "nbformat_minor": 1
}
