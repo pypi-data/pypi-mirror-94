{
 "cells": [
  {
   "cell_type": "markdown",
   "metadata": {},
   "source": [
    "# Lightcurve Analysis Tool for Transiting Exoplanets (LATTE)"
   ]
  },
  {
   "cell_type": "code",
   "execution_count": 1,
   "metadata": {
    "collapsed": false
   },
   "outputs": [],
   "source": [
    "#import all the modules that we need for the analysis\n",
    "from __future__ import print_function, absolute_import, division\n",
    "%matplotlib inline\n",
    "\n",
    "#imports\n",
    "import os\n",
    "import requests\n",
    "import numpy as np\n",
    "import pandas as pd\n",
    "import seaborn as sb\n",
    "import astropy.io.fits as pf\n",
    "import matplotlib.pyplot as plt\n",
    "\n",
    "#froms from standards\n",
    "import astropy\n",
    "from glob import glob\n",
    "from astropy.wcs import WCS\n",
    "from astropy.io import fits\n",
    "from matplotlib import cm\n",
    "from scipy.signal import medfilt\n",
    "from matplotlib.ticker import AutoMinorLocator\n",
    "from matplotlib.ticker import FormatStrFormatter\n",
    "\n",
    "#froms from non-standards\n",
    "from astroquery.mast import Catalogs\n",
    "from lightkurve import TessTargetPixelFile\n",
    "from tess_stars2px import tess_stars2px_function_entry\n",
    "from ipywidgets import interact, interactive, fixed, interact_manual\n",
    "import ipywidgets as widgets\n",
    "# custom modules to import\n",
    "import LATTEutils as lu\n",
    "\n",
    "import warnings\n",
    "warnings.filterwarnings('ignore')"
   ]
  },
  {
   "cell_type": "markdown",
   "metadata": {},
   "source": [
    "In order for this to work, you first need to download the LC and TP master files from MAST which contain the URLS to download the files that you want to look at. \n",
    "https://archive.stsci.edu/tess/bulk_downloads/bulk_downloads_ffi-tp-lc-dv.html"
   ]
  },
  {
   "cell_type": "markdown",
   "metadata": {},
   "source": [
    "First, enter where you want to store this file on your local computer:"
   ]
  },
  {
   "cell_type": "code",
   "execution_count": 2,
   "metadata": {
    "collapsed": true
   },
   "outputs": [],
   "source": [
    "indir = \"/Users/Nora/Documents/research/TESS/planethunters/LATTE\"  # CHANGE THIS"
   ]
  },
  {
   "cell_type": "code",
   "execution_count": null,
   "metadata": {
    "collapsed": true
   },
   "outputs": [],
   "source": [
    "# Only run this if new data file are available - happens roughyl once a month\n",
    "\n",
    "# lu.data_files(indir)"
   ]
  },
  {
   "cell_type": "markdown",
   "metadata": {},
   "source": [
    "You have now imported all the data that you need. \n",
    "\n",
    "Now define the tic that you want to be looking at and in which sector. If you want to look at all of the sectors and not just one (if observed in mutliple) write 'all' in the sector part - but note that running all of them takes a while to run."
   ]
  },
  {
   "cell_type": "code",
   "execution_count": null,
   "metadata": {
    "collapsed": false
   },
   "outputs": [],
   "source": [
    "tic = 382188882 #tic = 284903291  \n",
    "\n",
    "sectors = lu.tess_point(indir, tic) # returns all of the sectors in which TESS observed the given TIC id"
   ]
  },
  {
   "cell_type": "code",
   "execution_count": null,
   "metadata": {
    "collapsed": false
   },
   "outputs": [],
   "source": [
    "alltime, allflux, allflux_err, allline, alltimebinned, allfluxbinned, allx1, allx2, ally1, ally2, alltime12, allfbkg, start_sec, end_sec, in_sec, tessmag, teff, srad = lu.download_data(indir, sectors, tic)\n"
   ]
  },
  {
   "cell_type": "code",
   "execution_count": null,
   "metadata": {
    "collapsed": true
   },
   "outputs": [],
   "source": [
    "if sectors == 'all':\n",
    "    print (\"This object is observed in sector(s): {}\".format(in_sec))"
   ]
  },
  {
   "cell_type": "markdown",
   "metadata": {},
   "source": [
    "You now have all the data and can start plotting it to see what's going on. "
   ]
  },
  {
   "cell_type": "code",
   "execution_count": null,
   "metadata": {
    "collapsed": false
   },
   "outputs": [],
   "source": [
    "#interact(transit_finder, transit=widgets.IntSlider(min=1425,max=1560,step=0.01,value=10))\n",
    "\n",
    "# if you want to use the default axis scales, leave these to say 'None', otherwise enter them manually\n",
    "flux_min = None\n",
    "flux_max = None\n",
    "\n",
    "interact(lu.transit_finder, transit=(np.nanmin(alltime),np.nanmax(alltime),1), alltime = fixed(alltime), allline = fixed(allline), allflux = fixed(allflux),alltimebinned = fixed(alltimebinned), allfluxbinned = fixed(allfluxbinned), start_sec = fixed(start_sec), end_sec = fixed(end_sec), flux_min = fixed(flux_min), flux_max = fixed(flux_max)) "
   ]
  },
  {
   "cell_type": "code",
   "execution_count": null,
   "metadata": {
    "collapsed": true
   },
   "outputs": [],
   "source": [
    "#for p in peak_list:\n",
    "#    if (p < np.nanmin(alltime)) or (p > np.nanmax(alltime)):\n",
    "#        print (\"STOP, you need to enter the new transit position\")"
   ]
  },
  {
   "cell_type": "code",
   "execution_count": null,
   "metadata": {
    "collapsed": false,
    "scrolled": false
   },
   "outputs": [],
   "source": [
    "peak_list = [1333.07, 1335.04]\n",
    "\n",
    "peak_sec = lu.peak_sec(in_sec,start_sec, end_sec, peak_list)\n",
    "\n",
    "lu.plot_centroid(alltime12, allx1, ally1, allx2, ally2, peak_list)\n",
    "lu.plot_background(alltime, allfbkg, peak_list)"
   ]
  },
  {
   "cell_type": "code",
   "execution_count": null,
   "metadata": {
    "collapsed": false
   },
   "outputs": [],
   "source": [
    "# aperture size test\n",
    "TESS_unbinned_t_l, TESS_binned_t_l, small_binned_t_l, TESS_unbinned_l, TESS_binned_l, small_binned_l = lu.tpf_data(indir, sectors, tic)\n"
   ]
  },
  {
   "cell_type": "code",
   "execution_count": null,
   "metadata": {
    "collapsed": false
   },
   "outputs": [],
   "source": [
    "lu.plot_aperturesize(tic,TESS_unbinned_t_l, TESS_binned_t_l, small_binned_t_l, TESS_unbinned_l, TESS_binned_l, small_binned_l, peak_list)\n",
    "\n",
    "# nearby stars\n",
    "lu.nn_files(indir,in_sec)\n",
    "ticids = lu.nn_ticids(indir, peak_sec, tic)\n",
    "alltime_nn, allflux_nn, allline_nn, alltimebinned_nn, allfluxbinned_nn,outtics = lu.download_data_neighbours(indir, peak_sec[0], ticids)\n",
    "lu.plot_nn(alltime_nn, allflux_nn, alltimebinned_nn, allfluxbinned_nn, peak_list, outtics)\n",
    "\n",
    "# nearby stars\n",
    "lu.TESS_stars(indir, tic,peak_list, peak_sec)"
   ]
  },
  {
   "cell_type": "code",
   "execution_count": null,
   "metadata": {
    "collapsed": true
   },
   "outputs": [],
   "source": []
  },
  {
   "cell_type": "code",
   "execution_count": null,
   "metadata": {
    "collapsed": false
   },
   "outputs": [],
   "source": [
    "try:\n",
    "    period = peak_list[1] - peak_list[0]\n",
    "    t0 = peak_list[0]\n",
    "    \n",
    "    print(period)\n",
    "    print (t0)\n",
    "    \n",
    "    fig, ax = plt.subplots(figsize=(10,6))\n",
    "    phased = np.array([-0.5+( ( t - t0-0.5*period) % period) / period for t in alltimebinned])\n",
    "    \n",
    "    ax.plot(phased, allfluxbinned,marker='o',color = 'k', alpha = 0.9, lw = 0, markersize = 1, label = 'binning = 7', markerfacecolor='k')\n",
    "except:\n",
    "    print (\"only one transit marked - therefore can't be phase folded\")"
   ]
  },
  {
   "cell_type": "code",
   "execution_count": null,
   "metadata": {
    "collapsed": true
   },
   "outputs": [],
   "source": [
    "def plot_nn(alltime_nn,allflux_nn,peak_list, outtics):\n",
    "\n",
    "    \n",
    "    fig, ax = plt.subplots(len(alltime_nn), 1, figsize=(15,10), sharex=True, gridspec_kw={'hspace': 0})\n",
    "    plt.tight_layout()\n",
    "\n",
    "    colors = ['r', 'darkorange', 'gold', 'seagreen', 'royalblue', 'navy','magenta' ]\n",
    "    for i in range(0,len(alltime_nn)):\n",
    "    \n",
    "        for line in (peak_list):\n",
    "            ax[i].axvline(line, color = 'k', linewidth = 2.2, alpha = 1, linestyle = '-')\n",
    "            \n",
    "        ax[i].plot(alltime_nn[i], np.array(allflux_nn[i]), color = colors[i], label = outtics[i], marker = '.', linewidth = 0)\n",
    "        ax[i].legend(loc = 1)\n",
    "    \n",
    "    ax[0].set_title(\"LCs of Nearby Stars\")\n",
    "    ax[len(alltime_nn) - 1].set_xlabel(\"Time\")\n",
    "    ax[int(len(alltime_nn)/2)].set_ylabel(\"Flux\")\n",
    "    plt.show()\n",
    "    "
   ]
  },
  {
   "cell_type": "code",
   "execution_count": null,
   "metadata": {
    "collapsed": false
   },
   "outputs": [],
   "source": [
    "plot_nn(alltime_nn,allflux_nn,peak_list, outtics)"
   ]
  },
  {
   "cell_type": "code",
   "execution_count": null,
   "metadata": {
    "collapsed": false
   },
   "outputs": [],
   "source": [
    "print (peak_list)"
   ]
  },
  {
   "cell_type": "code",
   "execution_count": null,
   "metadata": {
    "collapsed": false
   },
   "outputs": [],
   "source": []
  },
  {
   "cell_type": "code",
   "execution_count": null,
   "metadata": {
    "collapsed": false
   },
   "outputs": [],
   "source": [
    "X1_list, X4_list, oot_list, intr_list, bkg, apmask_list,arrshape_list, t_list, peak_list = lu.download_data_tpf(indir, peak_sec, peak_list, tic)\n",
    "lu.pixel_level_LC(X1_list, X4_list, oot_list, intr_list, bkg, apmask_list,arrshape_list, t_list,peak_list)"
   ]
  },
  {
   "cell_type": "code",
   "execution_count": null,
   "metadata": {
    "collapsed": false
   },
   "outputs": [],
   "source": [
    "def plot_apsizetest(X1_list, X4_list, oot_list, intr_list, bkg, apmask_list,arrshape_list, t_list, peak_list):\n",
    "    \n",
    "    gs = len(peak_list)\n",
    "\n",
    "    if gs == 1:\n",
    "\n",
    "        plt.figure(figsize=(7,6))\n",
    "        plt.tight_layout()\n",
    "        \n",
    "        for g,peak in enumerate(peak_list):\n",
    "\n",
    "            mapimg = apmask_list[g]\n",
    "            X4 = X4_list[g]\n",
    "            oot = oot_list[g]\n",
    "            intr = intr_list[g]\n",
    "            bkg = bkg_list[g]\n",
    "            apmask = apmask_list[g]\n",
    "            arrshape = arrshape_list[g]\n",
    "            t = t_list[g]\n",
    "            peak = peak_list[g]\n",
    "            \n",
    "            tess_mask = mapimg\n",
    "            \n",
    "            smallmask = np.zeros(arrshape[1:], dtype=np.int)\n",
    "            smallmask[i,j] = 1\n",
    "            smallmask = apmask.astype(bool)\n",
    "            \n",
    "            flux = X1[:,apmask.flatten()].sum(axis=1)\n",
    "    \n",
    "            m = np.nanmedian(flux[oot])\n",
    "            \n",
    "            normalizedflux = flux/m\n",
    "            \n",
    "            \n",
    "            mask_TESS = (np.array(t) < peak+0.7) & (np.array(t) > peak-0.7)\n",
    "            mask_small = (np.array(t) < peak+0.7) & (np.array(t) > peak-0.7)\n",
    "            \n",
    "            \n",
    "            # binning \n",
    "            N       = len(time)\n",
    "            n       = int(np.floor(N/binfac)*binfac)\n",
    "            X       = np.zeros((2,n))\n",
    "            X[0,:]  = time[:n]\n",
    "            X[1,:]  = f1[:n]\n",
    "            Xb      = rebin(X, (2,int(n/binfac)))\n",
    "            \n",
    "            time_binned    = Xb[0]\n",
    "            flux_binned    = Xb[1]            \n",
    "        \n",
    "            \n",
    "        \n",
    "\n",
    "            minf = np.nanmin(np.array(TESS_unbinned_l)[mask_unb])\n",
    "            maxf = np.nanmax(np.array(TESS_unbinned_l)[mask_unb])\n",
    "            height = maxf - minf\n",
    "            \n",
    "            \n",
    "            plt.scatter(TESS_unbinned_t_l, TESS_unbinned_l, s = 3, marker = 's',alpha = 0.4, color = 'black', label = 'TESS unbinned')\n",
    "            plt.scatter(TESS_binned_t_l, TESS_binned_l, s = 11,  marker = 'o', alpha = 1, color = 'blue', label = 'TESS ap')\n",
    "            plt.scatter(small_binned_t_l, small_binned_l, s = 12, marker = '>', alpha =1, color = 'red', label = 'Small ap')\n",
    "          \n",
    "            plt.title(\"Detrended LC with various aperture sizes for TIC {}\".format(tic), fontsize = 12)\n",
    "            plt.tick_params(axis=\"y\",direction=\"inout\", labelsize = 12) #, pad= -20)\n",
    "            plt.tick_params(axis=\"x\",direction=\"inout\", labelsize = 12) #, pad= -17)   \n",
    "            plt.tick_params(axis='both', length = 7, left='on', top='on', right='on', bottom='on')\n",
    "            \n",
    "            #plt.plot(np.array(alltime)[mask_dd], np.array(allfbkg)[mask_dd], 'o', markersize = 2, color = 'blue', alpha = 0.7,label='centroid', markerfacecolor='white')\n",
    "            plt.xlim(peak-0.7, peak+0.7)\n",
    "            plt.axvline(peak, color = 'orange', linestyle = '--')\n",
    "            plt.ylim(minf,maxf)\n",
    "            plt.xlabel('Time (BJD-2457000)')\n",
    "            plt.title('Aperture Size Test, Transit {}'.format(g+1), fontsize = 12)\n",
    "\n",
    "            \n",
    "            \n",
    "\n",
    "        \n",
    "        \n",
    "        \n",
    "        \n",
    "\n",
    "        for transit in peak_list:\n",
    "            plt.axvline(transit, color = 'orange', linestyle = '--', linewidth = 2)\n",
    "            \n",
    "        plt.legend(fontsize = 13)\n",
    "            \n",
    "        plt.show()\n",
    "    \n",
    "    else:   \n",
    "        plt.figure(figsize=(6,4))\n",
    "\n",
    "        for g,peak in enumerate(peak_list):\n",
    "    \n",
    "            mask_unb = (np.array(TESS_unbinned_t_l) < peak+0.5) & (np.array(TESS_unbinned_t_l) > peak-0.5)\n",
    "            mask_bin = (np.array(TESS_binned_t_l) < peak+0.5) & (np.array(TESS_binned_t_l) > peak-0.5)\n",
    "            mask_small = (np.array(small_binned_t_l) < peak+0.5) & (np.array(small_binned_t_l) > peak-0.5)\n",
    "    \n",
    "            if np.sum(mask_unb) != 0:\n",
    "    \n",
    "\n",
    "                minf = np.nanmin(np.array(TESS_unbinned_l)[mask_unb])\n",
    "                maxf = np.nanmax(np.array(TESS_unbinned_l)[mask_unb])\n",
    "    \n",
    "                height = maxf - minf\n",
    "    \n",
    "                plt.subplot(2,gs,g+1)\n",
    "    \n",
    "                plt.scatter(TESS_unbinned_t_l, TESS_unbinned_l, s = 3, marker = 's',alpha = 0.4, color = 'black', label = 'TESS Aperture unbinned')\n",
    "                plt.scatter(TESS_binned_t_l, TESS_binned_l, s = 11,  marker = 'o', alpha = 1, color = 'blue', label = 'TESS Aperture binned')\n",
    "                plt.scatter(small_binned_t_l, small_binned_l, s = 12, marker = '>', alpha =1, color = 'red', label = 'Small Aperture binned')\n",
    "\n",
    "                if g > 0:\n",
    "                    plt.tick_params(axis=\"x\",direction=\"inout\", labelsize = 12) #, pad= -17)\n",
    "                    plt.yticks([])\n",
    "    \n",
    "                plt.tick_params(axis=\"y\",direction=\"inout\", labelsize = 12) #, pad= -20)\n",
    "                plt.tick_params(axis='both', length = 7, left='on', top='on', right='on', bottom='on')\n",
    "    \n",
    "                plt.xlim(peak-0.7, peak+0.7)\n",
    "                plt.axvline(peak, color = 'darkorange', linestyle = '--')\n",
    "                plt.ylim(minf-0.005,maxf)\n",
    "                plt.xlabel('Time (BJD-2457000)')\n",
    "                plt.title('Aperture Size Test, Transit {}'.format(g+1), fontsize = 12)\n",
    "\n",
    "\n",
    "        plt.show()\n"
   ]
  },
  {
   "cell_type": "code",
   "execution_count": null,
   "metadata": {
    "collapsed": true
   },
   "outputs": [],
   "source": [
    "    for sec in range(first_sec+1,27): # 26 because that's how many TESS sectors there will be in total\n",
    "    \n",
    "        LC_url = \"https://archive.stsci.edu/missions/tess/download_scripts/sector/tesscurl_sector_{}_lc.sh\".format(sec)\n",
    "        r_LC = requests.get(LC_url) # create HTTP response object\n",
    "            \n",
    "        if r_LC.status_code == 404:\n",
    "            print (\"Data only available up to Sector {} -- try downloading more data later\".format(sec))\n",
    "            break\n",
    "    \n",
    "            \n",
    "        with open(\"{}/tesscurl_sector_all_lc.sh\".format(indir), 'ab') as f:\n",
    "                '''\n",
    "                Saving recieved content as a png file in binary format\n",
    "                '''\n",
    "                f.write(r_LC.content)\n",
    "                print(\"finished adding sector {}\".format(sec))\n",
    "                #write the contents of the response (r.content)\n",
    "                # to a new file in binary mode.    \n",
    "    \n",
    "                "
   ]
  },
  {
   "cell_type": "code",
   "execution_count": null,
   "metadata": {
    "collapsed": false
   },
   "outputs": [],
   "source": [
    "if not os.path.exists(\"{}/all_targets_list.txt\".format(indir)):\n",
    "    with open(\"{}/all_targets_list.txt\".format(indir),'w') as f:\n",
    "        f.write(\"#all targets file links\")\n",
    "    first_sec = 0 # start with sector 1 but this has to be 0 because the next step of the code adds one (needs to be like this otherwise it will dowload the last sector multiple times when re run)\n",
    "    print (\"Will download all of the available sectors starting with sector 1\")\n",
    "\n",
    "else:\n",
    "    files = np.sort(glob('{}/all_targets_S*'.format(indir)))\n",
    "    \n",
    "    exist = []\n",
    "    for f in files:\n",
    "        exist.append(int(f[-9:-7]))  # get the first sector number (last that has already been downloaded)\n",
    "        \n",
    "    first_sec = (np.max(exist))\n",
    "    \n",
    "        \n",
    "for sec in range(first_sec+1,27): # 26 because that's how many TESS sectors there will be in total\n",
    "\n",
    "    if sec < 10:\n",
    "        download_sector = \"00{}\".format(sec)\n",
    "    else:\n",
    "        download_sector = \"0{}\".format(sec)\n",
    "    \n",
    "    target_list = \"https://tess.mit.edu/wp-content/uploads/all_targets_S{}_v1.txt\".format(download_sector)\n",
    "\n",
    "    r_target_list = requests.get(target_list) # create HTTP response object\n",
    "    \n",
    "    if r_target_list.status_code == 404:\n",
    "        print (\"Data only available up to Sector {} -- try downloading more data later\".format(sec))\n",
    "        break\n",
    "    \n",
    "    \n",
    "    with open(\"{}/all_targets_S{}_v1.txt\".format(indir, download_sector), 'wb') as f:\n",
    "        '''\n",
    "        Saving recieved content as a png file in binary format\n",
    "        '''\n",
    "        f.write(r_target_list.content)\n",
    "        #print(\"finished adding sector {}\".format(sec))\n",
    "        \n",
    "        \n",
    "    with open(\"{}/all_targets_list.txt\".format(indir), 'ab') as f:\n",
    "        '''\n",
    "        Saving recieved content as a png file in binary format\n",
    "        '''\n",
    "        if sec == 1:\n",
    "            f.write(r_target_list.content)\n",
    "\n",
    "        else:\n",
    "            start = str(r_target_list.content).find('t  Dec')\n",
    "            f.write(r_target_list.content[start-3:])\n",
    "            print(\"finished adding sector {}\".format(sec))\n",
    "    \n"
   ]
  },
  {
   "cell_type": "code",
   "execution_count": null,
   "metadata": {
    "collapsed": false
   },
   "outputs": [],
   "source": [
    "peak_list = [1333.07]\n",
    "print (peak_list)\n",
    "X1_list, X4_list, oot_list, intr_list, bkg, apmask_list,arrshape_list, t_list, peak_list = lu.download_data_tpf(indir, [1], peak_list, tic)\n"
   ]
  },
  {
   "cell_type": "code",
   "execution_count": null,
   "metadata": {
    "collapsed": false
   },
   "outputs": [],
   "source": [
    "def plot_in_out_TPF(tic, indir, X4_list, oot_list, t_list, intr_list, T0_list, tpf_filt_list, save = False):\n",
    "    \n",
    "    count = 1\n",
    "    for idx, X4 in X4_list:\n",
    "        \n",
    "        oot = oot_list[idx]\n",
    "        intr = intr_list[idx]\n",
    "        T0 = T0_list[idx]\n",
    "        t = t_list[idx]\n",
    "        tpf_filt  =  tpf_filt_list[idx]\n",
    "        \n",
    "        intr = abs(T0-t) < 0.25\n",
    "        oot = (abs(T0-t) < 0.5) * (abs(T0-t) < 0.3)\n",
    "        img_intr = tpf_filt[intr,:,:].sum(axis=0)/float(intr.sum())\n",
    "        img_oot = tpf_filt[oot,:,:].sum(axis=0)/float(oot.sum())\n",
    "        img_diff = img_oot-img_intr\n",
    "        \n",
    "        \n",
    "        plt.figure(figsize=(16,3.5*len(T0_list)))\n",
    "        plt.tight_layout()\n",
    "        \n",
    "        plot_1 = (len(T0_list)*100) + (30) + (count)\n",
    "        plt.subplot(plot_1)\n",
    "        plt.axis('off')\n",
    "        plt.imshow(img_intr)\n",
    "        plt.colorbar()\n",
    "        plt.title(\"t = {} days \\n In Transit Flux (e-/candence)\".format(idx))\n",
    "        count += 1\n",
    "        \n",
    "        plot_2 = (len(T0_list)*100) + (30) + (count)\n",
    "        plt.subplot(plot_2)\n",
    "        plt.axis('off')\n",
    "        plt.imshow(img_oot)\n",
    "        plt.colorbar()\n",
    "        plt.title(\"Out of Transit Flux (e-/candence)\")\n",
    "        count += 1\n",
    "        \n",
    "        plot_3 = (len(T0_list)*100) + (30) + (count)\n",
    "        plt.subplot(plot_3)\n",
    "        plt.axis('off')\n",
    "        plt.imshow(img_diff)\n",
    "        plt.colorbar()\n",
    "        plt.title(\"Difference Flux (e-/candence)\")\n",
    "        count += 1\n",
    "        \n",
    "        \n",
    "        plt.show()"
   ]
  },
  {
   "cell_type": "code",
   "execution_count": null,
   "metadata": {
    "collapsed": false
   },
   "outputs": [],
   "source": [
    "import numpy as np\n",
    "k = np.random.random((5,5))\n",
    "\n",
    "T0_list = [1234,1355]\n",
    "\n",
    "count = 1\n",
    "for idx, X4 in enumerate([1234, 1355]):\n",
    "    \n",
    "    plt.figure(figsize=(16,3.5*len(T0_list)))\n",
    "    plt.tight_layout()\n",
    "\n",
    "    plot_1 = (len(T0_list)*100) + (30) + (count)\n",
    "    print (plot_1)\n",
    "    plt.subplot(plot_1)\n",
    "    plt.axis('off')\n",
    "    plt.imshow(k)\n",
    "    plt.colorbar()\n",
    "    plt.title(\"t = {} days \\n In Transit Flux (e-/candence)\".format(idx))\n",
    "    count += 1\n",
    "    \n",
    "    plot_2 = (len(T0_list)*100) + (30) + (count)\n",
    "    print (plot_2)\n",
    "    plt.subplot(plot_2)\n",
    "    plt.axis('off')\n",
    "    plt.imshow(k)\n",
    "    plt.colorbar()\n",
    "    plt.title(\"Out of Transit Flux (e-/candence)\")\n",
    "    count += 1\n",
    "    \n",
    "    plot_3 = (len(T0_list)*100) + (30) + (count)\n",
    "    print (plot_3)\n",
    "    plt.subplot(plot_3)\n",
    "    plt.axis('off')\n",
    "    plt.imshow(k)\n",
    "    plt.colorbar()\n",
    "    plt.title(\"Difference Flux (e-/candence)\")\n",
    "    count += 1\n",
    "        "
   ]
  },
  {
   "cell_type": "code",
   "execution_count": 51,
   "metadata": {
    "collapsed": false
   },
   "outputs": [
    {
     "data": {
      "text/plain": [
       "72.7019"
      ]
     },
     "execution_count": 51,
     "metadata": {},
     "output_type": "execute_result"
    }
   ],
   "source": [
    "download_sector =\"011\"\n",
    "tic = 55525572\n",
    "\n",
    "tic_list = pd.read_table(\"{}/data/all_targets_S{}_v1.txt\".format(indir,download_sector), sep='\\t', lineterminator='\\n', comment = '#', names = ['TICID', 'Camera', 'CCD', 'Tmag', 'RA', 'Dec']).sort_values(['Camera', 'RA', 'Dec']).reset_index()\n",
    "\n",
    "# the target\n",
    "target = tic_list.loc[tic_list['TICID'] == float(tic)]\n",
    "\n",
    "tic_idx = target.index[0]  # get the index of the target in the list\n",
    "target_ra = float(target['RA']) \n",
    "target_dec = float(target['Dec'])\n",
    "\n",
    "\n",
    "\n",
    "tic2 = 55525518\n",
    "\n",
    "tic_list = pd.read_table(\"{}/data/all_targets_S{}_v1.txt\".format(indir,download_sector), sep='\\t', lineterminator='\\n', comment = '#', names = ['TICID', 'Camera', 'CCD', 'Tmag', 'RA', 'Dec']).sort_values(['Camera', 'RA', 'Dec']).reset_index()\n",
    "\n",
    "# the target\n",
    "target2 = tic_list.loc[tic_list['TICID'] == float(tic2)]\n",
    "\n",
    "tic_idx2 = target2.index[0]  # get the index of the target in the list\n",
    "target_ra2 = float(target2['RA']) \n",
    "target_dec2 = float(target2['Dec'])\n",
    "\n",
    "\n",
    "target_ra2"
   ]
  },
  {
   "cell_type": "code",
   "execution_count": 55,
   "metadata": {
    "collapsed": false
   },
   "outputs": [
    {
     "data": {
      "text/plain": [
       "6.795824743637893"
      ]
     },
     "execution_count": 55,
     "metadata": {},
     "output_type": "execute_result"
    }
   ],
   "source": [
    "import numpy as np\n",
    "from astropy import units as u\n",
    "from astropy.coordinates import SkyCoord\n",
    "\n",
    "c1 = SkyCoord(target_ra*u.degree, target_dec*u.degree)\n",
    "c2 = SkyCoord(target_ra2*u.degree, target_dec2*u.degree)\n",
    "sep = c1.separation(c2)\n",
    "sep.arcminute"
   ]
  },
  {
   "cell_type": "code",
   "execution_count": 66,
   "metadata": {
    "collapsed": false
   },
   "outputs": [
    {
     "name": "stdout",
     "output_type": "stream",
     "text": [
      "You have not created inpy/-f/input_fit.py\n"
     ]
    },
    {
     "ename": "SystemExit",
     "evalue": "",
     "output_type": "error",
     "traceback": [
      "An exception has occurred, use %tb to see the full traceback.\n",
      "\u001b[0;31mSystemExit\u001b[0m\n"
     ]
    }
   ],
   "source": [
    "import sys\n",
    "sys.path.append('/Users/Nora/Documents/research/TESS/planethunters/code/NOTEBOOKS/LATTE/pyaneti_beta/')\n",
    "\n",
    "import pyaneti"
   ]
  },
  {
   "cell_type": "code",
   "execution_count": 70,
   "metadata": {
    "collapsed": false
   },
   "outputs": [
    {
     "data": {
      "text/plain": [
       "0"
      ]
     },
     "execution_count": 70,
     "metadata": {},
     "output_type": "execute_result"
    }
   ],
   "source": [
    "os.system(\"python pyaneti_beta/pyaneti.py best_planet_ever\")\n"
   ]
  },
  {
   "cell_type": "code",
   "execution_count": null,
   "metadata": {
    "collapsed": true
   },
   "outputs": [],
   "source": []
  }
 ],
 "metadata": {
  "anaconda-cloud": {},
  "kernelspec": {
   "display_name": "Python [conda env:astroconda]",
   "language": "python",
   "name": "conda-env-astroconda-py"
  },
  "language_info": {
   "codemirror_mode": {
    "name": "ipython",
    "version": 3
   },
   "file_extension": ".py",
   "mimetype": "text/x-python",
   "name": "python",
   "nbconvert_exporter": "python",
   "pygments_lexer": "ipython3",
   "version": "3.7.2"
  }
 },
 "nbformat": 4,
 "nbformat_minor": 1
}
