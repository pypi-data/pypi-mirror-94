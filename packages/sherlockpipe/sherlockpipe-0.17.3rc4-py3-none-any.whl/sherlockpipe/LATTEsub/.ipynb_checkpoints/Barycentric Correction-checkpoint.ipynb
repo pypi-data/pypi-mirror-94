{
 "cells": [
  {
   "cell_type": "code",
   "execution_count": 5,
   "metadata": {
    "collapsed": false
   },
   "outputs": [
    {
     "name": "stderr",
     "output_type": "stream",
     "text": [
      "WARNING: failed to download http://maia.usno.navy.mil/ser7/finals2000A.all, using local IERS-B: [Errno 54] Connection reset by peer [astropy.utils.iers.iers]\n",
      "WARNING: Tried to get polar motions for times after IERS data is valid. Defaulting to polar motion from the 50-yr mean for those. This may affect precision at the 10s of arcsec level [astropy.coordinates.builtin_frames.utils]\n",
      "WARNING: (some) times are outside of range covered by IERS table. Assuming UT1-UTC=0 for coordinate transformations. [astropy.coordinates.builtin_frames.utils]\n"
     ]
    },
    {
     "name": "stdout",
     "output_type": "stream",
     "text": [
      "2.7876716503751267 km / s\n",
      "2.477277331477312 km / s\n",
      "-0.5101209755282806 km / s\n",
      "-0.13734556370639556 km / s\n"
     ]
    }
   ],
   "source": [
    "import astropy.units as u\n",
    "from astropy.time import Time\n",
    "from astropy.coordinates import SkyCoord, EarthLocation\n",
    "\n",
    "\n",
    "lat  = -30.16928\n",
    "long = -70.80679\n",
    "height = 2252.2\n",
    "times= [\"2019-09-13T08:14:36.1\", \"2019-09-18T08:52:59.2\", \"2019-10-21T06:30:52.7\", \"2019-10-26T07:46:56.4\"]\n",
    "\n",
    "\n",
    "for time in times: \n",
    "    smarts = EarthLocation.from_geodetic(lat=lat*u.deg, lon=-long*u.deg, height=height*u.m)\n",
    "    \n",
    "    sc = SkyCoord(ra=72.69401*u.deg, dec=-60.905461*u.deg)\n",
    "    barycorr = sc.radial_velocity_correction(obstime=Time(time), location=smarts)  \n",
    "     \n",
    "    print(barycorr.to(u.km/u.s))"
   ]
  },
  {
   "cell_type": "code",
   "execution_count": null,
   "metadata": {
    "collapsed": true
   },
   "outputs": [],
   "source": []
  }
 ],
 "metadata": {
  "anaconda-cloud": {},
  "kernelspec": {
   "display_name": "Python [conda env:anaconda]",
   "language": "python",
   "name": "conda-env-anaconda-py"
  },
  "language_info": {
   "codemirror_mode": {
    "name": "ipython",
    "version": 3
   },
   "file_extension": ".py",
   "mimetype": "text/x-python",
   "name": "python",
   "nbconvert_exporter": "python",
   "pygments_lexer": "ipython3",
   "version": "3.5.2"
  }
 },
 "nbformat": 4,
 "nbformat_minor": 1
}
