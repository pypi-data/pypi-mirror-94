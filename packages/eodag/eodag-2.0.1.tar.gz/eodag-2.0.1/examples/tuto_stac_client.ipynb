{
 "cells": [
  {
   "cell_type": "markdown",
   "id": "weird-cleveland",
   "metadata": {},
   "source": [
    "# EODAG as STAC client"
   ]
  },
  {
   "cell_type": "markdown",
   "id": "reverse-sailing",
   "metadata": {},
   "source": [
    "## STAC API",
    "\n",
    "EODAG can perform an item search over a STAC compliant API. Found STAC items are returned as `EOProduct` objects with STAC metadata mapped to OGC OpenSearch Extension for Earth Observation.\n",
    "\n",
    "EODAG comes with already configured providers, but you can also add new ones dynamically."
   ]
  },
  {
   "cell_type": "code",
   "execution_count": 1,
   "id": "pending-circumstances",
   "metadata": {},
   "outputs": [
    {
     "name": "stderr",
     "output_type": "stream",
     "text": [
      "2021-01-26 16:27:50,891-15s eodag.config                     [INFO    ] Loading user configuration from: /home/sylvain/.config/eodag/eodag.yml\n",
      "2021-01-26 16:27:51,309-15s eodag.core                       [INFO    ] Locations configuration loaded from /home/sylvain/.config/eodag/locations.yml\n"
     ]
    }
   ],
   "source": [
    "# To have some basic feedback on what eodag is doing, we configure logging to output minimum information\n",
    "from eodag.utils.logging import setup_logging\n",
    "setup_logging(verbose=1)\n",
    "\n",
    "from eodag.api.core import EODataAccessGateway\n",
    "\n",
    "dag = EODataAccessGateway()"
   ]
  },
  {
   "cell_type": "markdown",
   "id": "signal-finland",
   "metadata": {},
   "source": [
    "List already configured providers providing a STAC API compliant service:"
   ]
  },
  {
   "cell_type": "code",
   "execution_count": 2,
   "id": "naughty-speaker",
   "metadata": {},
   "outputs": [
    {
     "data": {
      "text/plain": [
       "['astraea_eod']"
      ]
     },
     "execution_count": 2,
     "metadata": {},
     "output_type": "execute_result"
    }
   ],
   "source": [
    "[p.name for p in dag.providers_config.values() if hasattr(p, \"search\") and p.search.type == 'StacSearch']"
   ]
  },
  {
   "cell_type": "markdown",
   "id": "suspended-wrapping",
   "metadata": {},
   "source": [
    "Then, let's update EODAG's configuration with a new STAC provider"
   ]
  },
  {
   "cell_type": "code",
   "execution_count": 3,
   "id": "romance-midnight",
   "metadata": {},
   "outputs": [
    {
     "name": "stderr",
     "output_type": "stream",
     "text": [
      "2021-01-26 16:27:51,339-15s eodag.config                     [INFO    ] tamn: unknown provider found in user conf, trying to use provided configuration\n"
     ]
    }
   ],
   "source": [
    "dag.update_providers_config(\"\"\"\n",
    "    tamn:\n",
    "        search:\n",
    "            type: StacSearch\n",
    "            api_endpoint: https://tamn.snapplanet.io/search\n",
    "        products:\n",
    "            S2_MSI_L1C:\n",
    "                productType: S2\n",
    "            GENERIC_PRODUCT_TYPE:\n",
    "                productType: '{productType}'\n",
    "        download:\n",
    "            type: AwsDownload\n",
    "            base_uri: https://tamn.snapplanet.io\n",
    "            flatten_top_dirs: True\n",
    "        auth:\n",
    "            type: OAuth\n",
    "            credentials:\n",
    "                aws_access_key_id: PLEASE_CHANGE_ME\n",
    "                aws_secret_access_key: PLEASE_CHANGE_ME\n",
    "\"\"\")\n",
    "dag.set_preferred_provider(\"tamn\")"
   ]
  },
  {
   "cell_type": "markdown",
   "id": "accredited-heath",
   "metadata": {},
   "source": [
    "Search some S2_MSI_L1C products over Luxembourg:"
   ]
  },
  {
   "cell_type": "code",
   "execution_count": 4,
   "id": "annual-scale",
   "metadata": {},
   "outputs": [
    {
     "name": "stderr",
     "output_type": "stream",
     "text": [
      "2021-01-26 16:27:51,679-15s eodag.core                       [INFO    ] Searching product type 'S2_MSI_L1C' on provider: tamn\n",
      "2021-01-26 16:27:51,682-15s eodag.plugins.search.qssearch    [INFO    ] Sending count request: https://tamn.snapplanet.io/search?datetime=2020-05-01T00:00:00Z/2020-05-15T00:00:00Z&bbox=5.674051954784829,49.44266714130711,6.242751092156993,50.128051662794235&collections=S2&limit=1&page=1\n",
      "2021-01-26 16:27:52,072-15s eodag.plugins.search.qssearch    [INFO    ] Sending search request: https://tamn.snapplanet.io/search?datetime=2020-05-01T00:00:00Z/2020-05-15T00:00:00Z&bbox=5.674051954784829,49.44266714130711,6.242751092156993,50.128051662794235&collections=S2&limit=50&page=1\n",
      "2021-01-26 16:27:53,072-15s eodag.core                       [INFO    ] Found 35 result(s) on provider 'tamn'\n"
     ]
    }
   ],
   "source": [
    "prods_S2L1C, _ = dag.search(productType=\"S2_MSI_L1C\", country=\"LUX\", start=\"2020-05-01\", end=\"2020-05-15\", items_per_page=50)"
   ]
  },
  {
   "cell_type": "markdown",
   "id": "surgical-condition",
   "metadata": {},
   "source": [
    "Filter over any item property using crunches:"
   ]
  },
  {
   "cell_type": "code",
   "execution_count": 5,
   "id": "widespread-january",
   "metadata": {},
   "outputs": [
    {
     "name": "stderr",
     "output_type": "stream",
     "text": [
      "2021-01-26 16:27:53,080-15s eodag.plugins.crunch.filter_property [INFO    ] Start filtering for products matching operator.lt(product.properties['cloudCover'], 10)\n",
      "2021-01-26 16:27:53,082-15s eodag.plugins.crunch.filter_property [INFO    ] Finished filtering products. Resulting products: [EOProduct(id=6860f6ea-cfb2-529d-8568-09feacc1db9d, provider=tamn), EOProduct(id=71912c0e-bbdc-55f0-a780-7d3a3d03b0d9, provider=tamn), EOProduct(id=0d0dfaf1-6e0d-5a3b-8dd3-f24fa3df9b28, provider=tamn), EOProduct(id=335f6818-cbf6-5a47-bba2-70df11b3f82a, provider=tamn), EOProduct(id=e49bc4e4-640b-551e-ab55-1d22b4ed9290, provider=tamn), EOProduct(id=5a864ac0-1b84-5cf6-8b1f-529d87f5e0d3, provider=tamn), EOProduct(id=79605907-4de7-5078-a5cf-476c2127db84, provider=tamn), EOProduct(id=04fa32f1-5241-5278-a289-a840881a3454, provider=tamn), EOProduct(id=0098abb7-ad9e-5ae5-9169-c7b394f8c08e, provider=tamn), EOProduct(id=a925a3d2-b8a2-55e0-ae99-ba416d97e47f, provider=tamn), EOProduct(id=5f2a3d0a-8ea1-520f-ad96-7117e70909d0, provider=tamn)]\n"
     ]
    },
    {
     "data": {
      "text/plain": [
       "11"
      ]
     },
     "execution_count": 5,
     "metadata": {},
     "output_type": "execute_result"
    }
   ],
   "source": [
    "from eodag.plugins.crunch.filter_property import FilterProperty\n",
    "\n",
    "prods_S2L1C_filtered = prods_S2L1C.crunch(FilterProperty({\"cloudCover\": 10, \"operator\": \"lt\"}))\n",
    "len(prods_S2L1C_filtered)"
   ]
  },
  {
   "cell_type": "markdown",
   "id": "sound-collective",
   "metadata": {},
   "source": [
    "List available assets from the first retrieved product"
   ]
  },
  {
   "cell_type": "code",
   "execution_count": 6,
   "id": "chief-destination",
   "metadata": {
    "scrolled": true
   },
   "outputs": [
    {
     "data": {
      "text/plain": [
       "[('thumbnail',\n",
       "  'https://roda.sentinel-hub.com/sentinel-s2-l1c/tiles/31/U/GQ/2020/5/14/0/preview.jpg'),\n",
       " ('metadata',\n",
       "  'https://roda.sentinel-hub.com/sentinel-s2-l1c/tiles/31/U/GQ/2020/5/14/0/metadata.xml'),\n",
       " ('tileInfo',\n",
       "  'https://roda.sentinel-hub.com/sentinel-s2-l1c/tiles/31/U/GQ/2020/5/14/0/tileInfo.json'),\n",
       " ('productInfo',\n",
       "  'https://roda.sentinel-hub.com/sentinel-s2-l1c/tiles/31/U/GQ/2020/5/14/0/productInfo.json'),\n",
       " ('B1', 's3://sentinel-s2-l1c/tiles/31/U/GQ/2020/5/14/0/B1.jp2'),\n",
       " ('B2', 's3://sentinel-s2-l1c/tiles/31/U/GQ/2020/5/14/0/B2.jp2'),\n",
       " ('B3', 's3://sentinel-s2-l1c/tiles/31/U/GQ/2020/5/14/0/B3.jp2'),\n",
       " ('B4', 's3://sentinel-s2-l1c/tiles/31/U/GQ/2020/5/14/0/B4.jp2'),\n",
       " ('B5', 's3://sentinel-s2-l1c/tiles/31/U/GQ/2020/5/14/0/B5.jp2'),\n",
       " ('B6', 's3://sentinel-s2-l1c/tiles/31/U/GQ/2020/5/14/0/B6.jp2'),\n",
       " ('B7', 's3://sentinel-s2-l1c/tiles/31/U/GQ/2020/5/14/0/B7.jp2'),\n",
       " ('B8', 's3://sentinel-s2-l1c/tiles/31/U/GQ/2020/5/14/0/B8.jp2'),\n",
       " ('B8A', 's3://sentinel-s2-l1c/tiles/31/U/GQ/2020/5/14/0/B8A.jp2'),\n",
       " ('B9', 's3://sentinel-s2-l1c/tiles/31/U/GQ/2020/5/14/0/B9.jp2'),\n",
       " ('B10', 's3://sentinel-s2-l1c/tiles/31/U/GQ/2020/5/14/0/B10.jp2'),\n",
       " ('B11', 's3://sentinel-s2-l1c/tiles/31/U/GQ/2020/5/14/0/B11.jp2'),\n",
       " ('B12', 's3://sentinel-s2-l1c/tiles/31/U/GQ/2020/5/14/0/B12.jp2')]"
      ]
     },
     "execution_count": 6,
     "metadata": {},
     "output_type": "execute_result"
    }
   ],
   "source": [
    "[(key, asset[\"href\"]) for key, asset in prods_S2L1C[0].assets.items()]"
   ]
  },
  {
   "cell_type": "markdown",
   "id": "american-rolling",
   "metadata": {},
   "source": [
    "Same thing with an unconfigured product type (should match available collections). \n",
    "\n",
    "For Tamn Landsat-8 products are available in L8 Collection. Let's search them over Spain:"
   ]
  },
  {
   "cell_type": "code",
   "execution_count": 7,
   "id": "alpha-denver",
   "metadata": {},
   "outputs": [
    {
     "name": "stderr",
     "output_type": "stream",
     "text": [
      "2021-01-26 16:27:53,135-15s eodag.plugins.manager            [INFO    ] UnsupportedProductType: L8, using generic settings\n",
      "2021-01-26 16:27:53,136-15s eodag.core                       [INFO    ] Searching product type 'L8' on provider: tamn\n",
      "2021-01-26 16:27:53,139-15s eodag.plugins.search.qssearch    [INFO    ] Sending count request: https://tamn.snapplanet.io/search?datetime=2020-05-01T00:00:00Z/2020-05-15T00:00:00Z&bbox=-9.392883673530648,35.946850083961465,3.0394840836805486,43.74833771420099&collections=L8&limit=1&page=1\n",
      "2021-01-26 16:27:53,624-15s eodag.plugins.search.qssearch    [INFO    ] Sending search request: https://tamn.snapplanet.io/search?datetime=2020-05-01T00:00:00Z/2020-05-15T00:00:00Z&bbox=-9.392883673530648,35.946850083961465,3.0394840836805486,43.74833771420099&collections=L8&limit=20&page=1\n",
      "2021-01-26 16:27:54,500-15s eodag.core                       [INFO    ] Found 98 result(s) on provider 'tamn'\n"
     ]
    }
   ],
   "source": [
    "prods_L8, _ = dag.search(productType=\"L8\", country=\"ESP\", start=\"2020-05-01\", end=\"2020-05-15\")"
   ]
  },
  {
   "cell_type": "code",
   "execution_count": 8,
   "id": "racial-statement",
   "metadata": {},
   "outputs": [
    {
     "data": {
      "text/plain": [
       "[('thumbnail',\n",
       "  'https://landsat-pds.s3.amazonaws.com/c1/L8/196/035/LC08_L1TP_196035_20200514_20200527_01_T1/LC08_L1TP_196035_20200514_20200527_01_T1_thumb_large.jpg'),\n",
       " ('metadata',\n",
       "  'https://landsat-pds.s3.amazonaws.com/c1/L8/196/035/LC08_L1TP_196035_20200514_20200527_01_T1/LC08_L1TP_196035_20200514_20200527_01_T1_MTL.txt'),\n",
       " ('B1',\n",
       "  'https://landsat-pds.s3.amazonaws.com/c1/L8/196/035/LC08_L1TP_196035_20200514_20200527_01_T1/LC08_L1TP_196035_20200514_20200527_01_T1_B1.TIF'),\n",
       " ('B2',\n",
       "  'https://landsat-pds.s3.amazonaws.com/c1/L8/196/035/LC08_L1TP_196035_20200514_20200527_01_T1/LC08_L1TP_196035_20200514_20200527_01_T1_B2.TIF'),\n",
       " ('B3',\n",
       "  'https://landsat-pds.s3.amazonaws.com/c1/L8/196/035/LC08_L1TP_196035_20200514_20200527_01_T1/LC08_L1TP_196035_20200514_20200527_01_T1_B3.TIF'),\n",
       " ('B4',\n",
       "  'https://landsat-pds.s3.amazonaws.com/c1/L8/196/035/LC08_L1TP_196035_20200514_20200527_01_T1/LC08_L1TP_196035_20200514_20200527_01_T1_B4.TIF'),\n",
       " ('B5',\n",
       "  'https://landsat-pds.s3.amazonaws.com/c1/L8/196/035/LC08_L1TP_196035_20200514_20200527_01_T1/LC08_L1TP_196035_20200514_20200527_01_T1_B5.TIF'),\n",
       " ('B6',\n",
       "  'https://landsat-pds.s3.amazonaws.com/c1/L8/196/035/LC08_L1TP_196035_20200514_20200527_01_T1/LC08_L1TP_196035_20200514_20200527_01_T1_B6.TIF'),\n",
       " ('B7',\n",
       "  'https://landsat-pds.s3.amazonaws.com/c1/L8/196/035/LC08_L1TP_196035_20200514_20200527_01_T1/LC08_L1TP_196035_20200514_20200527_01_T1_B7.TIF'),\n",
       " ('B8',\n",
       "  'https://landsat-pds.s3.amazonaws.com/c1/L8/196/035/LC08_L1TP_196035_20200514_20200527_01_T1/LC08_L1TP_196035_20200514_20200527_01_T1_B8.TIF'),\n",
       " ('B9',\n",
       "  'https://landsat-pds.s3.amazonaws.com/c1/L8/196/035/LC08_L1TP_196035_20200514_20200527_01_T1/LC08_L1TP_196035_20200514_20200527_01_T1_B9.TIF'),\n",
       " ('B10',\n",
       "  'https://landsat-pds.s3.amazonaws.com/c1/L8/196/035/LC08_L1TP_196035_20200514_20200527_01_T1/LC08_L1TP_196035_20200514_20200527_01_T1_B10.TIF'),\n",
       " ('B11',\n",
       "  'https://landsat-pds.s3.amazonaws.com/c1/L8/196/035/LC08_L1TP_196035_20200514_20200527_01_T1/LC08_L1TP_196035_20200514_20200527_01_T1_B11.TIF')]"
      ]
     },
     "execution_count": 8,
     "metadata": {},
     "output_type": "execute_result"
    }
   ],
   "source": [
    "[(key, asset[\"href\"]) for key, asset in prods_L8[0].assets.items()]"
   ]
  },
  {
   "cell_type": "markdown",
   "id": "offshore-stereo",
   "metadata": {},
   "source": [
    "## STAC Static catalog"
   ]
  },
  {
   "cell_type": "markdown",
   "id": "seasonal-internet",
   "metadata": {},
   "source": [
    "EODAG can load items from a STAC static catalog. This can be useful for filtering and downloading them.\n",
    "\n",
    "Here is an example with a catalog from https://stacindex.org/catalogs/spot-orthoimages-canada-2005.\n",
    "\n",
    "When using `load_stac_items()` we must provide an already configured STAC provider, as its configuration will be used to map item metadata to `EOProduct`. The provider's download configuration will also be used for downloading the static catalog item assets.\n",
    "\n",
    "*Please note that STAC static catalog search will be implemented as a new search plugin in a future EODAG release to permit using `eodag.search()` with easier configuration*"
   ]
  },
  {
   "cell_type": "code",
   "execution_count": 9,
   "id": "starting-accordance",
   "metadata": {},
   "outputs": [
    {
     "name": "stderr",
     "output_type": "stream",
     "text": [
      "2021-01-26 16:28:02,953-15s eodag.core                       [INFO    ] No product type could be guessed with provided arguments\n",
      "2021-01-26 16:28:02,954-15s eodag.core                       [INFO    ] Searching product type 'None' on provider: astraea_eod\n",
      "2021-01-26 16:28:06,858-15s eodag.core                       [INFO    ] Found 631 result(s) on provider 'astraea_eod'\n"
     ]
    }
   ],
   "source": [
    "items = dag.load_stac_items(\n",
    "    \"https://canada-spot-ortho.s3.amazonaws.com/canada_spot_orthoimages/canada_spot5_orthoimages/S5_2007/catalog.json\", \n",
    "    recursive=True, \n",
    "    provider=\"astraea_eod\", # A STAC provider configured with compatible download credentials, here AWS S3\n",
    "    geometry=\"POINT EMPTY\" # empty geometry as search param that will be ignored when crunching\n",
    ")"
   ]
  },
  {
   "cell_type": "code",
   "execution_count": 10,
   "id": "informed-amplifier",
   "metadata": {},
   "outputs": [
    {
     "data": {
      "text/plain": [
       "631"
      ]
     },
     "execution_count": 10,
     "metadata": {},
     "output_type": "execute_result"
    }
   ],
   "source": [
    "len(items)"
   ]
  },
  {
   "cell_type": "markdown",
   "id": "changing-tooth",
   "metadata": {},
   "source": [
    "We can filter found products using crunches:"
   ]
  },
  {
   "cell_type": "code",
   "execution_count": 11,
   "id": "elder-convenience",
   "metadata": {},
   "outputs": [
    {
     "name": "stderr",
     "output_type": "stream",
     "text": [
      "2021-01-26 16:28:06,956-15s eodag.plugins.crunch.filter_overlap [INFO    ] Finished filtering products. 7 resulting products\n"
     ]
    },
    {
     "name": "stdout",
     "output_type": "stream",
     "text": [
      "Filtered by date:  21\n",
      "Filtered by date+geom:  7\n"
     ]
    }
   ],
   "source": [
    "from shapely.geometry import Polygon\n",
    "from eodag.plugins.crunch.filter_date import FilterDate\n",
    "from eodag.plugins.crunch.filter_overlap import FilterOverlap\n",
    "\n",
    "# Filter by date\n",
    "filtered_by_date = items.crunch(\n",
    "    FilterDate({\"start\": \"2007-05-01\", \"end\": \"2007-05-06\"})\n",
    ")\n",
    "print(\"Filtered by date: \", len(filtered_by_date))\n",
    "\n",
    "# Filter by geometry\n",
    "search_polygon = Polygon([(-70, 45), (-75, 52), (-80, 52), (-80, 44)])\n",
    "filtered_by_geom = filtered_by_date.crunch(\n",
    "    FilterOverlap({\"within\": True}), \n",
    "    geometry=search_polygon\n",
    ")\n",
    "print(\"Filtered by date+geom: \", len(filtered_by_geom))"
   ]
  },
  {
   "cell_type": "code",
   "execution_count": 12,
   "id": "specialized-excuse",
   "metadata": {
    "scrolled": false
   },
   "outputs": [
    {
     "data": {
      "application/vnd.jupyter.widget-view+json": {
       "model_id": "78e6c77fefc949468e8782b8ceb78d72",
       "version_major": 2,
       "version_minor": 0
      },
      "text/plain": [
       "Map(center=[50, -100], controls=(ZoomControl(options=['position', 'zoom_in_text', 'zoom_in_title', 'zoom_out_t…"
      ]
     },
     "metadata": {},
     "output_type": "display_data"
    }
   ],
   "source": [
    "# plot on map\n",
    "import ipyleaflet as ipyl\n",
    "\n",
    "m = ipyl.Map(center=(50, -100), zoom=3)\n",
    "\n",
    "polygon_layer = ipyl.GeoJSON(data=search_polygon.__geo_interface__, style=dict(color='blue'))\n",
    "m.add_layer(polygon_layer)\n",
    "\n",
    "filtered_by_date_layer = ipyl.GeoJSON(data=filtered_by_date.as_geojson_object(), style=dict(color='red'))\n",
    "m.add_layer(filtered_by_date_layer)\n",
    "\n",
    "filtered_by_geom_layer = ipyl.GeoJSON(data=filtered_by_geom.as_geojson_object(), style=dict(color='green'))\n",
    "m.add_layer(filtered_by_geom_layer)\n",
    "m"
   ]
  }
 ],
 "metadata": {
  "kernelspec": {
   "display_name": "Python 3",
   "language": "python",
   "name": "python3"
  },
  "language_info": {
   "codemirror_mode": {
    "name": "ipython",
    "version": 3
   },
   "file_extension": ".py",
   "mimetype": "text/x-python",
   "name": "python",
   "nbconvert_exporter": "python",
   "pygments_lexer": "ipython3",
   "version": "3.8.5"
  },
  "widgets": {
   "application/vnd.jupyter.widget-state+json": {
    "state": {
     "0d96310cf89a4df8938f4f2d54c830f0": {
      "model_module": "jupyter-leaflet",
      "model_module_version": "^0.13.5",
      "model_name": "LeafletZoomControlModel",
      "state": {
       "_model_module_version": "^0.13.5",
       "_view_module_version": "^0.13.5",
       "options": [
        "position",
        "zoom_in_text",
        "zoom_in_title",
        "zoom_out_text",
        "zoom_out_title"
       ]
      }
     },
     "14424f72bf08458787c510e87e83f533": {
      "model_module": "jupyter-leaflet",
      "model_module_version": "^0.13.5",
      "model_name": "LeafletGeoJSONModel",
      "state": {
       "_model_module": "jupyter-leaflet",
       "_model_module_version": "^0.13.5",
       "_view_count": null,
       "_view_module": "jupyter-leaflet",
       "_view_module_version": "^0.13.5",
       "base": false,
       "bottom": false,
       "data": {
        "features": [
         {
          "geometry": {
           "coordinates": [
            [
             [
              -77.5086458,
              45.89066339999992
             ],
             [
              -77.3097434,
              46.411011399999936
             ],
             [
              -76.56018450000002,
              46.27010199999995
             ],
             [
              -76.766165,
              45.75074559999991
             ],
             [
              -77.5086458,
              45.89066339999992
             ]
            ]
           ],
           "type": "Polygon"
          },
          "id": "S5_07702_4605_20070505",
          "properties": {
           "abstract": null,
           "downloadLink": "https://eod-catalog-svc-prod.astraea.earth/collections/canada_spot5_orthoimages/items/S5_07702_4605_20070505",
           "eo:bands": [
            {
             "common_name": "panchromatic",
             "description": "Panchromatic: 480-710 nm",
             "name": "Panchromatic"
            },
            {
             "common_name": "green",
             "description": "Green: 500-590 nm",
             "name": "Green"
            },
            {
             "common_name": "red",
             "description": "Red: 610-680 nm",
             "name": "Red"
            },
            {
             "common_name": "nir",
             "description": "Near Infrared: 780-890 nm",
             "name": "Near Infrared"
            },
            {
             "common_name": "swir",
             "description": "ShortWave Infrared: 1580-1750 nm",
             "name": "ShortWave Infrared"
            }
           ],
           "eodag_product_type": null,
           "eodag_provider": "astraea_eod",
           "eodag_search_intersection": {
            "geometries": [],
            "type": "GeometryCollection"
           },
           "instrument": null,
           "license": null,
           "missionStartDate": null,
           "platform": null,
           "platformSerialIdentifier": null,
           "processingLevel": null,
           "productType": "canada_spot5_orthoimages",
           "proj:epsg": 3979,
           "resolution": 20,
           "sensorType": null,
           "startTimeFromAscendingNode": "2007-05-05T00:00:00Z",
           "style": {
            "color": "green"
           },
           "title": "S5_07702_4605_20070505"
          },
          "type": "Feature"
         },
         {
          "geometry": {
           "coordinates": [
            [
             [
              -75.635484,
              49.71080699998813
             ],
             [
              -75.4077832,
              50.22914529998913
             ],
             [
              -74.6039477,
              50.07893649998885
             ],
             [
              -74.839718,
              49.562025099987835
             ],
             [
              -75.635484,
              49.71080699998813
             ]
            ]
           ],
           "type": "Polygon"
          },
          "id": "S5_07507_4954_20070505",
          "properties": {
           "abstract": null,
           "downloadLink": "https://eod-catalog-svc-prod.astraea.earth/collections/canada_spot5_orthoimages/items/S5_07507_4954_20070505",
           "eo:bands": [
            {
             "common_name": "panchromatic",
             "description": "Panchromatic: 480-710 nm",
             "name": "Panchromatic"
            },
            {
             "common_name": "green",
             "description": "Green: 500-590 nm",
             "name": "Green"
            },
            {
             "common_name": "red",
             "description": "Red: 610-680 nm",
             "name": "Red"
            },
            {
             "common_name": "nir",
             "description": "Near Infrared: 780-890 nm",
             "name": "Near Infrared"
            },
            {
             "common_name": "swir",
             "description": "ShortWave Infrared: 1580-1750 nm",
             "name": "ShortWave Infrared"
            }
           ],
           "eodag_product_type": null,
           "eodag_provider": "astraea_eod",
           "eodag_search_intersection": {
            "geometries": [],
            "type": "GeometryCollection"
           },
           "instrument": null,
           "license": null,
           "missionStartDate": null,
           "platform": null,
           "platformSerialIdentifier": null,
           "processingLevel": null,
           "productType": "canada_spot5_orthoimages",
           "proj:epsg": 3979,
           "resolution": 20,
           "sensorType": null,
           "startTimeFromAscendingNode": "2007-05-05T00:00:00Z",
           "style": {
            "color": "green"
           },
           "title": "S5_07507_4954_20070505"
          },
          "type": "Feature"
         },
         {
          "geometry": {
           "coordinates": [
            [
             [
              -77.6897149,
              45.41003529999992
             ],
             [
              -77.493466,
              45.93058879999993
             ],
             [
              -76.7514935,
              45.790705999999915
             ],
             [
              -76.9536275,
              45.27084659999991
             ],
             [
              -77.6897149,
              45.41003529999992
             ]
            ]
           ],
           "type": "Polygon"
          },
          "id": "S5_07713_4536_20070505",
          "properties": {
           "abstract": null,
           "downloadLink": "https://eod-catalog-svc-prod.astraea.earth/collections/canada_spot5_orthoimages/items/S5_07713_4536_20070505",
           "eo:bands": [
            {
             "common_name": "panchromatic",
             "description": "Panchromatic: 480-710 nm",
             "name": "Panchromatic"
            },
            {
             "common_name": "green",
             "description": "Green: 500-590 nm",
             "name": "Green"
            },
            {
             "common_name": "red",
             "description": "Red: 610-680 nm",
             "name": "Red"
            },
            {
             "common_name": "nir",
             "description": "Near Infrared: 780-890 nm",
             "name": "Near Infrared"
            },
            {
             "common_name": "swir",
             "description": "ShortWave Infrared: 1580-1750 nm",
             "name": "ShortWave Infrared"
            }
           ],
           "eodag_product_type": null,
           "eodag_provider": "astraea_eod",
           "eodag_search_intersection": {
            "geometries": [],
            "type": "GeometryCollection"
           },
           "instrument": null,
           "license": null,
           "missionStartDate": null,
           "platform": null,
           "platformSerialIdentifier": null,
           "processingLevel": null,
           "productType": "canada_spot5_orthoimages",
           "proj:epsg": 3979,
           "resolution": 20,
           "sensorType": null,
           "startTimeFromAscendingNode": "2007-05-05T00:00:00Z",
           "style": {
            "color": "green"
           },
           "title": "S5_07713_4536_20070505"
          },
          "type": "Feature"
         },
         {
          "geometry": {
           "coordinates": [
            [
             [
              -77.8688576,
              44.92858479999993
             ],
             [
              -77.6751065,
              45.44990809999991
             ],
             [
              -76.9381127,
              45.3104741999999
             ],
             [
              -77.13831010000001,
              44.790157899999905
             ],
             [
              -77.8688576,
              44.92858479999993
             ]
            ]
           ],
           "type": "Polygon"
          },
          "id": "S5_07724_4507_20070505",
          "properties": {
           "abstract": null,
           "downloadLink": "https://eod-catalog-svc-prod.astraea.earth/collections/canada_spot5_orthoimages/items/S5_07724_4507_20070505",
           "eo:bands": [
            {
             "common_name": "panchromatic",
             "description": "Panchromatic: 480-710 nm",
             "name": "Panchromatic"
            },
            {
             "common_name": "green",
             "description": "Green: 500-590 nm",
             "name": "Green"
            },
            {
             "common_name": "red",
             "description": "Red: 610-680 nm",
             "name": "Red"
            },
            {
             "common_name": "nir",
             "description": "Near Infrared: 780-890 nm",
             "name": "Near Infrared"
            },
            {
             "common_name": "swir",
             "description": "ShortWave Infrared: 1580-1750 nm",
             "name": "ShortWave Infrared"
            }
           ],
           "eodag_product_type": null,
           "eodag_provider": "astraea_eod",
           "eodag_search_intersection": {
            "geometries": [],
            "type": "GeometryCollection"
           },
           "instrument": null,
           "license": null,
           "missionStartDate": null,
           "platform": null,
           "platformSerialIdentifier": null,
           "processingLevel": null,
           "productType": "canada_spot5_orthoimages",
           "proj:epsg": 3979,
           "resolution": 20,
           "sensorType": null,
           "startTimeFromAscendingNode": "2007-05-05T00:00:00Z",
           "style": {
            "color": "green"
           },
           "title": "S5_07724_4507_20070505"
          },
          "type": "Feature"
         },
         {
          "geometry": {
           "coordinates": [
            [
             [
              -76.24385540000002,
              48.284491499985
             ],
             [
              -76.0261593,
              48.80282719998618
             ],
             [
              -75.24409010000001,
              48.65556529998587
             ],
             [
              -75.4693021,
              48.138179499984645
             ],
             [
              -76.24385540000002,
              48.284491499985
             ]
            ]
           ],
           "type": "Polygon"
          },
          "id": "S5_07545_4828_20070505",
          "properties": {
           "abstract": null,
           "downloadLink": "https://eod-catalog-svc-prod.astraea.earth/collections/canada_spot5_orthoimages/items/S5_07545_4828_20070505",
           "eo:bands": [
            {
             "common_name": "panchromatic",
             "description": "Panchromatic: 480-710 nm",
             "name": "Panchromatic"
            },
            {
             "common_name": "green",
             "description": "Green: 500-590 nm",
             "name": "Green"
            },
            {
             "common_name": "red",
             "description": "Red: 610-680 nm",
             "name": "Red"
            },
            {
             "common_name": "nir",
             "description": "Near Infrared: 780-890 nm",
             "name": "Near Infrared"
            },
            {
             "common_name": "swir",
             "description": "ShortWave Infrared: 1580-1750 nm",
             "name": "ShortWave Infrared"
            }
           ],
           "eodag_product_type": null,
           "eodag_provider": "astraea_eod",
           "eodag_search_intersection": {
            "geometries": [],
            "type": "GeometryCollection"
           },
           "instrument": null,
           "license": null,
           "missionStartDate": null,
           "platform": null,
           "platformSerialIdentifier": null,
           "processingLevel": null,
           "productType": "canada_spot5_orthoimages",
           "proj:epsg": 3979,
           "resolution": 20,
           "sensorType": null,
           "startTimeFromAscendingNode": "2007-05-05T00:00:00Z",
           "style": {
            "color": "green"
           },
           "title": "S5_07545_4828_20070505"
          },
          "type": "Feature"
         },
         {
          "geometry": {
           "coordinates": [
            [
             [
              -75.8416676,
              49.236272499987166
             ],
             [
              -75.6169194,
              49.75401399998823
             ],
             [
              -74.8203005,
              49.60474209998792
             ],
             [
              -75.052923,
              49.08803909998684
             ],
             [
              -75.8416676,
              49.236272499987166
             ]
            ]
           ],
           "type": "Polygon"
          },
          "id": "S5_07520_4925_20070505",
          "properties": {
           "abstract": null,
           "downloadLink": "https://eod-catalog-svc-prod.astraea.earth/collections/canada_spot5_orthoimages/items/S5_07520_4925_20070505",
           "eo:bands": [
            {
             "common_name": "panchromatic",
             "description": "Panchromatic: 480-710 nm",
             "name": "Panchromatic"
            },
            {
             "common_name": "green",
             "description": "Green: 500-590 nm",
             "name": "Green"
            },
            {
             "common_name": "red",
             "description": "Red: 610-680 nm",
             "name": "Red"
            },
            {
             "common_name": "nir",
             "description": "Near Infrared: 780-890 nm",
             "name": "Near Infrared"
            },
            {
             "common_name": "swir",
             "description": "ShortWave Infrared: 1580-1750 nm",
             "name": "ShortWave Infrared"
            }
           ],
           "eodag_product_type": null,
           "eodag_provider": "astraea_eod",
           "eodag_search_intersection": {
            "geometries": [],
            "type": "GeometryCollection"
           },
           "instrument": null,
           "license": null,
           "missionStartDate": null,
           "platform": null,
           "platformSerialIdentifier": null,
           "processingLevel": null,
           "productType": "canada_spot5_orthoimages",
           "proj:epsg": 3979,
           "resolution": 20,
           "sensorType": null,
           "startTimeFromAscendingNode": "2007-05-05T00:00:00Z",
           "style": {
            "color": "green"
           },
           "title": "S5_07520_4925_20070505"
          },
          "type": "Feature"
         },
         {
          "geometry": {
           "coordinates": [
            [
             [
              -75.8321003,
              47.85693209998394
             ],
             [
              -75.5637798,
              48.363290499985176
             ],
             [
              -74.5776358,
              48.12570679998459
             ],
             [
              -74.8555234,
              47.61966979998332
             ],
             [
              -75.8321003,
              47.85693209998394
             ]
            ]
           ],
           "type": "Polygon"
          },
          "id": "S5_07513_4760_20070504",
          "properties": {
           "abstract": null,
           "downloadLink": "https://eod-catalog-svc-prod.astraea.earth/collections/canada_spot5_orthoimages/items/S5_07513_4760_20070504",
           "eo:bands": [
            {
             "common_name": "panchromatic",
             "description": "Panchromatic: 480-710 nm",
             "name": "Panchromatic"
            },
            {
             "common_name": "green",
             "description": "Green: 500-590 nm",
             "name": "Green"
            },
            {
             "common_name": "red",
             "description": "Red: 610-680 nm",
             "name": "Red"
            },
            {
             "common_name": "nir",
             "description": "Near Infrared: 780-890 nm",
             "name": "Near Infrared"
            },
            {
             "common_name": "swir",
             "description": "ShortWave Infrared: 1580-1750 nm",
             "name": "ShortWave Infrared"
            }
           ],
           "eodag_product_type": null,
           "eodag_provider": "astraea_eod",
           "eodag_search_intersection": {
            "geometries": [],
            "type": "GeometryCollection"
           },
           "instrument": null,
           "license": null,
           "missionStartDate": null,
           "platform": null,
           "platformSerialIdentifier": null,
           "processingLevel": null,
           "productType": "canada_spot5_orthoimages",
           "proj:epsg": 3979,
           "resolution": 20,
           "sensorType": null,
           "startTimeFromAscendingNode": "2007-05-04T00:00:00Z",
           "style": {
            "color": "green"
           },
           "title": "S5_07513_4760_20070504"
          },
          "type": "Feature"
         }
        ],
        "type": "FeatureCollection"
       },
       "name": "",
       "options": [],
       "popup": null,
       "popup_max_height": null,
       "popup_max_width": 300,
       "popup_min_width": 50,
       "style": {
        "color": "green"
       }
      }
     },
     "31be99ded5c24853bc9cd39f22ba675c": {
      "model_module": "jupyter-leaflet",
      "model_module_version": "^0.13.5",
      "model_name": "LeafletAttributionControlModel",
      "state": {
       "_model_module_version": "^0.13.5",
       "_view_module_version": "^0.13.5",
       "options": [
        "position",
        "prefix"
       ],
       "position": "bottomright",
       "prefix": "ipyleaflet"
      }
     },
     "3368f26cf3794ea785b1fc64d14f4994": {
      "model_module": "jupyter-leaflet",
      "model_module_version": "^0.13.5",
      "model_name": "LeafletMapStyleModel",
      "state": {
       "_model_module_version": "^0.13.5",
       "cursor": "move"
      }
     },
     "491c610a3d7541258cb151c8c68d82cc": {
      "model_module": "@jupyter-widgets/base",
      "model_module_version": "1.2.0",
      "model_name": "LayoutModel",
      "state": {}
     },
     "57a5fd99d3e44e6ca34ba56a6abbd2ad": {
      "model_module": "jupyter-leaflet",
      "model_module_version": "^0.13.5",
      "model_name": "LeafletGeoJSONModel",
      "state": {
       "_model_module": "jupyter-leaflet",
       "_model_module_version": "^0.13.5",
       "_view_count": null,
       "_view_module": "jupyter-leaflet",
       "_view_module_version": "^0.13.5",
       "base": false,
       "bottom": false,
       "data": {
        "coordinates": [
         [
          [
           -70,
           45
          ],
          [
           -75,
           52
          ],
          [
           -80,
           52
          ],
          [
           -80,
           44
          ],
          [
           -70,
           45
          ]
         ]
        ],
        "type": "Polygon"
       },
       "name": "",
       "options": [],
       "popup": null,
       "popup_max_height": null,
       "popup_max_width": 300,
       "popup_min_width": 50,
       "style": {
        "color": "blue"
       }
      }
     },
     "6fbfcf87f0bd489a8acabcd12f9ddd32": {
      "model_module": "jupyter-leaflet",
      "model_module_version": "^0.13.5",
      "model_name": "LeafletTileLayerModel",
      "state": {
       "_model_module_version": "^0.13.5",
       "_view_module_version": "^0.13.5",
       "base": true,
       "max_native_zoom": 18,
       "max_zoom": 19,
       "min_native_zoom": 0,
       "min_zoom": 1,
       "options": [
        "attribution",
        "detect_retina",
        "max_native_zoom",
        "max_zoom",
        "min_native_zoom",
        "min_zoom",
        "no_wrap",
        "tile_size",
        "tms"
       ]
      }
     },
     "78e6c77fefc949468e8782b8ceb78d72": {
      "model_module": "jupyter-leaflet",
      "model_module_version": "^0.13.5",
      "model_name": "LeafletMapModel",
      "state": {
       "_model_module_version": "^0.13.5",
       "_view_module_version": "^0.13.5",
       "bottom": 895,
       "center": [
        50,
        -100
       ],
       "controls": [
        "IPY_MODEL_0d96310cf89a4df8938f4f2d54c830f0",
        "IPY_MODEL_31be99ded5c24853bc9cd39f22ba675c"
       ],
       "default_style": "IPY_MODEL_ed3fd29269524ecb8f3992882e98f646",
       "dragging_style": "IPY_MODEL_3368f26cf3794ea785b1fc64d14f4994",
       "east": -15.292968750000002,
       "fullscreen": false,
       "interpolation": "bilinear",
       "layers": [
        "IPY_MODEL_6fbfcf87f0bd489a8acabcd12f9ddd32",
        "IPY_MODEL_57a5fd99d3e44e6ca34ba56a6abbd2ad",
        "IPY_MODEL_e9e49fc55aae47018b52bc1376b8aa2e",
        "IPY_MODEL_14424f72bf08458787c510e87e83f533"
       ],
       "layout": "IPY_MODEL_491c610a3d7541258cb151c8c68d82cc",
       "left": -26,
       "modisdate": "yesterday",
       "north": 67.676084581981,
       "options": [
        "bounce_at_zoom_limits",
        "box_zoom",
        "center",
        "close_popup_on_click",
        "double_click_zoom",
        "dragging",
        "fullscreen",
        "inertia",
        "inertia_deceleration",
        "inertia_max_speed",
        "interpolation",
        "keyboard",
        "keyboard_pan_offset",
        "keyboard_zoom_offset",
        "max_zoom",
        "min_zoom",
        "scroll_wheel_zoom",
        "tap",
        "tap_tolerance",
        "touch_zoom",
        "world_copy_jump",
        "zoom",
        "zoom_animation_threshold",
        "zoom_delta",
        "zoom_snap",
        "zoom_start"
       ],
       "right": 937,
       "south": 22.105998799750566,
       "style": "IPY_MODEL_89bc1bcd39ce49a0b34f387d0994bcf2",
       "top": 495,
       "west": -184.57031250000003,
       "window_url": "http://localhost:8888/notebooks/examples/tuto_stac_client.ipynb",
       "zoom": 3
      }
     },
     "89bc1bcd39ce49a0b34f387d0994bcf2": {
      "model_module": "jupyter-leaflet",
      "model_module_version": "^0.13.5",
      "model_name": "LeafletMapStyleModel",
      "state": {
       "_model_module_version": "^0.13.5"
      }
     },
     "e9e49fc55aae47018b52bc1376b8aa2e": {
      "model_module": "jupyter-leaflet",
      "model_module_version": "^0.13.5",
      "model_name": "LeafletGeoJSONModel",
      "state": {
       "_model_module": "jupyter-leaflet",
       "_model_module_version": "^0.13.5",
       "_view_count": null,
       "_view_module": "jupyter-leaflet",
       "_view_module_version": "^0.13.5",
       "base": false,
       "bottom": false,
       "data": {
        "features": [
         {
          "geometry": {
           "coordinates": [
            [
             [
              -82.0128118,
              43.486933699999895
             ],
             [
              -81.8154336,
              44.006646199999906
             ],
             [
              -81.0891217,
              43.85927329999989
             ],
             [
              -81.2926142,
              43.340113799999905
             ],
             [
              -82.0128118,
              43.486933699999895
             ]
            ]
           ],
           "type": "Polygon"
          },
          "id": "S5_08133_4340_20070504",
          "properties": {
           "abstract": null,
           "downloadLink": "https://eod-catalog-svc-prod.astraea.earth/collections/canada_spot5_orthoimages/items/S5_08133_4340_20070504",
           "eo:bands": [
            {
             "common_name": "panchromatic",
             "description": "Panchromatic: 480-710 nm",
             "name": "Panchromatic"
            },
            {
             "common_name": "green",
             "description": "Green: 500-590 nm",
             "name": "Green"
            },
            {
             "common_name": "red",
             "description": "Red: 610-680 nm",
             "name": "Red"
            },
            {
             "common_name": "nir",
             "description": "Near Infrared: 780-890 nm",
             "name": "Near Infrared"
            },
            {
             "common_name": "swir",
             "description": "ShortWave Infrared: 1580-1750 nm",
             "name": "ShortWave Infrared"
            }
           ],
           "eodag_product_type": null,
           "eodag_provider": "astraea_eod",
           "eodag_search_intersection": {
            "geometries": [],
            "type": "GeometryCollection"
           },
           "instrument": null,
           "license": null,
           "missionStartDate": null,
           "platform": null,
           "platformSerialIdentifier": null,
           "processingLevel": null,
           "productType": "canada_spot5_orthoimages",
           "proj:epsg": 3979,
           "resolution": 20,
           "sensorType": null,
           "startTimeFromAscendingNode": "2007-05-04T00:00:00Z",
           "style": {
            "color": "red"
           },
           "title": "S5_08133_4340_20070504"
          },
          "type": "Feature"
         },
         {
          "geometry": {
           "coordinates": [
            [
             [
              -77.5086458,
              45.89066339999992
             ],
             [
              -77.3097434,
              46.411011399999936
             ],
             [
              -76.56018450000002,
              46.27010199999995
             ],
             [
              -76.766165,
              45.75074559999991
             ],
             [
              -77.5086458,
              45.89066339999992
             ]
            ]
           ],
           "type": "Polygon"
          },
          "id": "S5_07702_4605_20070505",
          "properties": {
           "abstract": null,
           "downloadLink": "https://eod-catalog-svc-prod.astraea.earth/collections/canada_spot5_orthoimages/items/S5_07702_4605_20070505",
           "eo:bands": [
            {
             "common_name": "panchromatic",
             "description": "Panchromatic: 480-710 nm",
             "name": "Panchromatic"
            },
            {
             "common_name": "green",
             "description": "Green: 500-590 nm",
             "name": "Green"
            },
            {
             "common_name": "red",
             "description": "Red: 610-680 nm",
             "name": "Red"
            },
            {
             "common_name": "nir",
             "description": "Near Infrared: 780-890 nm",
             "name": "Near Infrared"
            },
            {
             "common_name": "swir",
             "description": "ShortWave Infrared: 1580-1750 nm",
             "name": "ShortWave Infrared"
            }
           ],
           "eodag_product_type": null,
           "eodag_provider": "astraea_eod",
           "eodag_search_intersection": {
            "geometries": [],
            "type": "GeometryCollection"
           },
           "instrument": null,
           "license": null,
           "missionStartDate": null,
           "platform": null,
           "platformSerialIdentifier": null,
           "processingLevel": null,
           "productType": "canada_spot5_orthoimages",
           "proj:epsg": 3979,
           "resolution": 20,
           "sensorType": null,
           "startTimeFromAscendingNode": "2007-05-05T00:00:00Z",
           "style": {
            "color": "red"
           },
           "title": "S5_07702_4605_20070505"
          },
          "type": "Feature"
         },
         {
          "geometry": {
           "coordinates": [
            [
             [
              -75.635484,
              49.71080699998813
             ],
             [
              -75.4077832,
              50.22914529998913
             ],
             [
              -74.6039477,
              50.07893649998885
             ],
             [
              -74.839718,
              49.562025099987835
             ],
             [
              -75.635484,
              49.71080699998813
             ]
            ]
           ],
           "type": "Polygon"
          },
          "id": "S5_07507_4954_20070505",
          "properties": {
           "abstract": null,
           "downloadLink": "https://eod-catalog-svc-prod.astraea.earth/collections/canada_spot5_orthoimages/items/S5_07507_4954_20070505",
           "eo:bands": [
            {
             "common_name": "panchromatic",
             "description": "Panchromatic: 480-710 nm",
             "name": "Panchromatic"
            },
            {
             "common_name": "green",
             "description": "Green: 500-590 nm",
             "name": "Green"
            },
            {
             "common_name": "red",
             "description": "Red: 610-680 nm",
             "name": "Red"
            },
            {
             "common_name": "nir",
             "description": "Near Infrared: 780-890 nm",
             "name": "Near Infrared"
            },
            {
             "common_name": "swir",
             "description": "ShortWave Infrared: 1580-1750 nm",
             "name": "ShortWave Infrared"
            }
           ],
           "eodag_product_type": null,
           "eodag_provider": "astraea_eod",
           "eodag_search_intersection": {
            "geometries": [],
            "type": "GeometryCollection"
           },
           "instrument": null,
           "license": null,
           "missionStartDate": null,
           "platform": null,
           "platformSerialIdentifier": null,
           "processingLevel": null,
           "productType": "canada_spot5_orthoimages",
           "proj:epsg": 3979,
           "resolution": 20,
           "sensorType": null,
           "startTimeFromAscendingNode": "2007-05-05T00:00:00Z",
           "style": {
            "color": "red"
           },
           "title": "S5_07507_4954_20070505"
          },
          "type": "Feature"
         },
         {
          "geometry": {
           "coordinates": [
            [
             [
              -77.6897149,
              45.41003529999992
             ],
             [
              -77.493466,
              45.93058879999993
             ],
             [
              -76.7514935,
              45.790705999999915
             ],
             [
              -76.9536275,
              45.27084659999991
             ],
             [
              -77.6897149,
              45.41003529999992
             ]
            ]
           ],
           "type": "Polygon"
          },
          "id": "S5_07713_4536_20070505",
          "properties": {
           "abstract": null,
           "downloadLink": "https://eod-catalog-svc-prod.astraea.earth/collections/canada_spot5_orthoimages/items/S5_07713_4536_20070505",
           "eo:bands": [
            {
             "common_name": "panchromatic",
             "description": "Panchromatic: 480-710 nm",
             "name": "Panchromatic"
            },
            {
             "common_name": "green",
             "description": "Green: 500-590 nm",
             "name": "Green"
            },
            {
             "common_name": "red",
             "description": "Red: 610-680 nm",
             "name": "Red"
            },
            {
             "common_name": "nir",
             "description": "Near Infrared: 780-890 nm",
             "name": "Near Infrared"
            },
            {
             "common_name": "swir",
             "description": "ShortWave Infrared: 1580-1750 nm",
             "name": "ShortWave Infrared"
            }
           ],
           "eodag_product_type": null,
           "eodag_provider": "astraea_eod",
           "eodag_search_intersection": {
            "geometries": [],
            "type": "GeometryCollection"
           },
           "instrument": null,
           "license": null,
           "missionStartDate": null,
           "platform": null,
           "platformSerialIdentifier": null,
           "processingLevel": null,
           "productType": "canada_spot5_orthoimages",
           "proj:epsg": 3979,
           "resolution": 20,
           "sensorType": null,
           "startTimeFromAscendingNode": "2007-05-05T00:00:00Z",
           "style": {
            "color": "red"
           },
           "title": "S5_07713_4536_20070505"
          },
          "type": "Feature"
         },
         {
          "geometry": {
           "coordinates": [
            [
             [
              -82.19413800000001,
              43.002897899999866
             ],
             [
              -81.9983011,
              43.52332569999988
             ],
             [
              -81.2782497,
              43.3766073999999
             ],
             [
              -81.4785564,
              42.85763319999989
             ],
             [
              -82.19413800000001,
              43.002897899999866
             ]
            ]
           ],
           "type": "Polygon"
          },
          "id": "S5_08144_4311_20070504",
          "properties": {
           "abstract": null,
           "downloadLink": "https://eod-catalog-svc-prod.astraea.earth/collections/canada_spot5_orthoimages/items/S5_08144_4311_20070504",
           "eo:bands": [
            {
             "common_name": "panchromatic",
             "description": "Panchromatic: 480-710 nm",
             "name": "Panchromatic"
            },
            {
             "common_name": "green",
             "description": "Green: 500-590 nm",
             "name": "Green"
            },
            {
             "common_name": "red",
             "description": "Red: 610-680 nm",
             "name": "Red"
            },
            {
             "common_name": "nir",
             "description": "Near Infrared: 780-890 nm",
             "name": "Near Infrared"
            },
            {
             "common_name": "swir",
             "description": "ShortWave Infrared: 1580-1750 nm",
             "name": "ShortWave Infrared"
            }
           ],
           "eodag_product_type": null,
           "eodag_provider": "astraea_eod",
           "eodag_search_intersection": {
            "geometries": [],
            "type": "GeometryCollection"
           },
           "instrument": null,
           "license": null,
           "missionStartDate": null,
           "platform": null,
           "platformSerialIdentifier": null,
           "processingLevel": null,
           "productType": "canada_spot5_orthoimages",
           "proj:epsg": 3979,
           "resolution": 20,
           "sensorType": null,
           "startTimeFromAscendingNode": "2007-05-04T00:00:00Z",
           "style": {
            "color": "red"
           },
           "title": "S5_08144_4311_20070504"
          },
          "type": "Feature"
         },
         {
          "geometry": {
           "coordinates": [
            [
             [
              -82.1791361,
              44.93104039999991
             ],
             [
              -81.9785331,
              45.45127599999993
             ],
             [
              -81.2418256,
              45.30744029999992
             ],
             [
              -81.4473278,
              44.78835739999991
             ],
             [
              -82.1791361,
              44.93104039999991
             ]
            ]
           ],
           "type": "Polygon"
          },
          "id": "S5_08143_4507_20070504",
          "properties": {
           "abstract": null,
           "downloadLink": "https://eod-catalog-svc-prod.astraea.earth/collections/canada_spot5_orthoimages/items/S5_08143_4507_20070504",
           "eo:bands": [
            {
             "common_name": "panchromatic",
             "description": "Panchromatic: 480-710 nm",
             "name": "Panchromatic"
            },
            {
             "common_name": "green",
             "description": "Green: 500-590 nm",
             "name": "Green"
            },
            {
             "common_name": "red",
             "description": "Red: 610-680 nm",
             "name": "Red"
            },
            {
             "common_name": "nir",
             "description": "Near Infrared: 780-890 nm",
             "name": "Near Infrared"
            },
            {
             "common_name": "swir",
             "description": "ShortWave Infrared: 1580-1750 nm",
             "name": "ShortWave Infrared"
            }
           ],
           "eodag_product_type": null,
           "eodag_provider": "astraea_eod",
           "eodag_search_intersection": {
            "geometries": [],
            "type": "GeometryCollection"
           },
           "instrument": null,
           "license": null,
           "missionStartDate": null,
           "platform": null,
           "platformSerialIdentifier": null,
           "processingLevel": null,
           "productType": "canada_spot5_orthoimages",
           "proj:epsg": 3979,
           "resolution": 20,
           "sensorType": null,
           "startTimeFromAscendingNode": "2007-05-04T00:00:00Z",
           "style": {
            "color": "red"
           },
           "title": "S5_08143_4507_20070504"
          },
          "type": "Feature"
         },
         {
          "geometry": {
           "coordinates": [
            [
             [
              -81.82939060000001,
              43.97025879999991
             ],
             [
              -81.6293909,
              44.48955959999991
             ],
             [
              -80.8972191,
              44.341560399999906
             ],
             [
              -81.1035722,
              43.82257309999989
             ],
             [
              -81.82939060000001,
              43.97025879999991
             ]
            ]
           ],
           "type": "Polygon"
          },
          "id": "S5_08122_4409_20070504",
          "properties": {
           "abstract": null,
           "downloadLink": "https://eod-catalog-svc-prod.astraea.earth/collections/canada_spot5_orthoimages/items/S5_08122_4409_20070504",
           "eo:bands": [
            {
             "common_name": "panchromatic",
             "description": "Panchromatic: 480-710 nm",
             "name": "Panchromatic"
            },
            {
             "common_name": "green",
             "description": "Green: 500-590 nm",
             "name": "Green"
            },
            {
             "common_name": "red",
             "description": "Red: 610-680 nm",
             "name": "Red"
            },
            {
             "common_name": "nir",
             "description": "Near Infrared: 780-890 nm",
             "name": "Near Infrared"
            },
            {
             "common_name": "swir",
             "description": "ShortWave Infrared: 1580-1750 nm",
             "name": "ShortWave Infrared"
            }
           ],
           "eodag_product_type": null,
           "eodag_provider": "astraea_eod",
           "eodag_search_intersection": {
            "geometries": [],
            "type": "GeometryCollection"
           },
           "instrument": null,
           "license": null,
           "missionStartDate": null,
           "platform": null,
           "platformSerialIdentifier": null,
           "processingLevel": null,
           "productType": "canada_spot5_orthoimages",
           "proj:epsg": 3979,
           "resolution": 20,
           "sensorType": null,
           "startTimeFromAscendingNode": "2007-05-04T00:00:00Z",
           "style": {
            "color": "red"
           },
           "title": "S5_08122_4409_20070504"
          },
          "type": "Feature"
         },
         {
          "geometry": {
           "coordinates": [
            [
             [
              -85.0273477,
              46.859929499999936
             ],
             [
              -84.8043796,
              47.37592669998269
             ],
             [
              -84.02553680000001,
              47.21757089998226
             ],
             [
              -84.2562465,
              46.70048319999994
             ],
             [
              -85.0273477,
              46.859929499999936
             ]
            ]
           ],
           "type": "Polygon"
          },
          "id": "S5_08432_4702_20070503",
          "properties": {
           "abstract": null,
           "downloadLink": "https://eod-catalog-svc-prod.astraea.earth/collections/canada_spot5_orthoimages/items/S5_08432_4702_20070503",
           "eo:bands": [
            {
             "common_name": "panchromatic",
             "description": "Panchromatic: 480-710 nm",
             "name": "Panchromatic"
            },
            {
             "common_name": "green",
             "description": "Green: 500-590 nm",
             "name": "Green"
            },
            {
             "common_name": "red",
             "description": "Red: 610-680 nm",
             "name": "Red"
            },
            {
             "common_name": "nir",
             "description": "Near Infrared: 780-890 nm",
             "name": "Near Infrared"
            },
            {
             "common_name": "swir",
             "description": "ShortWave Infrared: 1580-1750 nm",
             "name": "ShortWave Infrared"
            }
           ],
           "eodag_product_type": null,
           "eodag_provider": "astraea_eod",
           "eodag_search_intersection": {
            "geometries": [],
            "type": "GeometryCollection"
           },
           "instrument": null,
           "license": null,
           "missionStartDate": null,
           "platform": null,
           "platformSerialIdentifier": null,
           "processingLevel": null,
           "productType": "canada_spot5_orthoimages",
           "proj:epsg": 3979,
           "resolution": 20,
           "sensorType": null,
           "startTimeFromAscendingNode": "2007-05-03T00:00:00Z",
           "style": {
            "color": "red"
           },
           "title": "S5_08432_4702_20070503"
          },
          "type": "Feature"
         },
         {
          "geometry": {
           "coordinates": [
            [
             [
              -84.9345337,
              48.765304799986104
             ],
             [
              -84.7042059,
              49.282367799987256
             ],
             [
              -83.9089622,
              49.126539399986925
             ],
             [
              -84.1474371,
              48.61051919998576
             ],
             [
              -84.9345337,
              48.765304799986104
             ]
            ]
           ],
           "type": "Polygon"
          },
          "id": "S5_08426_4857_20070503",
          "properties": {
           "abstract": null,
           "downloadLink": "https://eod-catalog-svc-prod.astraea.earth/collections/canada_spot5_orthoimages/items/S5_08426_4857_20070503",
           "eo:bands": [
            {
             "common_name": "panchromatic",
             "description": "Panchromatic: 480-710 nm",
             "name": "Panchromatic"
            },
            {
             "common_name": "green",
             "description": "Green: 500-590 nm",
             "name": "Green"
            },
            {
             "common_name": "red",
             "description": "Red: 610-680 nm",
             "name": "Red"
            },
            {
             "common_name": "nir",
             "description": "Near Infrared: 780-890 nm",
             "name": "Near Infrared"
            },
            {
             "common_name": "swir",
             "description": "ShortWave Infrared: 1580-1750 nm",
             "name": "ShortWave Infrared"
            }
           ],
           "eodag_product_type": null,
           "eodag_provider": "astraea_eod",
           "eodag_search_intersection": {
            "geometries": [],
            "type": "GeometryCollection"
           },
           "instrument": null,
           "license": null,
           "missionStartDate": null,
           "platform": null,
           "platformSerialIdentifier": null,
           "processingLevel": null,
           "productType": "canada_spot5_orthoimages",
           "proj:epsg": 3979,
           "resolution": 20,
           "sensorType": null,
           "startTimeFromAscendingNode": "2007-05-03T00:00:00Z",
           "style": {
            "color": "red"
           },
           "title": "S5_08426_4857_20070503"
          },
          "type": "Feature"
         },
         {
          "geometry": {
           "coordinates": [
            [
             [
              -84.8206206,
              47.3379771999826
             ],
             [
              -84.59384510000001,
              47.85419849998393
             ],
             [
              -83.8084865,
              47.69434859998355
             ],
             [
              -84.0433223,
              47.17892369998218
             ],
             [
              -84.8206206,
              47.3379771999826
             ]
            ]
           ],
           "type": "Polygon"
          },
          "id": "S5_08419_4731_20070503",
          "properties": {
           "abstract": null,
           "downloadLink": "https://eod-catalog-svc-prod.astraea.earth/collections/canada_spot5_orthoimages/items/S5_08419_4731_20070503",
           "eo:bands": [
            {
             "common_name": "panchromatic",
             "description": "Panchromatic: 480-710 nm",
             "name": "Panchromatic"
            },
            {
             "common_name": "green",
             "description": "Green: 500-590 nm",
             "name": "Green"
            },
            {
             "common_name": "red",
             "description": "Red: 610-680 nm",
             "name": "Red"
            },
            {
             "common_name": "nir",
             "description": "Near Infrared: 780-890 nm",
             "name": "Near Infrared"
            },
            {
             "common_name": "swir",
             "description": "ShortWave Infrared: 1580-1750 nm",
             "name": "ShortWave Infrared"
            }
           ],
           "eodag_product_type": null,
           "eodag_provider": "astraea_eod",
           "eodag_search_intersection": {
            "geometries": [],
            "type": "GeometryCollection"
           },
           "instrument": null,
           "license": null,
           "missionStartDate": null,
           "platform": null,
           "platformSerialIdentifier": null,
           "processingLevel": null,
           "productType": "canada_spot5_orthoimages",
           "proj:epsg": 3979,
           "resolution": 20,
           "sensorType": null,
           "startTimeFromAscendingNode": "2007-05-03T00:00:00Z",
           "style": {
            "color": "red"
           },
           "title": "S5_08419_4731_20070503"
          },
          "type": "Feature"
         },
         {
          "geometry": {
           "coordinates": [
            [
             [
              -86.1595605,
              49.23422629998713
             ],
             [
              -85.9407614,
              49.7529022999882
             ],
             [
              -85.1419636,
              49.60717919998791
             ],
             [
              -85.3685313,
              49.08959189998682
             ],
             [
              -86.1595605,
              49.23422629998713
             ]
            ]
           ],
           "type": "Polygon"
          },
          "id": "S5_08539_4925_20070503",
          "properties": {
           "abstract": null,
           "downloadLink": "https://eod-catalog-svc-prod.astraea.earth/collections/canada_spot5_orthoimages/items/S5_08539_4925_20070503",
           "eo:bands": [
            {
             "common_name": "panchromatic",
             "description": "Panchromatic: 480-710 nm",
             "name": "Panchromatic"
            },
            {
             "common_name": "green",
             "description": "Green: 500-590 nm",
             "name": "Green"
            },
            {
             "common_name": "red",
             "description": "Red: 610-680 nm",
             "name": "Red"
            },
            {
             "common_name": "nir",
             "description": "Near Infrared: 780-890 nm",
             "name": "Near Infrared"
            },
            {
             "common_name": "swir",
             "description": "ShortWave Infrared: 1580-1750 nm",
             "name": "ShortWave Infrared"
            }
           ],
           "eodag_product_type": null,
           "eodag_provider": "astraea_eod",
           "eodag_search_intersection": {
            "geometries": [],
            "type": "GeometryCollection"
           },
           "instrument": null,
           "license": null,
           "missionStartDate": null,
           "platform": null,
           "platformSerialIdentifier": null,
           "processingLevel": null,
           "productType": "canada_spot5_orthoimages",
           "proj:epsg": 3979,
           "resolution": 20,
           "sensorType": null,
           "startTimeFromAscendingNode": "2007-05-03T00:00:00Z",
           "style": {
            "color": "red"
           },
           "title": "S5_08539_4925_20070503"
          },
          "type": "Feature"
         },
         {
          "geometry": {
           "coordinates": [
            [
             [
              -81.4555888,
              44.9349105999999
             ],
             [
              -81.2491542,
              45.45280749999993
             ],
             [
              -80.5044075,
              45.30292019999991
             ],
             [
              -80.7183832,
              44.78516229999991
             ],
             [
              -81.4555888,
              44.9349105999999
             ]
            ]
           ],
           "type": "Polygon"
          },
          "id": "S5_08059_4507_20070504",
          "properties": {
           "abstract": null,
           "downloadLink": "https://eod-catalog-svc-prod.astraea.earth/collections/canada_spot5_orthoimages/items/S5_08059_4507_20070504",
           "eo:bands": [
            {
             "common_name": "panchromatic",
             "description": "Panchromatic: 480-710 nm",
             "name": "Panchromatic"
            },
            {
             "common_name": "green",
             "description": "Green: 500-590 nm",
             "name": "Green"
            },
            {
             "common_name": "red",
             "description": "Red: 610-680 nm",
             "name": "Red"
            },
            {
             "common_name": "nir",
             "description": "Near Infrared: 780-890 nm",
             "name": "Near Infrared"
            },
            {
             "common_name": "swir",
             "description": "ShortWave Infrared: 1580-1750 nm",
             "name": "ShortWave Infrared"
            }
           ],
           "eodag_product_type": null,
           "eodag_provider": "astraea_eod",
           "eodag_search_intersection": {
            "geometries": [],
            "type": "GeometryCollection"
           },
           "instrument": null,
           "license": null,
           "missionStartDate": null,
           "platform": null,
           "platformSerialIdentifier": null,
           "processingLevel": null,
           "productType": "canada_spot5_orthoimages",
           "proj:epsg": 3979,
           "resolution": 20,
           "sensorType": null,
           "startTimeFromAscendingNode": "2007-05-04T00:00:00Z",
           "style": {
            "color": "red"
           },
           "title": "S5_08059_4507_20070504"
          },
          "type": "Feature"
         },
         {
          "geometry": {
           "coordinates": [
            [
             [
              -77.8688576,
              44.92858479999993
             ],
             [
              -77.6751065,
              45.44990809999991
             ],
             [
              -76.9381127,
              45.3104741999999
             ],
             [
              -77.13831010000001,
              44.790157899999905
             ],
             [
              -77.8688576,
              44.92858479999993
             ]
            ]
           ],
           "type": "Polygon"
          },
          "id": "S5_07724_4507_20070505",
          "properties": {
           "abstract": null,
           "downloadLink": "https://eod-catalog-svc-prod.astraea.earth/collections/canada_spot5_orthoimages/items/S5_07724_4507_20070505",
           "eo:bands": [
            {
             "common_name": "panchromatic",
             "description": "Panchromatic: 480-710 nm",
             "name": "Panchromatic"
            },
            {
             "common_name": "green",
             "description": "Green: 500-590 nm",
             "name": "Green"
            },
            {
             "common_name": "red",
             "description": "Red: 610-680 nm",
             "name": "Red"
            },
            {
             "common_name": "nir",
             "description": "Near Infrared: 780-890 nm",
             "name": "Near Infrared"
            },
            {
             "common_name": "swir",
             "description": "ShortWave Infrared: 1580-1750 nm",
             "name": "ShortWave Infrared"
            }
           ],
           "eodag_product_type": null,
           "eodag_provider": "astraea_eod",
           "eodag_search_intersection": {
            "geometries": [],
            "type": "GeometryCollection"
           },
           "instrument": null,
           "license": null,
           "missionStartDate": null,
           "platform": null,
           "platformSerialIdentifier": null,
           "processingLevel": null,
           "productType": "canada_spot5_orthoimages",
           "proj:epsg": 3979,
           "resolution": 20,
           "sensorType": null,
           "startTimeFromAscendingNode": "2007-05-05T00:00:00Z",
           "style": {
            "color": "red"
           },
           "title": "S5_07724_4507_20070505"
          },
          "type": "Feature"
         },
         {
          "geometry": {
           "coordinates": [
            [
             [
              -81.6437402,
              44.45305149999991
             ],
             [
              -81.440283,
              44.97205759999991
             ],
             [
              -80.70280270000002,
              44.82283499999992
             ],
             [
              -80.91258470000001,
              44.304634199999924
             ],
             [
              -81.6437402,
              44.45305149999991
             ]
            ]
           ],
           "type": "Polygon"
          },
          "id": "S5_08111_4438_20070504",
          "properties": {
           "abstract": null,
           "downloadLink": "https://eod-catalog-svc-prod.astraea.earth/collections/canada_spot5_orthoimages/items/S5_08111_4438_20070504",
           "eo:bands": [
            {
             "common_name": "panchromatic",
             "description": "Panchromatic: 480-710 nm",
             "name": "Panchromatic"
            },
            {
             "common_name": "green",
             "description": "Green: 500-590 nm",
             "name": "Green"
            },
            {
             "common_name": "red",
             "description": "Red: 610-680 nm",
             "name": "Red"
            },
            {
             "common_name": "nir",
             "description": "Near Infrared: 780-890 nm",
             "name": "Near Infrared"
            },
            {
             "common_name": "swir",
             "description": "ShortWave Infrared: 1580-1750 nm",
             "name": "ShortWave Infrared"
            }
           ],
           "eodag_product_type": null,
           "eodag_provider": "astraea_eod",
           "eodag_search_intersection": {
            "geometries": [],
            "type": "GeometryCollection"
           },
           "instrument": null,
           "license": null,
           "missionStartDate": null,
           "platform": null,
           "platformSerialIdentifier": null,
           "processingLevel": null,
           "productType": "canada_spot5_orthoimages",
           "proj:epsg": 3979,
           "resolution": 20,
           "sensorType": null,
           "startTimeFromAscendingNode": "2007-05-04T00:00:00Z",
           "style": {
            "color": "red"
           },
           "title": "S5_08111_4438_20070504"
          },
          "type": "Feature"
         },
         {
          "geometry": {
           "coordinates": [
            [
             [
              -85.1430113,
              48.28905129998501
             ],
             [
              -84.9162353,
              48.80620119998619
             ],
             [
              -84.1287318,
              48.65145419998586
             ],
             [
              -84.3634894,
              48.135371299984634
             ],
             [
              -85.1430113,
              48.28905129998501
             ]
            ]
           ],
           "type": "Polygon"
          },
          "id": "S5_08438_4828_20070503",
          "properties": {
           "abstract": null,
           "downloadLink": "https://eod-catalog-svc-prod.astraea.earth/collections/canada_spot5_orthoimages/items/S5_08438_4828_20070503",
           "eo:bands": [
            {
             "common_name": "panchromatic",
             "description": "Panchromatic: 480-710 nm",
             "name": "Panchromatic"
            },
            {
             "common_name": "green",
             "description": "Green: 500-590 nm",
             "name": "Green"
            },
            {
             "common_name": "red",
             "description": "Red: 610-680 nm",
             "name": "Red"
            },
            {
             "common_name": "nir",
             "description": "Near Infrared: 780-890 nm",
             "name": "Near Infrared"
            },
            {
             "common_name": "swir",
             "description": "ShortWave Infrared: 1580-1750 nm",
             "name": "ShortWave Infrared"
            }
           ],
           "eodag_product_type": null,
           "eodag_provider": "astraea_eod",
           "eodag_search_intersection": {
            "geometries": [],
            "type": "GeometryCollection"
           },
           "instrument": null,
           "license": null,
           "missionStartDate": null,
           "platform": null,
           "platformSerialIdentifier": null,
           "processingLevel": null,
           "productType": "canada_spot5_orthoimages",
           "proj:epsg": 3979,
           "resolution": 20,
           "sensorType": null,
           "startTimeFromAscendingNode": "2007-05-03T00:00:00Z",
           "style": {
            "color": "red"
           },
           "title": "S5_08438_4828_20070503"
          },
          "type": "Feature"
         },
         {
          "geometry": {
           "coordinates": [
            [
             [
              -82.3604829,
              44.4490351999999
             ],
             [
              -82.1638974,
              44.969530699999915
             ],
             [
              -81.4321473,
              44.82679269999993
             ],
             [
              -81.6351024,
              44.307056199999906
             ],
             [
              -82.3604829,
              44.4490351999999
             ]
            ]
           ],
           "type": "Polygon"
          },
          "id": "S5_08154_4438_20070504",
          "properties": {
           "abstract": null,
           "downloadLink": "https://eod-catalog-svc-prod.astraea.earth/collections/canada_spot5_orthoimages/items/S5_08154_4438_20070504",
           "eo:bands": [
            {
             "common_name": "panchromatic",
             "description": "Panchromatic: 480-710 nm",
             "name": "Panchromatic"
            },
            {
             "common_name": "green",
             "description": "Green: 500-590 nm",
             "name": "Green"
            },
            {
             "common_name": "red",
             "description": "Red: 610-680 nm",
             "name": "Red"
            },
            {
             "common_name": "nir",
             "description": "Near Infrared: 780-890 nm",
             "name": "Near Infrared"
            },
            {
             "common_name": "swir",
             "description": "ShortWave Infrared: 1580-1750 nm",
             "name": "ShortWave Infrared"
            }
           ],
           "eodag_product_type": null,
           "eodag_provider": "astraea_eod",
           "eodag_search_intersection": {
            "geometries": [],
            "type": "GeometryCollection"
           },
           "instrument": null,
           "license": null,
           "missionStartDate": null,
           "platform": null,
           "platformSerialIdentifier": null,
           "processingLevel": null,
           "productType": "canada_spot5_orthoimages",
           "proj:epsg": 3979,
           "resolution": 20,
           "sensorType": null,
           "startTimeFromAscendingNode": "2007-05-04T00:00:00Z",
           "style": {
            "color": "red"
           },
           "title": "S5_08154_4438_20070504"
          },
          "type": "Feature"
         },
         {
          "geometry": {
           "coordinates": [
            [
             [
              -76.24385540000002,
              48.284491499985
             ],
             [
              -76.0261593,
              48.80282719998618
             ],
             [
              -75.24409010000001,
              48.65556529998587
             ],
             [
              -75.4693021,
              48.138179499984645
             ],
             [
              -76.24385540000002,
              48.284491499985
             ]
            ]
           ],
           "type": "Polygon"
          },
          "id": "S5_07545_4828_20070505",
          "properties": {
           "abstract": null,
           "downloadLink": "https://eod-catalog-svc-prod.astraea.earth/collections/canada_spot5_orthoimages/items/S5_07545_4828_20070505",
           "eo:bands": [
            {
             "common_name": "panchromatic",
             "description": "Panchromatic: 480-710 nm",
             "name": "Panchromatic"
            },
            {
             "common_name": "green",
             "description": "Green: 500-590 nm",
             "name": "Green"
            },
            {
             "common_name": "red",
             "description": "Red: 610-680 nm",
             "name": "Red"
            },
            {
             "common_name": "nir",
             "description": "Near Infrared: 780-890 nm",
             "name": "Near Infrared"
            },
            {
             "common_name": "swir",
             "description": "ShortWave Infrared: 1580-1750 nm",
             "name": "ShortWave Infrared"
            }
           ],
           "eodag_product_type": null,
           "eodag_provider": "astraea_eod",
           "eodag_search_intersection": {
            "geometries": [],
            "type": "GeometryCollection"
           },
           "instrument": null,
           "license": null,
           "missionStartDate": null,
           "platform": null,
           "platformSerialIdentifier": null,
           "processingLevel": null,
           "productType": "canada_spot5_orthoimages",
           "proj:epsg": 3979,
           "resolution": 20,
           "sensorType": null,
           "startTimeFromAscendingNode": "2007-05-05T00:00:00Z",
           "style": {
            "color": "red"
           },
           "title": "S5_07545_4828_20070505"
          },
          "type": "Feature"
         },
         {
          "geometry": {
           "coordinates": [
            [
             [
              -82.5399498,
              43.96653589999989
             ],
             [
              -82.3458555,
              44.4875308999999
             ],
             [
              -81.6429288,
              44.34954079999989
             ],
             [
              -81.861012,
              43.83442389999987
             ],
             [
              -82.5399498,
              43.96653589999989
             ]
            ]
           ],
           "type": "Polygon"
          },
          "id": "S5_08205_4409_20070504",
          "properties": {
           "abstract": null,
           "downloadLink": "https://eod-catalog-svc-prod.astraea.earth/collections/canada_spot5_orthoimages/items/S5_08205_4409_20070504",
           "eo:bands": [
            {
             "common_name": "panchromatic",
             "description": "Panchromatic: 480-710 nm",
             "name": "Panchromatic"
            },
            {
             "common_name": "green",
             "description": "Green: 500-590 nm",
             "name": "Green"
            },
            {
             "common_name": "red",
             "description": "Red: 610-680 nm",
             "name": "Red"
            },
            {
             "common_name": "nir",
             "description": "Near Infrared: 780-890 nm",
             "name": "Near Infrared"
            },
            {
             "common_name": "swir",
             "description": "ShortWave Infrared: 1580-1750 nm",
             "name": "ShortWave Infrared"
            }
           ],
           "eodag_product_type": null,
           "eodag_provider": "astraea_eod",
           "eodag_search_intersection": {
            "geometries": [],
            "type": "GeometryCollection"
           },
           "instrument": null,
           "license": null,
           "missionStartDate": null,
           "platform": null,
           "platformSerialIdentifier": null,
           "processingLevel": null,
           "productType": "canada_spot5_orthoimages",
           "proj:epsg": 3979,
           "resolution": 20,
           "sensorType": null,
           "startTimeFromAscendingNode": "2007-05-04T00:00:00Z",
           "style": {
            "color": "red"
           },
           "title": "S5_08205_4409_20070504"
          },
          "type": "Feature"
         },
         {
          "geometry": {
           "coordinates": [
            [
             [
              -75.8416676,
              49.236272499987166
             ],
             [
              -75.6169194,
              49.75401399998823
             ],
             [
              -74.8203005,
              49.60474209998792
             ],
             [
              -75.052923,
              49.08803909998684
             ],
             [
              -75.8416676,
              49.236272499987166
             ]
            ]
           ],
           "type": "Polygon"
          },
          "id": "S5_07520_4925_20070505",
          "properties": {
           "abstract": null,
           "downloadLink": "https://eod-catalog-svc-prod.astraea.earth/collections/canada_spot5_orthoimages/items/S5_07520_4925_20070505",
           "eo:bands": [
            {
             "common_name": "panchromatic",
             "description": "Panchromatic: 480-710 nm",
             "name": "Panchromatic"
            },
            {
             "common_name": "green",
             "description": "Green: 500-590 nm",
             "name": "Green"
            },
            {
             "common_name": "red",
             "description": "Red: 610-680 nm",
             "name": "Red"
            },
            {
             "common_name": "nir",
             "description": "Near Infrared: 780-890 nm",
             "name": "Near Infrared"
            },
            {
             "common_name": "swir",
             "description": "ShortWave Infrared: 1580-1750 nm",
             "name": "ShortWave Infrared"
            }
           ],
           "eodag_product_type": null,
           "eodag_provider": "astraea_eod",
           "eodag_search_intersection": {
            "geometries": [],
            "type": "GeometryCollection"
           },
           "instrument": null,
           "license": null,
           "missionStartDate": null,
           "platform": null,
           "platformSerialIdentifier": null,
           "processingLevel": null,
           "productType": "canada_spot5_orthoimages",
           "proj:epsg": 3979,
           "resolution": 20,
           "sensorType": null,
           "startTimeFromAscendingNode": "2007-05-05T00:00:00Z",
           "style": {
            "color": "red"
           },
           "title": "S5_07520_4925_20070505"
          },
          "type": "Feature"
         },
         {
          "geometry": {
           "coordinates": [
            [
             [
              -134.61285240000004,
              59.90237209999863
             ],
             [
              -134.2436326,
              60.40733679999877
             ],
             [
              -133.2247839,
              60.218067899998715
             ],
             [
              -133.60573870000002,
              59.715175899998535
             ],
             [
              -134.61285240000004,
              59.90237209999863
             ]
            ]
           ],
           "type": "Polygon"
          },
          "id": "S5_13355_6004_20070502",
          "properties": {
           "abstract": null,
           "downloadLink": "https://eod-catalog-svc-prod.astraea.earth/collections/canada_spot5_orthoimages/items/S5_13355_6004_20070502",
           "eo:bands": [
            {
             "common_name": "panchromatic",
             "description": "Panchromatic: 480-710 nm",
             "name": "Panchromatic"
            },
            {
             "common_name": "green",
             "description": "Green: 500-590 nm",
             "name": "Green"
            },
            {
             "common_name": "red",
             "description": "Red: 610-680 nm",
             "name": "Red"
            },
            {
             "common_name": "nir",
             "description": "Near Infrared: 780-890 nm",
             "name": "Near Infrared"
            },
            {
             "common_name": "swir",
             "description": "ShortWave Infrared: 1580-1750 nm",
             "name": "ShortWave Infrared"
            }
           ],
           "eodag_product_type": null,
           "eodag_provider": "astraea_eod",
           "eodag_search_intersection": {
            "geometries": [],
            "type": "GeometryCollection"
           },
           "instrument": null,
           "license": null,
           "missionStartDate": null,
           "platform": null,
           "platformSerialIdentifier": null,
           "processingLevel": null,
           "productType": "canada_spot5_orthoimages",
           "proj:epsg": 3979,
           "resolution": 20,
           "sensorType": null,
           "startTimeFromAscendingNode": "2007-05-02T00:00:00Z",
           "style": {
            "color": "red"
           },
           "title": "S5_13355_6004_20070502"
          },
          "type": "Feature"
         },
         {
          "geometry": {
           "coordinates": [
            [
             [
              -75.8321003,
              47.85693209998394
             ],
             [
              -75.5637798,
              48.363290499985176
             ],
             [
              -74.5776358,
              48.12570679998459
             ],
             [
              -74.8555234,
              47.61966979998332
             ],
             [
              -75.8321003,
              47.85693209998394
             ]
            ]
           ],
           "type": "Polygon"
          },
          "id": "S5_07513_4760_20070504",
          "properties": {
           "abstract": null,
           "downloadLink": "https://eod-catalog-svc-prod.astraea.earth/collections/canada_spot5_orthoimages/items/S5_07513_4760_20070504",
           "eo:bands": [
            {
             "common_name": "panchromatic",
             "description": "Panchromatic: 480-710 nm",
             "name": "Panchromatic"
            },
            {
             "common_name": "green",
             "description": "Green: 500-590 nm",
             "name": "Green"
            },
            {
             "common_name": "red",
             "description": "Red: 610-680 nm",
             "name": "Red"
            },
            {
             "common_name": "nir",
             "description": "Near Infrared: 780-890 nm",
             "name": "Near Infrared"
            },
            {
             "common_name": "swir",
             "description": "ShortWave Infrared: 1580-1750 nm",
             "name": "ShortWave Infrared"
            }
           ],
           "eodag_product_type": null,
           "eodag_provider": "astraea_eod",
           "eodag_search_intersection": {
            "geometries": [],
            "type": "GeometryCollection"
           },
           "instrument": null,
           "license": null,
           "missionStartDate": null,
           "platform": null,
           "platformSerialIdentifier": null,
           "processingLevel": null,
           "productType": "canada_spot5_orthoimages",
           "proj:epsg": 3979,
           "resolution": 20,
           "sensorType": null,
           "startTimeFromAscendingNode": "2007-05-04T00:00:00Z",
           "style": {
            "color": "red"
           },
           "title": "S5_07513_4760_20070504"
          },
          "type": "Feature"
         }
        ],
        "type": "FeatureCollection"
       },
       "name": "",
       "options": [],
       "popup": null,
       "popup_max_height": null,
       "popup_max_width": 300,
       "popup_min_width": 50,
       "style": {
        "color": "red"
       }
      }
     },
     "ed3fd29269524ecb8f3992882e98f646": {
      "model_module": "jupyter-leaflet",
      "model_module_version": "^0.13.5",
      "model_name": "LeafletMapStyleModel",
      "state": {
       "_model_module_version": "^0.13.5"
      }
     }
    },
    "version_major": 2,
    "version_minor": 0
   }
  }
 },
 "nbformat": 4,
 "nbformat_minor": 5
}
