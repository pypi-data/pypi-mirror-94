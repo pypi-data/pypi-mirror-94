{
 "cells": [
  {
   "cell_type": "markdown",
   "metadata": {},
   "source": [
    "# Histogrammar basic tutorial\n",
    "\n",
    "Histogrammar is a Python package that allows you to make histograms from numpy arrays, and pandas and spark dataframes. (There is also a scala backend for Histogrammar.) \n",
    "\n",
    "This basic tutorial shows how to:\n",
    "- make histograms with numpy arrays and pandas dataframes, \n",
    "- plot them, \n",
    "- make multi-dimensional histograms,\n",
    "- the various histogram types,\n",
    "- to make many histograms at ones,\n",
    "- and store and retrieve them. \n",
    "\n",
    "Enjoy!"
   ]
  },
  {
   "cell_type": "code",
   "execution_count": 1,
   "metadata": {},
   "outputs": [
    {
     "ename": "AssertionError",
     "evalue": "",
     "output_type": "error",
     "traceback": [
      "\u001b[0;31m---------------------------------------------------------------------------\u001b[0m",
      "\u001b[0;31mAssertionError\u001b[0m                            Traceback (most recent call last)",
      "\u001b[0;32m<ipython-input-1-6253fe423194>\u001b[0m in \u001b[0;36m<module>\u001b[0;34m\u001b[0m\n\u001b[1;32m     10\u001b[0m \u001b[0mhist\u001b[0m \u001b[0;34m=\u001b[0m \u001b[0mhg\u001b[0m\u001b[0;34m.\u001b[0m\u001b[0mHistogram\u001b[0m\u001b[0;34m(\u001b[0m\u001b[0mnum\u001b[0m\u001b[0;34m=\u001b[0m\u001b[0;36m100\u001b[0m\u001b[0;34m,\u001b[0m \u001b[0mlow\u001b[0m\u001b[0;34m=\u001b[0m\u001b[0;36m0\u001b[0m\u001b[0;34m,\u001b[0m \u001b[0mhigh\u001b[0m\u001b[0;34m=\u001b[0m\u001b[0;36m100\u001b[0m\u001b[0;34m,\u001b[0m \u001b[0mquantity\u001b[0m\u001b[0;34m=\u001b[0m\u001b[0;34m'age'\u001b[0m\u001b[0;34m)\u001b[0m\u001b[0;34m\u001b[0m\u001b[0;34m\u001b[0m\u001b[0m\n\u001b[1;32m     11\u001b[0m \u001b[0;31m# fill the histogram with column 'age'\u001b[0m\u001b[0;34m\u001b[0m\u001b[0;34m\u001b[0m\u001b[0;34m\u001b[0m\u001b[0m\n\u001b[0;32m---> 12\u001b[0;31m \u001b[0mhist\u001b[0m\u001b[0;34m.\u001b[0m\u001b[0mfill\u001b[0m\u001b[0;34m.\u001b[0m\u001b[0mnumpy\u001b[0m\u001b[0;34m(\u001b[0m\u001b[0mdf\u001b[0m\u001b[0;34m)\u001b[0m\u001b[0;34m\u001b[0m\u001b[0;34m\u001b[0m\u001b[0m\n\u001b[0m\u001b[1;32m     13\u001b[0m \u001b[0;31m# and plot it\u001b[0m\u001b[0;34m\u001b[0m\u001b[0;34m\u001b[0m\u001b[0;34m\u001b[0m\u001b[0m\n\u001b[1;32m     14\u001b[0m \u001b[0mhist\u001b[0m\u001b[0;34m.\u001b[0m\u001b[0mplot\u001b[0m\u001b[0;34m.\u001b[0m\u001b[0mmatplotlib\u001b[0m\u001b[0;34m(\u001b[0m\u001b[0;34m)\u001b[0m\u001b[0;34m\u001b[0m\u001b[0;34m\u001b[0m\u001b[0m\n",
      "\u001b[0;32m/opt/work/histogrammar/defs.py\u001b[0m in \u001b[0;36mfillnumpy\u001b[0;34m(self, data)\u001b[0m\n\u001b[1;32m   1344\u001b[0m     \u001b[0;32mdef\u001b[0m \u001b[0mfillnumpy\u001b[0m\u001b[0;34m(\u001b[0m\u001b[0mself\u001b[0m\u001b[0;34m,\u001b[0m \u001b[0mdata\u001b[0m\u001b[0;34m)\u001b[0m\u001b[0;34m:\u001b[0m\u001b[0;34m\u001b[0m\u001b[0;34m\u001b[0m\u001b[0m\n\u001b[1;32m   1345\u001b[0m         \u001b[0mself\u001b[0m\u001b[0;34m.\u001b[0m\u001b[0m_checkForCrossReferences\u001b[0m\u001b[0;34m(\u001b[0m\u001b[0;34m)\u001b[0m\u001b[0;34m\u001b[0m\u001b[0;34m\u001b[0m\u001b[0m\n\u001b[0;32m-> 1346\u001b[0;31m         \u001b[0mself\u001b[0m\u001b[0;34m.\u001b[0m\u001b[0m_numpy\u001b[0m\u001b[0;34m(\u001b[0m\u001b[0mdata\u001b[0m\u001b[0;34m,\u001b[0m \u001b[0;36m1.0\u001b[0m\u001b[0;34m,\u001b[0m \u001b[0;34m[\u001b[0m\u001b[0;32mNone\u001b[0m\u001b[0;34m]\u001b[0m\u001b[0;34m)\u001b[0m\u001b[0;34m\u001b[0m\u001b[0;34m\u001b[0m\u001b[0m\n\u001b[0m\u001b[1;32m   1347\u001b[0m \u001b[0;34m\u001b[0m\u001b[0m\n\u001b[1;32m   1348\u001b[0m     \u001b[0;32mdef\u001b[0m \u001b[0m_checkNPQuantity\u001b[0m\u001b[0;34m(\u001b[0m\u001b[0mself\u001b[0m\u001b[0;34m,\u001b[0m \u001b[0mq\u001b[0m\u001b[0;34m,\u001b[0m \u001b[0mshape\u001b[0m\u001b[0;34m)\u001b[0m\u001b[0;34m:\u001b[0m\u001b[0;34m\u001b[0m\u001b[0;34m\u001b[0m\u001b[0m\n",
      "\u001b[0;32m/opt/work/histogrammar/primitives/select.py\u001b[0m in \u001b[0;36m_numpy\u001b[0;34m(self, data, weights, shape)\u001b[0m\n\u001b[1;32m    312\u001b[0m     \u001b[0;32mdef\u001b[0m \u001b[0m_numpy\u001b[0m\u001b[0;34m(\u001b[0m\u001b[0mself\u001b[0m\u001b[0;34m,\u001b[0m \u001b[0mdata\u001b[0m\u001b[0;34m,\u001b[0m \u001b[0mweights\u001b[0m\u001b[0;34m,\u001b[0m \u001b[0mshape\u001b[0m\u001b[0;34m)\u001b[0m\u001b[0;34m:\u001b[0m\u001b[0;34m\u001b[0m\u001b[0;34m\u001b[0m\u001b[0m\n\u001b[1;32m    313\u001b[0m         \u001b[0mw\u001b[0m \u001b[0;34m=\u001b[0m \u001b[0mself\u001b[0m\u001b[0;34m.\u001b[0m\u001b[0mquantity\u001b[0m\u001b[0;34m(\u001b[0m\u001b[0mdata\u001b[0m\u001b[0;34m)\u001b[0m\u001b[0;34m\u001b[0m\u001b[0;34m\u001b[0m\u001b[0m\n\u001b[0;32m--> 314\u001b[0;31m         \u001b[0mself\u001b[0m\u001b[0;34m.\u001b[0m\u001b[0m_checkNPQuantity\u001b[0m\u001b[0;34m(\u001b[0m\u001b[0mw\u001b[0m\u001b[0;34m,\u001b[0m \u001b[0mshape\u001b[0m\u001b[0;34m)\u001b[0m\u001b[0;34m\u001b[0m\u001b[0;34m\u001b[0m\u001b[0m\n\u001b[0m\u001b[1;32m    315\u001b[0m         \u001b[0mself\u001b[0m\u001b[0;34m.\u001b[0m\u001b[0m_checkNPWeights\u001b[0m\u001b[0;34m(\u001b[0m\u001b[0mweights\u001b[0m\u001b[0;34m,\u001b[0m \u001b[0mshape\u001b[0m\u001b[0;34m)\u001b[0m\u001b[0;34m\u001b[0m\u001b[0;34m\u001b[0m\u001b[0m\n\u001b[1;32m    316\u001b[0m         \u001b[0mweights\u001b[0m \u001b[0;34m=\u001b[0m \u001b[0mself\u001b[0m\u001b[0;34m.\u001b[0m\u001b[0m_makeNPWeights\u001b[0m\u001b[0;34m(\u001b[0m\u001b[0mweights\u001b[0m\u001b[0;34m,\u001b[0m \u001b[0mshape\u001b[0m\u001b[0;34m)\u001b[0m\u001b[0;34m\u001b[0m\u001b[0;34m\u001b[0m\u001b[0m\n",
      "\u001b[0;32m/opt/work/histogrammar/defs.py\u001b[0m in \u001b[0;36m_checkNPQuantity\u001b[0;34m(self, q, shape)\u001b[0m\n\u001b[1;32m   1350\u001b[0m         \u001b[0;32mif\u001b[0m \u001b[0misinstance\u001b[0m\u001b[0;34m(\u001b[0m\u001b[0mq\u001b[0m\u001b[0;34m,\u001b[0m \u001b[0;34m(\u001b[0m\u001b[0mlist\u001b[0m\u001b[0;34m,\u001b[0m \u001b[0mtuple\u001b[0m\u001b[0;34m)\u001b[0m\u001b[0;34m)\u001b[0m\u001b[0;34m:\u001b[0m\u001b[0;34m\u001b[0m\u001b[0;34m\u001b[0m\u001b[0m\n\u001b[1;32m   1351\u001b[0m             \u001b[0mq\u001b[0m \u001b[0;34m=\u001b[0m \u001b[0mnumpy\u001b[0m\u001b[0;34m.\u001b[0m\u001b[0marray\u001b[0m\u001b[0;34m(\u001b[0m\u001b[0mq\u001b[0m\u001b[0;34m)\u001b[0m\u001b[0;34m\u001b[0m\u001b[0;34m\u001b[0m\u001b[0m\n\u001b[0;32m-> 1352\u001b[0;31m         \u001b[0;32massert\u001b[0m \u001b[0misinstance\u001b[0m\u001b[0;34m(\u001b[0m\u001b[0mq\u001b[0m\u001b[0;34m,\u001b[0m \u001b[0mnumpy\u001b[0m\u001b[0;34m.\u001b[0m\u001b[0mndarray\u001b[0m\u001b[0;34m)\u001b[0m\u001b[0;34m\u001b[0m\u001b[0;34m\u001b[0m\u001b[0m\n\u001b[0m\u001b[1;32m   1353\u001b[0m         \u001b[0;32massert\u001b[0m \u001b[0mlen\u001b[0m\u001b[0;34m(\u001b[0m\u001b[0mq\u001b[0m\u001b[0;34m.\u001b[0m\u001b[0mshape\u001b[0m\u001b[0;34m)\u001b[0m \u001b[0;34m==\u001b[0m \u001b[0;36m1\u001b[0m\u001b[0;34m\u001b[0m\u001b[0;34m\u001b[0m\u001b[0m\n\u001b[1;32m   1354\u001b[0m         \u001b[0;32mif\u001b[0m \u001b[0mshape\u001b[0m\u001b[0;34m[\u001b[0m\u001b[0;36m0\u001b[0m\u001b[0;34m]\u001b[0m \u001b[0;32mis\u001b[0m \u001b[0;32mNone\u001b[0m\u001b[0;34m:\u001b[0m\u001b[0;34m\u001b[0m\u001b[0;34m\u001b[0m\u001b[0m\n",
      "\u001b[0;31mAssertionError\u001b[0m: "
     ]
    }
   ],
   "source": [
    "import pandas as pd\n",
    "import histogrammar as hg\n",
    "from histogrammar import resources\n",
    "\n",
    "# open synthetic data\n",
    "df = pd.read_csv(resources.data('test.csv.gz'), parse_dates=['date'])\n",
    "df.head()\n",
    "\n",
    "# create a histogram, tell it to look for column 'age'\n",
    "hist = hg.Histogram(num=100, low=0, high=100, quantity='age')\n",
    "# fill the histogram with column 'age'\n",
    "hist.fill.numpy(df)\n",
    "# and plot it\n",
    "hist.plot.matplotlib()\n",
    "\n",
    "# generate histograms of all features in the dataframe using automatic binning\n",
    "# (importing histogrammar automatically adds this functionality to a pandas or spark dataframe)\n",
    "hists = df.hg_make_histograms()\n",
    "print(hists.keys())\n",
    "\n",
    "# multi-dimensional histograms are also supported: longitude vs latitude\n",
    "hists = df.hg_make_histograms(features=['longitude:latitude'])\n",
    "ll = hists['longitude:latitude']\n",
    "ll.plot.matplotlib()\n",
    "\n",
    "# store histogram\n",
    "ll.toJsonFile('longitude:latitude.json')\n",
    "# and retrieve it again\n",
    "factory = hg.Factory()\n",
    "ll2 = factory.fromJsonFile('long_age.json')\n",
    "ll2.plot.matplotlib()\n"
   ]
  },
  {
   "cell_type": "code",
   "execution_count": 2,
   "metadata": {},
   "outputs": [
    {
     "data": {
      "text/plain": [
       "<AxesSubplot:title={'center':'SparselyBin'}>"
      ]
     },
     "execution_count": 2,
     "metadata": {},
     "output_type": "execute_result"
    },
    {
     "data": {
      "image/png": "[encoded data removed]",
      "text/plain": [
       "<Figure size 432x288 with 1 Axes>"
      ]
     },
     "metadata": {
      "needs_background": "light"
     },
     "output_type": "display_data"
    }
   ],
   "source": [
    "hist = hg.SparselyHistogram(binWidth=1, quantity='age')\n",
    "# fill the histogram with column 'age'\n",
    "hist.fill.numpy(df)\n",
    "# and plot it\n",
    "hist.plot.matplotlib()\n"
   ]
  },
  {
   "cell_type": "code",
   "execution_count": null,
   "metadata": {},
   "outputs": [],
   "source": []
  },
  {
   "cell_type": "code",
   "execution_count": null,
   "metadata": {},
   "outputs": [],
   "source": []
  },
  {
   "cell_type": "code",
   "execution_count": 8,
   "metadata": {},
   "outputs": [
    {
     "name": "stderr",
     "output_type": "stream",
     "text": [
      "100%|████████████████████████████████████████████████████████████████| 7/7 [00:00<00:00, 121.55it/s]\n"
     ]
    }
   ],
   "source": [
    "# histogram selections. Here 'date' is the first axis of each histogram.\n",
    "features=[\n",
    "  'date:isActive', 'date:age', 'date:eyeColor', 'date:gender',\n",
    "  'date:latitude', 'date:longitude', 'date:isActive:age'\n",
    "]\n",
    "\n",
    "# Specify your own binning specifications for individual features or combinations thereof.\n",
    "# This bin specification uses open-ended (\"sparse\") histograms; unspecified features get\n",
    "# auto-binned. The time-axis binning, when specified here, needs to be in nanoseconds.\n",
    "bin_specs={\n",
    "  'longitude': {'bin_width': 5.0, 'bin_offset': 0.0},\n",
    "  'latitude': {'bin_width': 5.0, 'bin_offset': 0.0},\n",
    "  'age': {'bin_width': 10.0, 'bin_offset': 0.0},\n",
    "  'date': {'bin_width': pd.Timedelta('4w').value,\n",
    "           'bin_offset': pd.Timestamp('2015-1-1').value}\n",
    "}\n",
    "\n",
    "# generate histograms with these bin specifications\n",
    "hists = df.hg_make_histograms(features=features, bin_specs=bin_specs)\n"
   ]
  },
  {
   "cell_type": "code",
   "execution_count": 1,
   "metadata": {},
   "outputs": [],
   "source": [
    "%%capture\n",
    "# install histogrammar (if not installed yet)\n",
    "import sys\n",
    "\n",
    "!\"{sys.executable}\" -m pip install histogrammar"
   ]
  },
  {
   "cell_type": "code",
   "execution_count": 2,
   "metadata": {},
   "outputs": [],
   "source": [
    "import histogrammar as hg"
   ]
  },
  {
   "cell_type": "code",
   "execution_count": 3,
   "metadata": {},
   "outputs": [],
   "source": [
    "import pandas as pd\n",
    "import numpy as np\n",
    "import matplotlib"
   ]
  },
  {
   "cell_type": "markdown",
   "metadata": {},
   "source": [
    "## Data generation\n",
    "Let's first load some data!"
   ]
  },
  {
   "cell_type": "code",
   "execution_count": 4,
   "metadata": {},
   "outputs": [],
   "source": [
    "# open a pandas dataframe for use below\n",
    "from histogrammar import resources\n",
    "df = pd.read_csv(resources.data(\"test.csv.gz\"), parse_dates=[\"date\"])"
   ]
  },
  {
   "cell_type": "code",
   "execution_count": 5,
   "metadata": {},
   "outputs": [
    {
     "data": {
      "text/html": [
       "<div>\n",
       "<style scoped>\n",
       "    .dataframe tbody tr th:only-of-type {\n",
       "        vertical-align: middle;\n",
       "    }\n",
       "\n",
       "    .dataframe tbody tr th {\n",
       "        vertical-align: top;\n",
       "    }\n",
       "\n",
       "    .dataframe thead th {\n",
       "        text-align: right;\n",
       "    }\n",
       "</style>\n",
       "<table border=\"1\" class=\"dataframe\">\n",
       "  <thead>\n",
       "    <tr style=\"text-align: right;\">\n",
       "      <th></th>\n",
       "      <th>_id</th>\n",
       "      <th>address</th>\n",
       "      <th>age</th>\n",
       "      <th>balance</th>\n",
       "      <th>company</th>\n",
       "      <th>email</th>\n",
       "      <th>eyeColor</th>\n",
       "      <th>favoriteFruit</th>\n",
       "      <th>gender</th>\n",
       "      <th>guid</th>\n",
       "      <th>...</th>\n",
       "      <th>isActive</th>\n",
       "      <th>latitude</th>\n",
       "      <th>longitude</th>\n",
       "      <th>name</th>\n",
       "      <th>phone</th>\n",
       "      <th>registered</th>\n",
       "      <th>tags</th>\n",
       "      <th>transaction</th>\n",
       "      <th>currency</th>\n",
       "      <th>date</th>\n",
       "    </tr>\n",
       "  </thead>\n",
       "  <tbody>\n",
       "    <tr>\n",
       "      <th>0</th>\n",
       "      <td>565ebe61ffa6f757b5029f29</td>\n",
       "      <td>109 Monument Walk, Vicksburg, California, 6247</td>\n",
       "      <td>16</td>\n",
       "      <td>$1,333.24</td>\n",
       "      <td>DOGSPA</td>\n",
       "      <td>tamekajoyce@dogspa.com</td>\n",
       "      <td>grey</td>\n",
       "      <td>banana</td>\n",
       "      <td>female</td>\n",
       "      <td>c06a96e4-31e2-426e-aa5a-51e3c71991aa</td>\n",
       "      <td>...</td>\n",
       "      <td>False</td>\n",
       "      <td>18.821230</td>\n",
       "      <td>-131.721235</td>\n",
       "      <td>Tameka Joyce</td>\n",
       "      <td>+1 (914) 553-2622</td>\n",
       "      <td>2015-05-02T07:39:52 -02:00</td>\n",
       "      <td>['anim', 'eu', 'proident', 'duis', 'et', 'sit'...</td>\n",
       "      <td>1131.03</td>\n",
       "      <td>DOL</td>\n",
       "      <td>2015-05-02 07:39:52</td>\n",
       "    </tr>\n",
       "    <tr>\n",
       "      <th>1</th>\n",
       "      <td>565ebe616e073b23430d7052</td>\n",
       "      <td>602 Harkness Avenue, Tyhee, Arizona, 5853</td>\n",
       "      <td>57</td>\n",
       "      <td>$3,777.44</td>\n",
       "      <td>APPLICA</td>\n",
       "      <td>rosettaflynn@applica.com</td>\n",
       "      <td>brown</td>\n",
       "      <td>banana</td>\n",
       "      <td>female</td>\n",
       "      <td>6bbcaf11-a6b9-4f00-9db1-84fc11161526</td>\n",
       "      <td>...</td>\n",
       "      <td>True</td>\n",
       "      <td>-82.134610</td>\n",
       "      <td>52.720886</td>\n",
       "      <td>Rosetta Flynn</td>\n",
       "      <td>+1 (984) 525-3783</td>\n",
       "      <td>2015-06-16T08:08:53 -02:00</td>\n",
       "      <td>['in', 'non', 'exercitation', 'dolor', 'aliqui...</td>\n",
       "      <td>-896.55</td>\n",
       "      <td>DOL</td>\n",
       "      <td>2015-06-16 08:08:53</td>\n",
       "    </tr>\n",
       "    <tr>\n",
       "      <th>2</th>\n",
       "      <td>565ebe6141fdb23a67dd7584</td>\n",
       "      <td>286 Fay Court, Forbestown, Pennsylvania, 6141</td>\n",
       "      <td>26</td>\n",
       "      <td>$1,248.97</td>\n",
       "      <td>HOMETOWN</td>\n",
       "      <td>kathiemurray@hometown.com</td>\n",
       "      <td>blue</td>\n",
       "      <td>strawberry</td>\n",
       "      <td>female</td>\n",
       "      <td>b85ef702-39f4-42dd-a87f-ce97864c3551</td>\n",
       "      <td>...</td>\n",
       "      <td>True</td>\n",
       "      <td>62.383017</td>\n",
       "      <td>-85.223346</td>\n",
       "      <td>Kathie Murray</td>\n",
       "      <td>+1 (859) 442-2358</td>\n",
       "      <td>2015-10-26T07:34:56 -01:00</td>\n",
       "      <td>['culpa', 'sint', 'Lorem', 'culpa', 'veniam', ...</td>\n",
       "      <td>1224.04</td>\n",
       "      <td>DOL</td>\n",
       "      <td>2015-10-26 07:34:56</td>\n",
       "    </tr>\n",
       "    <tr>\n",
       "      <th>3</th>\n",
       "      <td>565ebe61c33636f6df907b06</td>\n",
       "      <td>617 Baycliff Terrace, Castleton, Oklahoma, 7714</td>\n",
       "      <td>63</td>\n",
       "      <td>$1,049.77</td>\n",
       "      <td>ISIS</td>\n",
       "      <td>bennetthahn@isis.com</td>\n",
       "      <td>green</td>\n",
       "      <td>strawberry</td>\n",
       "      <td>male</td>\n",
       "      <td>b42f1df9-839f-4f39-b3de-7ea3ac177786</td>\n",
       "      <td>...</td>\n",
       "      <td>True</td>\n",
       "      <td>-26.913326</td>\n",
       "      <td>-67.825793</td>\n",
       "      <td>Bennett Hahn</td>\n",
       "      <td>+1 (894) 564-2079</td>\n",
       "      <td>2015-06-04T01:59:25 -02:00</td>\n",
       "      <td>['et', 'cillum', 'cillum', 'ad', 'laborum', 'c...</td>\n",
       "      <td>541.08</td>\n",
       "      <td>DOL</td>\n",
       "      <td>2015-06-04 01:59:25</td>\n",
       "    </tr>\n",
       "    <tr>\n",
       "      <th>4</th>\n",
       "      <td>565ebe61225511fd3288bb63</td>\n",
       "      <td>262 Scholes Street, Fillmore, Utah, 2905</td>\n",
       "      <td>74</td>\n",
       "      <td>$2,942.64</td>\n",
       "      <td>FUTURITY</td>\n",
       "      <td>cottoncarson@futurity.com</td>\n",
       "      <td>red</td>\n",
       "      <td>strawberry</td>\n",
       "      <td>male</td>\n",
       "      <td>14e518aa-2701-4397-94e7-72b9c27655ad</td>\n",
       "      <td>...</td>\n",
       "      <td>False</td>\n",
       "      <td>-2.777228</td>\n",
       "      <td>155.341981</td>\n",
       "      <td>Cotton Carson</td>\n",
       "      <td>+1 (825) 597-2328</td>\n",
       "      <td>2015-03-25T10:09:35 -01:00</td>\n",
       "      <td>['labore', 'ea', 'officia', 'aliquip', 'nostru...</td>\n",
       "      <td>-372.62</td>\n",
       "      <td>DOL</td>\n",
       "      <td>2015-03-25 10:09:35</td>\n",
       "    </tr>\n",
       "  </tbody>\n",
       "</table>\n",
       "<p>5 rows × 21 columns</p>\n",
       "</div>"
      ],
      "text/plain": [
       "                        _id                                          address  \\\n",
       "0  565ebe61ffa6f757b5029f29   109 Monument Walk, Vicksburg, California, 6247   \n",
       "1  565ebe616e073b23430d7052        602 Harkness Avenue, Tyhee, Arizona, 5853   \n",
       "2  565ebe6141fdb23a67dd7584    286 Fay Court, Forbestown, Pennsylvania, 6141   \n",
       "3  565ebe61c33636f6df907b06  617 Baycliff Terrace, Castleton, Oklahoma, 7714   \n",
       "4  565ebe61225511fd3288bb63         262 Scholes Street, Fillmore, Utah, 2905   \n",
       "\n",
       "   age    balance   company                      email eyeColor favoriteFruit  \\\n",
       "0   16  $1,333.24    DOGSPA     tamekajoyce@dogspa.com     grey        banana   \n",
       "1   57  $3,777.44   APPLICA   rosettaflynn@applica.com    brown        banana   \n",
       "2   26  $1,248.97  HOMETOWN  kathiemurray@hometown.com     blue    strawberry   \n",
       "3   63  $1,049.77      ISIS       bennetthahn@isis.com    green    strawberry   \n",
       "4   74  $2,942.64  FUTURITY  cottoncarson@futurity.com      red    strawberry   \n",
       "\n",
       "   gender                                  guid  ...  isActive   latitude  \\\n",
       "0  female  c06a96e4-31e2-426e-aa5a-51e3c71991aa  ...     False  18.821230   \n",
       "1  female  6bbcaf11-a6b9-4f00-9db1-84fc11161526  ...      True -82.134610   \n",
       "2  female  b85ef702-39f4-42dd-a87f-ce97864c3551  ...      True  62.383017   \n",
       "3    male  b42f1df9-839f-4f39-b3de-7ea3ac177786  ...      True -26.913326   \n",
       "4    male  14e518aa-2701-4397-94e7-72b9c27655ad  ...     False  -2.777228   \n",
       "\n",
       "    longitude           name              phone                  registered  \\\n",
       "0 -131.721235   Tameka Joyce  +1 (914) 553-2622  2015-05-02T07:39:52 -02:00   \n",
       "1   52.720886  Rosetta Flynn  +1 (984) 525-3783  2015-06-16T08:08:53 -02:00   \n",
       "2  -85.223346  Kathie Murray  +1 (859) 442-2358  2015-10-26T07:34:56 -01:00   \n",
       "3  -67.825793   Bennett Hahn  +1 (894) 564-2079  2015-06-04T01:59:25 -02:00   \n",
       "4  155.341981  Cotton Carson  +1 (825) 597-2328  2015-03-25T10:09:35 -01:00   \n",
       "\n",
       "                                                tags transaction  currency  \\\n",
       "0  ['anim', 'eu', 'proident', 'duis', 'et', 'sit'...     1131.03       DOL   \n",
       "1  ['in', 'non', 'exercitation', 'dolor', 'aliqui...     -896.55       DOL   \n",
       "2  ['culpa', 'sint', 'Lorem', 'culpa', 'veniam', ...     1224.04       DOL   \n",
       "3  ['et', 'cillum', 'cillum', 'ad', 'laborum', 'c...      541.08       DOL   \n",
       "4  ['labore', 'ea', 'officia', 'aliquip', 'nostru...     -372.62       DOL   \n",
       "\n",
       "                 date  \n",
       "0 2015-05-02 07:39:52  \n",
       "1 2015-06-16 08:08:53  \n",
       "2 2015-10-26 07:34:56  \n",
       "3 2015-06-04 01:59:25  \n",
       "4 2015-03-25 10:09:35  \n",
       "\n",
       "[5 rows x 21 columns]"
      ]
     },
     "execution_count": 5,
     "metadata": {},
     "output_type": "execute_result"
    }
   ],
   "source": [
    "df.head()"
   ]
  },
  {
   "cell_type": "markdown",
   "metadata": {},
   "source": [
    "## Let's fill a histogram!"
   ]
  },
  {
   "cell_type": "markdown",
   "metadata": {},
   "source": [
    "Histogrammar treats histograms as objects. You will see this has various advantages.\n",
    "\n",
    "Let's fill a simple histogram with a numpy array."
   ]
  },
  {
   "cell_type": "code",
   "execution_count": 6,
   "metadata": {},
   "outputs": [],
   "source": [
    "# this creates a histogram with 100 even-sized bins in the (closed) range [-5, 5]\n",
    "hist1 = hg.Bin(num=100, low=-5, high=5)"
   ]
  },
  {
   "cell_type": "code",
   "execution_count": null,
   "metadata": {},
   "outputs": [],
   "source": [
    "# filling it with one data point:\n",
    "hist1.fill(0.5)"
   ]
  },
  {
   "cell_type": "code",
   "execution_count": null,
   "metadata": {},
   "outputs": [],
   "source": [
    "print (hist1.entries)"
   ]
  },
  {
   "cell_type": "code",
   "execution_count": null,
   "metadata": {},
   "outputs": [],
   "source": [
    "# filling the histogram with an array:\n",
    "hist1.fill.numpy(np.random.normal(size=10000))"
   ]
  },
  {
   "cell_type": "code",
   "execution_count": null,
   "metadata": {},
   "outputs": [],
   "source": [
    "print (hist1.entries)"
   ]
  },
  {
   "cell_type": "code",
   "execution_count": null,
   "metadata": {},
   "outputs": [],
   "source": [
    "# let's plot it\n",
    "hist1.plot.matplotlib()"
   ]
  },
  {
   "cell_type": "code",
   "execution_count": null,
   "metadata": {},
   "outputs": [],
   "source": [
    "# Alternatively, you can call this to make the same histogram:\n",
    "# hist1 = hg.Histogram(num=100, low=-5, high=5)"
   ]
  },
  {
   "cell_type": "markdown",
   "metadata": {},
   "source": [
    "Histogrammar also supports \"sparse\" historgrams, which are open-ended. Bins in a sparse histogram only get created and filled if the corresponding data points are encountered. \n",
    "\n",
    "A sparse histogram has a bin-width, and optionally a bin-origin parameter. Sparse histograms are nice if you don't want to restrict the range, for example for tracking data distributions over time, which may have large, sudden outliers."
   ]
  },
  {
   "cell_type": "code",
   "execution_count": null,
   "metadata": {},
   "outputs": [],
   "source": [
    "hist2 = hg.SparselyBin(binWidth=10)"
   ]
  },
  {
   "cell_type": "code",
   "execution_count": null,
   "metadata": {},
   "outputs": [],
   "source": [
    "hist2.fill.numpy(df['age'].values)"
   ]
  },
  {
   "cell_type": "code",
   "execution_count": null,
   "metadata": {},
   "outputs": [],
   "source": [
    "hist2.plot.matplotlib()"
   ]
  },
  {
   "cell_type": "code",
   "execution_count": null,
   "metadata": {},
   "outputs": [],
   "source": [
    "# Alternatively, you can call this to make the same histogram:\n",
    "# hist2 = hg.SparselyHistogram(binWidth=10)"
   ]
  },
  {
   "cell_type": "markdown",
   "metadata": {},
   "source": [
    "## Filling from a dataframe"
   ]
  },
  {
   "cell_type": "markdown",
   "metadata": {},
   "source": [
    "When importing histogrammar, pandas (and spark) dataframes get extra functions to create histograms that all start with \"hg_\". For example: hg_Bin or hg_SparselyBin.\n",
    "\n",
    "Let's make the same 1d (sparse) histogram directly from a (pandas) dataframe."
   ]
  },
  {
   "cell_type": "code",
   "execution_count": null,
   "metadata": {},
   "outputs": [],
   "source": [
    "hist3 = df.hg_SparselyBin(binWidth=10, origin=0, quantity='age')\n",
    "hist3.plot.matplotlib()"
   ]
  },
  {
   "cell_type": "markdown",
   "metadata": {},
   "source": [
    "Note that the column \"age\" is picked by setting quantity=\"age\". "
   ]
  },
  {
   "cell_type": "code",
   "execution_count": null,
   "metadata": {},
   "outputs": [],
   "source": [
    "# Alternatively, do:\n",
    "hist3 = hg.SparselyBin(binWidth=10, quantity='age')\n",
    "hist3.fill.numpy(df)\n",
    "# ... and hist3 automatically picks up column age from the dataframe."
   ]
  },
  {
   "cell_type": "markdown",
   "metadata": {},
   "source": [
    "For any 1-dimensional histogram extract the bin entries, edges and centers as follows:"
   ]
  },
  {
   "cell_type": "code",
   "execution_count": null,
   "metadata": {},
   "outputs": [],
   "source": [
    "print(hist3.bin_entries())"
   ]
  },
  {
   "cell_type": "code",
   "execution_count": null,
   "metadata": {},
   "outputs": [],
   "source": [
    "print (hist3.bin_edges())"
   ]
  },
  {
   "cell_type": "code",
   "execution_count": null,
   "metadata": {},
   "outputs": [],
   "source": [
    "print (hist3.bin_centers())"
   ]
  },
  {
   "cell_type": "markdown",
   "metadata": {},
   "source": [
    "There are also: \n",
    "- IrregularlyBin histograms, with irregular bin edges, and \n",
    "- CentrallyBin histograms, where no bin edges are given but bin centers, and which is open-ended on both sides."
   ]
  },
  {
   "cell_type": "code",
   "execution_count": null,
   "metadata": {},
   "outputs": [],
   "source": [
    "hist4 = df.hg_CentrallyBin(centers=[15, 25, 35, 45, 55, 65, 75, 85, 95], quantity='age')\n",
    "hist4.plot.matplotlib()"
   ]
  },
  {
   "cell_type": "markdown",
   "metadata": {},
   "source": [
    "Note the slightly different plotting style for CentrallyBin histograms."
   ]
  },
  {
   "cell_type": "markdown",
   "metadata": {},
   "source": [
    "## Multi-dimensional histograms"
   ]
  },
  {
   "cell_type": "markdown",
   "metadata": {},
   "source": [
    "Let's make a multi-dimensional histogram. In Histogrammar, a multi-dimensional histogram is composed as two recursive histograms. \n",
    "\n",
    "We will use histograms with irregular binning in this example."
   ]
  },
  {
   "cell_type": "code",
   "execution_count": null,
   "metadata": {},
   "outputs": [],
   "source": [
    "edges1 = [-100, -75, -50, -25, 0, 25, 50, 75, 100]\n",
    "edges2 = [-200, -150, -100, -50, 0, 50, 100, 150, 200]"
   ]
  },
  {
   "cell_type": "code",
   "execution_count": null,
   "metadata": {},
   "outputs": [],
   "source": [
    "hist1 = hg.IrregularlyBin(edges=edges1, quantity='latitude')\n",
    "hist2 = hg.IrregularlyBin(edges=edges2, quantity='longitude', value=hist1)\n",
    "\n",
    "# for 3 dimensions or higher simply add the 2-dim histogram to the value argument\n",
    "hist3 = hg.SparselyBin(binWidth=10, quantity='age', value=hist2)"
   ]
  },
  {
   "cell_type": "code",
   "execution_count": null,
   "metadata": {},
   "outputs": [],
   "source": [
    "hist2.fill.numpy(df)\n",
    "hist2.plot.matplotlib()"
   ]
  },
  {
   "cell_type": "code",
   "execution_count": null,
   "metadata": {},
   "outputs": [],
   "source": [
    "# number of dimensions per histogram\n",
    "print (hist1.n_dim, hist2.n_dim, hist3.n_dim)"
   ]
  },
  {
   "cell_type": "markdown",
   "metadata": {},
   "source": [
    "## Histogram types\n",
    "\n",
    "So far we have covered the histogram types: \n",
    "- Bin histograms: with a fixed range and even-sized bins,\n",
    "- SparselyBin histograms: open-ended and with a fixed bin-width,\n",
    "- IrregularlyBin histograms: using irregular bin edges,\n",
    "- CentrallyBin histograms: open-ended and using bin centers.\n",
    "\n",
    "All of these process numeric variables only."
   ]
  },
  {
   "cell_type": "markdown",
   "metadata": {},
   "source": [
    "### Categorical variables\n",
    "\n",
    "For categorical variables use the Categorize histogram\n",
    "- Categorize histograms: accepting categorical variables such as strings and booleans.\n",
    "\n"
   ]
  },
  {
   "cell_type": "code",
   "execution_count": null,
   "metadata": {},
   "outputs": [],
   "source": [
    "histy = hg.Categorize('eyeColor')\n",
    "histx = hg.Categorize('favoriteFruit', value=histy)"
   ]
  },
  {
   "cell_type": "code",
   "execution_count": null,
   "metadata": {},
   "outputs": [],
   "source": [
    "histx.fill.numpy(df)\n",
    "histx.plot.matplotlib()"
   ]
  },
  {
   "cell_type": "code",
   "execution_count": null,
   "metadata": {},
   "outputs": [],
   "source": [
    "# show the datatypy(s) of the histogram\n",
    "print (histx.datatype)"
   ]
  },
  {
   "cell_type": "markdown",
   "metadata": {},
   "source": [
    "Categorize histograms also accept booleans:"
   ]
  },
  {
   "cell_type": "code",
   "execution_count": null,
   "metadata": {},
   "outputs": [],
   "source": [
    "histy = df.hg_Categorize('isActive')\n",
    "histy.plot.matplotlib()"
   ]
  },
  {
   "cell_type": "code",
   "execution_count": null,
   "metadata": {},
   "outputs": [],
   "source": [
    "print (histy.bin_entries())"
   ]
  },
  {
   "cell_type": "code",
   "execution_count": null,
   "metadata": {},
   "outputs": [],
   "source": [
    "print (histy.bin_labels())\n",
    "# histy.bin_centers() will work as well for Categorize histograms"
   ]
  },
  {
   "cell_type": "markdown",
   "metadata": {},
   "source": [
    "### Other histogram types"
   ]
  },
  {
   "cell_type": "markdown",
   "metadata": {},
   "source": [
    "There are several more histogram types:\n",
    "- Minimize, Maximize: keep track of the min or max value of a numeric distribution,\n",
    "- Average, Deviate: keep track of the mean or mean and standard deviation of a numeric distribution,\n",
    "- Sum: keep track of the sum of a numeric distribution,\n",
    "- Stack: keep track how many data points pass certain thresholds.\n",
    "- Bag: works like a dict, it keeps tracks of all unique values encounterd in a column, and can also do this for vector s of numbers. For strings, Bag works just like the Categorize histogram."
   ]
  },
  {
   "cell_type": "code",
   "execution_count": null,
   "metadata": {},
   "outputs": [],
   "source": [
    "hmin = df.hg_Minimize('latitude')\n",
    "hmax = df.hg_Maximize('longitude')\n",
    "print (hmin.min, hmax.max)"
   ]
  },
  {
   "cell_type": "code",
   "execution_count": null,
   "metadata": {},
   "outputs": [],
   "source": [
    "havg = df.hg_Average('latitude')\n",
    "hdev = df.hg_Deviate('longitude')\n",
    "print (havg.mean, hdev.mean, hdev.variance)"
   ]
  },
  {
   "cell_type": "code",
   "execution_count": null,
   "metadata": {},
   "outputs": [],
   "source": [
    "hsum = df.hg_Sum('age')\n",
    "print (hsum.sum)"
   ]
  },
  {
   "cell_type": "code",
   "execution_count": null,
   "metadata": {},
   "outputs": [],
   "source": [
    "# let's illustrate the Stack histogram with longitude distribution\n",
    "# first we plot the regular distribution\n",
    "hl = df.hg_SparselyBin(25, 'longitude')\n",
    "hl.plot.matplotlib()"
   ]
  },
  {
   "cell_type": "code",
   "execution_count": null,
   "metadata": {},
   "outputs": [],
   "source": [
    "# Stack counts how often data points are greater or equal to the provided thresholds \n",
    "thresholds = [-200, -150, -100, -50, 0, 50, 100, 150, 200]"
   ]
  },
  {
   "cell_type": "code",
   "execution_count": null,
   "metadata": {},
   "outputs": [],
   "source": [
    "hs = df.hg_Stack(thresholds=thresholds, quantity='longitude')\n",
    "print (hs.thresholds)\n",
    "print (hs.bin_entries())"
   ]
  },
  {
   "cell_type": "markdown",
   "metadata": {},
   "source": [
    "Stack histograms are useful to make efficiency curves.\n",
    "\n",
    "With all these histograms you can make multi-dimensional histograms. For example, you can evaluate the mean and standard deviation of one feature as a function of bins of another feature. (A \"profile\" plot, similar to a box plot.) "
   ]
  },
  {
   "cell_type": "code",
   "execution_count": null,
   "metadata": {},
   "outputs": [],
   "source": [
    "hav = hg.Deviate('age')\n",
    "hlo = hg.SparselyBin(25, 'longitude', value=hav)\n",
    "hlo.fill.numpy(df)"
   ]
  },
  {
   "cell_type": "code",
   "execution_count": null,
   "metadata": {},
   "outputs": [],
   "source": [
    "hlo.bins"
   ]
  },
  {
   "cell_type": "code",
   "execution_count": null,
   "metadata": {},
   "outputs": [],
   "source": [
    "hlo.plot.matplotlib()"
   ]
  },
  {
   "cell_type": "markdown",
   "metadata": {},
   "source": [
    "### Convenience functions\n",
    "\n",
    "There are several convenience functions to make such composed histograms. These are:\n",
    "- Profile: Convenience function for creating binwise averages.\n",
    "- SparselyProfile: Convenience function for creating sparsely binned binwise averages.\n",
    "- ProfileErr: Convenience function for creating binwise averages and variances.\n",
    "- SparselyProfile: Convenience function for creating sparsely binned binwise averages and variances.\n",
    "- TwoDimensionallyHistogram: Convenience function for creating a conventional, two-dimensional histogram.\n",
    "- TwoDimensionallySparselyHistogram: Convenience function for creating a sparsely binned, two-dimensional histogram."
   ]
  },
  {
   "cell_type": "code",
   "execution_count": null,
   "metadata": {},
   "outputs": [],
   "source": [
    "# For example, call this convience function to make the same histogram as above:\n",
    "hlo = df.hg_SparselyProfileErr(25, 'longitude', 'age')\n",
    "hlo.plot.matplotlib()"
   ]
  },
  {
   "cell_type": "markdown",
   "metadata": {},
   "source": [
    "## Making many histograms at once\n",
    "\n",
    "There a nice method to make many histograms in one go. See here.\n",
    "\n",
    "By default automagical binning is applied to make the histograms.\n",
    "\n",
    "More details one how to use this function are found in in the advanced tutorial."
   ]
  },
  {
   "cell_type": "code",
   "execution_count": null,
   "metadata": {},
   "outputs": [],
   "source": [
    "hists = df.hg_make_histograms()"
   ]
  },
  {
   "cell_type": "code",
   "execution_count": null,
   "metadata": {},
   "outputs": [],
   "source": [
    "print (hists.keys())"
   ]
  },
  {
   "cell_type": "code",
   "execution_count": null,
   "metadata": {},
   "outputs": [],
   "source": [
    "h = hists['transaction']\n",
    "h.plot.matplotlib()"
   ]
  },
  {
   "cell_type": "code",
   "execution_count": null,
   "metadata": {},
   "outputs": [],
   "source": [
    "h = hists['date']\n",
    "h.plot.matplotlib()"
   ]
  },
  {
   "cell_type": "code",
   "execution_count": null,
   "metadata": {},
   "outputs": [],
   "source": [
    "# you can also select which and make multi-dimensional histograms\n",
    "hists = df.hg_make_histograms(features = ['longitude:age'])"
   ]
  },
  {
   "cell_type": "code",
   "execution_count": null,
   "metadata": {},
   "outputs": [],
   "source": [
    "hist = hists['longitude:age']\n",
    "hist.plot.matplotlib()"
   ]
  },
  {
   "cell_type": "markdown",
   "metadata": {},
   "source": [
    "## Storage\n",
    "\n",
    "Histograms can be easily stored and retrieved in/from the json format."
   ]
  },
  {
   "cell_type": "code",
   "execution_count": null,
   "metadata": {},
   "outputs": [],
   "source": [
    "# storage\n",
    "hist.toJsonFile('long_age.json')"
   ]
  },
  {
   "cell_type": "code",
   "execution_count": null,
   "metadata": {},
   "outputs": [],
   "source": [
    "# retrieval\n",
    "factory = hg.Factory()\n",
    "hist2 = factory.fromJsonFile('long_age.json')\n",
    "hist2.plot.matplotlib()"
   ]
  },
  {
   "cell_type": "code",
   "execution_count": null,
   "metadata": {},
   "outputs": [],
   "source": [
    "# to store many histograms at once:"
   ]
  },
  {
   "cell_type": "code",
   "execution_count": null,
   "metadata": {},
   "outputs": [],
   "source": [
    "%%script false --no-raise-error\n",
    "\n",
    "# we can store the histograms if we want to\n",
    "import json\n",
    "from histogrammar.util import dumper\n",
    "\n",
    "# store\n",
    "with open('histograms.json', 'w') as outfile:\n",
    "\tjson.dump(hists, outfile, default=dumper)\n",
    "\n",
    "# and load again\n",
    "with open('histograms.json') as handle:\n",
    "\thists2 = json.load(handle)"
   ]
  },
  {
   "cell_type": "code",
   "execution_count": null,
   "metadata": {},
   "outputs": [],
   "source": [
    "print(hists.keys())"
   ]
  },
  {
   "cell_type": "markdown",
   "metadata": {},
   "source": [
    "## Advanced tutorial\n",
    "\n",
    "The advanced tutotial shows:\n",
    "- How to work with spark dataframes.\n",
    "- More details on this nice method to make many histograms in one go. For example how to set bin specifications.\n"
   ]
  }
 ],
 "metadata": {
  "kernel_info": {
   "name": "python3"
  },
  "kernelspec": {
   "display_name": "Python 3",
   "language": "python",
   "name": "python3"
  },
  "language_info": {
   "codemirror_mode": {
    "name": "ipython",
    "version": 3
   },
   "file_extension": ".py",
   "mimetype": "text/x-python",
   "name": "python",
   "nbconvert_exporter": "python",
   "pygments_lexer": "ipython3",
   "version": "3.8.6"
  },
  "nteract": {
   "version": "0.15.0"
  },
  "pycharm": {
   "stem_cell": {
    "cell_type": "raw",
    "metadata": {
     "collapsed": false
    },
    "source": []
   }
  }
 },
 "nbformat": 4,
 "nbformat_minor": 4
}
