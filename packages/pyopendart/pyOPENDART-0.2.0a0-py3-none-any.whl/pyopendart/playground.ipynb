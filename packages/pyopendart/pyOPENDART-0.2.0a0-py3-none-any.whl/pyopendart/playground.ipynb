{
 "cells": [
  {
   "cell_type": "code",
   "execution_count": 1,
   "outputs": [
    {
     "name": "stdout",
     "output_type": "stream",
     "text": [
      "None\n"
     ]
    },
    {
     "data": {
      "text/plain": "  corporation_code corporation_name          corporation_name_en stock_name  \\\n0         00126380          삼성전자(주)  SAMSUNG ELECTRONICS CO,.LTD       삼성전자   \n\n  stock_code representative market  corporation_registration_number  \\\n0     005930  김기남, 김현석, 고동진      Y                    1301110006246   \n\n   taxpayer_registration_number                     address   homepage_url  \\\n0                    1248100998  경기도 수원시 영통구  삼성로 129 (매탄동)  www.sec.co.kr   \n\n  ir_url  phone_number    fax_number  industry_code establishment_date  \\\n0         031-200-1114  031-200-7538            264         1969-01-13   \n\n   ending_month_of_fiscal_year  \n0                           12  ",
      "text/html": "<div>\n<style scoped>\n    .dataframe tbody tr th:only-of-type {\n        vertical-align: middle;\n    }\n\n    .dataframe tbody tr th {\n        vertical-align: top;\n    }\n\n    .dataframe thead th {\n        text-align: right;\n    }\n</style>\n<table border=\"1\" class=\"dataframe\">\n  <thead>\n    <tr style=\"text-align: right;\">\n      <th></th>\n      <th>corporation_code</th>\n      <th>corporation_name</th>\n      <th>corporation_name_en</th>\n      <th>stock_name</th>\n      <th>stock_code</th>\n      <th>representative</th>\n      <th>market</th>\n      <th>corporation_registration_number</th>\n      <th>taxpayer_registration_number</th>\n      <th>address</th>\n      <th>homepage_url</th>\n      <th>ir_url</th>\n      <th>phone_number</th>\n      <th>fax_number</th>\n      <th>industry_code</th>\n      <th>establishment_date</th>\n      <th>ending_month_of_fiscal_year</th>\n    </tr>\n  </thead>\n  <tbody>\n    <tr>\n      <th>0</th>\n      <td>00126380</td>\n      <td>삼성전자(주)</td>\n      <td>SAMSUNG ELECTRONICS CO,.LTD</td>\n      <td>삼성전자</td>\n      <td>005930</td>\n      <td>김기남, 김현석, 고동진</td>\n      <td>Y</td>\n      <td>1301110006246</td>\n      <td>1248100998</td>\n      <td>경기도 수원시 영통구  삼성로 129 (매탄동)</td>\n      <td>www.sec.co.kr</td>\n      <td></td>\n      <td>031-200-1114</td>\n      <td>031-200-7538</td>\n      <td>264</td>\n      <td>1969-01-13</td>\n      <td>12</td>\n    </tr>\n  </tbody>\n</table>\n</div>"
     },
     "execution_count": 1,
     "metadata": {},
     "output_type": "execute_result"
    }
   ],
   "source": [
    "from datetime import date, datetime\n",
    "from pyopendart.clients.dataframe.disclosure import DataframeDisclosureClient\n",
    "from pyopendart.clients.dict.disclosure import DateRange\n",
    "from pyopendart.enums import Market\n",
    "\n",
    "c = DataframeDisclosureClient(\"e32e1ae12ac94446f3133bc0b7e42491b0cde4a3\")\n",
    "\n",
    "# df, m, p = c.search(\n",
    "#     date_range=DateRange(begin=date(year=2021, month=1, day=1), end=datetime.now().date()),\n",
    "#     market=Market.KOSPI,\n",
    "# )\n",
    "df, m = c.get_company_overview(\"00126380\")\n",
    "\n",
    "print(m)\n",
    "\n",
    "df"
   ],
   "metadata": {
    "collapsed": false,
    "pycharm": {
     "name": "#%%\n"
    }
   }
  },
  {
   "cell_type": "code",
   "execution_count": null,
   "outputs": [],
   "source": [
    "from pyopendart.clients.dataframe.business_report import DataframeBusinessReportClient\n",
    "from pyopendart.enums import ReportType\n",
    "\n",
    "c = DataframeBusinessReportClient(\"e32e1ae12ac94446f3133bc0b7e42491b0cde4a3\")\n",
    "\n",
    "# df, m = c.get_changes_in_equity(corporation_code=\"00293886\", business_year=2018, report_type=ReportType.ANNUAL)\n",
    "# df, m = c.get_dividend_info(corporation_code=\"00293886\", business_year=2018, report_type=ReportType.ANNUAL)\n",
    "# df, m = c.get_treasury_shares_status(corporation_code=\"00293886\", business_year=2018, report_type=ReportType.ANNUAL)\n",
    "# df, m = c.get_major_shareholders(corporation_code=\"00293886\", business_year=2018, report_type=ReportType.ANNUAL)\n",
    "# df, m = c.get_changes_in_major_shareholder(corporation_code=\"00356361\", business_year=2018, report_type=ReportType.ANNUAL)\n",
    "# df, m = c.get_minority_shareholders_status(corporation_code=\"00293886\", business_year=2019, report_type=ReportType.Q1)\n",
    "# df, m = c.get_executives(corporation_code=\"00126380\", business_year=2019, report_type=ReportType.Q1)\n",
    "# df, m = c.get_employment_status(corporation_code=\"00126380\", business_year=2019, report_type=ReportType.Q1)\n",
    "# df, m = c.get_individual_executive_compensation_status(corporation_code=\"00126380\", business_year=2019, report_type=ReportType.ANNUAL)\n",
    "# df, m = c.get_executive_compensation_status(corporation_code=\"00126380\", business_year=2019, report_type=ReportType.ANNUAL)\n",
    "df, m = c.get_investment_in_other_corporations(corporation_code=\"00293886\", business_year=2019, report_type=ReportType.ANNUAL)\n",
    "\n",
    "\n",
    "print(m)\n",
    "\n",
    "df"
   ],
   "metadata": {
    "collapsed": false,
    "pycharm": {
     "name": "#%%\n"
    }
   }
  },
  {
   "cell_type": "code",
   "execution_count": null,
   "outputs": [],
   "source": [
    "from pyopendart.clients.dataframe.financial_information import DataframeFinancialInformationClient\n",
    "from pyopendart.enums import ReportType\n",
    "\n",
    "c = DataframeFinancialInformationClient(\"e32e1ae12ac94446f3133bc0b7e42491b0cde4a3\")\n",
    "\n",
    "\n",
    "df, m = c.get_financial_statements_of_major_accounts(corporation_codes=[\"00293886\", \"00126380\"], business_year=2019, report_type=ReportType.Q1)\n",
    "# df, m = c.get_full_financial_statements(corporation_code=\"00293886\", business_year=2019, report_type=ReportType.Q1)\n",
    "# df, m = c.get_xbrl_taxonomies(\"BS1\")\n",
    "\n",
    "print(m)\n",
    "\n",
    "df\n"
   ],
   "metadata": {
    "collapsed": false,
    "pycharm": {
     "name": "#%%\n"
    }
   }
  },
  {
   "cell_type": "code",
   "execution_count": null,
   "outputs": [],
   "source": [
    "from pyopendart.clients.dataframe.shareholder import DataframeShareholderReportClient\n",
    "\n",
    "c = DataframeShareholderReportClient(\"e32e1ae12ac94446f3133bc0b7e42491b0cde4a3\")\n",
    "\n",
    "\n",
    "# df, m = c.get_major_shareholder_reports(corporation_code=\"00126380\")\n",
    "df, m = c.get_executive_shareholder_reports(corporation_code=\"00126380\")\n",
    "\n",
    "print(m)\n",
    "\n",
    "df"
   ],
   "metadata": {
    "collapsed": false,
    "pycharm": {
     "name": "#%%\n"
    }
   }
  }
 ],
 "metadata": {
  "kernelspec": {
   "display_name": "Python 3",
   "language": "python",
   "name": "python3"
  },
  "language_info": {
   "codemirror_mode": {
    "name": "ipython",
    "version": 2
   },
   "file_extension": ".py",
   "mimetype": "text/x-python",
   "name": "python",
   "nbconvert_exporter": "python",
   "pygments_lexer": "ipython2",
   "version": "2.7.6"
  }
 },
 "nbformat": 4,
 "nbformat_minor": 0
}